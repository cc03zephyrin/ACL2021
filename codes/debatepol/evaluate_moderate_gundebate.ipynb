{
 "cells": [
  {
   "cell_type": "code",
   "execution_count": 1,
   "id": "049abde1",
   "metadata": {},
   "outputs": [],
   "source": [
    "import numpy as np\n",
    "import pandas as pd"
   ]
  },
  {
   "cell_type": "code",
   "execution_count": 2,
   "id": "fc4e32cd",
   "metadata": {},
   "outputs": [],
   "source": [
    "# load raw data\n",
    "\n",
    "author_dummienm = np.load(r'D:\\projects\\congress\\processed\\training_vectors\\debatepol/' + 'author_dummies_guns_nomoder.npy')\n",
    "# np.load(r'D:\\projects\\congress\\processed\\training_vectors\\debatepol/' +'sentence_vectors_guns_nomoder.npy', sentence_vecg)\n",
    "speech_idsnm = np.load(r'D:\\projects\\congress\\processed\\training_vectors\\debatepol/' + 'speech_ids_guns_nomoder.npy', )\n",
    "stance_7nm = np.load(r'D:\\projects\\congress\\processed\\training_vectors\\debatepol/' + 'stance_lib_7scale_guns_nomoder.npy', )\n",
    "stance_binarynm = np.load(r'D:\\projects\\congress\\processed\\training_vectors\\debatepol/' + 'stance_lib_binary_guns_nomoder.npy', )\n",
    "# np.load(r'D:\\projects\\congress\\processed\\training_vectors\\debatepol/' + 'topics_hard_guns_nomoder', topics_hardg)\n",
    "# np.load(r'D:\\projects\\congress\\processed\\training_vectors\\debatepol/' + 'topics_soft_guns_nomoder', topics_softg)"
   ]
  },
  {
   "cell_type": "code",
   "execution_count": 3,
   "id": "86cd16fe",
   "metadata": {},
   "outputs": [],
   "source": [
    "author_dummiesg = np.load(r'D:\\projects\\congress\\processed\\training_vectors\\debatepol/' + 'author_dummies_guns_wmoder.npy')\n",
    "# np.load(r'D:\\projects\\congress\\processed\\training_vectors\\debatepol/' +'sentence_vectors_guns_nomoder.npy', sentence_vecg)\n",
    "speech_idsg = np.load(r'D:\\projects\\congress\\processed\\training_vectors\\debatepol/' + 'speech_ids_guns_wmoder.npy', )\n",
    "stance_7g = np.load(r'D:\\projects\\congress\\processed\\training_vectors\\debatepol/' + 'stance_lib_7scale_guns_wmoder.npy', )\n",
    "stance_binaryg = np.load(r'D:\\projects\\congress\\processed\\training_vectors\\debatepol/' + 'stance_lib_binary_guns_wmoder.npy', )"
   ]
  },
  {
   "cell_type": "code",
   "execution_count": 4,
   "id": "d41efae2",
   "metadata": {},
   "outputs": [],
   "source": [
    "nomod = stance_7g!=4"
   ]
  },
  {
   "cell_type": "code",
   "execution_count": 5,
   "id": "085bbb1f",
   "metadata": {},
   "outputs": [
    {
     "name": "stdout",
     "output_type": "stream",
     "text": [
      "2892 9159\n",
      "2892 9159\n",
      "2892 9159\n",
      "2892 9159\n",
      "2892 9159\n",
      "2892 9159\n",
      "2892 9159\n",
      "2892 9159\n",
      "2892 9159\n",
      "2892 9159\n",
      "2892 9159\n",
      "2892 9159\n",
      "2892 9159\n",
      "2892 9159\n",
      "2892 9159\n",
      "2892 9159\n",
      "2892 9159\n",
      "2892 9159\n"
     ]
    }
   ],
   "source": [
    "# load gmvae\n",
    "versions = [116, 101, 100]\n",
    "acc_dict = {}\n",
    "for vs in versions:\n",
    "    datapath = f'D:\\\\projects\\\\congress\\\\results\\\\debatepol\\\\test/debate_pred_v{vs}.2/'\n",
    "\n",
    "    parameterdict = {\"masks\":[0.8,  0.6,0.4, 0.2,  0.08, 0.05 ],  'epochs':[15]} # epochs = 10\n",
    "\n",
    "    parametergrid = [[i, j] for i in parameterdict['masks'] for j in parameterdict['epochs']]\n",
    "    accs = []\n",
    "\n",
    "    for msk, epc in parametergrid:\n",
    "        versname = \"msk_{}_epc_{}_{}\".format(msk, epc, 'biased')\n",
    "        resultdir = datapath + versname + '/'\n",
    "        slants = np.load(resultdir + 'predicted_slant_gun_topics_withmoder.npy')\n",
    "       \n",
    "#         print(slants.shape)\n",
    "#         print(slants[:10])\n",
    "        lightly = (stance_7g == 5)|(stance_7g == 3)\n",
    "        extreme = (stance_7g > 6)|(stance_7g < 2)\n",
    "        print(sum(extreme), sum(lightly))\n",
    "        predict_light = slants[lightly]>0\n",
    "        predict_extreme = slants[extreme]>0\n",
    "#         print(predict_light.shape, predict_extreme.shape)\n",
    "        \n",
    "        acc_light = (predict_light*1 == stance_binaryg[lightly]).mean()\n",
    "        acc_extre = (predict_extreme *1 == stance_binaryg[extreme]).mean()\n",
    "        accs.append((acc_light, acc_extre))\n",
    "    acc_dict[vs] = accs"
   ]
  },
  {
   "cell_type": "code",
   "execution_count": 6,
   "id": "b71ccf43",
   "metadata": {},
   "outputs": [
    {
     "name": "stdout",
     "output_type": "stream",
     "text": [
      "{116: [(0.8078392837646031, 0.9923928077455049), (0.704662081013211, 0.9896265560165975), (0.6368599192051534, 0.9875518672199171), (0.6199366743094225, 0.9944674965421854), (0.5697128507478982, 0.9785615491009682), (0.5323725297521563, 0.9564315352697096)], 101: [(0.8112239327437493, 0.9920470262793915), (0.7025876187356699, 0.991701244813278), (0.61666120755541, 0.9688796680497925), (0.5523528769516323, 0.9837482710926694), (0.5491865924227536, 0.9699170124481328), (0.5237471339665902, 0.956777316735823)], 100: [(0.6401353859591659, 0.9882434301521439), (0.5764821487061906, 0.9961964038727524), (0.5284419696473414, 0.9820193637621023), (0.5851075444917567, 0.9426002766251729), (0.46238672344142373, 0.783195020746888), (0.42056993121519815, 0.6721991701244814)]}\n"
     ]
    }
   ],
   "source": [
    "print(acc_dict)"
   ]
  },
  {
   "cell_type": "code",
   "execution_count": 6,
   "id": "7494d8b6",
   "metadata": {},
   "outputs": [
    {
     "data": {
      "text/plain": [
       "10535.0"
      ]
     },
     "execution_count": 6,
     "metadata": {},
     "output_type": "execute_result"
    }
   ],
   "source": [
    "stance_7nm.shape[0]/5"
   ]
  },
  {
   "cell_type": "code",
   "execution_count": 7,
   "id": "95d75673",
   "metadata": {},
   "outputs": [],
   "source": [
    "def sampling(stances, s = 10500):\n",
    "    n = np.abs(stances - 4)\n",
    "    sorted_inx = np.argsort(n)\n",
    "#     print(n[sorted_inx])\n",
    "    return sorted_inx[:s], sorted_inx[-s:]\n",
    "\n"
   ]
  },
  {
   "cell_type": "code",
   "execution_count": 9,
   "id": "d81b1b02",
   "metadata": {},
   "outputs": [
    {
     "name": "stdout",
     "output_type": "stream",
     "text": [
      "(52675,)\n",
      "(52675,)\n",
      "(52675,)\n",
      "(52675,)\n",
      "(52675,)\n",
      "(52675,)\n",
      "(52675,)\n",
      "(52675,)\n",
      "(52675,)\n",
      "(52675,)\n",
      "(52675,)\n",
      "(52675,)\n",
      "(52675,)\n",
      "(52675,)\n",
      "(52675,)\n",
      "(52675,)\n",
      "(52675,)\n",
      "(52675,)\n"
     ]
    }
   ],
   "source": [
    "# load gmvae\n",
    "versions = [116, 101, 100]\n",
    "acc_dict = {}\n",
    "for vs in versions:\n",
    "    datapath = f'D:\\\\projects\\\\congress\\\\results\\\\debatepol\\\\test/debate_pred_v{vs}.2/'\n",
    "\n",
    "    parameterdict = {\"masks\":[0.8,  0.6,0.4, 0.2,  0.08, 0.05 ],  'epochs':[15]} # epochs = 10\n",
    "\n",
    "    parametergrid = [[i, j] for i in parameterdict['masks'] for j in parameterdict['epochs']]\n",
    "    accs = []\n",
    "\n",
    "    for msk, epc in parametergrid:\n",
    "        versname = \"msk_{}_epc_{}_{}\".format(msk, epc, 'biased')\n",
    "        resultdir = datapath + versname + '/'\n",
    "        slants = np.load(resultdir + 'predicted_slant_gun_topics_withmoder.npy')[nomod]\n",
    "        \n",
    "        print(slants.shape)\n",
    "#         print(slants[:10])\n",
    "        lightly, extreme = sampling(stance_7nm)\n",
    "        \n",
    "        predict_light = slants[lightly]>0\n",
    "        predict_extreme = slants[extreme]>0\n",
    "#         print(predict_light.shape, predict_extreme.shape)\n",
    "        \n",
    "        acc_light = (predict_light*1 == stance_binarynm[lightly]).mean()\n",
    "        acc_extre = (predict_extreme *1 == stance_binarynm[extreme]).mean()\n",
    "        accs.append((acc_light, acc_extre))\n",
    "    acc_dict[vs] = accs"
   ]
  },
  {
   "cell_type": "code",
   "execution_count": 10,
   "id": "99d51d32",
   "metadata": {},
   "outputs": [
    {
     "name": "stdout",
     "output_type": "stream",
     "text": [
      "{116: [(0.8313333333333334, 0.991904761904762), (0.7415238095238095, 0.9908571428571429), (0.6815238095238095, 0.9846666666666667), (0.6592380952380953, 0.945047619047619), (0.6014285714285714, 0.8550476190476191), (0.5646666666666667, 0.818952380952381)], 101: [(0.8339047619047619, 0.992), (0.7393333333333333, 0.9913333333333333), (0.662952380952381, 0.9702857142857143), (0.6005714285714285, 0.9366666666666666), (0.582952380952381, 0.8504761904761905), (0.5568571428571428, 0.827047619047619)], 100: [(0.682952380952381, 0.979904761904762), (0.6218095238095238, 0.939047619047619), (0.5711428571428572, 0.8833333333333333), (0.6063809523809524, 0.7838095238095238), (0.48723809523809525, 0.6871428571428572), (0.4458095238095238, 0.6194285714285714)]}\n"
     ]
    }
   ],
   "source": [
    "print(acc_dict)"
   ]
  },
  {
   "cell_type": "code",
   "execution_count": 11,
   "id": "ac1a1680",
   "metadata": {},
   "outputs": [],
   "source": [
    "\n",
    "# def normalize(a):\n",
    "#     mx = a.max()\n",
    "#     mi = a.min()\n",
    "#     b = (a - mi)/(mx-mi)\n",
    "#     return b"
   ]
  },
  {
   "cell_type": "code",
   "execution_count": 8,
   "id": "7f9e1448",
   "metadata": {},
   "outputs": [
    {
     "data": {
      "text/plain": [
       "(52675,)"
      ]
     },
     "execution_count": 8,
     "metadata": {},
     "output_type": "execute_result"
    }
   ],
   "source": [
    "stance_binarynm.shape\n"
   ]
  },
  {
   "cell_type": "code",
   "execution_count": 23,
   "id": "4487a5e9",
   "metadata": {},
   "outputs": [
    {
     "name": "stdout",
     "output_type": "stream",
     "text": [
      "50572\n",
      "49566\n",
      "48686\n",
      "46304\n",
      "41300\n",
      "39090\n",
      "50568\n",
      "49593\n",
      "47901\n",
      "45359\n",
      "40934\n",
      "39335\n",
      "48447\n",
      "45640\n",
      "42383\n",
      "38203\n",
      "33292\n",
      "30202\n"
     ]
    }
   ],
   "source": [
    "# look at the aver light slant vs extreme slant, but only account for the right predicted samples\n",
    "versions = [116, 101, 100]\n",
    "\n",
    "meanstd_dict = {}\n",
    "for vs in versions:\n",
    "    datapath = f'D:\\\\projects\\\\congress\\\\results\\\\debatepol\\\\test/debate_pred_v{vs}.2/'\n",
    "\n",
    "    parameterdict = {\"masks\":[0.8,  0.6,0.4, 0.2,  0.08, 0.05 ],  'epochs':[15]} # epochs = 10\n",
    "\n",
    "    parametergrid = [[i, j] for i in parameterdict['masks'] for j in parameterdict['epochs']]\n",
    "    meadstd = []\n",
    "\n",
    "    for msk, epc in parametergrid:\n",
    "        versname = \"msk_{}_epc_{}_{}\".format(msk, epc, 'biased')\n",
    "        resultdir = datapath + versname + '/'\n",
    "        slants = np.load(resultdir + 'predicted_slant_gun_topics_withmoder.npy')[nomod]\n",
    "        pred_right = (slants >0)*1 == stance_binarynm\n",
    "        print(sum(pred_right))\n",
    "        \n",
    "#         print(slants.shape)\n",
    "#         print(slants[:10])\n",
    "        stance_right = stance_7nm[pred_right]\n",
    "        slants_right = slants[pred_right]\n",
    "        lightly, extreme = sampling(stance_right)\n",
    "        order = np.argsort(slants_right)\n",
    "        rank = np.argsort(order)\n",
    "        predict_light = np.abs(rank[lightly] - np.median(rank))\n",
    "        predict_extreme = np.abs(rank[extreme] - np.median(rank))\n",
    "#         print(rank.min(), rank.max(), np.median(rank))\n",
    "        lightrank_m, lightrank_std = predict_light.mean(), predict_light.std()\n",
    "        extrerank_m, extrerank_std = predict_extreme.mean(), predict_extreme.std()\n",
    "        meadstd.append((lightrank_m,  extrerank_m, extrerank_m - lightrank_m))\n",
    "    meanstd_dict[vs] = meadstd"
   ]
  },
  {
   "cell_type": "code",
   "execution_count": 24,
   "id": "159bd5ad",
   "metadata": {},
   "outputs": [
    {
     "data": {
      "text/plain": [
       "{116: [(11570.580285714286, 12791.207904761905, 1220.6276190476183),\n",
       "  (10852.233714285714, 12774.059904761905, 1921.8261904761912),\n",
       "  (10412.338476190476, 12541.746190476191, 2129.407714285715),\n",
       "  (9571.169714285714, 12243.147238095238, 2671.9775238095244),\n",
       "  (8843.101333333334, 11095.923047619048, 2252.821714285714),\n",
       "  (8359.95542857143, 10490.539904761905, 2130.5844761904755)],\n",
       " 101: [(11440.014476190476, 12747.555238095238, 1307.540761904762),\n",
       "  (10750.791619047619, 12761.79361904762, 2011.0020000000004),\n",
       "  (10597.066285714285, 12297.208, 1700.1417142857154),\n",
       "  (9686.250952380953, 11940.245142857142, 2253.994190476189),\n",
       "  (8687.61761904762, 11055.320857142857, 2367.703238095237),\n",
       "  (8491.96238095238, 10536.324857142858, 2044.3624761904775)],\n",
       " 100: [(11235.661904761904, 12337.380095238095, 1101.718190476191),\n",
       "  (10285.443142857142, 11832.498285714286, 1547.0551428571434),\n",
       "  (9814.460380952381, 11102.233047619047, 1287.7726666666658),\n",
       "  (8976.873142857143, 10189.89419047619, 1213.0210476190477),\n",
       "  (8029.993428571429, 8542.159333333333, 512.1659047619041),\n",
       "  (7158.5584761904765, 7881.779428571429, 723.2209523809524)]}"
      ]
     },
     "execution_count": 24,
     "metadata": {},
     "output_type": "execute_result"
    }
   ],
   "source": [
    "meanstd_dict"
   ]
  },
  {
   "cell_type": "code",
   "execution_count": 28,
   "id": "2d70b121",
   "metadata": {},
   "outputs": [
    {
     "data": {
      "text/plain": [
       "array([14469,  7334,  7335, ..., 38271, 38251, 36555], dtype=int64)"
      ]
     },
     "execution_count": 28,
     "metadata": {},
     "output_type": "execute_result"
    }
   ],
   "source": [
    "lightly"
   ]
  },
  {
   "cell_type": "code",
   "execution_count": 29,
   "id": "77201cfd",
   "metadata": {},
   "outputs": [
    {
     "name": "stdout",
     "output_type": "stream",
     "text": [
      "50572\n",
      "49566\n",
      "48686\n",
      "46304\n",
      "41300\n",
      "39090\n",
      "50568\n",
      "49593\n",
      "47901\n",
      "45359\n",
      "40934\n",
      "39335\n",
      "48447\n",
      "45640\n",
      "42383\n",
      "38203\n",
      "33292\n",
      "30202\n"
     ]
    }
   ],
   "source": [
    "# look at the aver light slant vs extreme slant, but only account for the right predicted samples\n",
    "versions = [116, 101, 100]\n",
    "meanstd_dict = {}\n",
    "for vs in versions:\n",
    "    datapath = f'D:\\\\projects\\\\congress\\\\results\\\\debatepol\\\\test/debate_pred_v{vs}.2/'\n",
    "\n",
    "    parameterdict = {\"masks\":[0.8,  0.6,0.4, 0.2,  0.08, 0.05 ],  'epochs':[15]} # epochs = 10\n",
    "\n",
    "    parametergrid = [[i, j] for i in parameterdict['masks'] for j in parameterdict['epochs']]\n",
    "    meadstd = []\n",
    "\n",
    "    for msk, epc in parametergrid:\n",
    "        versname = \"msk_{}_epc_{}_{}\".format(msk, epc, 'biased')\n",
    "        resultdir = datapath + versname + '/'\n",
    "        slants = np.load(resultdir + 'predicted_slant_gun_topics_withmoder.npy')[nomod]\n",
    "        pred_right = (slants >0)*1 == stance_binarynm\n",
    "        print(sum(pred_right))\n",
    "\n",
    "        lightly, extreme = sampling(stance_7nm)\n",
    "        order = np.argsort(slants)\n",
    "        rank = np.argsort(order)\n",
    "        lightly_ = np.array([False for i in range(len(rank))])\n",
    "        lightly_[lightly] = True\n",
    "        extreme_ = np.array([False for i in range(len(rank))])\n",
    "        extreme_[extreme] = True\n",
    "        predict_light = np.abs(rank[lightly_&pred_right] - np.median(rank))\n",
    "        predict_extreme = np.abs(rank[extreme_&pred_right] - np.median(rank))\n",
    "#         print(rank.min(), rank.max(), np.median(rank))\n",
    "        lightrank_m, lightrank_std = predict_light.mean(), predict_light.std()\n",
    "        extrerank_m, extrerank_std = predict_extreme.mean(), predict_extreme.std()\n",
    "        meadstd.append((lightrank_m,  extrerank_m, extrerank_m - lightrank_m))\n",
    "    meanstd_dict[vs] = meadstd"
   ]
  },
  {
   "cell_type": "code",
   "execution_count": 30,
   "id": "823f75c4",
   "metadata": {},
   "outputs": [
    {
     "data": {
      "text/plain": [
       "{116: [(11995.769503952342, 13703.048103696592, 1707.2785997442497),\n",
       "  (11200.980220909325, 14031.372837370242, 2830.3926164609165),\n",
       "  (10588.097959754052, 14188.410871457589, 3600.312911703537),\n",
       "  (10101.444380236926, 14742.262521414894, 4640.818141177968),\n",
       "  (10714.234362628662, 15436.524058810426, 4722.289696181764),\n",
       "  (10596.148760330578, 15513.155134317944, 4917.006373987366)],\n",
       " 101: [(11912.425308359981, 13602.03216205837, 1689.6068536983894),\n",
       "  (11043.33530851475, 14027.817753866846, 2984.482445352096),\n",
       "  (11421.040367763253, 14309.096093443266, 2888.055725680013),\n",
       "  (10573.510149064383, 14892.06446365023, 4318.554314585846),\n",
       "  (10765.364482927625, 15678.647480403135, 4913.28299747551),\n",
       "  (10627.07730460065, 15405.84454168586, 4778.767237085209)],\n",
       " 100: [(11975.831962069446, 13964.900281854407, 1989.0683197849612),\n",
       "  (11604.28350436514, 14466.956186612577, 2862.6726822474375),\n",
       "  (12290.927797231949, 14982.747924528301, 2691.8201272963524),\n",
       "  (12602.055442123448, 14956.132806804375, 2354.0773646809266),\n",
       "  (13165.42259577795, 14710.644352044352, 1545.221756266401),\n",
       "  (12747.346079897457, 15006.036285362854, 2258.6902054653965)]}"
      ]
     },
     "execution_count": 30,
     "metadata": {},
     "output_type": "execute_result"
    }
   ],
   "source": [
    "meanstd_dict"
   ]
  },
  {
   "cell_type": "code",
   "execution_count": null,
   "id": "b208e4f0",
   "metadata": {},
   "outputs": [],
   "source": [
    "# plots over here"
   ]
  },
  {
   "cell_type": "code",
   "execution_count": 9,
   "id": "3e11d9b8",
   "metadata": {},
   "outputs": [],
   "source": [
    "import matplotlib.pyplot as plt\n",
    "import seaborn as sns"
   ]
  },
  {
   "cell_type": "code",
   "execution_count": 21,
   "id": "64009da8",
   "metadata": {},
   "outputs": [
    {
     "name": "stdout",
     "output_type": "stream",
     "text": [
      "BBBG-VAE\n",
      "50572\n",
      "49566\n",
      "48686\n",
      "46304\n",
      "41300\n",
      "39090\n",
      "MLP\n",
      "48447\n",
      "45640\n",
      "42383\n",
      "38203\n",
      "33292\n",
      "30202\n"
     ]
    }
   ],
   "source": [
    "versions = [116,  100]\n",
    "modelname = {116: \"BBBG-VAE\", 100: \"MLP\"}\n",
    "data_dict = {}\n",
    "for vs in versions:\n",
    "    modeln = modelname[vs]\n",
    "    print(modeln)\n",
    "    datapath = f'D:\\\\projects\\\\congress\\\\results\\\\debatepol\\\\test/debate_pred_v{vs}.2/'\n",
    "\n",
    "    parameterdict = {\"masks\":[0.8,  0.6,0.4, 0.2,  0.08, 0.05 ],  'epochs':[15]} # epochs = 10\n",
    "\n",
    "    parametergrid = [[i, j] for i in parameterdict['masks'] for j in parameterdict['epochs']]\n",
    "    maskeddatadict = {\"Ideology Group\": [], \"Rank Deviation\":[], 'Supervision Level': []}\n",
    "\n",
    "    for msk, epc in parametergrid:\n",
    "        versname = \"msk_{}_epc_{}_{}\".format(msk, epc, 'biased')\n",
    "        resultdir = datapath + versname + '/'\n",
    "        slants = np.load(resultdir + 'predicted_slant_gun_topics_withmoder.npy')[nomod]\n",
    "        pred_right = (slants >0)*1 == stance_binarynm\n",
    "        print(sum(pred_right))\n",
    "\n",
    "        lightly, extreme = sampling(stance_7nm)\n",
    "        order = np.argsort(slants)\n",
    "        rank = np.argsort(order)\n",
    "        lightly_ = np.array([False for i in range(len(rank))])\n",
    "        lightly_[lightly] = True\n",
    "        extreme_ = np.array([False for i in range(len(rank))])\n",
    "        extreme_[extreme] = True\n",
    "        predict_light = np.abs(rank[lightly_&pred_right] - np.median(rank))\n",
    "        predict_extreme = np.abs(rank[extreme_&pred_right] - np.median(rank))\n",
    "        \n",
    "        is_light = ['slight_leaning'] * len(predict_light) + ['extreme'] * len(predict_extreme)\n",
    "        all_predicts = list(predict_light) + list(predict_extreme)\n",
    "        mss = [msk] * (len(predict_light) + len(predict_extreme))\n",
    "        assert len(is_light) == len(all_predicts) == len(mss), 'length not match'\n",
    "        maskeddatadict['Ideology Group'] += is_light\n",
    "        maskeddatadict['Rank Deviation'] += all_predicts\n",
    "        maskeddatadict['Supervision Level'] += mss\n",
    "\n",
    "        \n",
    "    data_dict[vs] = maskeddatadict"
   ]
  },
  {
   "cell_type": "code",
   "execution_count": 22,
   "id": "bbf66db1",
   "metadata": {},
   "outputs": [
    {
     "name": "stdout",
     "output_type": "stream",
     "text": [
      "   Ideology Group  Rank Deviation  Supervision Level   version\n",
      "0  slight_leaning         22944.0                0.8  BBBG-VAE\n",
      "1  slight_leaning         23043.0                0.8  BBBG-VAE\n",
      "2  slight_leaning         18465.0                0.8  BBBG-VAE\n",
      "3  slight_leaning          1996.0                0.8  BBBG-VAE\n",
      "4  slight_leaning         19765.0                0.8  BBBG-VAE\n",
      "   Ideology Group  Rank Deviation  Supervision Level version\n",
      "0  slight_leaning         14875.0                0.8     MLP\n",
      "1  slight_leaning         21318.0                0.8     MLP\n",
      "2  slight_leaning         11010.0                0.8     MLP\n",
      "3  slight_leaning           951.0                0.8     MLP\n",
      "4  slight_leaning           878.0                0.8     MLP\n"
     ]
    }
   ],
   "source": [
    "dfs= []\n",
    "modelname = {116: \"BBBG-VAE\", 100: \"MLP\"}\n",
    "for vs in versions:\n",
    "    df = pd.DataFrame(data_dict[vs])\n",
    "    df['version'] = modelname[vs]\n",
    "    \n",
    "    print(df.head())\n",
    "#     g = sns.boxplot(x=\"mask\", y=\"predict_rank\", hue=\"islight\",\n",
    "#                  data=df, whis = 0.5,palette=\"Set2\", showfliers =False , showcaps = False)\n",
    "#     g.legend_.remove()\n",
    "    dfs.append(df)\n",
    "\n",
    "all_df = pd.concat(dfs, axis = 0)\n"
   ]
  },
  {
   "cell_type": "code",
   "execution_count": 23,
   "id": "99d3b6f2",
   "metadata": {},
   "outputs": [
    {
     "data": {
      "image/png": "[encoded data removed]",
      "text/plain": [
       "<Figure size 825.75x360 with 2 Axes>"
      ]
     },
     "metadata": {
      "needs_background": "light"
     },
     "output_type": "display_data"
    }
   ],
   "source": [
    "\n",
    "g = sns.catplot(x=\"Supervision Level\", y=\"Rank Deviation\", hue=\"Ideology Group\", col = 'version',\n",
    "                 data= all_df, whis = 0.2, showfliers =False , showcaps = False, kind=\"box\")\n",
    "# g.legend_.remove()"
   ]
  },
  {
   "cell_type": "code",
   "execution_count": 24,
   "id": "49d2f5f3",
   "metadata": {},
   "outputs": [
    {
     "data": {
      "text/html": [
       "<div>\n",
       "<style scoped>\n",
       "    .dataframe tbody tr th:only-of-type {\n",
       "        vertical-align: middle;\n",
       "    }\n",
       "\n",
       "    .dataframe tbody tr th {\n",
       "        vertical-align: top;\n",
       "    }\n",
       "\n",
       "    .dataframe thead th {\n",
       "        text-align: right;\n",
       "    }\n",
       "</style>\n",
       "<table border=\"1\" class=\"dataframe\">\n",
       "  <thead>\n",
       "    <tr style=\"text-align: right;\">\n",
       "      <th></th>\n",
       "      <th>Ideology Group</th>\n",
       "      <th>Rank Deviation</th>\n",
       "      <th>Supervision Level</th>\n",
       "      <th>version</th>\n",
       "    </tr>\n",
       "  </thead>\n",
       "  <tbody>\n",
       "    <tr>\n",
       "      <th>0</th>\n",
       "      <td>slight_leaning</td>\n",
       "      <td>22944.0</td>\n",
       "      <td>0.80</td>\n",
       "      <td>BBBG-VAE</td>\n",
       "    </tr>\n",
       "    <tr>\n",
       "      <th>1</th>\n",
       "      <td>slight_leaning</td>\n",
       "      <td>23043.0</td>\n",
       "      <td>0.80</td>\n",
       "      <td>BBBG-VAE</td>\n",
       "    </tr>\n",
       "    <tr>\n",
       "      <th>2</th>\n",
       "      <td>slight_leaning</td>\n",
       "      <td>18465.0</td>\n",
       "      <td>0.80</td>\n",
       "      <td>BBBG-VAE</td>\n",
       "    </tr>\n",
       "    <tr>\n",
       "      <th>3</th>\n",
       "      <td>slight_leaning</td>\n",
       "      <td>1996.0</td>\n",
       "      <td>0.80</td>\n",
       "      <td>BBBG-VAE</td>\n",
       "    </tr>\n",
       "    <tr>\n",
       "      <th>4</th>\n",
       "      <td>slight_leaning</td>\n",
       "      <td>19765.0</td>\n",
       "      <td>0.80</td>\n",
       "      <td>BBBG-VAE</td>\n",
       "    </tr>\n",
       "    <tr>\n",
       "      <th>...</th>\n",
       "      <td>...</td>\n",
       "      <td>...</td>\n",
       "      <td>...</td>\n",
       "      <td>...</td>\n",
       "    </tr>\n",
       "    <tr>\n",
       "      <th>87229</th>\n",
       "      <td>extreme</td>\n",
       "      <td>14806.0</td>\n",
       "      <td>0.05</td>\n",
       "      <td>MLP</td>\n",
       "    </tr>\n",
       "    <tr>\n",
       "      <th>87230</th>\n",
       "      <td>extreme</td>\n",
       "      <td>16982.0</td>\n",
       "      <td>0.05</td>\n",
       "      <td>MLP</td>\n",
       "    </tr>\n",
       "    <tr>\n",
       "      <th>87231</th>\n",
       "      <td>extreme</td>\n",
       "      <td>19054.0</td>\n",
       "      <td>0.05</td>\n",
       "      <td>MLP</td>\n",
       "    </tr>\n",
       "    <tr>\n",
       "      <th>87232</th>\n",
       "      <td>extreme</td>\n",
       "      <td>18538.0</td>\n",
       "      <td>0.05</td>\n",
       "      <td>MLP</td>\n",
       "    </tr>\n",
       "    <tr>\n",
       "      <th>87233</th>\n",
       "      <td>extreme</td>\n",
       "      <td>19142.0</td>\n",
       "      <td>0.05</td>\n",
       "      <td>MLP</td>\n",
       "    </tr>\n",
       "  </tbody>\n",
       "</table>\n",
       "<p>188729 rows × 4 columns</p>\n",
       "</div>"
      ],
      "text/plain": [
       "       Ideology Group  Rank Deviation  Supervision Level   version\n",
       "0      slight_leaning         22944.0               0.80  BBBG-VAE\n",
       "1      slight_leaning         23043.0               0.80  BBBG-VAE\n",
       "2      slight_leaning         18465.0               0.80  BBBG-VAE\n",
       "3      slight_leaning          1996.0               0.80  BBBG-VAE\n",
       "4      slight_leaning         19765.0               0.80  BBBG-VAE\n",
       "...               ...             ...                ...       ...\n",
       "87229         extreme         14806.0               0.05       MLP\n",
       "87230         extreme         16982.0               0.05       MLP\n",
       "87231         extreme         19054.0               0.05       MLP\n",
       "87232         extreme         18538.0               0.05       MLP\n",
       "87233         extreme         19142.0               0.05       MLP\n",
       "\n",
       "[188729 rows x 4 columns]"
      ]
     },
     "execution_count": 24,
     "metadata": {},
     "output_type": "execute_result"
    }
   ],
   "source": [
    "all_df"
   ]
  },
  {
   "cell_type": "code",
   "execution_count": null,
   "id": "d9414971",
   "metadata": {},
   "outputs": [],
   "source": [
    "# moderate analysis here"
   ]
  },
  {
   "cell_type": "code",
   "execution_count": 31,
   "id": "4181da2b",
   "metadata": {},
   "outputs": [
    {
     "name": "stdout",
     "output_type": "stream",
     "text": [
      "46304\n",
      "41300\n",
      "39090\n"
     ]
    },
    {
     "data": {
      "image/png": "[encoded data removed]",
      "text/plain": [
       "<Figure size 432x288 with 1 Axes>"
      ]
     },
     "metadata": {
      "needs_background": "light"
     },
     "output_type": "display_data"
    }
   ],
   "source": [
    "# load gmvae\n",
    "versions = [116]\n",
    "modelname = {116: \"BBBG-VAE\", 100: \"MLP\"}\n",
    "for vs in versions:\n",
    "    datapath = f'D:\\\\projects\\\\congress\\\\results\\\\debatepol\\\\test/debate_pred_v{vs}.2/'\n",
    "    \n",
    "    modeln = modelname[vs]\n",
    "    parameterdict = {\"masks\":[  0.2, 0.08, 0.05 ],  'epochs':[15]} # epochs = 10\n",
    "\n",
    "    parametergrid = [[i, j] for i in parameterdict['masks'] for j in parameterdict['epochs']]\n",
    "    maskedmoddict = {\"Ideology Group\": [], \"Slant Deviation\":[], 'Supervision Level': []}\n",
    "\n",
    "    for msk, epc in parametergrid:\n",
    "        versname = \"msk_{}_epc_{}_{}\".format(msk, epc, 'biased')\n",
    "        resultdir = datapath + versname + '/'\n",
    "        slants = np.load(resultdir + 'predicted_slant_gun_topics_withmoder.npy')\n",
    "        modslant = np.abs(slants[~nomod])\n",
    "        slants_ = slants[nomod]\n",
    "        pred_right = (slants_ >0)*1 == stance_binarynm\n",
    "        print(sum(pred_right))\n",
    "\n",
    "        lightly, extreme = sampling(stance_7nm)\n",
    "\n",
    "        lightly_ = np.array([False for i in range(len(slants_))])\n",
    "        lightly_[lightly] = True\n",
    "        extreme_ = np.array([False for i in range(len(slants_))])\n",
    "        extreme_[extreme] = True\n",
    "        predict_light = np.abs(slants_[lightly_&pred_right])\n",
    "        predict_extreme = np.abs(slants_[extreme_&pred_right])\n",
    "        l, m, e = len(predict_light), len(modslant), len(predict_extreme)\n",
    "        maskedmoddict['Slant Deviation'] += list(predict_light) + list(modslant) + list(predict_extreme)\n",
    "        maskedmoddict['Supervision Level'] += [msk] * (l+m+e)\n",
    "        maskedmoddict['Ideology Group'] += ['slight_leaning']*l + ['moderate']*m + ['extreme'] * e\n",
    "#     assert len(maskedmoddict['predict_slant']) ==len(maskedmoddict['mask']) ==len(maskedmoddict['ideology']), 'length wrong'\n",
    "    \n",
    "    df = pd.DataFrame(maskedmoddict)\n",
    "    g = sns.boxplot(x=\"Supervision Level\", y=\"Slant Deviation\", hue=\"Ideology Group\",\n",
    "                 data=df, whis = 0.2,  showfliers =False , showcaps = False)\n",
    "    plt.legend(loc='upper left')\n",
    "    plt.ylim([1, 9.5])\n",
    "\n",
    "#     g.legend_.remove()\n",
    "    "
   ]
  },
  {
   "cell_type": "code",
   "execution_count": 12,
   "id": "12dd16fb",
   "metadata": {},
   "outputs": [
    {
     "data": {
      "text/plain": [
       "(array([ 5.078299  , -3.1396053 ,  0.5722583 , ...,  3.0798228 ,\n",
       "         0.43836284, -5.010821  ], dtype=float32),\n",
       " array([ 1.7729305 , -0.10561466, -2.9187868 , ..., -0.766145  ,\n",
       "        -4.990859  ,  2.5371587 ], dtype=float32))"
      ]
     },
     "execution_count": 12,
     "metadata": {},
     "output_type": "execute_result"
    }
   ],
   "source": [
    "modslant, lightslant"
   ]
  },
  {
   "cell_type": "code",
   "execution_count": null,
   "id": "1c18b318",
   "metadata": {},
   "outputs": [],
   "source": []
  }
 ],
 "metadata": {
  "kernelspec": {
   "display_name": "py37",
   "language": "python",
   "name": "py37"
  },
  "language_info": {
   "codemirror_mode": {
    "name": "ipython",
    "version": 3
   },
   "file_extension": ".py",
   "mimetype": "text/x-python",
   "name": "python",
   "nbconvert_exporter": "python",
   "pygments_lexer": "ipython3",
   "version": "3.7.6"
  }
 },
 "nbformat": 4,
 "nbformat_minor": 5
}
