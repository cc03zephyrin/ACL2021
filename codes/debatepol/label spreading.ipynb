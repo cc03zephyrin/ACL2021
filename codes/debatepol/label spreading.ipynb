{
 "cells": [
  {
   "cell_type": "code",
   "execution_count": 43,
   "metadata": {
    "id": "CDVWnOKtK3Yy"
   },
   "outputs": [],
   "source": [
    "import numpy as np\n",
    "import sklearn\n",
    "from sklearn import datasets\n",
    "from sklearn.semi_supervised import LabelSpreading, SelfTrainingClassifier\n",
    "import pandas as pd\n",
    "from sklearn.model_selection import StratifiedShuffleSplit\n",
    "\n",
    "from sklearn.svm import SVC\n",
    "from sklearn.ensemble import RandomForestClassifier\n",
    "\n",
    "# iris = datasets.load_iris()\n",
    "# rng = np.random.RandomState(42)\n",
    "# random_unlabeled_points = rng.rand(len(iris.target)) < 0.3\n",
    "# labels = np.copy(iris.target)\n",
    "# labels[random_unlabeled_points] = -1\n",
    "# label_prop_model.fit(iris.data, labels)"
   ]
  },
  {
   "cell_type": "code",
   "execution_count": 18,
   "metadata": {},
   "outputs": [],
   "source": [
    "import os\n",
    "datapath =  r'D:\\projects\\congress\\processed\\training_vectors\\debatepol/'\n"
   ]
  },
  {
   "cell_type": "code",
   "execution_count": 19,
   "metadata": {
    "id": "IrB8GAbHLok5"
   },
   "outputs": [],
   "source": [
    "\n",
    "ds_all = np.load(os.path.join(datapath, 'sentence_vectors_guns_nomoder.npy'))\n",
    "parties_all = np.load(os.path.join(datapath, 'stance_lib_binary_guns_nomoder.npy'))\n",
    "stance_all = np.load(os.path.join(datapath, 'stance_lib_7scale_guns_nomoder.npy'))\n",
    "thetas_hard_all = np.load(os.path.join(datapath, 'topics_hard_guns_nomoder.npy'))\n",
    "As_all = np.load(os.path.join(datapath, 'author_dummies_guns_nomoder.npy')) \n",
    "theta_categ= np.argmax(thetas_hard_all, axis = -1)\n",
    "ds_all = np.float32(ds_all)\n",
    "thetas_all = thetas_hard_all"
   ]
  },
  {
   "cell_type": "code",
   "execution_count": 20,
   "metadata": {
    "colab": {
     "base_uri": "https://localhost:8080/"
    },
    "id": "gL_hzD211rre",
    "outputId": "882e85b3-f34a-4f26-87da-434585c32138"
   },
   "outputs": [
    {
     "data": {
      "text/plain": [
       "(52675, 300)"
      ]
     },
     "execution_count": 20,
     "metadata": {},
     "output_type": "execute_result"
    }
   ],
   "source": [
    "ds_all.shape"
   ]
  },
  {
   "cell_type": "code",
   "execution_count": 21,
   "metadata": {
    "id": "k-ji6tuxRrod"
   },
   "outputs": [],
   "source": [
    "def sample(parties_all, theta_categ, stance_all,biased = True, notmask = 0.8, extreme = 5):\n",
    "\n",
    "    totalsamp = len(parties_all)\n",
    "\n",
    "    if not biased: \n",
    "        sss = StratifiedShuffleSplit(n_splits=5, test_size= 1- notmask)\n",
    "        train_id, test_id = next(sss.split(theta_categ, parties_all))\n",
    "    else:\n",
    "        p = np.array([(4- i)**extreme  if i <4 else (i -4)**extreme for i in stance_all])\n",
    "        p = p / np.sum(p)\n",
    "        train_id = np.random.choice(np.arange(totalsamp), int(totalsamp * notmask), replace = False, p = p)\n",
    "        \n",
    "#         orderid = np.argsort(stance_all)\n",
    "#         tbn = int(len(parties_all) * notmask/2)\n",
    "#         train_id = np.concatenate([orderid[:tbn], orderid[-tbn:]])\n",
    "        \n",
    "        test_id = [i for i in range(totalsamp) if i not in train_id]\n",
    "\n",
    "    return train_id, test_id"
   ]
  },
  {
   "cell_type": "code",
   "execution_count": 22,
   "metadata": {
    "colab": {
     "base_uri": "https://localhost:8080/"
    },
    "id": "fAvW6-q0-kp2",
    "outputId": "015a5543-ad8f-4148-a61b-9407bfcbe85e"
   },
   "outputs": [],
   "source": [
    "trainid, testid = sample(parties_all, theta_categ, stance_all,biased = True, notmask =0.2)"
   ]
  },
  {
   "cell_type": "code",
   "execution_count": 23,
   "metadata": {
    "id": "n4slL2XB-5y0"
   },
   "outputs": [
    {
     "data": {
      "text/plain": [
       "52675"
      ]
     },
     "execution_count": 23,
     "metadata": {},
     "output_type": "execute_result"
    }
   ],
   "source": [
    "len(trainid) + len(testid)"
   ]
  },
  {
   "cell_type": "code",
   "execution_count": 24,
   "metadata": {
    "colab": {
     "base_uri": "https://localhost:8080/"
    },
    "id": "QbMa60SJTfo9",
    "outputId": "1d455db5-3405-4b7d-c240-7a2d7fbc6abf"
   },
   "outputs": [],
   "source": [
    "# rounds = 6\n",
    "# notmasks = [0.01, 0.03, 0.05, 0.08, 0.2, 0.4, 0.6, 0.8]\n",
    "\n",
    "# # notmasks = [0.8]\n",
    "# topn = 500000\n",
    "# model_name = 'label_spreading'\n",
    "# label_prop_model = LabelSpreading(kernel= 'knn', n_neighbors=10)\n",
    "# for biased in [True, False]:\n",
    "#   bia = 'bias'\n",
    "#   if not biased:\n",
    "#     bia = 'unbias'\n",
    "#   f = open( r'./results/SKSSL/{}_{}.txt'.format(model_name, bia), 'w')\n",
    "#   for notmask in notmasks:\n",
    "#     version = \"{}_{}_{}\".format(model_name, notmask, bia)\n",
    "#     print(version)\n",
    "#     if biased:\n",
    "# #       continue\n",
    "#       trainid, testid = sample(labels, topics, biased = biased, notmask = notmask)\n",
    "\n",
    "#       ys = np.copy(labels)\n",
    "#       ys[testid] = -1\n",
    "\n",
    "#       Xs = np.copy(sentvec_flt)\n",
    "#       Xidx = np.arange(len(Xs))\n",
    "      \n",
    "#       np.random.shuffle(Xidx)\n",
    "#       Xs = Xs[Xidx]\n",
    "#       ys = ys[Xidx]\n",
    "#       print(ys[:100])\n",
    "#       label_prop_model.fit(Xs[:topn], ys[:topn])\n",
    "#       Xt = sentvec_flt[testid]\n",
    "#       yt = labels[testid]\n",
    "#       y_pred = label_prop_model.predict(Xt)\n",
    "#       acc = np.mean(y_pred == yt)\n",
    "#       print(acc)\n",
    "#       f.write(version)\n",
    "#       f.write('\\t'+str(acc))\n",
    "#       f.write('\\n')\n",
    "#     else:\n",
    "#       accs = []\n",
    "#       for __ in range(rounds):\n",
    "#         trainid, testid = sample(labels, topics, biased = biased, notmask = notmask)\n",
    "#         ys = np.copy(labels)\n",
    "#         ys[testid] = -1\n",
    "        \n",
    "#         Xs = np.copy(sentvec_flt)\n",
    "#         Xidx = np.arange(len(Xs))\n",
    "      \n",
    "#         np.random.shuffle(Xidx)\n",
    "#         Xs = Xs[Xidx]\n",
    "#         ys = ys[Xidx]\n",
    "#         print(ys[:100])\n",
    "#         label_prop_model.fit(Xs[:topn], ys[:topn])\n",
    "#         Xt = sentvec_flt[testid]\n",
    "#         yt = labels[testid]\n",
    "#         y_pred = label_prop_model.predict(Xt)\n",
    "#         acc = np.mean(y_pred == yt)\n",
    "#         print(acc)\n",
    "#         accs.append(acc)\n",
    "#       f.write(version)\n",
    "#       for ac in accs:\n",
    "#         f.write('\\t'+str(ac))\n",
    "#       f.write('\\n')\n",
    "#   f.close()"
   ]
  },
  {
   "cell_type": "code",
   "execution_count": 53,
   "metadata": {},
   "outputs": [],
   "source": [
    "def predict_party_membership(s_pred, y, As):\n",
    "    # filter out nan\n",
    "    \n",
    "    fin = np.isfinite(s_pred)\n",
    "    s_pred = s_pred[fin]\n",
    "    y = y[fin]\n",
    "    As = As[fin]\n",
    "    nonzero_inx = (np.sum(As.T, axis = -1) !=0)\n",
    "    ave_slants = (np.matmul(As.T, s_pred)/(np.sum(As.T, axis = -1) + 0.000001))[nonzero_inx]\n",
    "    y_ = np.matmul(As.T, y) >0 # this is party label per person, but those with 0 speech be 0\n",
    "    print(\"test slant\", ave_slants.mean(), ave_slants[:5])\n",
    "    y_true = y_[nonzero_inx]\n",
    "    y_pred = ave_slants>0\n",
    "    return np.mean(y_true == y_pred)"
   ]
  },
  {
   "cell_type": "code",
   "execution_count": 54,
   "metadata": {
    "id": "kjsNJMUUTgBW"
   },
   "outputs": [],
   "source": [
    "# self training\n",
    "extreme = 5"
   ]
  },
  {
   "cell_type": "code",
   "execution_count": 55,
   "metadata": {
    "scrolled": true
   },
   "outputs": [],
   "source": [
    "# rounds = 5\n",
    "# notmasks = [0.01, 0.03, 0.05, 0.08, 0.1, 0.2, 0.4, 0.6, 0.8]\n",
    "\n",
    "# # notmasks = [0.8]\n",
    "# topn = 5000000\n",
    "# model_name = 'self_training'\n",
    "\n",
    "# # svc = SVC(probability=True, gamma=\"auto\")\n",
    "# clf = RandomForestClassifier(max_depth=5, random_state=0)\n",
    "# self_training_model = SelfTrainingClassifier(clf)\n",
    "# # for biased in [True, False]:\n",
    "# for biased in [True, False]:\n",
    "#   bia = 'bias'\n",
    "#   if not biased:\n",
    "#     bia = 'unbias'\n",
    "#   f = open( r'D:\\projects\\congress\\results\\debatepol\\train\\SSL/{}_{}.txt'.format(model_name, bia), 'w')\n",
    "#   f.write('\\taccs\\tpccs\\n')\n",
    "#   for notmask in notmasks:\n",
    "#     version = \"{}_{}_{}\".format(model_name, notmask, bia)\n",
    "#     print(version)\n",
    "\n",
    "#     if biased:\n",
    "#       accs = []\n",
    "#       pccs = []\n",
    "#       for __ in range(rounds):\n",
    "#         trainid, testid = sample(parties_all, theta_categ, stance_all, biased = biased, notmask = notmask, extreme = extreme)\n",
    "#         ys = np.copy(parties_all)\n",
    "#         ys[testid] = -1\n",
    "\n",
    "#         Xs = np.copy(ds_all)\n",
    "#         Xidx = np.arange(len(Xs))\n",
    "      \n",
    "#         np.random.shuffle(Xidx)\n",
    "#         Xs = Xs[Xidx]\n",
    "#         ys = ys[Xidx]\n",
    "#         print(ys[:100])\n",
    "#         self_training_model.fit(Xs[:topn], ys[:topn])\n",
    "#         Xt = ds_all[testid]\n",
    "#         yt = parties_all[testid]\n",
    "#         At = As_all[testid]\n",
    "#         y_pred = self_training_model.predict(Xt)\n",
    "#         proba_pred = self_training_model.predict_proba(Xt)\n",
    "#         s_pred = np.array([np.log(i[1]*1000+ 0.00000001)- np.log(i[0]*1000+0.00000001) for i in proba_pred])\n",
    "\n",
    "#         acc = np.mean(y_pred == yt)\n",
    "#         accs.append(acc)\n",
    "        \n",
    "#         pcc = predict_party_membership(s_pred, yt)\n",
    "#         pccs.append(pcc)\n",
    "        \n",
    "        \n",
    "#       f.write(version)\n",
    "\n",
    "#       f.write('\\t' + str(accs))\n",
    "#       f.write('\\t' + str(pccs))\n",
    "#       f.write('\\n')\n",
    "#     else:\n",
    "#       accs = []\n",
    "#       pccs= []\n",
    "#       for __ in range(rounds):\n",
    "#         trainid, testid = sample(parties_all, theta_categ, stance_all, biased = biased, notmask = notmask, extreme = extreme)\n",
    "#         ys = np.copy(parties_all)\n",
    "#         ys[testid] = -1\n",
    "\n",
    "#         Xs = np.copy(ds_all)\n",
    "#         Xidx = np.arange(len(Xs))\n",
    "      \n",
    "#         np.random.shuffle(Xidx)\n",
    "#         Xs = Xs[Xidx]\n",
    "#         ys = ys[Xidx]\n",
    "#         print(ys[:100])\n",
    "#         self_training_model.fit(Xs[:topn], ys[:topn])\n",
    "#         Xt = ds_all[testid]\n",
    "#         yt = parties_all[testid]\n",
    "#         At = As_all[testid]\n",
    "#         y_pred = self_training_model.predict(Xt)\n",
    "#         proba_pred = self_training_model.predict_proba(Xt)\n",
    "#         s_pred = np.array([np.log(i[1]*1000+ 0.00000001)- np.log(i[0]*1000+0.00000001) for i in proba_pred])\n",
    "\n",
    "#         acc = np.mean(y_pred == yt)\n",
    "#         accs.append(acc)\n",
    "        \n",
    "#         pcc = predict_party_membership(s_pred, yt)\n",
    "#         pccs.append(pcc)\n",
    "        \n",
    "        \n",
    "#       f.write(version)\n",
    "\n",
    "#       f.write('\\t' + str(accs))\n",
    "#       f.write('\\t' + str(pccs))\n",
    "#       f.write('\\n')\n",
    "#   f.close()"
   ]
  },
  {
   "cell_type": "code",
   "execution_count": 56,
   "metadata": {},
   "outputs": [],
   "source": [
    "# label spreading\n",
    "def rbf_kernel_safe(X, Y=None, gamma=None): \n",
    "\n",
    "      X, Y = sklearn.metrics.pairwise.check_pairwise_arrays(X, Y) \n",
    "      if gamma is None: \n",
    "          gamma = 1.0 / X.shape[1] \n",
    "\n",
    "      K = sklearn.metrics.pairwise.euclidean_distances(X, Y, squared=True) \n",
    "      K *= -gamma \n",
    "      K -= K.max()\n",
    "      np.exp(K, K)    # exponentiate K in-place \n",
    "      return K "
   ]
  },
  {
   "cell_type": "code",
   "execution_count": 67,
   "metadata": {
    "scrolled": false
   },
   "outputs": [
    {
     "name": "stdout",
     "output_type": "stream",
     "text": [
      "label_spreading_0.01_bias\n",
      "[-1 -1 -1 -1 -1 -1 -1 -1 -1 -1 -1  1 -1 -1 -1 -1 -1 -1 -1 -1 -1 -1 -1 -1\n",
      " -1 -1 -1 -1 -1 -1 -1 -1 -1 -1 -1 -1 -1 -1 -1 -1 -1 -1 -1 -1 -1 -1 -1 -1\n",
      "  1 -1 -1 -1 -1 -1 -1 -1 -1 -1 -1 -1 -1 -1 -1 -1 -1 -1 -1 -1 -1 -1 -1 -1\n",
      " -1 -1 -1 -1 -1 -1 -1 -1 -1 -1 -1 -1 -1 -1 -1 -1 -1 -1 -1 -1 -1 -1 -1 -1\n",
      " -1 -1 -1 -1]\n"
     ]
    },
    {
     "name": "stderr",
     "output_type": "stream",
     "text": [
      "D:\\anaconda\\envs\\py37\\lib\\site-packages\\sklearn\\semi_supervised\\_label_propagation.py:205: RuntimeWarning: invalid value encountered in true_divide\n",
      "  probabilities /= normalizer\n",
      "D:\\anaconda\\envs\\py37\\lib\\site-packages\\sklearn\\semi_supervised\\_label_propagation.py:205: RuntimeWarning: invalid value encountered in true_divide\n",
      "  probabilities /= normalizer\n",
      "D:\\anaconda\\envs\\py37\\lib\\site-packages\\ipykernel_launcher.py:42: RuntimeWarning: divide by zero encountered in log\n"
     ]
    },
    {
     "name": "stdout",
     "output_type": "stream",
     "text": [
      "0.3077336094651863 1143\n",
      "test slant -1.0108139194314745 [-0.59063573  0.03346519 -6.65937994 -2.23081506 -0.60437157]\n",
      "[-1 -1 -1 -1 -1 -1 -1 -1 -1 -1 -1 -1 -1 -1 -1 -1 -1 -1 -1 -1 -1 -1 -1 -1\n",
      " -1 -1 -1 -1 -1 -1 -1 -1 -1 -1 -1 -1 -1 -1 -1 -1 -1 -1 -1 -1 -1 -1 -1 -1\n",
      " -1 -1 -1 -1 -1 -1 -1 -1 -1 -1 -1 -1 -1 -1 -1 -1 -1 -1 -1 -1 -1 -1 -1 -1\n",
      " -1 -1 -1 -1 -1 -1 -1 -1 -1 -1 -1 -1 -1  0 -1 -1 -1 -1 -1 -1 -1 -1 -1 -1\n",
      " -1 -1 -1 -1]\n"
     ]
    },
    {
     "name": "stderr",
     "output_type": "stream",
     "text": [
      "D:\\anaconda\\envs\\py37\\lib\\site-packages\\sklearn\\semi_supervised\\_label_propagation.py:205: RuntimeWarning: invalid value encountered in true_divide\n",
      "  probabilities /= normalizer\n",
      "D:\\anaconda\\envs\\py37\\lib\\site-packages\\sklearn\\semi_supervised\\_label_propagation.py:205: RuntimeWarning: invalid value encountered in true_divide\n",
      "  probabilities /= normalizer\n",
      "D:\\anaconda\\envs\\py37\\lib\\site-packages\\ipykernel_launcher.py:42: RuntimeWarning: divide by zero encountered in log\n"
     ]
    },
    {
     "name": "stdout",
     "output_type": "stream",
     "text": [
      "0.25055130491476346 1093\n",
      "test slant -1.300433342889434 [-1.37944567 -2.16914705 -1.91788955 -2.0149242  -0.8661989 ]\n",
      "[-1 -1 -1 -1 -1 -1 -1 -1 -1 -1 -1 -1 -1 -1 -1 -1 -1 -1 -1 -1 -1 -1 -1 -1\n",
      " -1 -1 -1 -1 -1 -1 -1 -1 -1 -1 -1 -1 -1 -1 -1 -1 -1 -1 -1 -1 -1 -1 -1 -1\n",
      " -1 -1 -1 -1 -1 -1 -1 -1 -1 -1 -1 -1 -1 -1 -1 -1 -1 -1 -1 -1 -1 -1 -1 -1\n",
      " -1 -1 -1 -1 -1 -1 -1 -1 -1 -1 -1 -1 -1 -1 -1 -1 -1 -1 -1 -1 -1 -1 -1 -1\n",
      " -1 -1 -1 -1]\n"
     ]
    },
    {
     "name": "stderr",
     "output_type": "stream",
     "text": [
      "D:\\anaconda\\envs\\py37\\lib\\site-packages\\sklearn\\semi_supervised\\_label_propagation.py:205: RuntimeWarning: invalid value encountered in true_divide\n",
      "  probabilities /= normalizer\n",
      "D:\\anaconda\\envs\\py37\\lib\\site-packages\\sklearn\\semi_supervised\\_label_propagation.py:205: RuntimeWarning: invalid value encountered in true_divide\n",
      "  probabilities /= normalizer\n",
      "D:\\anaconda\\envs\\py37\\lib\\site-packages\\ipykernel_launcher.py:42: RuntimeWarning: divide by zero encountered in log\n"
     ]
    },
    {
     "name": "stdout",
     "output_type": "stream",
     "text": [
      "0.10176609330955531 1078\n",
      "test slant -2.3548509410432708 [ 0.00846839 -3.04118081 -2.94331385 -2.07067968  0.45771951]\n",
      "[-1 -1 -1 -1 -1 -1 -1 -1 -1 -1 -1 -1 -1 -1 -1 -1 -1 -1 -1 -1 -1 -1 -1 -1\n",
      " -1 -1 -1 -1 -1 -1 -1 -1 -1 -1 -1 -1 -1 -1 -1 -1 -1 -1 -1 -1 -1 -1 -1 -1\n",
      " -1 -1 -1 -1 -1 -1 -1 -1 -1 -1 -1 -1 -1 -1 -1 -1 -1 -1 -1 -1 -1 -1 -1 -1\n",
      " -1 -1 -1 -1 -1 -1 -1 -1 -1 -1 -1 -1 -1 -1 -1 -1 -1 -1 -1 -1 -1 -1 -1 -1\n",
      " -1 -1 -1 -1]\n"
     ]
    },
    {
     "name": "stderr",
     "output_type": "stream",
     "text": [
      "D:\\anaconda\\envs\\py37\\lib\\site-packages\\sklearn\\semi_supervised\\_label_propagation.py:205: RuntimeWarning: invalid value encountered in true_divide\n",
      "  probabilities /= normalizer\n",
      "D:\\anaconda\\envs\\py37\\lib\\site-packages\\sklearn\\semi_supervised\\_label_propagation.py:205: RuntimeWarning: invalid value encountered in true_divide\n",
      "  probabilities /= normalizer\n",
      "D:\\anaconda\\envs\\py37\\lib\\site-packages\\ipykernel_launcher.py:42: RuntimeWarning: divide by zero encountered in log\n"
     ]
    },
    {
     "name": "stdout",
     "output_type": "stream",
     "text": [
      "0.10692438972942914 1134\n",
      "test slant -2.1612457689011566 [-2.58931346 -1.85997024 -3.11456274 -2.9002754  -3.09644972]\n",
      "[-1 -1 -1  0 -1 -1 -1 -1 -1 -1 -1 -1 -1 -1 -1 -1 -1 -1 -1 -1 -1 -1 -1 -1\n",
      " -1 -1 -1 -1 -1 -1 -1 -1 -1 -1 -1 -1 -1 -1 -1 -1 -1 -1 -1 -1 -1 -1 -1 -1\n",
      " -1 -1 -1 -1 -1 -1 -1 -1 -1 -1 -1 -1 -1 -1 -1 -1 -1 -1 -1 -1 -1 -1 -1 -1\n",
      " -1 -1 -1 -1 -1 -1 -1 -1 -1 -1 -1 -1 -1 -1 -1 -1 -1 -1 -1 -1 -1 -1 -1 -1\n",
      " -1 -1 -1 -1]\n"
     ]
    },
    {
     "name": "stderr",
     "output_type": "stream",
     "text": [
      "D:\\anaconda\\envs\\py37\\lib\\site-packages\\sklearn\\semi_supervised\\_label_propagation.py:205: RuntimeWarning: invalid value encountered in true_divide\n",
      "  probabilities /= normalizer\n",
      "D:\\anaconda\\envs\\py37\\lib\\site-packages\\sklearn\\semi_supervised\\_label_propagation.py:205: RuntimeWarning: invalid value encountered in true_divide\n",
      "  probabilities /= normalizer\n",
      "D:\\anaconda\\envs\\py37\\lib\\site-packages\\ipykernel_launcher.py:42: RuntimeWarning: divide by zero encountered in log\n"
     ]
    },
    {
     "name": "stdout",
     "output_type": "stream",
     "text": [
      "0.1386795528198048 1107\n",
      "test slant -2.781313336229066 [-2.83300376 -2.17562473 -7.04071604 -1.23765133 -0.44773304]\n",
      "[0.5670482655467985, 0.5639226063778787, 0.5602983758077815, 0.5794741989299891, 0.561353046079503] [0.5901162790697675, 0.6184971098265896, 0.6202898550724638, 0.6028985507246377, 0.6]\n",
      "label_spreading_0.03_bias\n",
      "[-1 -1 -1 -1 -1 -1 -1 -1 -1 -1 -1 -1 -1 -1 -1 -1 -1 -1 -1 -1 -1 -1 -1 -1\n",
      " -1 -1 -1 -1 -1 -1 -1 -1 -1 -1 -1 -1 -1 -1 -1 -1 -1 -1 -1 -1 -1 -1 -1 -1\n",
      " -1 -1 -1 -1 -1 -1 -1 -1 -1 -1 -1 -1 -1 -1 -1 -1 -1 -1 -1 -1 -1 -1  1 -1\n",
      " -1 -1 -1 -1 -1 -1 -1 -1 -1 -1 -1 -1 -1 -1 -1 -1  1 -1 -1  0 -1 -1  0 -1\n",
      " -1 -1 -1 -1]\n"
     ]
    },
    {
     "name": "stderr",
     "output_type": "stream",
     "text": [
      "D:\\anaconda\\envs\\py37\\lib\\site-packages\\sklearn\\semi_supervised\\_label_propagation.py:205: RuntimeWarning: invalid value encountered in true_divide\n",
      "  probabilities /= normalizer\n",
      "D:\\anaconda\\envs\\py37\\lib\\site-packages\\sklearn\\semi_supervised\\_label_propagation.py:205: RuntimeWarning: invalid value encountered in true_divide\n",
      "  probabilities /= normalizer\n",
      "D:\\anaconda\\envs\\py37\\lib\\site-packages\\ipykernel_launcher.py:42: RuntimeWarning: divide by zero encountered in log\n"
     ]
    },
    {
     "name": "stdout",
     "output_type": "stream",
     "text": [
      "0.10897348077111263 941\n",
      "test slant -2.1490043719307454 [-1.08760961 -1.4381736  -2.39102263 -1.02043561 -2.94772098]\n",
      "[-1 -1 -1 -1 -1 -1 -1 -1 -1 -1 -1 -1 -1 -1 -1 -1 -1 -1 -1 -1 -1 -1 -1 -1\n",
      " -1 -1 -1 -1 -1 -1 -1 -1 -1 -1 -1 -1 -1 -1 -1 -1 -1 -1 -1 -1 -1 -1 -1 -1\n",
      " -1 -1 -1 -1 -1 -1 -1 -1 -1 -1 -1 -1 -1 -1 -1 -1 -1 -1 -1 -1 -1 -1 -1  0\n",
      " -1 -1 -1 -1 -1 -1 -1 -1  0 -1 -1 -1 -1 -1 -1 -1 -1 -1 -1 -1 -1 -1 -1 -1\n",
      " -1 -1 -1 -1]\n"
     ]
    },
    {
     "name": "stderr",
     "output_type": "stream",
     "text": [
      "D:\\anaconda\\envs\\py37\\lib\\site-packages\\sklearn\\semi_supervised\\_label_propagation.py:205: RuntimeWarning: invalid value encountered in true_divide\n",
      "  probabilities /= normalizer\n",
      "D:\\anaconda\\envs\\py37\\lib\\site-packages\\sklearn\\semi_supervised\\_label_propagation.py:205: RuntimeWarning: invalid value encountered in true_divide\n",
      "  probabilities /= normalizer\n",
      "D:\\anaconda\\envs\\py37\\lib\\site-packages\\ipykernel_launcher.py:42: RuntimeWarning: divide by zero encountered in log\n"
     ]
    },
    {
     "name": "stdout",
     "output_type": "stream",
     "text": [
      "0.20992269302280067 972\n",
      "test slant -1.3362860221052633 [-2.25331709 -0.96003272 -2.12067012 -1.91011988 -1.21652605]\n",
      "[-1 -1 -1 -1 -1 -1 -1 -1  1 -1 -1 -1 -1 -1 -1 -1 -1 -1 -1 -1 -1 -1 -1 -1\n",
      " -1 -1 -1 -1 -1 -1 -1 -1 -1 -1 -1 -1 -1 -1 -1 -1 -1 -1 -1 -1 -1 -1 -1 -1\n",
      " -1 -1 -1 -1 -1 -1 -1 -1 -1 -1 -1 -1 -1 -1 -1 -1 -1 -1 -1 -1 -1 -1 -1 -1\n",
      " -1 -1 -1 -1 -1 -1 -1 -1 -1 -1 -1 -1 -1 -1 -1 -1 -1 -1 -1 -1  1 -1 -1 -1\n",
      " -1 -1 -1 -1]\n"
     ]
    },
    {
     "name": "stderr",
     "output_type": "stream",
     "text": [
      "D:\\anaconda\\envs\\py37\\lib\\site-packages\\sklearn\\semi_supervised\\_label_propagation.py:205: RuntimeWarning: invalid value encountered in true_divide\n",
      "  probabilities /= normalizer\n",
      "D:\\anaconda\\envs\\py37\\lib\\site-packages\\sklearn\\semi_supervised\\_label_propagation.py:205: RuntimeWarning: invalid value encountered in true_divide\n",
      "  probabilities /= normalizer\n",
      "D:\\anaconda\\envs\\py37\\lib\\site-packages\\ipykernel_launcher.py:42: RuntimeWarning: divide by zero encountered in log\n"
     ]
    },
    {
     "name": "stdout",
     "output_type": "stream",
     "text": [
      "0.21160583227321655 987\n",
      "test slant -1.4339034234416965 [-1.04332572 -0.55769737 -5.54438968 -2.80439462 -0.77034465]\n",
      "[-1 -1 -1 -1 -1 -1 -1 -1 -1 -1 -1 -1 -1 -1 -1 -1 -1 -1 -1 -1 -1 -1 -1 -1\n",
      " -1 -1 -1 -1 -1 -1 -1 -1 -1 -1 -1 -1 -1 -1 -1 -1 -1 -1 -1 -1 -1 -1 -1 -1\n",
      " -1 -1 -1 -1 -1 -1 -1 -1  1 -1 -1 -1 -1 -1 -1 -1 -1 -1 -1 -1 -1 -1 -1 -1\n",
      " -1 -1 -1 -1 -1  1 -1  0 -1 -1 -1 -1 -1 -1 -1 -1 -1  0  0 -1 -1 -1 -1 -1\n",
      " -1 -1 -1 -1]\n"
     ]
    },
    {
     "name": "stderr",
     "output_type": "stream",
     "text": [
      "D:\\anaconda\\envs\\py37\\lib\\site-packages\\sklearn\\semi_supervised\\_label_propagation.py:205: RuntimeWarning: invalid value encountered in true_divide\n",
      "  probabilities /= normalizer\n",
      "D:\\anaconda\\envs\\py37\\lib\\site-packages\\sklearn\\semi_supervised\\_label_propagation.py:205: RuntimeWarning: invalid value encountered in true_divide\n",
      "  probabilities /= normalizer\n",
      "D:\\anaconda\\envs\\py37\\lib\\site-packages\\ipykernel_launcher.py:42: RuntimeWarning: divide by zero encountered in log\n"
     ]
    },
    {
     "name": "stdout",
     "output_type": "stream",
     "text": [
      "0.16048537038849203 975\n",
      "test slant -2.1204818649879327 [-1.96303015 -0.58199529 -7.00323362 -3.20706501 -2.08819088]\n",
      "[-1 -1 -1 -1 -1 -1 -1 -1 -1 -1 -1 -1 -1 -1 -1 -1 -1 -1 -1 -1 -1 -1 -1 -1\n",
      " -1 -1 -1 -1 -1 -1 -1 -1 -1 -1 -1 -1 -1 -1 -1 -1 -1 -1  0 -1 -1 -1 -1 -1\n",
      " -1 -1 -1  0 -1 -1 -1 -1 -1 -1 -1 -1 -1 -1  0 -1  0 -1 -1 -1 -1 -1 -1 -1\n",
      " -1 -1 -1 -1 -1 -1 -1 -1 -1 -1 -1 -1 -1 -1 -1 -1 -1 -1 -1 -1 -1 -1 -1 -1\n",
      " -1 -1 -1 -1]\n"
     ]
    },
    {
     "name": "stderr",
     "output_type": "stream",
     "text": [
      "D:\\anaconda\\envs\\py37\\lib\\site-packages\\sklearn\\semi_supervised\\_label_propagation.py:205: RuntimeWarning: invalid value encountered in true_divide\n",
      "  probabilities /= normalizer\n",
      "D:\\anaconda\\envs\\py37\\lib\\site-packages\\sklearn\\semi_supervised\\_label_propagation.py:205: RuntimeWarning: invalid value encountered in true_divide\n",
      "  probabilities /= normalizer\n",
      "D:\\anaconda\\envs\\py37\\lib\\site-packages\\ipykernel_launcher.py:42: RuntimeWarning: divide by zero encountered in log\n"
     ]
    },
    {
     "name": "stdout",
     "output_type": "stream",
     "text": [
      "0.1381348468538996 1089\n",
      "test slant -1.514807697772677 [-1.22239471 -1.43009604 -0.90332134 -0.81247298 -1.83170106]\n",
      "[0.581113611899403, 0.5839514629611507, 0.5946374400626284, 0.5936588707309913, 0.5892748801252569] [0.622093023255814, 0.5970588235294118, 0.6253687315634219, 0.6268221574344023, 0.6239067055393586]\n",
      "label_spreading_0.05_bias\n",
      "[-1 -1 -1 -1 -1 -1 -1 -1 -1 -1 -1 -1 -1 -1 -1 -1  1 -1 -1 -1 -1 -1 -1 -1\n",
      " -1 -1 -1 -1 -1 -1 -1 -1 -1 -1 -1 -1 -1 -1 -1 -1 -1 -1 -1 -1 -1 -1 -1 -1\n",
      "  0  0 -1 -1  0 -1 -1 -1 -1 -1 -1 -1 -1 -1 -1 -1 -1 -1 -1 -1 -1 -1 -1 -1\n",
      " -1 -1 -1 -1 -1 -1 -1 -1 -1 -1 -1 -1 -1 -1 -1 -1 -1 -1 -1 -1  1 -1 -1 -1\n",
      " -1 -1 -1 -1]\n"
     ]
    },
    {
     "name": "stderr",
     "output_type": "stream",
     "text": [
      "D:\\anaconda\\envs\\py37\\lib\\site-packages\\sklearn\\semi_supervised\\_label_propagation.py:205: RuntimeWarning: invalid value encountered in true_divide\n",
      "  probabilities /= normalizer\n",
      "D:\\anaconda\\envs\\py37\\lib\\site-packages\\sklearn\\semi_supervised\\_label_propagation.py:205: RuntimeWarning: invalid value encountered in true_divide\n",
      "  probabilities /= normalizer\n",
      "D:\\anaconda\\envs\\py37\\lib\\site-packages\\ipykernel_launcher.py:42: RuntimeWarning: divide by zero encountered in log\n"
     ]
    },
    {
     "name": "stdout",
     "output_type": "stream",
     "text": [
      "0.2055273570201031 803\n",
      "test slant -1.050338208374892 [-1.0608286  -1.22203884 -2.09622604 -0.17223548 -0.49684506]\n",
      "[-1 -1 -1 -1 -1 -1 -1 -1 -1 -1 -1 -1 -1 -1 -1 -1 -1 -1 -1 -1 -1 -1 -1 -1\n",
      " -1 -1 -1 -1 -1 -1 -1  0 -1 -1 -1 -1 -1 -1 -1 -1 -1 -1 -1 -1 -1 -1 -1  0\n",
      " -1  1 -1 -1 -1 -1 -1 -1 -1 -1 -1 -1 -1 -1  1 -1 -1 -1 -1 -1 -1 -1 -1 -1\n",
      " -1 -1 -1 -1 -1  0 -1 -1 -1 -1 -1 -1 -1 -1 -1 -1 -1 -1 -1  1 -1  1 -1 -1\n",
      "  0  0 -1 -1]\n"
     ]
    },
    {
     "name": "stderr",
     "output_type": "stream",
     "text": [
      "D:\\anaconda\\envs\\py37\\lib\\site-packages\\sklearn\\semi_supervised\\_label_propagation.py:205: RuntimeWarning: invalid value encountered in true_divide\n",
      "  probabilities /= normalizer\n",
      "D:\\anaconda\\envs\\py37\\lib\\site-packages\\sklearn\\semi_supervised\\_label_propagation.py:205: RuntimeWarning: invalid value encountered in true_divide\n",
      "  probabilities /= normalizer\n",
      "D:\\anaconda\\envs\\py37\\lib\\site-packages\\ipykernel_launcher.py:42: RuntimeWarning: divide by zero encountered in log\n"
     ]
    },
    {
     "name": "stdout",
     "output_type": "stream",
     "text": [
      "0.18718276647616003 861\n",
      "test slant -1.5123764634534742 [-1.45381844 -1.13418255 -1.26645672 -1.81928748 -2.11526472]\n",
      "[ 0  0 -1 -1 -1 -1 -1 -1 -1 -1 -1 -1 -1 -1 -1 -1 -1 -1 -1 -1 -1 -1 -1 -1\n",
      " -1 -1 -1 -1 -1 -1 -1 -1 -1 -1 -1 -1 -1 -1 -1  0 -1 -1 -1 -1 -1 -1 -1 -1\n",
      " -1 -1 -1 -1 -1 -1 -1 -1  1 -1 -1 -1 -1 -1 -1 -1 -1 -1 -1 -1 -1 -1 -1  0\n",
      "  0 -1 -1 -1 -1 -1 -1 -1 -1 -1  0 -1 -1  0 -1 -1 -1 -1 -1 -1 -1 -1 -1 -1\n",
      " -1 -1 -1 -1]\n"
     ]
    },
    {
     "name": "stderr",
     "output_type": "stream",
     "text": [
      "D:\\anaconda\\envs\\py37\\lib\\site-packages\\sklearn\\semi_supervised\\_label_propagation.py:205: RuntimeWarning: invalid value encountered in true_divide\n",
      "  probabilities /= normalizer\n",
      "D:\\anaconda\\envs\\py37\\lib\\site-packages\\sklearn\\semi_supervised\\_label_propagation.py:205: RuntimeWarning: invalid value encountered in true_divide\n",
      "  probabilities /= normalizer\n",
      "D:\\anaconda\\envs\\py37\\lib\\site-packages\\ipykernel_launcher.py:42: RuntimeWarning: divide by zero encountered in log\n"
     ]
    },
    {
     "name": "stdout",
     "output_type": "stream",
     "text": [
      "0.29729027616801884 863\n",
      "test slant -0.8662609447151927 [-0.3077708   0.55575234 -2.25662226 -1.59435782 -0.93559577]\n",
      "[-1 -1 -1 -1 -1 -1 -1 -1 -1 -1 -1 -1 -1 -1 -1 -1 -1 -1  0 -1 -1 -1 -1 -1\n",
      " -1  0 -1 -1 -1 -1 -1 -1 -1 -1 -1 -1 -1 -1 -1 -1 -1 -1 -1 -1 -1 -1 -1 -1\n",
      "  1 -1 -1  0 -1 -1 -1 -1 -1 -1 -1 -1 -1 -1 -1 -1 -1 -1 -1 -1 -1 -1 -1 -1\n",
      " -1 -1 -1 -1  0 -1  0 -1 -1 -1 -1 -1 -1 -1 -1 -1 -1  0 -1 -1 -1 -1 -1 -1\n",
      " -1 -1  0 -1]\n"
     ]
    },
    {
     "name": "stderr",
     "output_type": "stream",
     "text": [
      "D:\\anaconda\\envs\\py37\\lib\\site-packages\\sklearn\\semi_supervised\\_label_propagation.py:205: RuntimeWarning: invalid value encountered in true_divide\n",
      "  probabilities /= normalizer\n",
      "D:\\anaconda\\envs\\py37\\lib\\site-packages\\sklearn\\semi_supervised\\_label_propagation.py:205: RuntimeWarning: invalid value encountered in true_divide\n",
      "  probabilities /= normalizer\n",
      "D:\\anaconda\\envs\\py37\\lib\\site-packages\\ipykernel_launcher.py:42: RuntimeWarning: divide by zero encountered in log\n"
     ]
    },
    {
     "name": "stdout",
     "output_type": "stream",
     "text": [
      "0.09282202949522401 919\n",
      "test slant -2.4902131602718764 [-2.7949947  -1.54886982 -5.79406809 -1.57924311 -2.48420665]\n",
      "[-1 -1 -1 -1 -1 -1 -1 -1 -1  1 -1 -1 -1 -1 -1 -1 -1  1 -1 -1 -1 -1 -1 -1\n",
      " -1 -1 -1 -1 -1 -1 -1 -1 -1 -1 -1 -1 -1  0 -1 -1 -1 -1 -1 -1 -1 -1 -1 -1\n",
      "  1 -1 -1 -1 -1 -1 -1 -1  0 -1 -1 -1 -1 -1 -1 -1 -1 -1 -1 -1 -1 -1 -1 -1\n",
      " -1 -1 -1 -1 -1 -1 -1 -1 -1 -1 -1 -1 -1 -1 -1 -1 -1 -1 -1 -1 -1 -1 -1 -1\n",
      " -1 -1 -1 -1]\n"
     ]
    },
    {
     "name": "stderr",
     "output_type": "stream",
     "text": [
      "D:\\anaconda\\envs\\py37\\lib\\site-packages\\sklearn\\semi_supervised\\_label_propagation.py:205: RuntimeWarning: invalid value encountered in true_divide\n",
      "  probabilities /= normalizer\n",
      "D:\\anaconda\\envs\\py37\\lib\\site-packages\\sklearn\\semi_supervised\\_label_propagation.py:205: RuntimeWarning: invalid value encountered in true_divide\n",
      "  probabilities /= normalizer\n",
      "D:\\anaconda\\envs\\py37\\lib\\site-packages\\ipykernel_launcher.py:42: RuntimeWarning: divide by zero encountered in log\n"
     ]
    },
    {
     "name": "stdout",
     "output_type": "stream",
     "text": [
      "0.14138123975860278 903\n",
      "test slant -1.9798243978450092 [-1.15430772 -0.54974629 -5.67972563 -1.32869993 -1.13443788]\n",
      "[0.6034730826106071, 0.6072698932896367, 0.6048918908117181, 0.5940809719835338, 0.5977978498061628] [0.6253687315634219, 0.6205882352941177, 0.6070381231671554, 0.6286549707602339, 0.640117994100295]\n",
      "label_spreading_0.08_bias\n",
      "[-1 -1 -1 -1 -1 -1 -1 -1 -1 -1 -1 -1 -1 -1 -1  0 -1 -1 -1 -1 -1 -1 -1 -1\n",
      " -1 -1  0 -1 -1 -1 -1 -1 -1 -1 -1 -1 -1  0 -1 -1 -1  1  0 -1  1 -1 -1 -1\n",
      " -1 -1 -1  1 -1 -1  0  0 -1 -1 -1 -1 -1 -1  0 -1 -1 -1 -1 -1 -1 -1 -1 -1\n",
      " -1  1 -1 -1 -1 -1 -1 -1 -1 -1 -1 -1 -1 -1  1 -1 -1 -1  0 -1 -1 -1 -1 -1\n",
      " -1 -1 -1 -1]\n"
     ]
    },
    {
     "name": "stderr",
     "output_type": "stream",
     "text": [
      "D:\\anaconda\\envs\\py37\\lib\\site-packages\\sklearn\\semi_supervised\\_label_propagation.py:205: RuntimeWarning: invalid value encountered in true_divide\n",
      "  probabilities /= normalizer\n",
      "D:\\anaconda\\envs\\py37\\lib\\site-packages\\sklearn\\semi_supervised\\_label_propagation.py:205: RuntimeWarning: invalid value encountered in true_divide\n",
      "  probabilities /= normalizer\n",
      "D:\\anaconda\\envs\\py37\\lib\\site-packages\\ipykernel_launcher.py:42: RuntimeWarning: divide by zero encountered in log\n"
     ]
    },
    {
     "name": "stdout",
     "output_type": "stream",
     "text": [
      "0.12892841666494706 778\n",
      "test slant -1.784310390564032 [-1.88475134 -1.30673372 -2.03597654 -0.79034268 -2.32492349]\n",
      "[-1 -1 -1 -1  0 -1 -1 -1 -1 -1 -1 -1 -1 -1 -1 -1 -1 -1 -1 -1 -1 -1 -1 -1\n",
      " -1 -1 -1 -1 -1 -1 -1 -1 -1 -1 -1 -1 -1 -1 -1 -1 -1 -1 -1  0  0 -1 -1  1\n",
      " -1 -1 -1 -1 -1 -1 -1 -1 -1 -1 -1 -1 -1 -1 -1 -1 -1 -1 -1  0 -1 -1 -1 -1\n",
      " -1 -1 -1 -1 -1  1 -1 -1 -1 -1 -1 -1 -1 -1 -1 -1 -1 -1 -1 -1 -1 -1 -1 -1\n",
      " -1 -1 -1 -1]\n"
     ]
    },
    {
     "name": "stderr",
     "output_type": "stream",
     "text": [
      "D:\\anaconda\\envs\\py37\\lib\\site-packages\\sklearn\\semi_supervised\\_label_propagation.py:205: RuntimeWarning: invalid value encountered in true_divide\n",
      "  probabilities /= normalizer\n",
      "D:\\anaconda\\envs\\py37\\lib\\site-packages\\sklearn\\semi_supervised\\_label_propagation.py:205: RuntimeWarning: invalid value encountered in true_divide\n",
      "  probabilities /= normalizer\n",
      "D:\\anaconda\\envs\\py37\\lib\\site-packages\\ipykernel_launcher.py:42: RuntimeWarning: divide by zero encountered in log\n"
     ]
    },
    {
     "name": "stdout",
     "output_type": "stream",
     "text": [
      "0.1820639276944347 748\n",
      "test slant -1.3968449678393395 [-1.55636533 -0.82733415 -5.054415   -2.14297382 -0.44142727]\n",
      "[-1 -1 -1 -1 -1 -1 -1 -1 -1 -1 -1 -1 -1  0 -1 -1  0  1 -1 -1 -1 -1 -1 -1\n",
      " -1 -1 -1 -1 -1 -1 -1 -1 -1  1 -1 -1  1 -1 -1 -1 -1 -1 -1 -1 -1 -1 -1  1\n",
      " -1 -1 -1 -1 -1 -1 -1 -1 -1 -1 -1 -1 -1 -1  0 -1 -1 -1 -1 -1 -1 -1 -1  0\n",
      " -1 -1 -1 -1 -1 -1 -1  0 -1 -1 -1 -1 -1 -1 -1 -1 -1 -1 -1 -1 -1 -1 -1 -1\n",
      " -1 -1 -1 -1]\n"
     ]
    },
    {
     "name": "stderr",
     "output_type": "stream",
     "text": [
      "D:\\anaconda\\envs\\py37\\lib\\site-packages\\sklearn\\semi_supervised\\_label_propagation.py:205: RuntimeWarning: invalid value encountered in true_divide\n",
      "  probabilities /= normalizer\n",
      "D:\\anaconda\\envs\\py37\\lib\\site-packages\\sklearn\\semi_supervised\\_label_propagation.py:205: RuntimeWarning: invalid value encountered in true_divide\n",
      "  probabilities /= normalizer\n",
      "D:\\anaconda\\envs\\py37\\lib\\site-packages\\ipykernel_launcher.py:42: RuntimeWarning: divide by zero encountered in log\n"
     ]
    },
    {
     "name": "stdout",
     "output_type": "stream",
     "text": [
      "0.1401952085181899 860\n",
      "test slant -1.7862849903309932 [-0.78636953 -0.78860434 -3.69055135 -1.32336501 -2.22316893]\n",
      "[-1 -1 -1 -1 -1  1 -1 -1 -1 -1 -1 -1 -1 -1 -1 -1 -1 -1 -1  1 -1  0 -1 -1\n",
      " -1 -1 -1 -1 -1 -1 -1 -1 -1 -1 -1 -1 -1 -1 -1 -1 -1 -1 -1 -1 -1 -1 -1 -1\n",
      " -1  1 -1 -1 -1 -1 -1 -1 -1  1 -1 -1 -1 -1 -1 -1 -1 -1  0 -1 -1 -1 -1 -1\n",
      " -1 -1 -1 -1 -1 -1 -1 -1 -1 -1 -1 -1 -1 -1 -1 -1 -1 -1 -1 -1 -1 -1 -1 -1\n",
      " -1 -1 -1  0]\n"
     ]
    },
    {
     "name": "stderr",
     "output_type": "stream",
     "text": [
      "D:\\anaconda\\envs\\py37\\lib\\site-packages\\sklearn\\semi_supervised\\_label_propagation.py:205: RuntimeWarning: invalid value encountered in true_divide\n",
      "  probabilities /= normalizer\n",
      "D:\\anaconda\\envs\\py37\\lib\\site-packages\\sklearn\\semi_supervised\\_label_propagation.py:205: RuntimeWarning: invalid value encountered in true_divide\n",
      "  probabilities /= normalizer\n",
      "D:\\anaconda\\envs\\py37\\lib\\site-packages\\ipykernel_launcher.py:42: RuntimeWarning: divide by zero encountered in log\n"
     ]
    },
    {
     "name": "stdout",
     "output_type": "stream",
     "text": [
      "0.15369059656218403 864\n",
      "test slant -1.8986372168026948 [-2.07122989  0.07129148 -0.23467057 -2.23144312 -0.5712685 ]\n",
      "[-1 -1 -1 -1 -1 -1 -1 -1 -1 -1 -1 -1 -1 -1 -1 -1 -1 -1 -1 -1 -1 -1 -1 -1\n",
      " -1 -1  1 -1 -1 -1 -1 -1 -1 -1 -1 -1 -1 -1  0 -1 -1 -1 -1 -1 -1 -1 -1 -1\n",
      " -1 -1 -1 -1 -1 -1 -1 -1 -1 -1 -1 -1 -1 -1 -1 -1 -1 -1  1 -1 -1 -1 -1 -1\n",
      " -1  0 -1 -1 -1 -1 -1 -1 -1 -1 -1 -1 -1 -1 -1 -1 -1  0 -1 -1 -1 -1 -1 -1\n",
      " -1 -1  0  0]\n"
     ]
    },
    {
     "name": "stderr",
     "output_type": "stream",
     "text": [
      "D:\\anaconda\\envs\\py37\\lib\\site-packages\\sklearn\\semi_supervised\\_label_propagation.py:205: RuntimeWarning: invalid value encountered in true_divide\n",
      "  probabilities /= normalizer\n",
      "D:\\anaconda\\envs\\py37\\lib\\site-packages\\sklearn\\semi_supervised\\_label_propagation.py:205: RuntimeWarning: invalid value encountered in true_divide\n",
      "  probabilities /= normalizer\n",
      "D:\\anaconda\\envs\\py37\\lib\\site-packages\\ipykernel_launcher.py:42: RuntimeWarning: divide by zero encountered in log\n"
     ]
    },
    {
     "name": "stdout",
     "output_type": "stream",
     "text": [
      "0.14483811724892182 654\n",
      "test slant -1.6995082348407593 [-1.36332716 -1.46352962 -4.89463295 -1.46098402 -0.88764476]\n",
      "[0.6087162873238274, 0.6094591527207445, 0.6054352984874435, 0.6111099647138937, 0.6140401560017333] [0.6246246246246246, 0.625, 0.6126126126126126, 0.6130952380952381, 0.6167664670658682]\n",
      "label_spreading_0.1_bias\n",
      "[-1 -1 -1 -1 -1 -1 -1 -1 -1 -1 -1 -1 -1 -1 -1 -1 -1 -1 -1  0 -1 -1 -1 -1\n",
      " -1 -1 -1 -1 -1 -1 -1 -1 -1 -1 -1  0  1 -1 -1 -1  0 -1 -1 -1 -1 -1 -1 -1\n",
      "  0 -1 -1 -1 -1 -1 -1 -1 -1 -1 -1 -1 -1 -1 -1 -1 -1 -1 -1 -1 -1 -1 -1 -1\n",
      "  1 -1 -1 -1 -1 -1 -1 -1 -1 -1 -1 -1 -1 -1 -1 -1 -1 -1 -1 -1 -1 -1 -1 -1\n",
      "  0 -1 -1 -1]\n"
     ]
    },
    {
     "name": "stderr",
     "output_type": "stream",
     "text": [
      "D:\\anaconda\\envs\\py37\\lib\\site-packages\\sklearn\\semi_supervised\\_label_propagation.py:205: RuntimeWarning: invalid value encountered in true_divide\n",
      "  probabilities /= normalizer\n",
      "D:\\anaconda\\envs\\py37\\lib\\site-packages\\sklearn\\semi_supervised\\_label_propagation.py:205: RuntimeWarning: invalid value encountered in true_divide\n",
      "  probabilities /= normalizer\n",
      "D:\\anaconda\\envs\\py37\\lib\\site-packages\\ipykernel_launcher.py:42: RuntimeWarning: divide by zero encountered in log\n"
     ]
    },
    {
     "name": "stdout",
     "output_type": "stream",
     "text": [
      "0.1662377657779278 817\n",
      "test slant -1.2825471158290187 [-1.8326239  -1.23089777 -2.47339395 -1.85760039 -0.87038249]\n",
      "[ 0  1 -1 -1 -1 -1 -1  0 -1 -1 -1 -1 -1 -1  0 -1 -1 -1 -1 -1 -1 -1 -1 -1\n",
      " -1 -1 -1 -1 -1 -1 -1 -1 -1  0  1 -1 -1  0 -1 -1  0  0 -1 -1 -1 -1 -1 -1\n",
      " -1 -1  1  0 -1 -1 -1  0 -1 -1 -1 -1 -1 -1 -1 -1 -1 -1 -1 -1 -1 -1 -1  0\n",
      " -1 -1 -1 -1  0 -1 -1 -1 -1 -1 -1 -1 -1 -1 -1 -1 -1 -1 -1 -1  1  0 -1  0\n",
      " -1 -1 -1 -1]\n"
     ]
    },
    {
     "name": "stderr",
     "output_type": "stream",
     "text": [
      "D:\\anaconda\\envs\\py37\\lib\\site-packages\\sklearn\\semi_supervised\\_label_propagation.py:205: RuntimeWarning: invalid value encountered in true_divide\n",
      "  probabilities /= normalizer\n",
      "D:\\anaconda\\envs\\py37\\lib\\site-packages\\sklearn\\semi_supervised\\_label_propagation.py:205: RuntimeWarning: invalid value encountered in true_divide\n",
      "  probabilities /= normalizer\n",
      "D:\\anaconda\\envs\\py37\\lib\\site-packages\\ipykernel_launcher.py:42: RuntimeWarning: divide by zero encountered in log\n"
     ]
    },
    {
     "name": "stdout",
     "output_type": "stream",
     "text": [
      "0.19009449881876478 602\n",
      "test slant -1.1825698398987028 [-1.56059493 -0.7939193  -2.77523277 -1.43912535 -1.03893528]\n",
      "[-1 -1 -1 -1 -1 -1 -1 -1 -1 -1 -1 -1 -1 -1 -1 -1 -1 -1 -1 -1 -1 -1  0 -1\n",
      "  1 -1 -1  0 -1  0 -1 -1  1 -1 -1 -1 -1 -1 -1 -1 -1 -1 -1 -1 -1 -1 -1 -1\n",
      " -1 -1  1 -1 -1 -1  0 -1  0 -1 -1 -1 -1 -1 -1 -1 -1 -1 -1 -1 -1 -1 -1 -1\n",
      " -1 -1 -1 -1  1 -1 -1 -1 -1 -1 -1 -1 -1 -1 -1 -1 -1 -1 -1 -1  1 -1 -1 -1\n",
      " -1 -1 -1 -1]\n"
     ]
    },
    {
     "name": "stderr",
     "output_type": "stream",
     "text": [
      "D:\\anaconda\\envs\\py37\\lib\\site-packages\\sklearn\\semi_supervised\\_label_propagation.py:205: RuntimeWarning: invalid value encountered in true_divide\n",
      "  probabilities /= normalizer\n",
      "D:\\anaconda\\envs\\py37\\lib\\site-packages\\sklearn\\semi_supervised\\_label_propagation.py:205: RuntimeWarning: invalid value encountered in true_divide\n",
      "  probabilities /= normalizer\n",
      "D:\\anaconda\\envs\\py37\\lib\\site-packages\\ipykernel_launcher.py:42: RuntimeWarning: divide by zero encountered in log\n"
     ]
    },
    {
     "name": "stdout",
     "output_type": "stream",
     "text": [
      "0.11949460006749915 718\n",
      "test slant -1.7590330152614524 [-1.03693069 -1.36169947 -2.21047081 -2.82461786 -1.02998995]\n",
      "[-1 -1 -1 -1 -1 -1 -1 -1 -1 -1 -1 -1 -1 -1 -1 -1  0 -1 -1 -1  0 -1 -1 -1\n",
      " -1 -1 -1 -1  0 -1 -1 -1 -1  0 -1 -1  0 -1 -1 -1 -1 -1 -1 -1 -1 -1 -1 -1\n",
      " -1 -1 -1 -1 -1 -1 -1 -1 -1 -1  0 -1 -1  1 -1 -1 -1 -1 -1 -1 -1 -1 -1 -1\n",
      " -1 -1 -1 -1 -1 -1 -1 -1 -1 -1 -1 -1 -1 -1 -1  1 -1 -1 -1 -1 -1 -1 -1 -1\n",
      " -1 -1 -1 -1]\n"
     ]
    },
    {
     "name": "stderr",
     "output_type": "stream",
     "text": [
      "D:\\anaconda\\envs\\py37\\lib\\site-packages\\sklearn\\semi_supervised\\_label_propagation.py:205: RuntimeWarning: invalid value encountered in true_divide\n",
      "  probabilities /= normalizer\n",
      "D:\\anaconda\\envs\\py37\\lib\\site-packages\\sklearn\\semi_supervised\\_label_propagation.py:205: RuntimeWarning: invalid value encountered in true_divide\n",
      "  probabilities /= normalizer\n",
      "D:\\anaconda\\envs\\py37\\lib\\site-packages\\ipykernel_launcher.py:42: RuntimeWarning: divide by zero encountered in log\n"
     ]
    },
    {
     "name": "stdout",
     "output_type": "stream",
     "text": [
      "0.15096608167397907 776\n",
      "test slant -1.4442984816740168 [-1.09727656 -2.82138494 -0.75811132 -1.30118451 -1.1770683 ]\n",
      "[-1 -1  0 -1 -1 -1 -1 -1 -1 -1 -1 -1  0 -1 -1 -1 -1 -1  1 -1 -1 -1 -1 -1\n",
      " -1 -1 -1 -1 -1 -1 -1 -1 -1 -1 -1 -1 -1 -1 -1 -1 -1 -1 -1 -1 -1 -1 -1 -1\n",
      " -1 -1 -1  0  0 -1 -1  0 -1 -1 -1 -1 -1 -1 -1 -1  0 -1 -1  1 -1 -1 -1 -1\n",
      " -1 -1 -1 -1 -1  0 -1 -1 -1 -1 -1  0  0 -1  0 -1 -1 -1 -1 -1 -1 -1 -1 -1\n",
      " -1 -1 -1 -1]\n"
     ]
    },
    {
     "name": "stderr",
     "output_type": "stream",
     "text": [
      "D:\\anaconda\\envs\\py37\\lib\\site-packages\\sklearn\\semi_supervised\\_label_propagation.py:205: RuntimeWarning: invalid value encountered in true_divide\n",
      "  probabilities /= normalizer\n",
      "D:\\anaconda\\envs\\py37\\lib\\site-packages\\sklearn\\semi_supervised\\_label_propagation.py:205: RuntimeWarning: invalid value encountered in true_divide\n",
      "  probabilities /= normalizer\n",
      "D:\\anaconda\\envs\\py37\\lib\\site-packages\\ipykernel_launcher.py:42: RuntimeWarning: divide by zero encountered in log\n"
     ]
    },
    {
     "name": "stdout",
     "output_type": "stream",
     "text": [
      "0.13453425582180223 773\n",
      "test slant -1.6355888286670284 [-0.7070415  -1.54566243 -4.32665483 -1.60292036 -0.86569397]\n",
      "[0.6116478231522106, 0.6164149510631117, 0.6145376307796152, 0.6120485993925076, 0.6084838002024975] [0.6272727272727273, 0.6363636363636364, 0.6204819277108434, 0.6231003039513677, 0.6174698795180723]\n",
      "label_spreading_0.2_bias\n",
      "[-1 -1 -1  0 -1  1 -1 -1 -1 -1  0 -1 -1 -1 -1 -1 -1 -1 -1 -1 -1 -1 -1 -1\n",
      " -1 -1 -1 -1 -1 -1 -1 -1 -1 -1 -1 -1 -1 -1  0 -1 -1 -1 -1 -1 -1 -1 -1 -1\n",
      "  0  1 -1 -1  1 -1  0 -1 -1 -1 -1 -1 -1 -1 -1 -1  0 -1 -1 -1 -1 -1 -1 -1\n",
      "  1 -1 -1 -1 -1 -1 -1 -1 -1 -1 -1 -1 -1 -1 -1 -1  0 -1 -1 -1 -1 -1  0 -1\n",
      " -1 -1 -1 -1]\n"
     ]
    },
    {
     "name": "stderr",
     "output_type": "stream",
     "text": [
      "D:\\anaconda\\envs\\py37\\lib\\site-packages\\sklearn\\semi_supervised\\_label_propagation.py:205: RuntimeWarning: invalid value encountered in true_divide\n",
      "  probabilities /= normalizer\n",
      "D:\\anaconda\\envs\\py37\\lib\\site-packages\\sklearn\\semi_supervised\\_label_propagation.py:205: RuntimeWarning: invalid value encountered in true_divide\n",
      "  probabilities /= normalizer\n",
      "D:\\anaconda\\envs\\py37\\lib\\site-packages\\ipykernel_launcher.py:42: RuntimeWarning: divide by zero encountered in log\n"
     ]
    },
    {
     "name": "stdout",
     "output_type": "stream",
     "text": [
      "0.15415282392026577 595\n",
      "test slant -1.5286951715722612 [-0.77643976 -1.81630415 -1.35825508 -1.07555661 -1.62317896]\n",
      "[-1  0  1 -1 -1 -1 -1  0 -1 -1 -1 -1 -1 -1 -1 -1 -1 -1 -1 -1 -1 -1 -1 -1\n",
      " -1 -1 -1  1 -1  0  0 -1 -1 -1 -1 -1 -1 -1 -1 -1  1 -1 -1 -1  0  0  1 -1\n",
      "  1 -1 -1  0 -1 -1  0 -1 -1 -1 -1 -1 -1  1 -1  1 -1 -1 -1 -1 -1 -1  1 -1\n",
      " -1 -1 -1 -1  1 -1  1 -1 -1 -1 -1  1 -1 -1 -1 -1  0 -1 -1  0 -1  0 -1 -1\n",
      " -1  0  0 -1]\n"
     ]
    },
    {
     "name": "stderr",
     "output_type": "stream",
     "text": [
      "D:\\anaconda\\envs\\py37\\lib\\site-packages\\sklearn\\semi_supervised\\_label_propagation.py:205: RuntimeWarning: invalid value encountered in true_divide\n",
      "  probabilities /= normalizer\n",
      "D:\\anaconda\\envs\\py37\\lib\\site-packages\\sklearn\\semi_supervised\\_label_propagation.py:205: RuntimeWarning: invalid value encountered in true_divide\n",
      "  probabilities /= normalizer\n",
      "D:\\anaconda\\envs\\py37\\lib\\site-packages\\ipykernel_launcher.py:42: RuntimeWarning: divide by zero encountered in log\n"
     ]
    },
    {
     "name": "stdout",
     "output_type": "stream",
     "text": [
      "0.1565970574276222 619\n",
      "test slant -1.2627809388281608 [-1.38612837 -1.55670001 -1.27217331 -1.21299705 -1.10556901]\n",
      "[-1 -1 -1 -1 -1 -1 -1 -1 -1 -1 -1 -1 -1 -1 -1 -1 -1 -1 -1 -1 -1  0  1 -1\n",
      " -1 -1  0 -1 -1 -1  1 -1 -1 -1  1 -1 -1 -1 -1 -1 -1 -1 -1 -1 -1 -1 -1 -1\n",
      " -1 -1 -1  1 -1 -1 -1  0  0  1  0 -1 -1 -1  0  0 -1 -1  1  0  0 -1 -1 -1\n",
      " -1 -1  0 -1 -1 -1 -1 -1 -1 -1  0 -1  0 -1 -1 -1  0 -1 -1 -1 -1 -1 -1 -1\n",
      "  0 -1 -1 -1]\n"
     ]
    },
    {
     "name": "stderr",
     "output_type": "stream",
     "text": [
      "D:\\anaconda\\envs\\py37\\lib\\site-packages\\sklearn\\semi_supervised\\_label_propagation.py:205: RuntimeWarning: invalid value encountered in true_divide\n",
      "  probabilities /= normalizer\n",
      "D:\\anaconda\\envs\\py37\\lib\\site-packages\\sklearn\\semi_supervised\\_label_propagation.py:205: RuntimeWarning: invalid value encountered in true_divide\n",
      "  probabilities /= normalizer\n",
      "D:\\anaconda\\envs\\py37\\lib\\site-packages\\ipykernel_launcher.py:42: RuntimeWarning: divide by zero encountered in log\n"
     ]
    },
    {
     "name": "stdout",
     "output_type": "stream",
     "text": [
      "0.17271001423825344 649\n",
      "test slant -1.3269518255600958 [-1.31734145 -0.34639979 -1.19156675 -0.48488323 -0.98407217]\n",
      "[-1  0 -1 -1 -1 -1  0 -1 -1  1 -1 -1 -1 -1 -1 -1 -1  0 -1 -1 -1 -1  0 -1\n",
      " -1 -1 -1 -1 -1  1 -1  1 -1 -1 -1  1 -1 -1 -1  0 -1 -1 -1 -1 -1 -1 -1 -1\n",
      "  0 -1  0 -1 -1 -1 -1 -1 -1  0 -1 -1 -1  0 -1 -1 -1 -1 -1  1 -1 -1 -1 -1\n",
      "  0 -1  1 -1  1  1 -1 -1 -1 -1 -1 -1 -1 -1 -1  1 -1 -1  0 -1 -1 -1  1 -1\n",
      " -1 -1 -1  1]\n"
     ]
    },
    {
     "name": "stderr",
     "output_type": "stream",
     "text": [
      "D:\\anaconda\\envs\\py37\\lib\\site-packages\\sklearn\\semi_supervised\\_label_propagation.py:205: RuntimeWarning: invalid value encountered in true_divide\n",
      "  probabilities /= normalizer\n",
      "D:\\anaconda\\envs\\py37\\lib\\site-packages\\sklearn\\semi_supervised\\_label_propagation.py:205: RuntimeWarning: invalid value encountered in true_divide\n",
      "  probabilities /= normalizer\n",
      "D:\\anaconda\\envs\\py37\\lib\\site-packages\\ipykernel_launcher.py:42: RuntimeWarning: divide by zero encountered in log\n"
     ]
    },
    {
     "name": "stdout",
     "output_type": "stream",
     "text": [
      "0.17857142857142858 591\n",
      "test slant -1.41019481248733 [-0.74128035 -2.38682184 -0.97993692 -0.79568642 -1.11933238]\n",
      "[-1  0 -1  0 -1  0  0  0 -1 -1 -1 -1  1  1 -1 -1 -1 -1  0 -1  1  0 -1  0\n",
      " -1 -1 -1 -1 -1 -1  1  1 -1  0  0 -1 -1  1 -1 -1 -1 -1 -1 -1 -1 -1 -1 -1\n",
      " -1  0 -1 -1 -1  1 -1 -1 -1 -1  1  0 -1 -1 -1 -1 -1 -1 -1 -1 -1 -1  0  1\n",
      " -1 -1 -1 -1 -1  1 -1  0  1 -1 -1  0 -1 -1 -1 -1 -1 -1 -1 -1  0  0 -1 -1\n",
      " -1 -1  0 -1]\n"
     ]
    },
    {
     "name": "stderr",
     "output_type": "stream",
     "text": [
      "D:\\anaconda\\envs\\py37\\lib\\site-packages\\sklearn\\semi_supervised\\_label_propagation.py:205: RuntimeWarning: invalid value encountered in true_divide\n",
      "  probabilities /= normalizer\n",
      "D:\\anaconda\\envs\\py37\\lib\\site-packages\\sklearn\\semi_supervised\\_label_propagation.py:205: RuntimeWarning: invalid value encountered in true_divide\n",
      "  probabilities /= normalizer\n",
      "D:\\anaconda\\envs\\py37\\lib\\site-packages\\ipykernel_launcher.py:42: RuntimeWarning: divide by zero encountered in log\n"
     ]
    },
    {
     "name": "stdout",
     "output_type": "stream",
     "text": [
      "0.18832463217845277 589\n",
      "test slant -1.154159545472481 [-1.0561913   0.22685575 -2.5978348  -0.74026752 -1.38398474]\n",
      "[0.6260085429520645, 0.6222591362126246, 0.6299477930707167, 0.6340056953013764, 0.6254152823920266] [0.6064516129032258, 0.6230031948881789, 0.6451612903225806, 0.6334405144694534, 0.6132075471698113]\n",
      "label_spreading_0.4_bias\n",
      "[-1  0 -1  0 -1 -1  0  0 -1  0 -1  1  1  0 -1 -1 -1 -1  0  1  0  0 -1 -1\n",
      "  1 -1  0 -1  0  1  0 -1 -1  0  1  1  1 -1 -1 -1  0 -1 -1 -1 -1 -1 -1  0\n",
      "  0  1 -1 -1  1 -1 -1  0  0  0  0  1 -1  1 -1 -1 -1 -1 -1 -1  0  0  0  0\n",
      " -1  0  0  0 -1  0  1  1 -1 -1  1  0  1  1 -1 -1 -1 -1 -1 -1 -1  1  0  0\n",
      " -1  0 -1  0]\n"
     ]
    },
    {
     "name": "stderr",
     "output_type": "stream",
     "text": [
      "D:\\anaconda\\envs\\py37\\lib\\site-packages\\ipykernel_launcher.py:42: RuntimeWarning: divide by zero encountered in log\n"
     ]
    },
    {
     "name": "stdout",
     "output_type": "stream",
     "text": [
      "0.20325897800980858 557\n",
      "test slant -1.191171880582552 [-0.65224621 -0.30739278 -1.04616733 -1.67459693  0.43639309]\n",
      "[-1 -1 -1 -1 -1 -1 -1  1 -1  0 -1  1  0  1 -1 -1 -1 -1 -1 -1 -1  1  1 -1\n",
      " -1 -1  0 -1 -1  1  1  1 -1  0 -1  0 -1 -1  1 -1  0  1 -1 -1  0 -1  0 -1\n",
      "  1 -1  0  0 -1 -1 -1 -1 -1 -1 -1 -1  0 -1 -1 -1 -1 -1 -1  1 -1  0 -1  1\n",
      " -1 -1  0  1 -1  1  1 -1 -1 -1 -1  0 -1  0  0  0  0 -1 -1 -1  1 -1 -1  1\n",
      " -1  0  1  1]\n"
     ]
    },
    {
     "name": "stderr",
     "output_type": "stream",
     "text": [
      "D:\\anaconda\\envs\\py37\\lib\\site-packages\\ipykernel_launcher.py:42: RuntimeWarning: divide by zero encountered in log\n"
     ]
    },
    {
     "name": "stdout",
     "output_type": "stream",
     "text": [
      "0.19332384116437273 497\n",
      "test slant -1.1908732707737024 [-1.62855231 -1.01149632 -0.51363245 -1.00359365 -1.46775239]\n",
      "[ 1  0 -1  1  0  1 -1 -1 -1 -1 -1 -1 -1 -1 -1  1 -1 -1 -1 -1  0  1 -1  0\n",
      "  1  1  0  0  0 -1 -1  0  0 -1 -1  1 -1  1  0  1 -1 -1  0  0  0 -1 -1 -1\n",
      "  0 -1  1  1  1 -1 -1 -1 -1 -1  1 -1  0  1 -1 -1 -1 -1 -1 -1  0 -1  0  0\n",
      " -1 -1 -1  0 -1 -1  1 -1  0 -1 -1 -1  0 -1  1 -1 -1 -1  0 -1 -1 -1  0  0\n",
      "  0 -1  0 -1]\n"
     ]
    },
    {
     "name": "stderr",
     "output_type": "stream",
     "text": [
      "D:\\anaconda\\envs\\py37\\lib\\site-packages\\sklearn\\semi_supervised\\_label_propagation.py:205: RuntimeWarning: invalid value encountered in true_divide\n",
      "  probabilities /= normalizer\n",
      "D:\\anaconda\\envs\\py37\\lib\\site-packages\\sklearn\\semi_supervised\\_label_propagation.py:205: RuntimeWarning: invalid value encountered in true_divide\n",
      "  probabilities /= normalizer\n",
      "D:\\anaconda\\envs\\py37\\lib\\site-packages\\ipykernel_launcher.py:42: RuntimeWarning: divide by zero encountered in log\n"
     ]
    },
    {
     "name": "stdout",
     "output_type": "stream",
     "text": [
      "0.20319569688340453 487\n",
      "test slant -1.161842651659813 [-1.26505441 -1.75632274 -0.13235242 -1.02523162 -2.22420135]\n",
      "[-1 -1 -1  1 -1 -1 -1 -1 -1 -1 -1 -1 -1 -1  1 -1 -1 -1 -1  0  0 -1 -1 -1\n",
      " -1 -1 -1 -1 -1 -1  0 -1  0 -1 -1 -1  0  0 -1 -1 -1  0  0  0 -1  0 -1 -1\n",
      " -1 -1 -1  0 -1 -1  0  0  0  0  0  0 -1 -1  1 -1  0 -1 -1  0 -1 -1  0 -1\n",
      " -1 -1 -1 -1  0 -1  0  1 -1  1 -1  1 -1  0 -1 -1 -1  0  1  0 -1  1 -1 -1\n",
      " -1 -1  1  0]\n"
     ]
    },
    {
     "name": "stderr",
     "output_type": "stream",
     "text": [
      "D:\\anaconda\\envs\\py37\\lib\\site-packages\\sklearn\\semi_supervised\\_label_propagation.py:205: RuntimeWarning: invalid value encountered in true_divide\n",
      "  probabilities /= normalizer\n",
      "D:\\anaconda\\envs\\py37\\lib\\site-packages\\sklearn\\semi_supervised\\_label_propagation.py:205: RuntimeWarning: invalid value encountered in true_divide\n",
      "  probabilities /= normalizer\n",
      "D:\\anaconda\\envs\\py37\\lib\\site-packages\\ipykernel_launcher.py:42: RuntimeWarning: divide by zero encountered in log\n"
     ]
    },
    {
     "name": "stdout",
     "output_type": "stream",
     "text": [
      "0.19006486315456414 580\n",
      "test slant -1.2188552493243703 [-1.15924765 -1.71944335 -0.08756605 -0.98286247 -1.02311259]\n",
      "[ 1 -1  1  1  0 -1 -1 -1  1  1 -1 -1 -1 -1 -1 -1 -1 -1 -1  1 -1  1  0  0\n",
      " -1  0 -1 -1 -1  0 -1  0  0  1 -1 -1  1  0  1 -1 -1  0  1 -1 -1  0 -1  1\n",
      " -1  0  0  1  0 -1 -1  1  1 -1 -1  0  0 -1 -1  1 -1  0 -1  0 -1 -1  1 -1\n",
      "  1  1  1 -1 -1  1 -1 -1 -1 -1 -1  1  1  1 -1 -1 -1  1 -1 -1 -1 -1  0 -1\n",
      " -1 -1 -1 -1]\n"
     ]
    },
    {
     "name": "stderr",
     "output_type": "stream",
     "text": [
      "D:\\anaconda\\envs\\py37\\lib\\site-packages\\ipykernel_launcher.py:42: RuntimeWarning: divide by zero encountered in log\n"
     ]
    },
    {
     "name": "stdout",
     "output_type": "stream",
     "text": [
      "0.19221642145230186 499\n",
      "test slant -1.286425589749892 [-1.24941339 -0.63490286 -0.50276126 -0.97118825 -1.38535686]\n",
      "[0.646828033538997, 0.6445499129884512, 0.64562569213732, 0.6474292042398355, 0.645499129884512] [0.6036363636363636, 0.6058394160583942, 0.6276595744680851, 0.5940959409594095, 0.605072463768116]\n",
      "label_spreading_0.6_bias\n",
      "[-1 -1 -1  0  0  0  1  1  1 -1 -1  1  0 -1 -1 -1 -1 -1 -1 -1  0 -1  0  0\n",
      " -1  0  1  0  0 -1  0 -1  1 -1  1 -1 -1  0 -1 -1 -1 -1  1 -1  0  1  1 -1\n",
      "  0  1 -1  1 -1  1 -1 -1  0  0  0 -1  1  0  0  0  1  1 -1 -1 -1  1 -1 -1\n",
      "  1 -1 -1  1  0  1 -1  0  0  1  0  1 -1  1  0 -1  1 -1  1  0 -1 -1  1 -1\n",
      "  0 -1  1  1]\n"
     ]
    },
    {
     "name": "stderr",
     "output_type": "stream",
     "text": [
      "D:\\anaconda\\envs\\py37\\lib\\site-packages\\sklearn\\semi_supervised\\_label_propagation.py:205: RuntimeWarning: invalid value encountered in true_divide\n",
      "  probabilities /= normalizer\n",
      "D:\\anaconda\\envs\\py37\\lib\\site-packages\\sklearn\\semi_supervised\\_label_propagation.py:205: RuntimeWarning: invalid value encountered in true_divide\n",
      "  probabilities /= normalizer\n",
      "D:\\anaconda\\envs\\py37\\lib\\site-packages\\ipykernel_launcher.py:42: RuntimeWarning: divide by zero encountered in log\n"
     ]
    },
    {
     "name": "stdout",
     "output_type": "stream",
     "text": [
      "0.22173706691979117 330\n",
      "test slant -1.1668963374703702 [-0.70322974 -0.06767515 -0.96126348 -0.46126375 -1.25282068]\n",
      "[ 1 -1 -1 -1  0 -1  1 -1 -1 -1 -1  0 -1  0  1  0  0 -1  0 -1 -1  0  1  0\n",
      "  0  0 -1 -1  0 -1 -1  0 -1  0  0  1 -1  1 -1 -1 -1  1  0  0  0  0 -1 -1\n",
      " -1  1 -1  1  0 -1 -1  0 -1  1 -1 -1 -1  1 -1  1  0  0  1  1 -1  1  1  1\n",
      " -1 -1  1  1 -1 -1  0  0  1  0  0 -1  1  0  1 -1  0  0  1  1 -1  0  0  0\n",
      " -1 -1 -1 -1]\n"
     ]
    },
    {
     "name": "stderr",
     "output_type": "stream",
     "text": [
      "D:\\anaconda\\envs\\py37\\lib\\site-packages\\ipykernel_launcher.py:42: RuntimeWarning: divide by zero encountered in log\n"
     ]
    },
    {
     "name": "stdout",
     "output_type": "stream",
     "text": [
      "0.22282866635026102 325\n",
      "test slant -1.1569814095520248 [-1.11110579 -0.75203412 -0.42137304 -0.8515156  -1.79717283]\n",
      "[-1  0 -1 -1  0 -1  1  0  1  0 -1  0 -1 -1  0 -1  0 -1  0  0  0  0 -1  1\n",
      "  0  1  1 -1  0  1  0  0  0  0  1  0  1 -1  0  0 -1  0 -1 -1  0  1 -1 -1\n",
      " -1 -1 -1  1  1 -1  0 -1 -1 -1 -1  0  1  0  1 -1  0  0  0 -1  0  1  1 -1\n",
      " -1  1 -1  0  0  1  0  1 -1 -1  0 -1 -1 -1 -1  1  1 -1  0  1 -1  0 -1  0\n",
      "  1 -1  0 -1]\n"
     ]
    },
    {
     "name": "stderr",
     "output_type": "stream",
     "text": [
      "D:\\anaconda\\envs\\py37\\lib\\site-packages\\sklearn\\semi_supervised\\_label_propagation.py:205: RuntimeWarning: invalid value encountered in true_divide\n",
      "  probabilities /= normalizer\n",
      "D:\\anaconda\\envs\\py37\\lib\\site-packages\\sklearn\\semi_supervised\\_label_propagation.py:205: RuntimeWarning: invalid value encountered in true_divide\n",
      "  probabilities /= normalizer\n",
      "D:\\anaconda\\envs\\py37\\lib\\site-packages\\ipykernel_launcher.py:42: RuntimeWarning: divide by zero encountered in log\n"
     ]
    },
    {
     "name": "stdout",
     "output_type": "stream",
     "text": [
      "0.21855719031798765 333\n",
      "test slant -1.1583891834471145 [-0.50790164 -0.41745699 -0.76170379 -0.8796958  -1.68290233]\n",
      "[-1 -1  0  0  0 -1 -1  1 -1 -1  0  0 -1 -1 -1  0  0  1  1  0 -1  1 -1 -1\n",
      "  0 -1 -1  0  1  0  0  0 -1 -1 -1 -1  1 -1  1 -1  0 -1  1  0 -1 -1 -1  1\n",
      " -1  0 -1  0  1 -1  1 -1 -1  0 -1  0  1  1  0  0 -1 -1 -1  1 -1 -1 -1  0\n",
      "  0  1 -1  1  1  0 -1 -1  1  0  1 -1  0  1 -1 -1 -1  0 -1 -1  0  1  0  0\n",
      " -1  0  0  1]\n"
     ]
    },
    {
     "name": "stderr",
     "output_type": "stream",
     "text": [
      "D:\\anaconda\\envs\\py37\\lib\\site-packages\\sklearn\\semi_supervised\\_label_propagation.py:205: RuntimeWarning: invalid value encountered in true_divide\n",
      "  probabilities /= normalizer\n",
      "D:\\anaconda\\envs\\py37\\lib\\site-packages\\sklearn\\semi_supervised\\_label_propagation.py:205: RuntimeWarning: invalid value encountered in true_divide\n",
      "  probabilities /= normalizer\n",
      "D:\\anaconda\\envs\\py37\\lib\\site-packages\\ipykernel_launcher.py:42: RuntimeWarning: divide by zero encountered in log\n"
     ]
    },
    {
     "name": "stdout",
     "output_type": "stream",
     "text": [
      "0.22434741338395822 339\n",
      "test slant -1.117039429241378 [-1.24481893 -0.92188059 -0.86412067 -1.66448845 -1.3391199 ]\n",
      "[-1  0  1  1 -1  1  0  1  1 -1 -1  1  1  0  0  0 -1  0 -1 -1  0  1  1  0\n",
      " -1  1 -1 -1  1  1 -1 -1  1  1  1  0  0  1 -1  0 -1 -1  1  0  0  1 -1  0\n",
      " -1  0 -1  1 -1 -1  0  0  1  1 -1 -1  1  0 -1  0  0  0  1  1  1  0  0 -1\n",
      "  0  1  0 -1  1 -1  0 -1  1  0  1  1 -1  1  0  1 -1 -1 -1 -1  1  0  0 -1\n",
      "  1  0 -1 -1]\n"
     ]
    },
    {
     "name": "stderr",
     "output_type": "stream",
     "text": [
      "D:\\anaconda\\envs\\py37\\lib\\site-packages\\sklearn\\semi_supervised\\_label_propagation.py:205: RuntimeWarning: invalid value encountered in true_divide\n",
      "  probabilities /= normalizer\n",
      "D:\\anaconda\\envs\\py37\\lib\\site-packages\\sklearn\\semi_supervised\\_label_propagation.py:205: RuntimeWarning: invalid value encountered in true_divide\n",
      "  probabilities /= normalizer\n",
      "D:\\anaconda\\envs\\py37\\lib\\site-packages\\ipykernel_launcher.py:42: RuntimeWarning: divide by zero encountered in log\n"
     ]
    },
    {
     "name": "stdout",
     "output_type": "stream",
     "text": [
      "0.22064546748932132 327\n",
      "test slant -1.1731626331922018 [-0.91820424 -0.62095053 -0.78129269 -0.85692849 -0.92718282]\n",
      "[0.6511627906976745, 0.6526815377313716, 0.6486948267679165, 0.6472235405790223, 0.6495965828191742] [0.6099585062240664, 0.5991902834008097, 0.5914893617021276, 0.5872340425531914, 0.6329113924050633]\n",
      "label_spreading_0.8_bias\n",
      "[ 0 -1  1  0  1  0  1  0  1 -1 -1  0  0  0  0  0  0  1  1  1  0  0  1  1\n",
      " -1  0  0  1  0  1  1  1 -1  0  0  1 -1 -1  1  1  1  1 -1  1  1  1  0  1\n",
      "  0  1  1  0  1  0 -1  1  0  1  1  0  0  1  0 -1 -1 -1  1  0  0 -1  1 -1\n",
      "  1  1  0  0  1  1  1  0  0  1  1  0  1  0  1 -1  1  0  0  1 -1  1  0  1\n",
      "  1  0  0  0]\n"
     ]
    },
    {
     "name": "stderr",
     "output_type": "stream",
     "text": [
      "D:\\anaconda\\envs\\py37\\lib\\site-packages\\ipykernel_launcher.py:42: RuntimeWarning: divide by zero encountered in log\n"
     ]
    },
    {
     "name": "stdout",
     "output_type": "stream",
     "text": [
      "0.24081632653061225 252\n",
      "test slant -1.121169192116485 [-0.4570936  -0.66060745 -1.91244062 -0.99724685 -1.23471874]\n",
      "[ 1 -1 -1  1  1  0  0  1  0  0  0  1  1  0 -1  1  1  1  0 -1  0  0  0  0\n",
      "  1  0 -1  1  0  1 -1  1  1 -1  0  0  1  1  0  1 -1  0 -1  1  1 -1  1  0\n",
      "  1 -1  0  0  1  1  1 -1  1  1  0  0 -1  1  0  0 -1  1  0  1  0  0 -1 -1\n",
      " -1  0  1  1  0  1 -1  0  1  0  1  0  0 -1  0  0  1  1  0  0 -1  0  0  1\n",
      "  0  1  0  1]\n"
     ]
    },
    {
     "name": "stderr",
     "output_type": "stream",
     "text": [
      "D:\\anaconda\\envs\\py37\\lib\\site-packages\\ipykernel_launcher.py:42: RuntimeWarning: divide by zero encountered in log\n"
     ]
    },
    {
     "name": "stdout",
     "output_type": "stream",
     "text": [
      "0.23749406739439963 255\n",
      "test slant -1.2441629017045872 [ 1.12005766 -0.83537293 -1.51478165 -1.34449206 -0.98024097]\n",
      "[ 0  0  0 -1 -1  1  0  1  1 -1 -1  0 -1  0  1 -1 -1  1  1  0  1  1  0 -1\n",
      "  1  1  0 -1 -1  0  0 -1 -1  0 -1  0  0  1 -1  0  0 -1  1  0  0  1  0  1\n",
      "  1  1  1  0  1  0  0 -1  1  0 -1  0 -1  0  0  0 -1  0 -1  0  1  0  0  1\n",
      "  0  1  0  1  1  1  1  0  1  0  0  0  0  0  1  0  1  1  1 -1  1  1  0  0\n",
      "  1  1  0  1]\n"
     ]
    },
    {
     "name": "stderr",
     "output_type": "stream",
     "text": [
      "D:\\anaconda\\envs\\py37\\lib\\site-packages\\sklearn\\semi_supervised\\_label_propagation.py:205: RuntimeWarning: invalid value encountered in true_divide\n",
      "  probabilities /= normalizer\n",
      "D:\\anaconda\\envs\\py37\\lib\\site-packages\\sklearn\\semi_supervised\\_label_propagation.py:205: RuntimeWarning: invalid value encountered in true_divide\n",
      "  probabilities /= normalizer\n",
      "D:\\anaconda\\envs\\py37\\lib\\site-packages\\ipykernel_launcher.py:42: RuntimeWarning: divide by zero encountered in log\n"
     ]
    },
    {
     "name": "stdout",
     "output_type": "stream",
     "text": [
      "0.24347413383958236 253\n",
      "test slant -1.228989348194965 [-1.27599487 -0.21971146 -0.33860728 -1.15596945 -1.4826584 ]\n",
      "[ 1  1  0  0  1  1 -1  1  1  0  1  0 -1  1  1  1  0  0  0  0  0  0  1 -1\n",
      "  0  0 -1  0  1  1  1  1  0 -1  0  0  0 -1  1 -1 -1  0  0  1  0  1  1  0\n",
      "  1  0  0  1  1  1  0  0 -1  1 -1  0  1 -1 -1  0  0  1 -1  0  0 -1  1  1\n",
      "  1 -1  1  0  1  1  0  0  0  1  1  0  1  0 -1  0  1  0 -1  0  0  1  1  1\n",
      "  1  1 -1  1]\n"
     ]
    },
    {
     "name": "stderr",
     "output_type": "stream",
     "text": [
      "D:\\anaconda\\envs\\py37\\lib\\site-packages\\sklearn\\semi_supervised\\_label_propagation.py:205: RuntimeWarning: invalid value encountered in true_divide\n",
      "  probabilities /= normalizer\n",
      "D:\\anaconda\\envs\\py37\\lib\\site-packages\\sklearn\\semi_supervised\\_label_propagation.py:205: RuntimeWarning: invalid value encountered in true_divide\n",
      "  probabilities /= normalizer\n",
      "D:\\anaconda\\envs\\py37\\lib\\site-packages\\ipykernel_launcher.py:42: RuntimeWarning: divide by zero encountered in log\n"
     ]
    },
    {
     "name": "stdout",
     "output_type": "stream",
     "text": [
      "0.24034171808258187 258\n",
      "test slant -1.1873211339989986 [-0.84201752 -1.24974754 -0.51070624 -1.23717372 -1.64471212]\n",
      "[ 0 -1  0  1  0  0  1  0 -1  0  1  0  1  0 -1  0  0  1  0  0  0  0  1  0\n",
      "  1  0  0  0 -1 -1  1  0  1  1  1  1  1  1  1  1  0 -1  0  1  0  0  1 -1\n",
      "  1  1  1 -1  0  1  1  1  0  0  1 -1  1  0 -1 -1  0 -1  1  0  1 -1  0  1\n",
      " -1  0  0  1  1  1  0 -1  1  0  0  1  0  1  0 -1  0  1 -1 -1 -1 -1 -1  0\n",
      " -1 -1  1 -1]\n"
     ]
    },
    {
     "name": "stderr",
     "output_type": "stream",
     "text": [
      "D:\\anaconda\\envs\\py37\\lib\\site-packages\\ipykernel_launcher.py:42: RuntimeWarning: divide by zero encountered in log\n"
     ]
    },
    {
     "name": "stdout",
     "output_type": "stream",
     "text": [
      "0.24309444708115804 252\n",
      "test slant -1.2174295523781398 [-1.02922    -1.51087919 -1.50881508 -0.60894696 -1.40025574]\n",
      "[0.6503084954912197, 0.6429046037019459, 0.643094447081158, 0.6426198386331277, 0.6414807783578548] [0.6296296296296297, 0.632768361581921, 0.6101694915254238, 0.6024096385542169, 0.6149425287356322]\n",
      "label_spreading_0.01_unbias\n",
      "[-1 -1 -1 -1 -1 -1 -1 -1 -1 -1 -1 -1 -1 -1 -1 -1 -1 -1 -1 -1 -1 -1 -1 -1\n",
      " -1 -1 -1 -1 -1 -1 -1 -1 -1 -1 -1 -1 -1 -1 -1 -1 -1 -1 -1 -1 -1 -1 -1 -1\n",
      " -1 -1 -1 -1 -1 -1 -1 -1 -1 -1 -1 -1 -1 -1 -1 -1 -1 -1 -1 -1 -1 -1 -1 -1\n",
      " -1 -1 -1 -1 -1 -1 -1 -1 -1 -1 -1 -1 -1 -1 -1 -1 -1 -1 -1 -1 -1 -1 -1 -1\n",
      " -1 -1 -1 -1]\n"
     ]
    },
    {
     "name": "stderr",
     "output_type": "stream",
     "text": [
      "D:\\anaconda\\envs\\py37\\lib\\site-packages\\sklearn\\semi_supervised\\_label_propagation.py:205: RuntimeWarning: invalid value encountered in true_divide\n",
      "  probabilities /= normalizer\n",
      "D:\\anaconda\\envs\\py37\\lib\\site-packages\\sklearn\\semi_supervised\\_label_propagation.py:205: RuntimeWarning: invalid value encountered in true_divide\n",
      "  probabilities /= normalizer\n",
      "D:\\anaconda\\envs\\py37\\lib\\site-packages\\ipykernel_launcher.py:79: RuntimeWarning: divide by zero encountered in log\n"
     ]
    },
    {
     "name": "stdout",
     "output_type": "stream",
     "text": [
      "test slant 0.16143890483696566 [-0.95979958 -2.37906194 -3.54844413 -1.91192408 -0.28401924]\n",
      "[-1 -1 -1 -1 -1 -1 -1 -1 -1 -1 -1 -1 -1 -1 -1 -1 -1 -1 -1 -1 -1 -1 -1 -1\n",
      " -1 -1 -1 -1 -1 -1 -1 -1 -1 -1 -1 -1 -1 -1 -1 -1 -1 -1 -1 -1 -1 -1 -1 -1\n",
      " -1 -1 -1 -1 -1 -1 -1 -1 -1 -1 -1 -1 -1 -1 -1 -1 -1 -1 -1 -1 -1 -1 -1 -1\n",
      " -1 -1 -1 -1 -1 -1 -1 -1 -1 -1 -1 -1 -1 -1 -1 -1 -1 -1 -1 -1 -1 -1 -1 -1\n",
      " -1 -1 -1 -1]\n"
     ]
    },
    {
     "name": "stderr",
     "output_type": "stream",
     "text": [
      "D:\\anaconda\\envs\\py37\\lib\\site-packages\\sklearn\\semi_supervised\\_label_propagation.py:205: RuntimeWarning: invalid value encountered in true_divide\n",
      "  probabilities /= normalizer\n",
      "D:\\anaconda\\envs\\py37\\lib\\site-packages\\sklearn\\semi_supervised\\_label_propagation.py:205: RuntimeWarning: invalid value encountered in true_divide\n",
      "  probabilities /= normalizer\n",
      "D:\\anaconda\\envs\\py37\\lib\\site-packages\\ipykernel_launcher.py:79: RuntimeWarning: divide by zero encountered in log\n"
     ]
    },
    {
     "name": "stdout",
     "output_type": "stream",
     "text": [
      "test slant -1.8257280176863837 [-1.21342045 -3.36623159 -4.29386001 -1.19807926 -1.50000387]\n",
      "[-1 -1 -1 -1 -1 -1 -1 -1 -1 -1 -1 -1 -1 -1 -1 -1 -1 -1 -1 -1 -1 -1 -1 -1\n",
      " -1 -1 -1 -1 -1 -1 -1 -1 -1 -1 -1 -1 -1 -1 -1 -1 -1 -1 -1 -1 -1 -1 -1 -1\n",
      " -1 -1 -1 -1 -1 -1 -1 -1 -1 -1 -1 -1 -1 -1 -1 -1  1 -1 -1 -1 -1 -1 -1 -1\n",
      " -1 -1 -1 -1 -1 -1 -1 -1 -1 -1 -1 -1 -1 -1 -1 -1 -1 -1 -1 -1 -1 -1 -1 -1\n",
      " -1 -1 -1 -1]\n"
     ]
    },
    {
     "name": "stderr",
     "output_type": "stream",
     "text": [
      "D:\\anaconda\\envs\\py37\\lib\\site-packages\\sklearn\\semi_supervised\\_label_propagation.py:205: RuntimeWarning: invalid value encountered in true_divide\n",
      "  probabilities /= normalizer\n",
      "D:\\anaconda\\envs\\py37\\lib\\site-packages\\sklearn\\semi_supervised\\_label_propagation.py:205: RuntimeWarning: invalid value encountered in true_divide\n",
      "  probabilities /= normalizer\n",
      "D:\\anaconda\\envs\\py37\\lib\\site-packages\\ipykernel_launcher.py:79: RuntimeWarning: divide by zero encountered in log\n"
     ]
    },
    {
     "name": "stdout",
     "output_type": "stream",
     "text": [
      "test slant -1.2241285231261743 [-0.400749   -0.14423591 -1.02347138 -2.93230585  1.47078625]\n",
      "[-1 -1 -1 -1 -1 -1 -1 -1 -1 -1 -1 -1 -1 -1 -1 -1 -1 -1 -1 -1 -1 -1 -1 -1\n",
      " -1 -1 -1 -1 -1 -1 -1 -1 -1 -1 -1 -1 -1 -1 -1 -1 -1 -1  1 -1  1 -1 -1 -1\n",
      " -1 -1 -1 -1 -1 -1 -1 -1 -1 -1 -1 -1 -1 -1 -1 -1 -1 -1 -1 -1 -1 -1 -1 -1\n",
      " -1 -1 -1 -1 -1 -1 -1 -1 -1 -1 -1 -1 -1 -1 -1 -1 -1 -1 -1 -1 -1 -1 -1 -1\n",
      " -1 -1 -1 -1]\n"
     ]
    },
    {
     "name": "stderr",
     "output_type": "stream",
     "text": [
      "D:\\anaconda\\envs\\py37\\lib\\site-packages\\sklearn\\semi_supervised\\_label_propagation.py:205: RuntimeWarning: invalid value encountered in true_divide\n",
      "  probabilities /= normalizer\n",
      "D:\\anaconda\\envs\\py37\\lib\\site-packages\\sklearn\\semi_supervised\\_label_propagation.py:205: RuntimeWarning: invalid value encountered in true_divide\n",
      "  probabilities /= normalizer\n",
      "D:\\anaconda\\envs\\py37\\lib\\site-packages\\ipykernel_launcher.py:79: RuntimeWarning: divide by zero encountered in log\n"
     ]
    },
    {
     "name": "stdout",
     "output_type": "stream",
     "text": [
      "test slant -2.160668343014265 [-0.38783814 -2.07526608 -0.34109981 -4.72490075 -3.75863839]\n",
      "[-1 -1 -1 -1 -1 -1 -1 -1 -1 -1 -1 -1 -1 -1 -1 -1 -1 -1 -1 -1 -1 -1 -1 -1\n",
      " -1 -1 -1 -1 -1 -1 -1 -1 -1 -1 -1 -1 -1 -1 -1 -1 -1 -1 -1 -1 -1 -1 -1 -1\n",
      " -1 -1 -1 -1 -1 -1 -1 -1 -1 -1 -1 -1 -1 -1 -1 -1 -1 -1 -1 -1 -1 -1 -1 -1\n",
      " -1 -1 -1 -1  1 -1 -1 -1 -1 -1 -1 -1 -1 -1 -1 -1 -1 -1 -1 -1 -1 -1 -1 -1\n",
      " -1 -1 -1 -1]\n"
     ]
    },
    {
     "name": "stderr",
     "output_type": "stream",
     "text": [
      "D:\\anaconda\\envs\\py37\\lib\\site-packages\\sklearn\\semi_supervised\\_label_propagation.py:205: RuntimeWarning: invalid value encountered in true_divide\n",
      "  probabilities /= normalizer\n",
      "D:\\anaconda\\envs\\py37\\lib\\site-packages\\sklearn\\semi_supervised\\_label_propagation.py:205: RuntimeWarning: invalid value encountered in true_divide\n",
      "  probabilities /= normalizer\n",
      "D:\\anaconda\\envs\\py37\\lib\\site-packages\\ipykernel_launcher.py:79: RuntimeWarning: divide by zero encountered in log\n"
     ]
    },
    {
     "name": "stdout",
     "output_type": "stream",
     "text": [
      "test slant -0.41636441429775417 [-1.41363198 -0.57001538 -1.96926743 -1.22531152  1.41475572]\n",
      "[0.5713244741030509, 0.5955627145295211, 0.5788222209438341, 0.578726341828223, 0.592398703714357] [0.5028901734104047, 0.615606936416185, 0.5953757225433526, 0.6127167630057804, 0.5578034682080925]\n",
      "label_spreading_0.03_unbias\n",
      "[-1 -1 -1 -1 -1 -1 -1 -1 -1 -1 -1 -1 -1 -1 -1 -1 -1 -1 -1 -1 -1 -1 -1 -1\n",
      " -1 -1 -1 -1 -1 -1 -1 -1 -1 -1 -1 -1 -1 -1 -1 -1 -1 -1 -1 -1 -1 -1 -1 -1\n",
      " -1 -1 -1 -1 -1 -1 -1 -1 -1 -1 -1 -1 -1  1 -1 -1 -1 -1 -1 -1 -1 -1 -1 -1\n",
      " -1 -1 -1 -1 -1 -1 -1 -1 -1 -1 -1 -1 -1 -1 -1 -1 -1 -1 -1 -1 -1 -1 -1 -1\n",
      " -1 -1 -1 -1]\n"
     ]
    },
    {
     "name": "stderr",
     "output_type": "stream",
     "text": [
      "D:\\anaconda\\envs\\py37\\lib\\site-packages\\sklearn\\semi_supervised\\_label_propagation.py:205: RuntimeWarning: invalid value encountered in true_divide\n",
      "  probabilities /= normalizer\n",
      "D:\\anaconda\\envs\\py37\\lib\\site-packages\\sklearn\\semi_supervised\\_label_propagation.py:205: RuntimeWarning: invalid value encountered in true_divide\n",
      "  probabilities /= normalizer\n",
      "D:\\anaconda\\envs\\py37\\lib\\site-packages\\ipykernel_launcher.py:79: RuntimeWarning: divide by zero encountered in log\n"
     ]
    },
    {
     "name": "stdout",
     "output_type": "stream",
     "text": [
      "test slant -0.4329342091976895 [-0.56373196 -0.20829268 -3.70483661 -1.43094231  0.33569672]\n",
      "[-1 -1 -1 -1 -1 -1 -1 -1 -1 -1 -1 -1 -1 -1 -1 -1 -1  1 -1 -1 -1 -1 -1 -1\n",
      " -1 -1 -1 -1 -1 -1 -1 -1 -1  0 -1 -1 -1 -1 -1 -1 -1 -1 -1 -1 -1 -1 -1 -1\n",
      " -1 -1 -1 -1 -1 -1 -1 -1 -1 -1 -1 -1 -1 -1 -1 -1 -1 -1 -1 -1 -1 -1 -1 -1\n",
      " -1 -1 -1 -1 -1 -1 -1 -1 -1  0 -1 -1 -1 -1 -1 -1 -1 -1 -1 -1 -1 -1 -1 -1\n",
      " -1 -1 -1 -1]\n"
     ]
    },
    {
     "name": "stderr",
     "output_type": "stream",
     "text": [
      "D:\\anaconda\\envs\\py37\\lib\\site-packages\\sklearn\\semi_supervised\\_label_propagation.py:205: RuntimeWarning: invalid value encountered in true_divide\n",
      "  probabilities /= normalizer\n",
      "D:\\anaconda\\envs\\py37\\lib\\site-packages\\sklearn\\semi_supervised\\_label_propagation.py:205: RuntimeWarning: invalid value encountered in true_divide\n",
      "  probabilities /= normalizer\n",
      "D:\\anaconda\\envs\\py37\\lib\\site-packages\\ipykernel_launcher.py:79: RuntimeWarning: divide by zero encountered in log\n"
     ]
    },
    {
     "name": "stdout",
     "output_type": "stream",
     "text": [
      "test slant -2.205289134687049 [-1.45218422 -0.49087151 -3.32373725 -1.08284934 -0.34395293]\n",
      "[-1 -1 -1 -1 -1 -1 -1  1 -1 -1 -1 -1 -1 -1 -1 -1 -1 -1 -1 -1 -1 -1 -1 -1\n",
      " -1 -1 -1 -1 -1 -1 -1 -1 -1 -1 -1  1 -1 -1 -1 -1 -1 -1 -1 -1 -1 -1 -1 -1\n",
      " -1 -1 -1 -1 -1 -1 -1 -1 -1 -1 -1 -1 -1 -1 -1 -1 -1 -1 -1 -1 -1 -1 -1 -1\n",
      " -1 -1 -1 -1 -1 -1 -1 -1 -1 -1 -1 -1 -1 -1 -1 -1 -1 -1 -1 -1 -1 -1 -1 -1\n",
      " -1 -1 -1 -1]\n"
     ]
    },
    {
     "name": "stderr",
     "output_type": "stream",
     "text": [
      "D:\\anaconda\\envs\\py37\\lib\\site-packages\\sklearn\\semi_supervised\\_label_propagation.py:205: RuntimeWarning: invalid value encountered in true_divide\n",
      "  probabilities /= normalizer\n",
      "D:\\anaconda\\envs\\py37\\lib\\site-packages\\sklearn\\semi_supervised\\_label_propagation.py:205: RuntimeWarning: invalid value encountered in true_divide\n",
      "  probabilities /= normalizer\n",
      "D:\\anaconda\\envs\\py37\\lib\\site-packages\\ipykernel_launcher.py:79: RuntimeWarning: divide by zero encountered in log\n"
     ]
    },
    {
     "name": "stdout",
     "output_type": "stream",
     "text": [
      "test slant -1.202878760020826 [-0.28641138 -1.20691228 -3.80697181 -2.45180521 -1.08133552]\n",
      "[-1 -1 -1 -1 -1  0 -1 -1 -1 -1 -1 -1 -1 -1 -1 -1 -1 -1 -1 -1 -1 -1 -1 -1\n",
      " -1 -1 -1 -1 -1 -1 -1 -1 -1 -1 -1 -1 -1 -1 -1 -1 -1 -1 -1 -1 -1 -1 -1 -1\n",
      " -1 -1 -1 -1 -1 -1 -1 -1 -1 -1 -1 -1 -1 -1 -1 -1 -1 -1 -1 -1 -1 -1 -1 -1\n",
      " -1 -1 -1 -1 -1 -1 -1 -1 -1 -1 -1 -1 -1 -1 -1 -1 -1 -1 -1 -1 -1 -1 -1 -1\n",
      " -1 -1 -1 -1]\n"
     ]
    },
    {
     "name": "stderr",
     "output_type": "stream",
     "text": [
      "D:\\anaconda\\envs\\py37\\lib\\site-packages\\sklearn\\semi_supervised\\_label_propagation.py:205: RuntimeWarning: invalid value encountered in true_divide\n",
      "  probabilities /= normalizer\n",
      "D:\\anaconda\\envs\\py37\\lib\\site-packages\\sklearn\\semi_supervised\\_label_propagation.py:205: RuntimeWarning: invalid value encountered in true_divide\n",
      "  probabilities /= normalizer\n",
      "D:\\anaconda\\envs\\py37\\lib\\site-packages\\ipykernel_launcher.py:79: RuntimeWarning: divide by zero encountered in log\n"
     ]
    },
    {
     "name": "stdout",
     "output_type": "stream",
     "text": [
      "test slant -1.891430988846088 [-1.25301114 -1.71943757 -1.91890463 -0.82017739 -0.30969019]\n",
      "[-1 -1 -1 -1 -1 -1 -1 -1 -1 -1 -1 -1 -1 -1 -1 -1 -1 -1 -1 -1 -1 -1 -1 -1\n",
      " -1 -1 -1 -1 -1 -1 -1 -1 -1 -1 -1 -1 -1 -1 -1 -1 -1 -1 -1 -1 -1 -1 -1 -1\n",
      " -1 -1 -1 -1 -1 -1 -1 -1 -1 -1 -1 -1 -1 -1 -1 -1 -1 -1 -1 -1 -1 -1 -1 -1\n",
      " -1 -1 -1 -1 -1  1 -1 -1 -1 -1 -1 -1 -1 -1 -1 -1 -1 -1  0 -1 -1 -1 -1 -1\n",
      " -1 -1 -1 -1]\n"
     ]
    },
    {
     "name": "stderr",
     "output_type": "stream",
     "text": [
      "D:\\anaconda\\envs\\py37\\lib\\site-packages\\sklearn\\semi_supervised\\_label_propagation.py:205: RuntimeWarning: invalid value encountered in true_divide\n",
      "  probabilities /= normalizer\n",
      "D:\\anaconda\\envs\\py37\\lib\\site-packages\\sklearn\\semi_supervised\\_label_propagation.py:205: RuntimeWarning: invalid value encountered in true_divide\n",
      "  probabilities /= normalizer\n",
      "D:\\anaconda\\envs\\py37\\lib\\site-packages\\ipykernel_launcher.py:79: RuntimeWarning: divide by zero encountered in log\n"
     ]
    },
    {
     "name": "stdout",
     "output_type": "stream",
     "text": [
      "test slant -0.6168141915675917 [-0.94862982 -1.65957153  0.51309879 -0.56418773 -2.28056723]\n",
      "[0.6044622761522654, 0.6112144045405618, 0.620863098150504, 0.6029748507681769, 0.5982190038164203] [0.6127167630057804, 0.6347826086956522, 0.6334310850439883, 0.615606936416185, 0.5930232558139535]\n",
      "label_spreading_0.05_unbias\n",
      "[-1 -1 -1  0 -1 -1 -1 -1 -1 -1 -1 -1 -1 -1 -1 -1 -1 -1 -1 -1 -1 -1 -1 -1\n",
      " -1 -1 -1 -1 -1 -1 -1 -1 -1 -1 -1 -1 -1 -1 -1 -1 -1  0 -1 -1 -1 -1 -1 -1\n",
      " -1 -1 -1 -1 -1 -1 -1 -1 -1 -1 -1 -1 -1 -1 -1  0 -1 -1 -1 -1 -1 -1 -1  0\n",
      " -1 -1 -1 -1 -1 -1 -1 -1 -1 -1 -1 -1 -1 -1 -1 -1 -1 -1 -1 -1 -1 -1 -1 -1\n",
      " -1 -1 -1 -1]\n"
     ]
    },
    {
     "name": "stderr",
     "output_type": "stream",
     "text": [
      "D:\\anaconda\\envs\\py37\\lib\\site-packages\\sklearn\\semi_supervised\\_label_propagation.py:205: RuntimeWarning: invalid value encountered in true_divide\n",
      "  probabilities /= normalizer\n",
      "D:\\anaconda\\envs\\py37\\lib\\site-packages\\sklearn\\semi_supervised\\_label_propagation.py:205: RuntimeWarning: invalid value encountered in true_divide\n",
      "  probabilities /= normalizer\n",
      "D:\\anaconda\\envs\\py37\\lib\\site-packages\\ipykernel_launcher.py:79: RuntimeWarning: divide by zero encountered in log\n"
     ]
    },
    {
     "name": "stdout",
     "output_type": "stream",
     "text": [
      "test slant -0.9753155107848105 [-1.36460841 -1.41646811 -1.97425828 -0.53870459  0.87586773]\n",
      "[-1 -1 -1 -1 -1 -1 -1 -1 -1 -1 -1 -1 -1 -1 -1 -1 -1 -1  0 -1 -1 -1 -1 -1\n",
      " -1 -1 -1 -1 -1 -1 -1 -1 -1 -1 -1 -1 -1 -1 -1 -1 -1 -1 -1 -1  1 -1 -1 -1\n",
      " -1 -1 -1  0 -1 -1  0 -1 -1 -1 -1 -1 -1 -1 -1 -1 -1 -1 -1 -1 -1 -1 -1 -1\n",
      " -1 -1 -1 -1 -1 -1 -1 -1 -1 -1 -1 -1 -1 -1 -1 -1 -1  1 -1 -1 -1 -1 -1 -1\n",
      " -1 -1 -1 -1]\n"
     ]
    },
    {
     "name": "stderr",
     "output_type": "stream",
     "text": [
      "D:\\anaconda\\envs\\py37\\lib\\site-packages\\sklearn\\semi_supervised\\_label_propagation.py:205: RuntimeWarning: invalid value encountered in true_divide\n",
      "  probabilities /= normalizer\n",
      "D:\\anaconda\\envs\\py37\\lib\\site-packages\\sklearn\\semi_supervised\\_label_propagation.py:205: RuntimeWarning: invalid value encountered in true_divide\n",
      "  probabilities /= normalizer\n",
      "D:\\anaconda\\envs\\py37\\lib\\site-packages\\ipykernel_launcher.py:79: RuntimeWarning: divide by zero encountered in log\n"
     ]
    },
    {
     "name": "stdout",
     "output_type": "stream",
     "text": [
      "test slant -1.0692205194648132 [-1.54882294 -1.96633381 -3.05294864 -0.59130221 -0.95945192]\n",
      "[-1 -1 -1 -1 -1 -1 -1  1 -1 -1 -1 -1 -1 -1 -1 -1 -1 -1 -1 -1 -1 -1 -1 -1\n",
      "  1 -1 -1 -1 -1 -1 -1 -1 -1 -1 -1 -1 -1 -1 -1 -1 -1 -1 -1 -1 -1 -1 -1 -1\n",
      " -1  0  0 -1 -1 -1 -1 -1 -1 -1 -1 -1 -1 -1 -1 -1 -1 -1 -1 -1 -1 -1 -1 -1\n",
      " -1 -1 -1 -1 -1 -1 -1  0 -1 -1 -1 -1 -1 -1 -1 -1 -1 -1 -1 -1 -1 -1 -1 -1\n",
      "  1 -1 -1 -1]\n"
     ]
    },
    {
     "name": "stderr",
     "output_type": "stream",
     "text": [
      "D:\\anaconda\\envs\\py37\\lib\\site-packages\\sklearn\\semi_supervised\\_label_propagation.py:205: RuntimeWarning: invalid value encountered in true_divide\n",
      "  probabilities /= normalizer\n",
      "D:\\anaconda\\envs\\py37\\lib\\site-packages\\sklearn\\semi_supervised\\_label_propagation.py:205: RuntimeWarning: invalid value encountered in true_divide\n",
      "  probabilities /= normalizer\n",
      "D:\\anaconda\\envs\\py37\\lib\\site-packages\\ipykernel_launcher.py:79: RuntimeWarning: divide by zero encountered in log\n"
     ]
    },
    {
     "name": "stdout",
     "output_type": "stream",
     "text": [
      "test slant -1.6597469765282473 [-1.59063205 -1.97216817 -3.11771322 -2.6434469  -0.47703227]\n",
      "[-1 -1 -1 -1  0 -1 -1 -1 -1  0 -1  0 -1 -1 -1 -1 -1 -1 -1 -1 -1 -1 -1 -1\n",
      " -1  0 -1 -1 -1 -1 -1 -1 -1 -1 -1 -1 -1 -1 -1 -1 -1 -1 -1  1 -1 -1 -1 -1\n",
      " -1 -1 -1 -1 -1 -1 -1 -1 -1 -1 -1 -1 -1 -1 -1 -1 -1 -1 -1 -1 -1 -1 -1 -1\n",
      " -1 -1 -1 -1 -1 -1 -1 -1 -1 -1 -1 -1 -1  0 -1 -1 -1 -1 -1 -1 -1 -1  0 -1\n",
      " -1 -1 -1 -1]\n"
     ]
    },
    {
     "name": "stderr",
     "output_type": "stream",
     "text": [
      "D:\\anaconda\\envs\\py37\\lib\\site-packages\\sklearn\\semi_supervised\\_label_propagation.py:205: RuntimeWarning: invalid value encountered in true_divide\n",
      "  probabilities /= normalizer\n",
      "D:\\anaconda\\envs\\py37\\lib\\site-packages\\sklearn\\semi_supervised\\_label_propagation.py:205: RuntimeWarning: invalid value encountered in true_divide\n",
      "  probabilities /= normalizer\n",
      "D:\\anaconda\\envs\\py37\\lib\\site-packages\\ipykernel_launcher.py:79: RuntimeWarning: divide by zero encountered in log\n"
     ]
    },
    {
     "name": "stdout",
     "output_type": "stream",
     "text": [
      "test slant -0.6962303286805533 [-1.85058456 -1.12648725 -1.77714757 -0.56370773  0.80885015]\n",
      "[-1 -1 -1 -1 -1 -1 -1 -1 -1 -1 -1 -1 -1 -1 -1 -1 -1 -1 -1  0 -1 -1 -1 -1\n",
      "  0  0 -1 -1 -1 -1 -1 -1 -1 -1 -1 -1 -1 -1 -1 -1 -1 -1 -1 -1 -1 -1 -1 -1\n",
      " -1 -1 -1  0 -1 -1 -1 -1 -1 -1 -1 -1 -1 -1 -1 -1 -1 -1 -1 -1 -1 -1 -1 -1\n",
      " -1 -1 -1 -1  1 -1 -1 -1 -1 -1 -1 -1 -1 -1 -1 -1  1 -1 -1 -1 -1 -1 -1 -1\n",
      " -1 -1 -1  1]\n"
     ]
    },
    {
     "name": "stderr",
     "output_type": "stream",
     "text": [
      "D:\\anaconda\\envs\\py37\\lib\\site-packages\\sklearn\\semi_supervised\\_label_propagation.py:205: RuntimeWarning: invalid value encountered in true_divide\n",
      "  probabilities /= normalizer\n",
      "D:\\anaconda\\envs\\py37\\lib\\site-packages\\sklearn\\semi_supervised\\_label_propagation.py:205: RuntimeWarning: invalid value encountered in true_divide\n",
      "  probabilities /= normalizer\n",
      "D:\\anaconda\\envs\\py37\\lib\\site-packages\\ipykernel_launcher.py:79: RuntimeWarning: divide by zero encountered in log\n"
     ]
    },
    {
     "name": "stdout",
     "output_type": "stream",
     "text": [
      "test slant -1.118586631388235 [-0.75383187 -2.0941627  -1.560584   -1.18137832 -0.31582681]\n",
      "[0.6274329563166939, 0.6039926461772112, 0.6198593181727349, 0.6273730066743936, 0.6311898005675233] [0.6289855072463768, 0.6283185840707964, 0.6432748538011696, 0.6460176991150443, 0.6297376093294461]\n",
      "label_spreading_0.08_unbias\n",
      "[-1 -1 -1 -1 -1  0 -1 -1 -1 -1 -1 -1 -1 -1  0 -1 -1 -1 -1 -1 -1 -1 -1 -1\n",
      " -1 -1 -1 -1 -1 -1 -1 -1 -1 -1 -1 -1 -1 -1 -1 -1 -1 -1 -1 -1 -1 -1 -1  0\n",
      " -1 -1 -1 -1 -1 -1 -1 -1 -1 -1 -1 -1 -1 -1 -1 -1 -1 -1 -1 -1 -1 -1 -1 -1\n",
      " -1 -1 -1 -1 -1 -1 -1 -1 -1 -1 -1 -1 -1 -1 -1  0 -1 -1 -1 -1 -1 -1 -1 -1\n",
      " -1 -1 -1 -1]\n"
     ]
    },
    {
     "name": "stderr",
     "output_type": "stream",
     "text": [
      "D:\\anaconda\\envs\\py37\\lib\\site-packages\\sklearn\\semi_supervised\\_label_propagation.py:205: RuntimeWarning: invalid value encountered in true_divide\n",
      "  probabilities /= normalizer\n",
      "D:\\anaconda\\envs\\py37\\lib\\site-packages\\sklearn\\semi_supervised\\_label_propagation.py:205: RuntimeWarning: invalid value encountered in true_divide\n",
      "  probabilities /= normalizer\n",
      "D:\\anaconda\\envs\\py37\\lib\\site-packages\\ipykernel_launcher.py:79: RuntimeWarning: divide by zero encountered in log\n"
     ]
    },
    {
     "name": "stdout",
     "output_type": "stream",
     "text": [
      "test slant -0.8241272423320612 [-0.65947764 -0.85175083 -0.57399099 -0.28635676  0.73551214]\n",
      "[-1 -1 -1 -1 -1 -1 -1 -1 -1 -1 -1 -1 -1 -1 -1 -1 -1 -1 -1 -1 -1 -1 -1 -1\n",
      " -1 -1 -1 -1 -1 -1 -1 -1 -1 -1 -1 -1 -1 -1 -1 -1 -1 -1 -1 -1 -1 -1 -1 -1\n",
      " -1 -1 -1 -1 -1 -1 -1 -1 -1 -1 -1 -1 -1 -1 -1 -1 -1 -1 -1 -1 -1 -1 -1 -1\n",
      " -1 -1 -1 -1 -1 -1 -1 -1 -1 -1 -1 -1 -1 -1 -1 -1 -1 -1  0 -1 -1 -1  1 -1\n",
      " -1 -1 -1 -1]\n"
     ]
    },
    {
     "name": "stderr",
     "output_type": "stream",
     "text": [
      "D:\\anaconda\\envs\\py37\\lib\\site-packages\\sklearn\\semi_supervised\\_label_propagation.py:205: RuntimeWarning: invalid value encountered in true_divide\n",
      "  probabilities /= normalizer\n",
      "D:\\anaconda\\envs\\py37\\lib\\site-packages\\sklearn\\semi_supervised\\_label_propagation.py:205: RuntimeWarning: invalid value encountered in true_divide\n",
      "  probabilities /= normalizer\n",
      "D:\\anaconda\\envs\\py37\\lib\\site-packages\\ipykernel_launcher.py:79: RuntimeWarning: divide by zero encountered in log\n"
     ]
    },
    {
     "name": "stdout",
     "output_type": "stream",
     "text": [
      "test slant -0.476906987150251 [-0.82480323 -1.06911393 -0.55394602 -1.12529611  0.08740443]\n",
      "[-1 -1 -1 -1 -1 -1 -1 -1  0 -1 -1 -1 -1 -1 -1  0 -1 -1 -1  1 -1 -1 -1 -1\n",
      " -1 -1 -1 -1 -1 -1 -1 -1 -1 -1 -1 -1 -1 -1 -1 -1 -1 -1 -1 -1 -1 -1 -1 -1\n",
      " -1 -1 -1 -1  0 -1 -1 -1 -1 -1 -1 -1 -1 -1 -1 -1 -1 -1 -1 -1  0 -1  0 -1\n",
      " -1 -1  0 -1 -1  1 -1 -1 -1 -1 -1 -1 -1 -1 -1 -1 -1 -1 -1 -1 -1 -1 -1 -1\n",
      "  0  0 -1 -1]\n"
     ]
    },
    {
     "name": "stderr",
     "output_type": "stream",
     "text": [
      "D:\\anaconda\\envs\\py37\\lib\\site-packages\\ipykernel_launcher.py:79: RuntimeWarning: divide by zero encountered in log\n"
     ]
    },
    {
     "name": "stdout",
     "output_type": "stream",
     "text": [
      "test slant -0.9073499378388478 [-0.87394081 -1.22259285 -1.50241277 -0.58363779  0.16618922]\n",
      "[-1 -1 -1  0 -1 -1 -1 -1 -1 -1 -1 -1 -1 -1 -1  1 -1 -1 -1 -1  0  0  1 -1\n",
      " -1 -1 -1 -1 -1 -1 -1 -1 -1 -1 -1 -1 -1 -1 -1 -1 -1  1 -1 -1 -1 -1 -1 -1\n",
      " -1 -1 -1 -1 -1 -1 -1  0 -1 -1 -1 -1 -1 -1 -1 -1 -1 -1 -1 -1 -1 -1  1 -1\n",
      " -1 -1 -1 -1 -1 -1 -1 -1 -1 -1 -1  0 -1 -1 -1 -1 -1 -1 -1 -1 -1 -1 -1 -1\n",
      " -1 -1 -1 -1]\n"
     ]
    },
    {
     "name": "stderr",
     "output_type": "stream",
     "text": [
      "D:\\anaconda\\envs\\py37\\lib\\site-packages\\sklearn\\semi_supervised\\_label_propagation.py:205: RuntimeWarning: invalid value encountered in true_divide\n",
      "  probabilities /= normalizer\n",
      "D:\\anaconda\\envs\\py37\\lib\\site-packages\\sklearn\\semi_supervised\\_label_propagation.py:205: RuntimeWarning: invalid value encountered in true_divide\n",
      "  probabilities /= normalizer\n",
      "D:\\anaconda\\envs\\py37\\lib\\site-packages\\ipykernel_launcher.py:79: RuntimeWarning: divide by zero encountered in log\n"
     ]
    },
    {
     "name": "stdout",
     "output_type": "stream",
     "text": [
      "test slant -1.4253930887894821 [-0.95163762 -1.08852513 -5.72458284 -1.26854041  0.59154314]\n",
      "[-1 -1  1 -1 -1 -1 -1 -1  1  1 -1 -1 -1 -1 -1 -1 -1 -1  1 -1 -1 -1 -1  0\n",
      " -1 -1  0 -1 -1 -1  1 -1 -1 -1 -1 -1 -1 -1  1 -1 -1 -1 -1 -1 -1 -1 -1 -1\n",
      " -1 -1 -1  1 -1 -1 -1 -1 -1  0 -1  1 -1 -1 -1 -1 -1 -1 -1 -1 -1 -1 -1 -1\n",
      " -1 -1 -1 -1 -1 -1 -1 -1 -1 -1 -1 -1 -1 -1 -1 -1 -1 -1 -1 -1 -1 -1 -1 -1\n",
      " -1  1 -1  1]\n"
     ]
    },
    {
     "name": "stderr",
     "output_type": "stream",
     "text": [
      "D:\\anaconda\\envs\\py37\\lib\\site-packages\\sklearn\\semi_supervised\\_label_propagation.py:205: RuntimeWarning: invalid value encountered in true_divide\n",
      "  probabilities /= normalizer\n",
      "D:\\anaconda\\envs\\py37\\lib\\site-packages\\sklearn\\semi_supervised\\_label_propagation.py:205: RuntimeWarning: invalid value encountered in true_divide\n",
      "  probabilities /= normalizer\n",
      "D:\\anaconda\\envs\\py37\\lib\\site-packages\\ipykernel_launcher.py:79: RuntimeWarning: divide by zero encountered in log\n"
     ]
    },
    {
     "name": "stdout",
     "output_type": "stream",
     "text": [
      "test slant -1.0667037784195794 [-1.48247903 -0.70779724 -2.45566449 -0.89799948  0.39207836]\n",
      "[0.6440436639772188, 0.6376880378035946, 0.6389261467984565, 0.6348403871154124, 0.6391324982976001] [0.6239067055393586, 0.6405797101449275, 0.6187683284457478, 0.6451612903225806, 0.6598240469208211]\n",
      "label_spreading_0.1_unbias\n",
      "[-1 -1 -1 -1 -1 -1 -1 -1 -1 -1 -1  0 -1 -1  1 -1  0 -1 -1 -1 -1 -1 -1 -1\n",
      " -1  1 -1 -1 -1 -1 -1 -1 -1 -1 -1 -1 -1 -1 -1 -1  0 -1 -1 -1 -1 -1 -1 -1\n",
      " -1 -1 -1  0 -1 -1  0 -1 -1 -1 -1 -1 -1 -1  0 -1 -1 -1 -1 -1 -1 -1  0 -1\n",
      " -1 -1 -1 -1 -1 -1  1  1 -1 -1 -1  1 -1 -1  0 -1 -1 -1 -1  1 -1 -1 -1 -1\n",
      " -1 -1 -1 -1]\n"
     ]
    },
    {
     "name": "stderr",
     "output_type": "stream",
     "text": [
      "D:\\anaconda\\envs\\py37\\lib\\site-packages\\sklearn\\semi_supervised\\_label_propagation.py:205: RuntimeWarning: invalid value encountered in true_divide\n",
      "  probabilities /= normalizer\n",
      "D:\\anaconda\\envs\\py37\\lib\\site-packages\\sklearn\\semi_supervised\\_label_propagation.py:205: RuntimeWarning: invalid value encountered in true_divide\n",
      "  probabilities /= normalizer\n",
      "D:\\anaconda\\envs\\py37\\lib\\site-packages\\ipykernel_launcher.py:79: RuntimeWarning: divide by zero encountered in log\n"
     ]
    },
    {
     "name": "stdout",
     "output_type": "stream",
     "text": [
      "test slant -0.8855584381477951 [-0.70182718 -0.47856517 -2.47769217 -1.4076366   0.98257926]\n",
      "[-1 -1 -1 -1 -1 -1 -1 -1  1  0 -1 -1  1 -1 -1 -1 -1 -1 -1 -1 -1 -1 -1 -1\n",
      " -1 -1 -1 -1 -1 -1 -1  0 -1  1 -1  1 -1 -1 -1 -1 -1 -1 -1 -1 -1 -1 -1  0\n",
      "  0 -1 -1 -1 -1 -1 -1 -1 -1 -1 -1 -1 -1 -1 -1 -1  0 -1 -1 -1 -1 -1 -1 -1\n",
      " -1 -1 -1 -1 -1 -1 -1 -1 -1  1  0 -1 -1 -1  1 -1 -1 -1 -1 -1 -1 -1 -1 -1\n",
      "  1 -1 -1 -1]\n"
     ]
    },
    {
     "name": "stderr",
     "output_type": "stream",
     "text": [
      "D:\\anaconda\\envs\\py37\\lib\\site-packages\\sklearn\\semi_supervised\\_label_propagation.py:205: RuntimeWarning: invalid value encountered in true_divide\n",
      "  probabilities /= normalizer\n",
      "D:\\anaconda\\envs\\py37\\lib\\site-packages\\sklearn\\semi_supervised\\_label_propagation.py:205: RuntimeWarning: invalid value encountered in true_divide\n",
      "  probabilities /= normalizer\n",
      "D:\\anaconda\\envs\\py37\\lib\\site-packages\\ipykernel_launcher.py:79: RuntimeWarning: divide by zero encountered in log\n"
     ]
    },
    {
     "name": "stdout",
     "output_type": "stream",
     "text": [
      "test slant -1.0846099062063859 [-2.1453529  -1.44909537 -1.12352077 -0.50569603 -0.74684911]\n",
      "[-1 -1 -1 -1 -1 -1 -1 -1 -1 -1 -1 -1  1 -1 -1 -1  0 -1 -1 -1 -1 -1  0 -1\n",
      " -1 -1  0 -1 -1 -1 -1  0 -1 -1 -1  1 -1 -1 -1 -1 -1 -1  0  0 -1 -1 -1 -1\n",
      " -1 -1 -1 -1 -1 -1 -1 -1 -1 -1 -1 -1 -1 -1 -1 -1 -1 -1 -1 -1 -1 -1 -1 -1\n",
      " -1 -1 -1 -1 -1 -1  0 -1 -1 -1 -1 -1 -1 -1 -1  0 -1 -1 -1 -1 -1 -1 -1 -1\n",
      " -1 -1 -1 -1]\n"
     ]
    },
    {
     "name": "stderr",
     "output_type": "stream",
     "text": [
      "D:\\anaconda\\envs\\py37\\lib\\site-packages\\sklearn\\semi_supervised\\_label_propagation.py:205: RuntimeWarning: invalid value encountered in true_divide\n",
      "  probabilities /= normalizer\n",
      "D:\\anaconda\\envs\\py37\\lib\\site-packages\\sklearn\\semi_supervised\\_label_propagation.py:205: RuntimeWarning: invalid value encountered in true_divide\n",
      "  probabilities /= normalizer\n",
      "D:\\anaconda\\envs\\py37\\lib\\site-packages\\ipykernel_launcher.py:79: RuntimeWarning: divide by zero encountered in log\n"
     ]
    },
    {
     "name": "stdout",
     "output_type": "stream",
     "text": [
      "test slant -0.5738505368232565 [-0.60413224 -1.29331671 -2.1198143  -1.39689765 -0.10195583]\n",
      "[-1 -1 -1 -1 -1 -1  1 -1  1 -1 -1 -1 -1 -1 -1 -1 -1  0 -1 -1 -1 -1 -1 -1\n",
      " -1 -1 -1 -1 -1 -1 -1 -1 -1 -1 -1 -1  1  1 -1 -1 -1 -1 -1 -1  0 -1 -1 -1\n",
      " -1 -1 -1 -1 -1 -1 -1 -1 -1 -1 -1 -1 -1  1 -1 -1 -1  0 -1 -1 -1 -1  1  0\n",
      " -1 -1 -1 -1 -1 -1 -1 -1 -1 -1 -1 -1  0 -1 -1  1 -1 -1 -1 -1 -1 -1 -1 -1\n",
      " -1 -1 -1 -1]\n"
     ]
    },
    {
     "name": "stderr",
     "output_type": "stream",
     "text": [
      "D:\\anaconda\\envs\\py37\\lib\\site-packages\\ipykernel_launcher.py:79: RuntimeWarning: divide by zero encountered in log\n"
     ]
    },
    {
     "name": "stdout",
     "output_type": "stream",
     "text": [
      "test slant -0.7906167881205831 [-0.79609768 -1.73293071 -5.00647777 -0.50909833 -0.22342668]\n",
      "[-1 -1 -1  0 -1 -1 -1 -1 -1  1 -1 -1 -1 -1 -1 -1 -1 -1 -1 -1 -1 -1 -1 -1\n",
      " -1 -1 -1 -1 -1 -1 -1  0 -1  0 -1 -1 -1 -1  0 -1  1 -1 -1 -1 -1  0 -1 -1\n",
      " -1 -1  1 -1 -1 -1  0 -1 -1 -1 -1 -1 -1 -1  0 -1 -1 -1 -1 -1  0  0 -1 -1\n",
      " -1 -1 -1 -1  0 -1 -1 -1 -1 -1 -1 -1 -1 -1 -1 -1 -1 -1 -1 -1 -1 -1 -1 -1\n",
      "  1 -1 -1 -1]\n"
     ]
    },
    {
     "name": "stderr",
     "output_type": "stream",
     "text": [
      "D:\\anaconda\\envs\\py37\\lib\\site-packages\\sklearn\\semi_supervised\\_label_propagation.py:205: RuntimeWarning: invalid value encountered in true_divide\n",
      "  probabilities /= normalizer\n",
      "D:\\anaconda\\envs\\py37\\lib\\site-packages\\sklearn\\semi_supervised\\_label_propagation.py:205: RuntimeWarning: invalid value encountered in true_divide\n",
      "  probabilities /= normalizer\n",
      "D:\\anaconda\\envs\\py37\\lib\\site-packages\\ipykernel_launcher.py:79: RuntimeWarning: divide by zero encountered in log\n"
     ]
    },
    {
     "name": "stdout",
     "output_type": "stream",
     "text": [
      "test slant -1.2098052046746308 [-1.82668568 -1.33595156 -2.77656738 -0.43037324 -1.00923907]\n",
      "[0.6396599730003375, 0.6382045224434695, 0.6410310496118798, 0.6364959500506243, 0.6345764427944651] [0.6491228070175439, 0.6235294117647059, 0.6158357771260997, 0.6588921282798834, 0.6272189349112426]\n",
      "label_spreading_0.2_unbias\n",
      "[-1 -1 -1 -1 -1  1 -1 -1 -1 -1 -1 -1 -1 -1 -1 -1 -1 -1  1  1 -1 -1 -1 -1\n",
      "  1 -1  0 -1  0  1 -1 -1 -1 -1 -1 -1 -1  1 -1 -1 -1 -1  0 -1 -1 -1  0 -1\n",
      " -1 -1  1  0 -1 -1 -1 -1 -1 -1 -1 -1 -1  1 -1 -1 -1  0 -1  1  1  1 -1 -1\n",
      " -1 -1 -1 -1 -1 -1 -1 -1 -1  0 -1 -1 -1 -1 -1 -1 -1 -1 -1 -1  1  0 -1 -1\n",
      " -1 -1  0 -1]\n"
     ]
    },
    {
     "name": "stderr",
     "output_type": "stream",
     "text": [
      "D:\\anaconda\\envs\\py37\\lib\\site-packages\\ipykernel_launcher.py:79: RuntimeWarning: divide by zero encountered in log\n"
     ]
    },
    {
     "name": "stdout",
     "output_type": "stream",
     "text": [
      "test slant -1.00625564429794 [-1.36692574 -2.08519979 -3.19588043 -1.08949482 -0.72976466]\n",
      "[-1  1 -1 -1 -1 -1  1  1 -1 -1 -1  1 -1 -1 -1 -1  1  0 -1 -1 -1 -1 -1  0\n",
      " -1 -1  0 -1 -1 -1 -1 -1  1  0 -1 -1 -1  0 -1 -1 -1 -1 -1 -1  1  0 -1 -1\n",
      " -1  0 -1 -1  0 -1 -1 -1 -1 -1 -1  0 -1 -1 -1 -1 -1 -1  1 -1 -1 -1  0 -1\n",
      " -1  1 -1 -1  1 -1 -1 -1 -1 -1 -1 -1  0 -1 -1 -1 -1  0  1 -1  1  1 -1 -1\n",
      " -1 -1 -1  1]\n"
     ]
    },
    {
     "name": "stderr",
     "output_type": "stream",
     "text": [
      "D:\\anaconda\\envs\\py37\\lib\\site-packages\\ipykernel_launcher.py:79: RuntimeWarning: divide by zero encountered in log\n"
     ]
    },
    {
     "name": "stdout",
     "output_type": "stream",
     "text": [
      "test slant -1.0811744502441665 [-0.35404868 -0.75663982 -0.92151099 -0.97273717 -1.11520969]\n",
      "[-1 -1 -1 -1 -1 -1 -1 -1 -1 -1  1 -1 -1 -1 -1 -1 -1 -1 -1 -1  1 -1 -1  0\n",
      "  0  0 -1 -1 -1  0 -1 -1 -1 -1 -1 -1 -1 -1 -1 -1 -1 -1  1 -1 -1 -1 -1 -1\n",
      " -1 -1 -1 -1 -1 -1 -1 -1  1 -1 -1 -1 -1  0 -1 -1  0 -1 -1 -1 -1 -1 -1 -1\n",
      " -1 -1  1 -1 -1  1 -1 -1  1 -1  1 -1 -1 -1 -1 -1 -1 -1 -1 -1  0 -1 -1  0\n",
      " -1 -1 -1 -1]\n"
     ]
    },
    {
     "name": "stderr",
     "output_type": "stream",
     "text": [
      "D:\\anaconda\\envs\\py37\\lib\\site-packages\\ipykernel_launcher.py:79: RuntimeWarning: divide by zero encountered in log\n"
     ]
    },
    {
     "name": "stdout",
     "output_type": "stream",
     "text": [
      "test slant -0.8032249493146144 [-0.91404045 -0.57755935 -2.76412469 -0.8152077   0.23264138]\n",
      "[-1 -1 -1  0 -1 -1 -1  0 -1 -1 -1  1 -1 -1 -1  1  1 -1 -1 -1 -1  1 -1 -1\n",
      " -1 -1 -1 -1 -1 -1 -1 -1 -1 -1  0 -1 -1  1 -1 -1 -1  1 -1 -1 -1 -1  0 -1\n",
      " -1  1 -1 -1 -1 -1 -1 -1 -1 -1 -1 -1 -1 -1 -1 -1 -1 -1  1 -1 -1  0 -1 -1\n",
      " -1 -1 -1 -1 -1 -1 -1 -1 -1 -1 -1  1 -1  0 -1 -1  1 -1 -1 -1 -1 -1 -1 -1\n",
      " -1  1 -1 -1]\n"
     ]
    },
    {
     "name": "stderr",
     "output_type": "stream",
     "text": [
      "D:\\anaconda\\envs\\py37\\lib\\site-packages\\ipykernel_launcher.py:79: RuntimeWarning: divide by zero encountered in log\n"
     ]
    },
    {
     "name": "stdout",
     "output_type": "stream",
     "text": [
      "test slant -0.8049781584476363 [-0.61181731 -1.78001538 -2.06637815 -0.99271827 -0.0457657 ]\n",
      "[ 0  0  0  1 -1 -1  1 -1 -1 -1 -1 -1 -1 -1 -1 -1 -1 -1 -1  0  1 -1 -1 -1\n",
      " -1 -1 -1 -1 -1 -1 -1 -1 -1 -1  0 -1 -1 -1 -1 -1 -1 -1 -1 -1  0 -1  1 -1\n",
      " -1 -1 -1 -1 -1  1 -1 -1 -1  1  0 -1 -1  1 -1 -1 -1 -1 -1 -1  1 -1 -1  1\n",
      " -1 -1 -1 -1 -1  0 -1 -1 -1 -1 -1 -1 -1 -1 -1  0 -1 -1 -1 -1 -1 -1 -1 -1\n",
      " -1 -1 -1 -1]\n"
     ]
    },
    {
     "name": "stderr",
     "output_type": "stream",
     "text": [
      "D:\\anaconda\\envs\\py37\\lib\\site-packages\\ipykernel_launcher.py:79: RuntimeWarning: divide by zero encountered in log\n"
     ]
    },
    {
     "name": "stdout",
     "output_type": "stream",
     "text": [
      "test slant -0.9368661071225795 [-1.10180335e+00 -1.23746708e+00 -5.25871703e+00 -8.47065264e-01\n",
      "  3.57376431e-03]\n",
      "[0.6551969625059326, 0.6559563360227813, 0.6630991931656384, 0.6620075937351685, 0.6606074988134789] [0.6447761194029851, 0.6536144578313253, 0.6396396396396397, 0.6445783132530121, 0.6393939393939394]\n",
      "label_spreading_0.4_unbias\n",
      "[-1  1  1  0  0 -1  1 -1  0 -1 -1 -1 -1  1 -1  0 -1  1  1  0 -1 -1 -1  0\n",
      " -1 -1 -1 -1 -1 -1 -1 -1 -1 -1 -1 -1  1 -1  1 -1 -1 -1 -1  0 -1 -1  0  0\n",
      " -1  1 -1 -1 -1  1  0  1 -1 -1 -1 -1 -1 -1  0  0 -1 -1  1  0 -1 -1 -1 -1\n",
      " -1 -1 -1 -1 -1 -1 -1  1 -1 -1 -1  1 -1  0 -1 -1 -1 -1 -1  1 -1 -1 -1  0\n",
      " -1  0  1 -1]\n"
     ]
    },
    {
     "name": "stderr",
     "output_type": "stream",
     "text": [
      "D:\\anaconda\\envs\\py37\\lib\\site-packages\\ipykernel_launcher.py:79: RuntimeWarning: divide by zero encountered in log\n"
     ]
    },
    {
     "name": "stdout",
     "output_type": "stream",
     "text": [
      "test slant -0.8551159017897628 [-1.24149413 -0.82255346 -4.42935922 -0.63005736  0.53241634]\n",
      "[-1  1  1  0  0  0 -1 -1 -1 -1 -1  1  1 -1 -1 -1  1 -1 -1 -1 -1  0  0 -1\n",
      " -1  0  0 -1 -1 -1 -1 -1 -1 -1 -1 -1 -1  1 -1  1 -1 -1  1  0 -1 -1  1  0\n",
      " -1 -1 -1 -1 -1 -1 -1  1 -1 -1  0 -1  1 -1  0  0  0 -1  0 -1  0  1 -1 -1\n",
      " -1 -1  0 -1 -1 -1  0 -1  1 -1 -1 -1  0 -1 -1  1 -1 -1 -1 -1 -1  1 -1 -1\n",
      " -1 -1  1 -1]\n"
     ]
    },
    {
     "name": "stderr",
     "output_type": "stream",
     "text": [
      "D:\\anaconda\\envs\\py37\\lib\\site-packages\\ipykernel_launcher.py:79: RuntimeWarning: divide by zero encountered in log\n"
     ]
    },
    {
     "name": "stdout",
     "output_type": "stream",
     "text": [
      "test slant -0.9054439784707985 [-1.26879852 -0.85743698 -1.15965412 -0.66852014  0.58032748]\n",
      "[ 0  0 -1 -1  0 -1  0 -1 -1 -1 -1 -1 -1 -1  0  1 -1  1 -1 -1  0 -1  0 -1\n",
      "  1 -1  1  1 -1  1 -1 -1 -1  1 -1 -1  0  1 -1 -1 -1 -1  1 -1 -1  0 -1  1\n",
      "  0 -1 -1 -1 -1 -1 -1 -1 -1 -1 -1 -1 -1 -1 -1 -1 -1 -1  1 -1  1  1 -1 -1\n",
      "  0 -1 -1 -1 -1  0 -1 -1 -1 -1  0 -1 -1 -1  1 -1 -1 -1  1  1 -1 -1  1  0\n",
      "  1  0 -1  0]\n"
     ]
    },
    {
     "name": "stderr",
     "output_type": "stream",
     "text": [
      "D:\\anaconda\\envs\\py37\\lib\\site-packages\\ipykernel_launcher.py:79: RuntimeWarning: divide by zero encountered in log\n"
     ]
    },
    {
     "name": "stdout",
     "output_type": "stream",
     "text": [
      "test slant -1.0623426247936014 [-1.67107307 -1.83096181 -1.82543514 -0.86355555  0.07109377]\n",
      "[-1  0 -1 -1 -1 -1  0  0  0  0 -1 -1 -1 -1 -1  0 -1  1  1  0  1 -1  0 -1\n",
      "  1 -1  0  1 -1 -1 -1  0 -1 -1 -1  0  0 -1  0 -1 -1 -1 -1  1  1  1 -1  0\n",
      " -1 -1 -1 -1  1  1 -1 -1 -1 -1  1 -1 -1 -1 -1 -1  0  0  1  0 -1 -1  1 -1\n",
      "  0 -1 -1  1 -1 -1  1 -1  1 -1  0  1  0 -1  1 -1 -1 -1  0  1 -1  0  1 -1\n",
      " -1 -1  0 -1]\n"
     ]
    },
    {
     "name": "stderr",
     "output_type": "stream",
     "text": [
      "D:\\anaconda\\envs\\py37\\lib\\site-packages\\ipykernel_launcher.py:79: RuntimeWarning: divide by zero encountered in log\n"
     ]
    },
    {
     "name": "stdout",
     "output_type": "stream",
     "text": [
      "test slant -1.0072960841876284 [-0.96358417 -4.20550202 -1.45397524 -0.34179009 -0.86456435]\n",
      "[ 0  1 -1 -1 -1 -1  0 -1  1 -1 -1  0  1  1 -1  0  0 -1 -1 -1  0  1 -1  0\n",
      " -1 -1 -1  0 -1  1 -1 -1  0  0  1 -1  1 -1 -1 -1 -1 -1 -1 -1 -1 -1  1 -1\n",
      " -1 -1 -1  1 -1 -1 -1  0  0  1 -1  1 -1 -1  1  0  1 -1  0 -1  0  0 -1  0\n",
      "  1 -1 -1 -1 -1 -1 -1 -1  1 -1  0 -1  1  0 -1  1  0 -1 -1 -1  0 -1  0  0\n",
      " -1  1  1 -1]\n"
     ]
    },
    {
     "name": "stderr",
     "output_type": "stream",
     "text": [
      "D:\\anaconda\\envs\\py37\\lib\\site-packages\\ipykernel_launcher.py:79: RuntimeWarning: divide by zero encountered in log\n"
     ]
    },
    {
     "name": "stdout",
     "output_type": "stream",
     "text": [
      "test slant -0.9935396618749822 [-1.08590016 -1.34958126 -1.97708252 -0.93378085  0.20415124]\n",
      "[0.6731529821230818, 0.668343616516374, 0.6631545641512419, 0.6660022148394241, 0.6685651004587881] [0.6327160493827161, 0.6466876971608833, 0.6081504702194357, 0.6506410256410257, 0.6407766990291263]\n",
      "label_spreading_0.6_unbias\n",
      "[ 1 -1  0 -1  0 -1  1  0 -1 -1 -1  0  0 -1  0  0  0  1  0  1 -1 -1 -1 -1\n",
      "  0  0 -1 -1 -1 -1  1 -1 -1  0  1  0 -1 -1 -1 -1  0 -1  1  1  0  0  0 -1\n",
      "  0 -1  1 -1 -1  1  0 -1 -1  0  0 -1 -1 -1 -1  0  0  0 -1 -1 -1 -1  1  1\n",
      "  0  1 -1 -1  0  1  1  0  0  0 -1 -1  0 -1  0  0 -1 -1  0  1  1  0  1  0\n",
      " -1  1  0 -1]\n"
     ]
    },
    {
     "name": "stderr",
     "output_type": "stream",
     "text": [
      "D:\\anaconda\\envs\\py37\\lib\\site-packages\\ipykernel_launcher.py:79: RuntimeWarning: divide by zero encountered in log\n"
     ]
    },
    {
     "name": "stdout",
     "output_type": "stream",
     "text": [
      "test slant -0.9861118389117469 [-1.36921709 -0.77612481 -0.33939574 -0.78121727 -1.41504232]\n",
      "[ 0 -1  0  1 -1 -1  1  1  0 -1  0  0 -1 -1 -1  0  1  0 -1  0  0  0 -1  1\n",
      " -1  0 -1  0  0  0  1  0  0  0  1  0  0 -1 -1 -1  1  0  1  0 -1  0 -1  0\n",
      " -1  1  1  1  0 -1 -1  0  1 -1 -1  0  1  0  1  1 -1 -1 -1  0  0  0 -1  1\n",
      "  1  1  1  1 -1 -1 -1  1  0  1 -1 -1  1  1  0  1 -1  0  0  1 -1 -1 -1  0\n",
      " -1  1  0 -1]\n"
     ]
    },
    {
     "name": "stderr",
     "output_type": "stream",
     "text": [
      "D:\\anaconda\\envs\\py37\\lib\\site-packages\\ipykernel_launcher.py:79: RuntimeWarning: divide by zero encountered in log\n"
     ]
    },
    {
     "name": "stdout",
     "output_type": "stream",
     "text": [
      "test slant -0.9244176946206807 [-0.15466968 -0.35306461 -1.65204129 -2.52683005  0.00494641]\n",
      "[ 1 -1 -1 -1  0  0 -1  1  0 -1  1  1  1 -1  0  0 -1  1  0  1  0  0  0 -1\n",
      "  1  0 -1  0 -1 -1 -1  1  1  0 -1  0  1 -1  1  1  0  0 -1  0  0 -1 -1 -1\n",
      "  0 -1 -1 -1 -1 -1 -1  0  0  0 -1 -1  0  0  0  0 -1 -1  1  0  1  1 -1  1\n",
      " -1 -1 -1  0 -1 -1 -1  0 -1  0 -1  1  1  0  0 -1 -1  1  0  0  1 -1 -1 -1\n",
      "  0  0 -1  1]\n"
     ]
    },
    {
     "name": "stderr",
     "output_type": "stream",
     "text": [
      "D:\\anaconda\\envs\\py37\\lib\\site-packages\\ipykernel_launcher.py:79: RuntimeWarning: divide by zero encountered in log\n"
     ]
    },
    {
     "name": "stdout",
     "output_type": "stream",
     "text": [
      "test slant -0.8839830387683335 [-0.94712399 -0.64198393 -0.26016442 -0.79428363 -1.2893312 ]\n",
      "[-1  1 -1  0  0  1 -1 -1 -1  0 -1  0 -1 -1  1  1 -1  1 -1  0  0  0 -1 -1\n",
      "  0 -1 -1  1  1 -1  0  1 -1  0  0  0  0  1  0  0  0 -1 -1  0  0  1 -1 -1\n",
      " -1  0 -1 -1  1 -1  1  1  1  1  0 -1 -1  0 -1  0  0  1  0 -1  1  0 -1  1\n",
      " -1 -1 -1 -1  0 -1  0  1  0  0 -1 -1 -1 -1  1  0  0  1  1 -1  0 -1  0 -1\n",
      "  0  1 -1 -1]\n"
     ]
    },
    {
     "name": "stderr",
     "output_type": "stream",
     "text": [
      "D:\\anaconda\\envs\\py37\\lib\\site-packages\\ipykernel_launcher.py:79: RuntimeWarning: divide by zero encountered in log\n"
     ]
    },
    {
     "name": "stdout",
     "output_type": "stream",
     "text": [
      "test slant -0.9389218116378386 [-0.51209988 -1.81652263  0.03825103 -0.72445865 -2.07934206]\n",
      "[-1  1 -1  0  1 -1  1 -1  0 -1  0  0  1  0 -1 -1  0 -1 -1 -1  0  1  0 -1\n",
      " -1  0  1  1 -1 -1  0 -1 -1  1  0  0  1 -1 -1  1  1  1 -1  1 -1  1 -1  1\n",
      "  1 -1  1 -1 -1  1 -1  0  1  0  1  0 -1  0  0 -1 -1 -1 -1  1  0 -1  0 -1\n",
      "  0  1  0 -1  1  0 -1 -1  0  1  0  1 -1  0  0 -1  0 -1 -1 -1  0  1  1 -1\n",
      "  1 -1  0  0]\n"
     ]
    },
    {
     "name": "stderr",
     "output_type": "stream",
     "text": [
      "D:\\anaconda\\envs\\py37\\lib\\site-packages\\ipykernel_launcher.py:79: RuntimeWarning: divide by zero encountered in log\n"
     ]
    },
    {
     "name": "stdout",
     "output_type": "stream",
     "text": [
      "test slant -0.8547695049970259 [-1.0219729  -1.45483733 -0.28159989 -0.71187416 -1.58624632]\n",
      "[0.6765068818224964, 0.6783103939250119, 0.6808258186995728, 0.6818699572852397, 0.685999050783104] [0.643598615916955, 0.6480836236933798, 0.6549295774647887, 0.6458333333333334, 0.6267123287671232]\n",
      "label_spreading_0.8_unbias\n",
      "[ 0 -1  1  0  0  0  0 -1  1 -1  0  0  1  1  0  0  0  0  1 -1  1  1  0  0\n",
      " -1  1 -1  1  1  0  1 -1 -1 -1  1  0 -1  0  1  0  0  1  1  1 -1  1  1  1\n",
      "  0 -1  0  1  0  1  1  0 -1  1 -1  1  0 -1  1  0  0 -1 -1  0  0 -1  0  0\n",
      "  0  1 -1 -1 -1  0 -1  1 -1  1 -1  0  0  1  0  1  0  1  1  0  1  0  1 -1\n",
      "  1 -1  1  1]\n"
     ]
    },
    {
     "name": "stderr",
     "output_type": "stream",
     "text": [
      "D:\\anaconda\\envs\\py37\\lib\\site-packages\\ipykernel_launcher.py:79: RuntimeWarning: divide by zero encountered in log\n"
     ]
    },
    {
     "name": "stdout",
     "output_type": "stream",
     "text": [
      "test slant -0.8405030322974658 [-0.88031531 -0.01497433 -0.81825308 -1.80705618 -0.8010787 ]\n",
      "[-1  0  0 -1 -1 -1 -1  0  1  1  1  1  0 -1  0  1  0  0  1  0 -1  0 -1  1\n",
      "  0  1  0  0 -1  0  0  1 -1 -1 -1  0 -1  1 -1  0 -1  1  1  0  0  0  1  1\n",
      "  0 -1  0  0  1  0  1 -1 -1  0  1  0  0 -1  0  0  0 -1  0  0 -1  0  0  1\n",
      "  0  1  0  0  1  1  0  1  1 -1 -1  0  1 -1  1  0 -1  1 -1  0  0  1  0  0\n",
      "  0 -1  1  0]\n"
     ]
    },
    {
     "name": "stderr",
     "output_type": "stream",
     "text": [
      "D:\\anaconda\\envs\\py37\\lib\\site-packages\\ipykernel_launcher.py:79: RuntimeWarning: divide by zero encountered in log\n"
     ]
    },
    {
     "name": "stdout",
     "output_type": "stream",
     "text": [
      "test slant -0.908421477600894 [-1.26507398 -1.06871071 -0.23321683 -0.7619039  -1.59855252]\n",
      "[ 1  1  1  1  1  0 -1  1 -1  0  0  1  0  1  0 -1  1  1  0 -1  0 -1  0 -1\n",
      "  1  0  0  1  0  1 -1  0  1  0  1  1  0  1  1  1  0  0  1  0  1  1  0  1\n",
      "  0 -1  1 -1  0  0 -1 -1  1  1 -1  0  1  1  1  0 -1  0  0  1  1  0  1  0\n",
      "  1  0  0 -1 -1 -1  0  0  0 -1  1  1  1  1  1 -1  1  0 -1  1  1  1  0 -1\n",
      "  1 -1  1  0]\n"
     ]
    },
    {
     "name": "stderr",
     "output_type": "stream",
     "text": [
      "D:\\anaconda\\envs\\py37\\lib\\site-packages\\ipykernel_launcher.py:79: RuntimeWarning: divide by zero encountered in log\n"
     ]
    },
    {
     "name": "stdout",
     "output_type": "stream",
     "text": [
      "test slant -0.9210511880010428 [-0.67612026 -1.71561804  0.21694673 -0.82404975 -1.25849094]\n",
      "[ 1  1  1  0 -1  1  0  1  0  0  0  0  0  1  1 -1  0  0  0  1  0  1  1  0\n",
      "  1 -1  0  0  1 -1  0  0 -1  0  0  1  0  1  1  0  0  0 -1  0  0 -1  1  0\n",
      "  1 -1  1  0 -1  1 -1 -1  1  0  0  1 -1  0  0  0  0  0  0  0  0  0  0 -1\n",
      "  1  0  0 -1  0 -1  1  1  0  0  1  1  1  0  1  0  0  1  1  1  1  0  0  0\n",
      " -1  0  1  0]\n"
     ]
    },
    {
     "name": "stderr",
     "output_type": "stream",
     "text": [
      "D:\\anaconda\\envs\\py37\\lib\\site-packages\\ipykernel_launcher.py:79: RuntimeWarning: divide by zero encountered in log\n"
     ]
    },
    {
     "name": "stdout",
     "output_type": "stream",
     "text": [
      "test slant -1.0415141948214508 [-0.46857449 -1.30867648 -1.98264097 -1.60177361 -0.70137344]\n",
      "[ 0  1  1  1 -1  1 -1 -1  0  1  1  1 -1  1  0 -1  0  0  1  0  0  1  0  0\n",
      "  1  0 -1  1  1  0  1 -1  0 -1  1  1  1  1 -1  0  1  0  1 -1  1  0  1  1\n",
      "  1  0 -1  0  0  1  1  0  1  1  0  1  1  0  0  0  0 -1 -1  1  0 -1  1  0\n",
      "  0 -1  0  1  1  1  0 -1 -1 -1  1  0  0  0  1  0 -1  0 -1  1  0  1  1  0\n",
      "  0  0  0  0]\n"
     ]
    },
    {
     "name": "stderr",
     "output_type": "stream",
     "text": [
      "D:\\anaconda\\envs\\py37\\lib\\site-packages\\ipykernel_launcher.py:79: RuntimeWarning: divide by zero encountered in log\n"
     ]
    },
    {
     "name": "stdout",
     "output_type": "stream",
     "text": [
      "test slant -0.9294798771932566 [-1.4744049  -2.44162515 -2.50508392 -0.83283157 -1.68097228]\n",
      "[0.6865685809207404, 0.68609397247271, 0.683531086853346, 0.6841006169909825, 0.6889416231608922] [0.6489795918367347, 0.6460905349794238, 0.6639676113360324, 0.6511627906976745, 0.6719367588932806]\n"
     ]
    }
   ],
   "source": [
    "rounds = 5\n",
    "topn = 500000\n",
    "notmasks = [0.01, 0.03, 0.05, 0.08, 0.1, 0.2, 0.4, 0.6, 0.8]\n",
    "\n",
    "# notmasks = [0.01]   \n",
    "# topn = 5000\n",
    "model_name = 'label_spreading'\n",
    "label_prop_model = LabelSpreading(kernel= 'knn', n_neighbors=15,  max_iter=200)\n",
    "# label_prop_model = LabelSpreading(kernel= rbf_kernel_safe,  max_iter=200)\n",
    "# for biased in [True, False]:\n",
    "for biased in [True, False]:\n",
    "  bia = 'bias'\n",
    "  if not biased:\n",
    "    bia = 'unbias'\n",
    "  f = open( r'D:\\projects\\congress\\results\\debatepol\\train\\SSL/{}_{}_1.txt'.format(model_name, bia), 'w')\n",
    "  f.write('\\taccs\\tpccs\\n')\n",
    "  for notmask in notmasks:\n",
    "    version = \"{}_{}_{}\".format(model_name, notmask, bia)\n",
    "    print(version)\n",
    "    \n",
    "    if biased:\n",
    "      accs = []\n",
    "      pccs = []\n",
    "      for __ in range(rounds):\n",
    "        trainid, testid = sample(parties_all, theta_categ, stance_all, biased = biased, notmask = notmask, extreme = extreme)\n",
    "        ys = np.copy(parties_all)\n",
    "        ys[testid] = -1\n",
    "\n",
    "        Xs = np.copy(ds_all)\n",
    "        Xidx = np.arange(len(Xs))\n",
    "      \n",
    "        np.random.shuffle(Xidx)\n",
    "        Xs = Xs[Xidx]\n",
    "        ys = ys[Xidx]\n",
    "        print(ys[:100])\n",
    "        label_prop_model.fit(Xs[:topn], ys[:topn])\n",
    "        Xt = ds_all[testid]\n",
    "        yt = parties_all[testid]\n",
    "        At = As_all[testid]\n",
    "        y_pred = label_prop_model.predict(Xt)\n",
    "        proba_pred = label_prop_model.predict_proba(Xt)\n",
    "        s_pred = np.array([np.log(i[1]*10000)- np.log(i[0]*10000) for i in proba_pred])\n",
    "        print(y_pred.mean(), len(s_pred) - np.isfinite(s_pred).sum())\n",
    "\n",
    "        acc = np.mean(y_pred == yt)\n",
    "        accs.append(acc)\n",
    "        \n",
    "        pcc = predict_party_membership(s_pred, yt, At)\n",
    "        pccs.append(pcc)\n",
    "        \n",
    "        \n",
    "      f.write(version)\n",
    "      print(accs, pccs)\n",
    "      f.write('\\t' + str(accs))\n",
    "      f.write('\\t' + str(pccs))\n",
    "      f.write('\\n')\n",
    "    else:\n",
    "      accs = []\n",
    "      pccs = []\n",
    "      for __ in range(rounds):\n",
    "        trainid, testid = sample(parties_all, theta_categ, stance_all, biased = biased, notmask = notmask, extreme = extreme)\n",
    "        ys = np.copy(parties_all)\n",
    "        ys[testid] = -1\n",
    "\n",
    "        Xs = np.copy(ds_all)\n",
    "        Xidx = np.arange(len(Xs))\n",
    "      \n",
    "        np.random.shuffle(Xidx)\n",
    "        Xs = Xs[Xidx]\n",
    "        ys = ys[Xidx]\n",
    "        print(ys[:100])\n",
    "        label_prop_model.fit(Xs[:topn], ys[:topn])\n",
    "        Xt = ds_all[testid]\n",
    "        yt = parties_all[testid]\n",
    "        At = As_all[testid]\n",
    "        y_pred = label_prop_model.predict(Xt)\n",
    "        \n",
    "        proba_pred = label_prop_model.predict_proba(Xt)\n",
    "        s_pred = np.array([np.log(i[1]*10000)- np.log(i[0]*10000) for i in proba_pred])\n",
    "        \n",
    "        acc = np.mean(y_pred == yt)\n",
    "        accs.append(acc)\n",
    "        \n",
    "        pcc = predict_party_membership(s_pred, yt, At)\n",
    "        pccs.append(pcc)\n",
    "        \n",
    "        \n",
    "      f.write(version)\n",
    "      print(accs, pccs)\n",
    "\n",
    "      f.write('\\t' + str(accs))\n",
    "      f.write('\\t' + str(pccs))\n",
    "      f.write('\\n')\n",
    "  f.close()"
   ]
  },
  {
   "cell_type": "code",
   "execution_count": null,
   "metadata": {},
   "outputs": [],
   "source": []
  }
 ],
 "metadata": {
  "colab": {
   "collapsed_sections": [],
   "name": "labelspreading.ipynb",
   "provenance": []
  },
  "kernelspec": {
   "display_name": "Python 3",
   "language": "python",
   "name": "python3"
  },
  "language_info": {
   "codemirror_mode": {
    "name": "ipython",
    "version": 3
   },
   "file_extension": ".py",
   "mimetype": "text/x-python",
   "name": "python",
   "nbconvert_exporter": "python",
   "pygments_lexer": "ipython3",
   "version": "3.7.6"
  }
 },
 "nbformat": 4,
 "nbformat_minor": 1
}
