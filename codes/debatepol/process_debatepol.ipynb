{
 "cells": [
  {
   "cell_type": "code",
   "execution_count": 1,
   "id": "7ca3e530",
   "metadata": {},
   "outputs": [
    {
     "name": "stderr",
     "output_type": "stream",
     "text": [
      "D:\\anaconda\\envs\\py37\\lib\\site-packages\\gensim\\utils.py:1209: UserWarning: detected Windows; aliasing chunkize to chunkize_serial\n",
      "  warnings.warn(\"detected Windows; aliasing chunkize to chunkize_serial\")\n"
     ]
    }
   ],
   "source": [
    "import numpy as np\n",
    "import pandas as pd\n",
    "import csv\n",
    "import json\n",
    "import os\n",
    "import ast\n",
    "from gensim.models.keyedvectors import KeyedVectors\n",
    "# from sklearn.cluster import KMeans\n",
    "# # import scipy.cluster.hierarchy as sch\n",
    "# from sklearn.cluster import AgglomerativeClustering\n",
    "from gensim.models import Word2Vec\n",
    "from scipy.special import comb\n",
    "import os\n",
    "\n",
    "from gensim.parsing.preprocessing import preprocess_string\n",
    "from gensim.parsing.preprocessing import strip_tags, strip_punctuation, strip_multiple_whitespaces, remove_stopwords\n",
    "import re\n"
   ]
  },
  {
   "cell_type": "code",
   "execution_count": 2,
   "id": "90696849",
   "metadata": {},
   "outputs": [],
   "source": [
    "datapath = r'D:\\projects\\congress\\data\\debate_politics\\filtered_data\\\\'"
   ]
  },
  {
   "cell_type": "code",
   "execution_count": 3,
   "id": "c1560741",
   "metadata": {},
   "outputs": [],
   "source": [
    "member = pd.read_csv(datapath + 'member_filtered.csv', index_col = 0)"
   ]
  },
  {
   "cell_type": "code",
   "execution_count": 4,
   "id": "aab585f1",
   "metadata": {},
   "outputs": [
    {
     "data": {
      "text/html": [
       "<div>\n",
       "<style scoped>\n",
       "    .dataframe tbody tr th:only-of-type {\n",
       "        vertical-align: middle;\n",
       "    }\n",
       "\n",
       "    .dataframe tbody tr th {\n",
       "        vertical-align: top;\n",
       "    }\n",
       "\n",
       "    .dataframe thead th {\n",
       "        text-align: right;\n",
       "    }\n",
       "</style>\n",
       "<table border=\"1\" class=\"dataframe\">\n",
       "  <thead>\n",
       "    <tr style=\"text-align: right;\">\n",
       "      <th></th>\n",
       "      <th>&lt;fullpath&gt;</th>\n",
       "      <th>name</th>\n",
       "      <th>massages</th>\n",
       "      <th>score</th>\n",
       "      <th>points</th>\n",
       "      <th>awards</th>\n",
       "      <th>birthday</th>\n",
       "      <th>location</th>\n",
       "      <th>gender</th>\n",
       "      <th>occupation</th>\n",
       "      <th>political_leaning</th>\n",
       "      <th>signature</th>\n",
       "    </tr>\n",
       "  </thead>\n",
       "  <tbody>\n",
       "    <tr>\n",
       "      <th>0</th>\n",
       "      <td>https://debatepolitics.com/members/r-ighteous-...</td>\n",
       "      <td>(R)IGHTeous 1</td>\n",
       "      <td>152</td>\n",
       "      <td>12</td>\n",
       "      <td>0</td>\n",
       "      <td>NaN</td>\n",
       "      <td>Feb 2, 1986\\n\\t\\t\\t\\t\\t\\t\\t\\t\\t\\t\\n\\t\\t\\t\\t\\t\\...</td>\n",
       "      <td>southeast PA</td>\n",
       "      <td>Male</td>\n",
       "      <td>FB page.....</td>\n",
       "      <td>Conservative</td>\n",
       "      <td>THIS is what a young, urban, mixed Latino, GAY...</td>\n",
       "    </tr>\n",
       "    <tr>\n",
       "      <th>1</th>\n",
       "      <td>https://debatepolitics.com/members/oozlefinch....</td>\n",
       "      <td>Oozlefinch</td>\n",
       "      <td>14,128</td>\n",
       "      <td>10,629</td>\n",
       "      <td>0</td>\n",
       "      <td>17</td>\n",
       "      <td>Dec 27, 1964\\n\\t\\t\\t\\t\\t\\t\\t\\t\\t\\t\\n\\t\\t\\t\\t\\t...</td>\n",
       "      <td>State of Jefferson</td>\n",
       "      <td>Male</td>\n",
       "      <td>Computer Technician</td>\n",
       "      <td>Moderate</td>\n",
       "      <td>War is an ugly thing, but not the ugliest of t...</td>\n",
       "    </tr>\n",
       "    <tr>\n",
       "      <th>4</th>\n",
       "      <td>https://debatepolitics.com/members/peteeu.2747...</td>\n",
       "      <td>PeteEU</td>\n",
       "      <td>35,962</td>\n",
       "      <td>12,440</td>\n",
       "      <td>0</td>\n",
       "      <td>19</td>\n",
       "      <td>NaN</td>\n",
       "      <td>Denmark</td>\n",
       "      <td>Male</td>\n",
       "      <td>Self employed</td>\n",
       "      <td>Centrist</td>\n",
       "      <td>PeteEU</td>\n",
       "    </tr>\n",
       "    <tr>\n",
       "      <th>7</th>\n",
       "      <td>https://debatepolitics.com/members/wangyong.38...</td>\n",
       "      <td>WangYong</td>\n",
       "      <td>0</td>\n",
       "      <td>0</td>\n",
       "      <td>0</td>\n",
       "      <td>NaN</td>\n",
       "      <td>February 1</td>\n",
       "      <td>NaN</td>\n",
       "      <td>Male</td>\n",
       "      <td>NaN</td>\n",
       "      <td>Liberal</td>\n",
       "      <td>NaN</td>\n",
       "    </tr>\n",
       "    <tr>\n",
       "      <th>8</th>\n",
       "      <td>https://debatepolitics.com/members/catzrock.37...</td>\n",
       "      <td>!CatzRock</td>\n",
       "      <td>3</td>\n",
       "      <td>1</td>\n",
       "      <td>0</td>\n",
       "      <td>NaN</td>\n",
       "      <td>May 24</td>\n",
       "      <td>NaN</td>\n",
       "      <td>NaN</td>\n",
       "      <td>NaN</td>\n",
       "      <td>Conservative</td>\n",
       "      <td>NaN</td>\n",
       "    </tr>\n",
       "    <tr>\n",
       "      <th>...</th>\n",
       "      <td>...</td>\n",
       "      <td>...</td>\n",
       "      <td>...</td>\n",
       "      <td>...</td>\n",
       "      <td>...</td>\n",
       "      <td>...</td>\n",
       "      <td>...</td>\n",
       "      <td>...</td>\n",
       "      <td>...</td>\n",
       "      <td>...</td>\n",
       "      <td>...</td>\n",
       "      <td>...</td>\n",
       "    </tr>\n",
       "    <tr>\n",
       "      <th>14279</th>\n",
       "      <td>https://debatepolitics.com/members/waterwolf.2...</td>\n",
       "      <td>Waterwolf</td>\n",
       "      <td>9</td>\n",
       "      <td>3</td>\n",
       "      <td>0</td>\n",
       "      <td>NaN</td>\n",
       "      <td>NaN</td>\n",
       "      <td>New Jersey</td>\n",
       "      <td>Male</td>\n",
       "      <td>Semi-Retired Home Health R.N.</td>\n",
       "      <td>Moderate</td>\n",
       "      <td>NaN</td>\n",
       "    </tr>\n",
       "    <tr>\n",
       "      <th>14281</th>\n",
       "      <td>https://debatepolitics.com/members/wbreese91.8...</td>\n",
       "      <td>wbreese91</td>\n",
       "      <td>407</td>\n",
       "      <td>111</td>\n",
       "      <td>0</td>\n",
       "      <td>NaN</td>\n",
       "      <td>NaN</td>\n",
       "      <td>Marietta, Ohio</td>\n",
       "      <td>Male</td>\n",
       "      <td>College Student, Marietta College</td>\n",
       "      <td>Centrist</td>\n",
       "      <td>“Justitia suum cuique distribuit” Justice rend...</td>\n",
       "    </tr>\n",
       "    <tr>\n",
       "      <th>14283</th>\n",
       "      <td>https://debatepolitics.com/members/wdavis.2073...</td>\n",
       "      <td>wdavis</td>\n",
       "      <td>15</td>\n",
       "      <td>3</td>\n",
       "      <td>0</td>\n",
       "      <td>NaN</td>\n",
       "      <td>NaN</td>\n",
       "      <td>NaN</td>\n",
       "      <td>Male</td>\n",
       "      <td>NaN</td>\n",
       "      <td>Moderate</td>\n",
       "      <td>NaN</td>\n",
       "    </tr>\n",
       "    <tr>\n",
       "      <th>14286</th>\n",
       "      <td>https://debatepolitics.com/members/weirdojoker...</td>\n",
       "      <td>WeirdoJoker</td>\n",
       "      <td>48</td>\n",
       "      <td>20</td>\n",
       "      <td>0</td>\n",
       "      <td>NaN</td>\n",
       "      <td>NaN</td>\n",
       "      <td>The Twilight Zone</td>\n",
       "      <td>Male</td>\n",
       "      <td>Solo-practice attorney</td>\n",
       "      <td>Liberal</td>\n",
       "      <td>Aarf!  --Shadowfax</td>\n",
       "    </tr>\n",
       "    <tr>\n",
       "      <th>14291</th>\n",
       "      <td>https://debatepolitics.com/members/wessexman.6...</td>\n",
       "      <td>Wessexman</td>\n",
       "      <td>8,468</td>\n",
       "      <td>1,574</td>\n",
       "      <td>0</td>\n",
       "      <td>NaN</td>\n",
       "      <td>NaN</td>\n",
       "      <td>Sydney, Australia(but my heart is back in Dors...</td>\n",
       "      <td>Male</td>\n",
       "      <td>Student.</td>\n",
       "      <td>Very Conservative</td>\n",
       "      <td>\"It is written in the eternal constitution tha...</td>\n",
       "    </tr>\n",
       "  </tbody>\n",
       "</table>\n",
       "<p>4816 rows × 12 columns</p>\n",
       "</div>"
      ],
      "text/plain": [
       "                                              <fullpath>           name  \\\n",
       "0      https://debatepolitics.com/members/r-ighteous-...  (R)IGHTeous 1   \n",
       "1      https://debatepolitics.com/members/oozlefinch....     Oozlefinch   \n",
       "4      https://debatepolitics.com/members/peteeu.2747...         PeteEU   \n",
       "7      https://debatepolitics.com/members/wangyong.38...       WangYong   \n",
       "8      https://debatepolitics.com/members/catzrock.37...      !CatzRock   \n",
       "...                                                  ...            ...   \n",
       "14279  https://debatepolitics.com/members/waterwolf.2...      Waterwolf   \n",
       "14281  https://debatepolitics.com/members/wbreese91.8...      wbreese91   \n",
       "14283  https://debatepolitics.com/members/wdavis.2073...         wdavis   \n",
       "14286  https://debatepolitics.com/members/weirdojoker...    WeirdoJoker   \n",
       "14291  https://debatepolitics.com/members/wessexman.6...      Wessexman   \n",
       "\n",
       "      massages   score  points awards  \\\n",
       "0          152      12       0    NaN   \n",
       "1       14,128  10,629       0     17   \n",
       "4       35,962  12,440       0     19   \n",
       "7            0       0       0    NaN   \n",
       "8            3       1       0    NaN   \n",
       "...        ...     ...     ...    ...   \n",
       "14279        9       3       0    NaN   \n",
       "14281      407     111       0    NaN   \n",
       "14283       15       3       0    NaN   \n",
       "14286       48      20       0    NaN   \n",
       "14291    8,468   1,574       0    NaN   \n",
       "\n",
       "                                                birthday  \\\n",
       "0      Feb 2, 1986\\n\\t\\t\\t\\t\\t\\t\\t\\t\\t\\t\\n\\t\\t\\t\\t\\t\\...   \n",
       "1      Dec 27, 1964\\n\\t\\t\\t\\t\\t\\t\\t\\t\\t\\t\\n\\t\\t\\t\\t\\t...   \n",
       "4                                                    NaN   \n",
       "7                                             February 1   \n",
       "8                                                 May 24   \n",
       "...                                                  ...   \n",
       "14279                                                NaN   \n",
       "14281                                                NaN   \n",
       "14283                                                NaN   \n",
       "14286                                                NaN   \n",
       "14291                                                NaN   \n",
       "\n",
       "                                                location gender  \\\n",
       "0                                           southeast PA   Male   \n",
       "1                                     State of Jefferson   Male   \n",
       "4                                                Denmark   Male   \n",
       "7                                                    NaN   Male   \n",
       "8                                                    NaN    NaN   \n",
       "...                                                  ...    ...   \n",
       "14279                                         New Jersey   Male   \n",
       "14281                                     Marietta, Ohio   Male   \n",
       "14283                                                NaN   Male   \n",
       "14286                                  The Twilight Zone   Male   \n",
       "14291  Sydney, Australia(but my heart is back in Dors...   Male   \n",
       "\n",
       "                              occupation  political_leaning  \\\n",
       "0                           FB page.....       Conservative   \n",
       "1                    Computer Technician           Moderate   \n",
       "4                          Self employed           Centrist   \n",
       "7                                    NaN            Liberal   \n",
       "8                                    NaN       Conservative   \n",
       "...                                  ...                ...   \n",
       "14279      Semi-Retired Home Health R.N.           Moderate   \n",
       "14281  College Student, Marietta College           Centrist   \n",
       "14283                                NaN           Moderate   \n",
       "14286             Solo-practice attorney            Liberal   \n",
       "14291                           Student.  Very Conservative   \n",
       "\n",
       "                                               signature  \n",
       "0      THIS is what a young, urban, mixed Latino, GAY...  \n",
       "1      War is an ugly thing, but not the ugliest of t...  \n",
       "4                                                 PeteEU  \n",
       "7                                                    NaN  \n",
       "8                                                    NaN  \n",
       "...                                                  ...  \n",
       "14279                                                NaN  \n",
       "14281  “Justitia suum cuique distribuit” Justice rend...  \n",
       "14283                                                NaN  \n",
       "14286                                 Aarf!  --Shadowfax  \n",
       "14291  \"It is written in the eternal constitution tha...  \n",
       "\n",
       "[4816 rows x 12 columns]"
      ]
     },
     "execution_count": 4,
     "metadata": {},
     "output_type": "execute_result"
    }
   ],
   "source": [
    "member"
   ]
  },
  {
   "cell_type": "code",
   "execution_count": 5,
   "id": "8dfc2e31",
   "metadata": {},
   "outputs": [
    {
     "data": {
      "text/plain": [
       "array(['Conservative', 'Moderate', 'Centrist', 'Liberal',\n",
       "       'Slightly Conservative', 'Slightly Liberal', 'Very Liberal',\n",
       "       'Very Conservative'], dtype=object)"
      ]
     },
     "execution_count": 5,
     "metadata": {},
     "output_type": "execute_result"
    }
   ],
   "source": [
    "member['political_leaning'].unique()"
   ]
  },
  {
   "cell_type": "code",
   "execution_count": 6,
   "id": "84754747",
   "metadata": {},
   "outputs": [],
   "source": [
    "# get 7 scale measurement, 7 most lib, 1 most conservative\n",
    "def func(string):\n",
    "    a = 4\n",
    "    if string ==\"Conservative\":\n",
    "        a = 2\n",
    "    if string == 'Very Conservative':\n",
    "        a = 1\n",
    "    if string == 'Very Liberal':\n",
    "        a = 7\n",
    "    if string == 'Liberal':\n",
    "        a = 6\n",
    "    if string == 'Slightly Liberal':\n",
    "        a = 5\n",
    "    if string == 'Slightly Conservative':\n",
    "        a = 3\n",
    "    return a\n",
    "member['slant_lib'] = member.loc[:, 'political_leaning'].apply(func)"
   ]
  },
  {
   "cell_type": "code",
   "execution_count": 154,
   "id": "39fb050a",
   "metadata": {},
   "outputs": [
    {
     "data": {
      "text/plain": [
       "0        2\n",
       "1        4\n",
       "4        4\n",
       "7        6\n",
       "8        2\n",
       "        ..\n",
       "14279    4\n",
       "14281    4\n",
       "14283    4\n",
       "14286    6\n",
       "14291    1\n",
       "Name: slant_lib, Length: 4816, dtype: int64"
      ]
     },
     "execution_count": 154,
     "metadata": {},
     "output_type": "execute_result"
    }
   ],
   "source": [
    "member['slant_lib']"
   ]
  },
  {
   "cell_type": "code",
   "execution_count": null,
   "id": "3a0f1919",
   "metadata": {},
   "outputs": [],
   "source": [
    "# get percentagage of lib:con\n"
   ]
  },
  {
   "cell_type": "code",
   "execution_count": 155,
   "id": "533fa4d4",
   "metadata": {},
   "outputs": [],
   "source": [
    "speeches_raw = pd.read_csv(datapath + 'debatepolitics_filtered.csv', index_col = None)"
   ]
  },
  {
   "cell_type": "code",
   "execution_count": 156,
   "id": "7113b394",
   "metadata": {},
   "outputs": [
    {
     "data": {
      "text/html": [
       "<div>\n",
       "<style scoped>\n",
       "    .dataframe tbody tr th:only-of-type {\n",
       "        vertical-align: middle;\n",
       "    }\n",
       "\n",
       "    .dataframe tbody tr th {\n",
       "        vertical-align: top;\n",
       "    }\n",
       "\n",
       "    .dataframe thead th {\n",
       "        text-align: right;\n",
       "    }\n",
       "</style>\n",
       "<table border=\"1\" class=\"dataframe\">\n",
       "  <thead>\n",
       "    <tr style=\"text-align: right;\">\n",
       "      <th></th>\n",
       "      <th>&lt;fullpath&gt;</th>\n",
       "      <th>一级论坛</th>\n",
       "      <th>二级论坛</th>\n",
       "      <th>三级论坛</th>\n",
       "      <th>标题</th>\n",
       "      <th>主贴发布时间</th>\n",
       "      <th>正文</th>\n",
       "      <th>作者</th>\n",
       "      <th>作者链接</th>\n",
       "      <th>发布时间</th>\n",
       "      <th>点赞用户</th>\n",
       "    </tr>\n",
       "  </thead>\n",
       "  <tbody>\n",
       "    <tr>\n",
       "      <th>0</th>\n",
       "      <td>https://debatepolitics.com/threads/is-a-normal...</td>\n",
       "      <td>Political forums</td>\n",
       "      <td>Abortion</td>\n",
       "      <td>NaN</td>\n",
       "      <td>Is a normally developing ZEF alive?</td>\n",
       "      <td>2021-06-23T00:08:21+0800</td>\n",
       "      <td>I expect to thread to go this well</td>\n",
       "      <td>tacomancer</td>\n",
       "      <td>https://debatepolitics.com/members/tacomancer....</td>\n",
       "      <td>2021-06-22T12:27:05-0400</td>\n",
       "      <td>OrphanSlug, RaleBulgarian, OlNate and 3 others</td>\n",
       "    </tr>\n",
       "    <tr>\n",
       "      <th>1</th>\n",
       "      <td>https://debatepolitics.com/threads/is-a-normal...</td>\n",
       "      <td>Political forums</td>\n",
       "      <td>Abortion</td>\n",
       "      <td>NaN</td>\n",
       "      <td>Is a normally developing ZEF alive?</td>\n",
       "      <td>2021-06-23T00:08:21+0800</td>\n",
       "      <td>Josie said:\\n\\t\\t\\t\\n\\t\\t\\n\\t\\n\\t\\n\\t\\t\\n\\t\\t\\...</td>\n",
       "      <td>Lutherf</td>\n",
       "      <td>https://debatepolitics.com/members/lutherf.18873/</td>\n",
       "      <td>2021-06-22T12:32:53-0400</td>\n",
       "      <td>code1211, LadyMoonlight, vesper and 4 others</td>\n",
       "    </tr>\n",
       "    <tr>\n",
       "      <th>2</th>\n",
       "      <td>https://debatepolitics.com/threads/is-a-normal...</td>\n",
       "      <td>Political forums</td>\n",
       "      <td>Abortion</td>\n",
       "      <td>NaN</td>\n",
       "      <td>Is a normally developing ZEF alive?</td>\n",
       "      <td>2021-06-23T00:08:21+0800</td>\n",
       "      <td>ecofarm said:\\n\\t\\t\\t\\n\\t\\t\\n\\t\\n\\t\\n\\t\\t\\n\\t\\...</td>\n",
       "      <td>Lutherf</td>\n",
       "      <td>https://debatepolitics.com/members/lutherf.18873/</td>\n",
       "      <td>2021-06-22T12:48:29-0400</td>\n",
       "      <td>trixare4kids</td>\n",
       "    </tr>\n",
       "    <tr>\n",
       "      <th>3</th>\n",
       "      <td>https://debatepolitics.com/threads/is-a-normal...</td>\n",
       "      <td>Political forums</td>\n",
       "      <td>Abortion</td>\n",
       "      <td>NaN</td>\n",
       "      <td>Is a normally developing ZEF alive?</td>\n",
       "      <td>2021-06-23T00:08:21+0800</td>\n",
       "      <td>tacomancer said:\\n\\t\\t\\t\\n\\t\\t\\n\\t\\n\\t\\n\\t\\t\\n...</td>\n",
       "      <td>Dragonfly</td>\n",
       "      <td>https://debatepolitics.com/members/dragonfly.4...</td>\n",
       "      <td>2021-06-22T12:54:54-0400</td>\n",
       "      <td>OlNate</td>\n",
       "    </tr>\n",
       "    <tr>\n",
       "      <th>4</th>\n",
       "      <td>https://debatepolitics.com/threads/is-a-normal...</td>\n",
       "      <td>Political forums</td>\n",
       "      <td>Abortion</td>\n",
       "      <td>NaN</td>\n",
       "      <td>Is a normally developing ZEF alive?</td>\n",
       "      <td>2021-06-23T00:08:21+0800</td>\n",
       "      <td>Josie said:\\n\\t\\t\\t\\n\\t\\t\\n\\t\\n\\t\\n\\t\\t\\n\\t\\t\\...</td>\n",
       "      <td>Patriotic Voter</td>\n",
       "      <td>https://debatepolitics.com/members/patriotic-v...</td>\n",
       "      <td>2021-06-22T13:02:59-0400</td>\n",
       "      <td>Josie</td>\n",
       "    </tr>\n",
       "  </tbody>\n",
       "</table>\n",
       "</div>"
      ],
      "text/plain": [
       "                                          <fullpath>              一级论坛  \\\n",
       "0  https://debatepolitics.com/threads/is-a-normal...  Political forums   \n",
       "1  https://debatepolitics.com/threads/is-a-normal...  Political forums   \n",
       "2  https://debatepolitics.com/threads/is-a-normal...  Political forums   \n",
       "3  https://debatepolitics.com/threads/is-a-normal...  Political forums   \n",
       "4  https://debatepolitics.com/threads/is-a-normal...  Political forums   \n",
       "\n",
       "       二级论坛 三级论坛                                   标题  \\\n",
       "0  Abortion  NaN  Is a normally developing ZEF alive?   \n",
       "1  Abortion  NaN  Is a normally developing ZEF alive?   \n",
       "2  Abortion  NaN  Is a normally developing ZEF alive?   \n",
       "3  Abortion  NaN  Is a normally developing ZEF alive?   \n",
       "4  Abortion  NaN  Is a normally developing ZEF alive?   \n",
       "\n",
       "                     主贴发布时间  \\\n",
       "0  2021-06-23T00:08:21+0800   \n",
       "1  2021-06-23T00:08:21+0800   \n",
       "2  2021-06-23T00:08:21+0800   \n",
       "3  2021-06-23T00:08:21+0800   \n",
       "4  2021-06-23T00:08:21+0800   \n",
       "\n",
       "                                                  正文               作者  \\\n",
       "0                 I expect to thread to go this well       tacomancer   \n",
       "1  Josie said:\\n\\t\\t\\t\\n\\t\\t\\n\\t\\n\\t\\n\\t\\t\\n\\t\\t\\...          Lutherf   \n",
       "2  ecofarm said:\\n\\t\\t\\t\\n\\t\\t\\n\\t\\n\\t\\n\\t\\t\\n\\t\\...          Lutherf   \n",
       "3  tacomancer said:\\n\\t\\t\\t\\n\\t\\t\\n\\t\\n\\t\\n\\t\\t\\n...        Dragonfly   \n",
       "4  Josie said:\\n\\t\\t\\t\\n\\t\\t\\n\\t\\n\\t\\n\\t\\t\\n\\t\\t\\...  Patriotic Voter   \n",
       "\n",
       "                                                作者链接  \\\n",
       "0  https://debatepolitics.com/members/tacomancer....   \n",
       "1  https://debatepolitics.com/members/lutherf.18873/   \n",
       "2  https://debatepolitics.com/members/lutherf.18873/   \n",
       "3  https://debatepolitics.com/members/dragonfly.4...   \n",
       "4  https://debatepolitics.com/members/patriotic-v...   \n",
       "\n",
       "                       发布时间                                            点赞用户  \n",
       "0  2021-06-22T12:27:05-0400  OrphanSlug, RaleBulgarian, OlNate and 3 others  \n",
       "1  2021-06-22T12:32:53-0400    code1211, LadyMoonlight, vesper and 4 others  \n",
       "2  2021-06-22T12:48:29-0400                                    trixare4kids  \n",
       "3  2021-06-22T12:54:54-0400                                          OlNate  \n",
       "4  2021-06-22T13:02:59-0400                                           Josie  "
      ]
     },
     "execution_count": 156,
     "metadata": {},
     "output_type": "execute_result"
    }
   ],
   "source": [
    "speeches_raw.head()"
   ]
  },
  {
   "cell_type": "code",
   "execution_count": 161,
   "id": "7fc9956e",
   "metadata": {},
   "outputs": [
    {
     "data": {
      "text/plain": [
       "array(['Abortion', 'General Political Discussion',\n",
       "       'International Politics', 'US State and Local', 'US Constitution',\n",
       "       'US Partisan Politics and Political Platforms', 'Military',\n",
       "       'Law and Order', 'Tech Support', 'Archives',\n",
       "       'Battle Grounds and Disputations', 'Bias in the Media',\n",
       "       'Sex and Sexuality', 'Feedback / Suggestions',\n",
       "       'Announcements / Forum News', 'The Loft',\n",
       "       'COVID-19 - Coronavirus Disease', 'DP Games',\n",
       "       'Government Spending and Debt', 'Government Regulation',\n",
       "       'Breaking News', 'Come in and say Hi', 'Leisure Activities'],\n",
       "      dtype=object)"
      ]
     },
     "execution_count": 161,
     "metadata": {},
     "output_type": "execute_result"
    }
   ],
   "source": [
    "speeches_raw.loc[:, '二级论坛'].unique()"
   ]
  },
  {
   "cell_type": "code",
   "execution_count": 162,
   "id": "e12281b5",
   "metadata": {},
   "outputs": [],
   "source": [
    "# speeches_sel = speeches_raw.loc[speeches_raw.loc[:, '二级论坛'].isin(['Abortion'])]"
   ]
  },
  {
   "cell_type": "code",
   "execution_count": 163,
   "id": "4448bde4",
   "metadata": {},
   "outputs": [],
   "source": [
    "# a = speeches_sel['正文'].iloc[0]"
   ]
  },
  {
   "cell_type": "code",
   "execution_count": 164,
   "id": "0fed30bb",
   "metadata": {},
   "outputs": [],
   "source": [
    "cliches = r'Click to expand...'"
   ]
  },
  {
   "cell_type": "code",
   "execution_count": 165,
   "id": "0a44d0b3",
   "metadata": {},
   "outputs": [],
   "source": [
    "# remove quotes, which is before cliches\n",
    "\n",
    "# a.split(cliches)"
   ]
  },
  {
   "cell_type": "code",
   "execution_count": 166,
   "id": "4178d38a",
   "metadata": {},
   "outputs": [],
   "source": [
    "speeches_raw['speech']= speeches_raw.loc[:, '正文'].apply(lambda x: x.split(cliches)[-1] if x is not np.nan else \"\")"
   ]
  },
  {
   "cell_type": "code",
   "execution_count": 167,
   "id": "8390665d",
   "metadata": {},
   "outputs": [
    {
     "data": {
      "text/plain": [
       "0                   I expect to thread to go this well\n",
       "1    \\n\\t\\nIt isn't a \"ZEF\". It's a human.\\n\\nWhen ...\n",
       "2    \\n\\t\\nHey! There's another forum you can use t...\n",
       "3                      \\n\\t\\nBest post of the month!!!\n",
       "4    \\n\\t\\n\\nOf course it is. Life begins at fertil...\n",
       "Name: speech, dtype: object"
      ]
     },
     "execution_count": 167,
     "metadata": {},
     "output_type": "execute_result"
    }
   ],
   "source": [
    "speeches_raw['speech'].head()"
   ]
  },
  {
   "cell_type": "code",
   "execution_count": 168,
   "id": "514d8147",
   "metadata": {},
   "outputs": [],
   "source": [
    "import re"
   ]
  },
  {
   "cell_type": "code",
   "execution_count": 169,
   "id": "4f8727c1",
   "metadata": {},
   "outputs": [],
   "source": [
    "regex = re.compile('[^a-zA-Z ]')\n",
    "speeches_raw['speech'] = speeches_raw['speech'].apply(lambda x: re.sub('\\s+', ' ', regex.sub('',x)).lower())\\\n",
    "    .apply(lambda x: re.sub(r'\\b(were|youre|im|hes|shes|theyre|ive)\\b','',x))\\\n",
    "    .apply(lambda x: re.sub(r'\\b(didnt|dont|doesnt|cant|wont|havent|hasnt|isnt)\\b', 'not',x))"
   ]
  },
  {
   "cell_type": "code",
   "execution_count": 170,
   "id": "552555a9",
   "metadata": {},
   "outputs": [
    {
     "data": {
      "text/plain": [
       "0                   i expect to thread to go this well\n",
       "1    it not a zef its a humanwhen a human egg is fe...\n",
       "2    hey theres another forum you can use to troll ...\n",
       "3                               best post of the month\n",
       "4    of course it is life begins at fertilization t...\n",
       "Name: speech, dtype: object"
      ]
     },
     "execution_count": 170,
     "metadata": {},
     "output_type": "execute_result"
    }
   ],
   "source": [
    "speeches_raw['speech'].head()"
   ]
  },
  {
   "cell_type": "code",
   "execution_count": 171,
   "id": "539b6371",
   "metadata": {},
   "outputs": [],
   "source": [
    "from gensim.parsing.preprocessing import preprocess_string\n",
    "from gensim.parsing.preprocessing import strip_tags, strip_punctuation, strip_multiple_whitespaces, remove_stopwords\n",
    "from gensim.models.keyedvectors import KeyedVectors\n",
    "# from sklearn.cluster import KMeans\n",
    "# # import scipy.cluster.hierarchy as sch\n",
    "# from sklearn.cluster import AgglomerativeClustering\n",
    "from gensim.models import Word2Vec"
   ]
  },
  {
   "cell_type": "code",
   "execution_count": 172,
   "id": "d1dce8a2",
   "metadata": {},
   "outputs": [],
   "source": [
    "CUSTOM_FILTERS = [strip_tags, strip_punctuation, strip_multiple_whitespaces, remove_stopwords]"
   ]
  },
  {
   "cell_type": "code",
   "execution_count": 173,
   "id": "f9a63954",
   "metadata": {},
   "outputs": [],
   "source": [
    "speeches_raw['speech_proc'] = speeches_raw.loc[:, 'speech'].apply(lambda x: preprocess_string(x, CUSTOM_FILTERS))"
   ]
  },
  {
   "cell_type": "code",
   "execution_count": 174,
   "id": "f7f7fa06",
   "metadata": {},
   "outputs": [
    {
     "data": {
      "text/plain": [
       "count    1.431723e+06\n",
       "mean     2.205551e+01\n",
       "std      2.818411e+01\n",
       "min      0.000000e+00\n",
       "25%      6.000000e+00\n",
       "50%      1.400000e+01\n",
       "75%      2.700000e+01\n",
       "max      6.720000e+02\n",
       "Name: speech_proc, dtype: float64"
      ]
     },
     "execution_count": 174,
     "metadata": {},
     "output_type": "execute_result"
    }
   ],
   "source": [
    "speeches_raw['speech_proc'].apply(lambda x: len(x)).describe()"
   ]
  },
  {
   "cell_type": "code",
   "execution_count": 175,
   "id": "f0b7d147",
   "metadata": {},
   "outputs": [
    {
     "data": {
      "text/plain": [
       "174064     [thisrun, candidates, like, mcgrath, orouke, j...\n",
       "901876     [chose, tap, issue, brief, reply, instead, add...\n",
       "1276605    [police, officer, thinks, appreciably, safer, ...\n",
       "1228786    [ship, democracy, weathered, storms, sink, mut...\n",
       "955980     [demand, artificially, supported, deficit, spe...\n",
       "                                 ...                        \n",
       "162540     [million, lifetime, capfirst, thats, particula...\n",
       "375149                                    [teach, act, like]\n",
       "871950     [care, vote, abortion, alabama, long, choice, ...\n",
       "845567     [gun, fantasies, concern, mejust, need, hand, ...\n",
       "993037     [yes, agree, mean, imply, entering, country, i...\n",
       "Name: speech_proc, Length: 1000, dtype: object"
      ]
     },
     "execution_count": 175,
     "metadata": {},
     "output_type": "execute_result"
    }
   ],
   "source": [
    "speeches_raw['speech_proc'].sample(1000)"
   ]
  },
  {
   "cell_type": "code",
   "execution_count": 176,
   "id": "47757eb8",
   "metadata": {},
   "outputs": [],
   "source": [
    "speeches_raw['speech_proc2'] = speeches_raw['speech_proc'].apply(lambda x: [i for i in x if (not i.startswith('http')) and (not i.startswith('www'))]).apply(lambda x: [i for i in x if len(i)<=25 and len(i)>=2])"
   ]
  },
  {
   "cell_type": "code",
   "execution_count": 177,
   "id": "5f9cd6da",
   "metadata": {},
   "outputs": [
    {
     "data": {
      "text/plain": [
       "0                                     [expect, thread]\n",
       "1    [zef, humanwhen, human, egg, fertilized, resul...\n",
       "2       [hey, theres, forum, use, troll, like, thread]\n",
       "3                                  [best, post, month]\n",
       "4    [course, life, begins, fertilization, proven, ...\n",
       "Name: speech_proc2, dtype: object"
      ]
     },
     "execution_count": 177,
     "metadata": {},
     "output_type": "execute_result"
    }
   ],
   "source": [
    "speeches_raw['speech_proc2'].head()"
   ]
  },
  {
   "cell_type": "code",
   "execution_count": 178,
   "id": "cb80600b",
   "metadata": {},
   "outputs": [],
   "source": [
    "speeches_long = speeches_raw.loc[speeches_raw['speech_proc2'].apply(lambda x: len(x))>=10]"
   ]
  },
  {
   "cell_type": "code",
   "execution_count": 179,
   "id": "df20a709",
   "metadata": {},
   "outputs": [],
   "source": [
    "del speeches_raw"
   ]
  },
  {
   "cell_type": "code",
   "execution_count": null,
   "id": "1580758d",
   "metadata": {},
   "outputs": [],
   "source": [
    "# step 1 update word embedding"
   ]
  },
  {
   "cell_type": "code",
   "execution_count": 180,
   "id": "75f329f7",
   "metadata": {},
   "outputs": [],
   "source": [
    "sentences= speeches_long.speech_proc2.values.tolist()"
   ]
  },
  {
   "cell_type": "code",
   "execution_count": 181,
   "id": "b802503a",
   "metadata": {},
   "outputs": [
    {
     "data": {
      "text/plain": [
       "895811"
      ]
     },
     "execution_count": 181,
     "metadata": {},
     "output_type": "execute_result"
    }
   ],
   "source": [
    "len(sentences)"
   ]
  },
  {
   "cell_type": "code",
   "execution_count": 182,
   "id": "922d32d0",
   "metadata": {},
   "outputs": [],
   "source": [
    "sentences = np.array(sentences)"
   ]
  },
  {
   "cell_type": "code",
   "execution_count": 183,
   "id": "ccefbb90",
   "metadata": {},
   "outputs": [],
   "source": [
    "model = Word2Vec.load(r'D:\\projects\\congress\\embedding/' + r'w2v_update_to_trump.model')"
   ]
  },
  {
   "cell_type": "code",
   "execution_count": 184,
   "id": "3bd1689a",
   "metadata": {},
   "outputs": [],
   "source": [
    "model.build_vocab(sentences, update= True)"
   ]
  },
  {
   "cell_type": "code",
   "execution_count": 185,
   "id": "14623c2b",
   "metadata": {},
   "outputs": [
    {
     "data": {
      "text/plain": [
       "(138578223, 144763120)"
      ]
     },
     "execution_count": 185,
     "metadata": {},
     "output_type": "execute_result"
    }
   ],
   "source": [
    "model.train(sentences, total_examples=model.corpus_count, epochs = 5)"
   ]
  },
  {
   "cell_type": "code",
   "execution_count": 186,
   "id": "906700a4",
   "metadata": {},
   "outputs": [],
   "source": [
    "model.save(r'D:\\projects\\congress\\embedding/' + 'w2v_from_trump_to_debatepol.model')"
   ]
  },
  {
   "cell_type": "code",
   "execution_count": 192,
   "id": "eadaf338",
   "metadata": {},
   "outputs": [],
   "source": [
    "model.wv.save(r'D:\\projects\\congress\\embedding/' + 'kv_trump_to_debatepol.kv')"
   ]
  },
  {
   "cell_type": "code",
   "execution_count": null,
   "id": "1b97ad10",
   "metadata": {},
   "outputs": [],
   "source": []
  },
  {
   "cell_type": "code",
   "execution_count": null,
   "id": "2d76af7b",
   "metadata": {},
   "outputs": [],
   "source": [
    "# step 2: update topic vectors"
   ]
  },
  {
   "cell_type": "code",
   "execution_count": 194,
   "id": "a7032287",
   "metadata": {},
   "outputs": [],
   "source": [
    "id_topics_dic = {0: 'ip', 1: 'it', 2: 'abortion', 3: 'academic', 4: 'agriculture', 5: 'business', 6: 'children', 7: 'china', 8: 'commerce', 9: 'crime', \n",
    "10: 'culture', 11: 'homelandsecurity', 12: 'detainee', 13: 'disadvantaged', 14: 'disaster', 15: 'discrimination', 16: 'disease', \n",
    "17: 'addictives', 18: 'economy', 19: 'education', 20: 'environment', 21: 'family', 22: 'federal', 23: 'finance', 24: 'fiscal', \n",
    "25: 'food', 26: 'guns', 27: 'health', 28: 'healthcare', 29: 'hightech', 30: 'housing', 31: 'immigration', 32: 'industry', 33: 'cyber',\n",
    "34: 'infrastructure', 35: 'international', 36: 'iransyrialibya', 37: 'iraq', 38: 'israel', 39: 'jury', 40: 'lgbtq', 41: 'media',\n",
    "42: 'militarycomplex', 43: 'natives', 44: 'nuclear', 45: 'police', 46: 'politicalact', 47: 'postal', 48: 'randd', 49: 'religion',\n",
    "50: 'renewable', 51: 'reserves', 52: 'russia', 53: 'safety', 54: 'sport', 55: 'tax', 56: 'terrorism', 57: 'trade',\n",
    "58: 'traditionalenergy', 59: 'transportation', 60: 'veteran', 61: 'vietnam', 62: 'vote', 63: 'waste', 64: 'welfare', \n",
    "65: 'woman', 66: 'workforce', 67:'other'}\n",
    "topics_id_dic = {v:k for k, v in id_topics_dic.items()}"
   ]
  },
  {
   "cell_type": "code",
   "execution_count": 193,
   "id": "5455e048",
   "metadata": {},
   "outputs": [],
   "source": [
    "\n",
    "kvs = KeyedVectors.load(r'D:\\projects\\congress\\embedding/' + 'kv_trump_to_debatepol.kv', mmap='r')\n",
    "\n"
   ]
  },
  {
   "cell_type": "code",
   "execution_count": 197,
   "id": "37b7c0f2",
   "metadata": {},
   "outputs": [],
   "source": [
    "fpath = r'D:\\projects\\congress\\processed\\topics\\\\'+'topic_seeds_fordebate.csv'\n",
    "\n",
    "with open(fpath, 'r') as f:\n",
    "    lines = f.readlines()\n",
    "topics_seeds={}\n",
    "for line in lines:\n",
    "    l=line.strip('\\n').split(',')\n",
    "    l=[el.lower() for el in l if el not in ['','\\n']]\n",
    "    topics_seeds[l[0]]=list(set(l[1:]))\n",
    "# t='finance'\n",
    "# for el in w2v.wv.most_similar(positive=topics[t],topn=100):\n",
    "#     print('{}   {}'.format(el[0],el[1]))\n",
    "\n",
    "\n",
    "\n"
   ]
  },
  {
   "cell_type": "code",
   "execution_count": 198,
   "id": "afe1c13f",
   "metadata": {},
   "outputs": [
    {
     "name": "stdout",
     "output_type": "stream",
     "text": [
      "['copayment', 'medicaid', 'patient', 'single', 'care', 'healthcare', 'universial', 'medicare', 'affordable', 'tricare', 'insurance', 'payer']\n",
      "['hunting', 'weapons', 'concealed', 'massacre', 'arms', 'homicide', 'firearm', 'semi', 'assault', 'firearms', 'ownership', 'amendment', 'handgun', 'weapon', 'gun', 'armed', 'automatic', 'murder', 'criminal', 'munitions', 'ban', 'semiautomatic', 'nra', 'rifles', 'guns']\n",
      "['bisexuality', 'religion', 'homophobia', 'lesbian', 'marriage', 'transgender', 'christianity', 'gay', 'christian', 'homosexualtiy', 'queer', 'lgbt', 'lgbtq', 'sexuality', 'sin', 'gays', 'orientation', 'christians', 'bisexual', 'bible', 'samesex', 'marry', 'couples', 'sexual', 'homosexual']\n",
      "['womb', 'life', 'zygote', 'choice', 'parenthood', 'prolife', 'rape', 'fetus', 'contraception', 'abortions', 'babies', 'aborting', 'birth', 'fetuses', 'partial', 'abortion', 'thirdtrimester', 'prochoice', 'lateterm', 'fetal', 'pregnancy', 'partialbirth', 'baby']\n"
     ]
    }
   ],
   "source": [
    "for t in['healthcare', 'guns', 'lgbtq', 'abortion']:\n",
    "    print(topics_seeds[t])"
   ]
  },
  {
   "cell_type": "code",
   "execution_count": 199,
   "id": "231e2912",
   "metadata": {},
   "outputs": [],
   "source": [
    "topics_expanded={}\n",
    "for topic in topics_id_dic.keys():\n",
    "    if topic is not 'other':\n",
    "        words=topics_seeds[topic]\n",
    "        #words=[w.replace(' ','_') for w in words]\n",
    "        words_invocab = [w for w in words if w in kvs.index2word]\n",
    "        words_all = list(words_invocab)\n",
    "    #     trash = [words_all.extend(w.split('_')) for w in words if kvs.vocab.get(w) is None] # trick to add split words not in vocab into a list and extend the list of all words\n",
    "        expanded = kvs.most_similar(positive=words_all,topn=80)\n",
    "        words_seed = [(i, 'seedwords')for i in words_all]\n",
    "        topics_expanded[topic]= words_seed + expanded\n",
    "\n"
   ]
  },
  {
   "cell_type": "code",
   "execution_count": 200,
   "id": "3cffc4a2",
   "metadata": {},
   "outputs": [
    {
     "name": "stdout",
     "output_type": "stream",
     "text": [
      "['ip', 'it', 'abortion', 'academic', 'agriculture', 'business', 'children', 'china', 'commerce', 'crime', 'culture', 'homelandsecurity', 'detainee', 'disadvantaged', 'disaster', 'discrimination', 'disease', 'addictives', 'economy', 'education', 'environment', 'family', 'federal', 'finance', 'fiscal', 'food', 'guns', 'health', 'healthcare', 'hightech', 'housing', 'immigration', 'industry', 'cyber', 'infrastructure', 'international', 'iransyrialibya', 'iraq', 'israel', 'jury', 'lgbtq', 'media', 'militarycomplex', 'natives', 'nuclear', 'police', 'politicalact', 'postal', 'randd', 'religion', 'renewable', 'reserves', 'russia', 'safety', 'sport', 'tax', 'terrorism', 'trade', 'traditionalenergy', 'transportation', 'veteran', 'vietnam', 'vote', 'waste', 'welfare', 'woman', 'workforce']\n"
     ]
    }
   ],
   "source": [
    "# \n",
    "topics_cr = []\n",
    "tpv_cr = []\n",
    "for k,v in topics_expanded.items():\n",
    "\ttopics_cr.append(k)\n",
    "\tvs = []\n",
    "\tfor w, _ in v:\n",
    "\t\tvs.append(kvs.get_vector(w))\n",
    "\ttpv_cr.append(np.mean(vs, axis = 0))\n",
    "\n",
    "tpv_cr = np.array(tpv_cr)\n",
    "print(topics_cr)\n",
    "tpv_cr.shape\n",
    "\n",
    "\n",
    "# In[30]:\n",
    "\n",
    "\n",
    "np.save(r'D:\\projects\\congress\\processed\\training_vectors\\debatepol\\\\'+ r'debatepol_Topicvectors_noother', tpv_cr)"
   ]
  },
  {
   "cell_type": "code",
   "execution_count": null,
   "id": "b8783312",
   "metadata": {},
   "outputs": [],
   "source": []
  },
  {
   "cell_type": "code",
   "execution_count": 131,
   "id": "bd57ced9",
   "metadata": {},
   "outputs": [],
   "source": [
    "# parse matrix, keep only four toipics gun, health care, gay rights and abortion"
   ]
  },
  {
   "cell_type": "code",
   "execution_count": 201,
   "id": "44750e52",
   "metadata": {},
   "outputs": [
    {
     "data": {
      "text/html": [
       "<div>\n",
       "<style scoped>\n",
       "    .dataframe tbody tr th:only-of-type {\n",
       "        vertical-align: middle;\n",
       "    }\n",
       "\n",
       "    .dataframe tbody tr th {\n",
       "        vertical-align: top;\n",
       "    }\n",
       "\n",
       "    .dataframe thead th {\n",
       "        text-align: right;\n",
       "    }\n",
       "</style>\n",
       "<table border=\"1\" class=\"dataframe\">\n",
       "  <thead>\n",
       "    <tr style=\"text-align: right;\">\n",
       "      <th></th>\n",
       "      <th>&lt;fullpath&gt;</th>\n",
       "      <th>一级论坛</th>\n",
       "      <th>二级论坛</th>\n",
       "      <th>三级论坛</th>\n",
       "      <th>标题</th>\n",
       "      <th>主贴发布时间</th>\n",
       "      <th>正文</th>\n",
       "      <th>作者</th>\n",
       "      <th>作者链接</th>\n",
       "      <th>发布时间</th>\n",
       "      <th>点赞用户</th>\n",
       "      <th>speech</th>\n",
       "      <th>speech_proc</th>\n",
       "      <th>speech_proc2</th>\n",
       "    </tr>\n",
       "  </thead>\n",
       "  <tbody>\n",
       "    <tr>\n",
       "      <th>1</th>\n",
       "      <td>https://debatepolitics.com/threads/is-a-normal...</td>\n",
       "      <td>Political forums</td>\n",
       "      <td>Abortion</td>\n",
       "      <td>NaN</td>\n",
       "      <td>Is a normally developing ZEF alive?</td>\n",
       "      <td>2021-06-23T00:08:21+0800</td>\n",
       "      <td>Josie said:\\n\\t\\t\\t\\n\\t\\t\\n\\t\\n\\t\\n\\t\\t\\n\\t\\t\\...</td>\n",
       "      <td>Lutherf</td>\n",
       "      <td>https://debatepolitics.com/members/lutherf.18873/</td>\n",
       "      <td>2021-06-22T12:32:53-0400</td>\n",
       "      <td>code1211, LadyMoonlight, vesper and 4 others</td>\n",
       "      <td>it not a zef its a humanwhen a human egg is fe...</td>\n",
       "      <td>[zef, humanwhen, human, egg, fertilized, resul...</td>\n",
       "      <td>[zef, humanwhen, human, egg, fertilized, resul...</td>\n",
       "    </tr>\n",
       "    <tr>\n",
       "      <th>4</th>\n",
       "      <td>https://debatepolitics.com/threads/is-a-normal...</td>\n",
       "      <td>Political forums</td>\n",
       "      <td>Abortion</td>\n",
       "      <td>NaN</td>\n",
       "      <td>Is a normally developing ZEF alive?</td>\n",
       "      <td>2021-06-23T00:08:21+0800</td>\n",
       "      <td>Josie said:\\n\\t\\t\\t\\n\\t\\t\\n\\t\\n\\t\\n\\t\\t\\n\\t\\t\\...</td>\n",
       "      <td>Patriotic Voter</td>\n",
       "      <td>https://debatepolitics.com/members/patriotic-v...</td>\n",
       "      <td>2021-06-22T13:02:59-0400</td>\n",
       "      <td>Josie</td>\n",
       "      <td>of course it is life begins at fertilization t...</td>\n",
       "      <td>[course, life, begins, fertilization, proven, ...</td>\n",
       "      <td>[course, life, begins, fertilization, proven, ...</td>\n",
       "    </tr>\n",
       "    <tr>\n",
       "      <th>6</th>\n",
       "      <td>https://debatepolitics.com/threads/is-a-normal...</td>\n",
       "      <td>Political forums</td>\n",
       "      <td>Abortion</td>\n",
       "      <td>NaN</td>\n",
       "      <td>Is a normally developing ZEF alive?</td>\n",
       "      <td>2021-06-23T00:08:21+0800</td>\n",
       "      <td>Josie said:\\n\\t\\t\\t\\n\\t\\t\\n\\t\\n\\t\\n\\t\\t\\n\\t\\t\\...</td>\n",
       "      <td>Lutherf</td>\n",
       "      <td>https://debatepolitics.com/members/lutherf.18873/</td>\n",
       "      <td>2021-06-22T13:57:20-0400</td>\n",
       "      <td>PirateMk1, eohrnberger and Josie</td>\n",
       "      <td>i have no expectation that everyone will see t...</td>\n",
       "      <td>[expectation, things, way, hold, animosity, th...</td>\n",
       "      <td>[expectation, things, way, hold, animosity, th...</td>\n",
       "    </tr>\n",
       "    <tr>\n",
       "      <th>7</th>\n",
       "      <td>https://debatepolitics.com/threads/is-a-normal...</td>\n",
       "      <td>Political forums</td>\n",
       "      <td>Abortion</td>\n",
       "      <td>NaN</td>\n",
       "      <td>Is a normally developing ZEF alive?</td>\n",
       "      <td>2021-06-23T00:08:21+0800</td>\n",
       "      <td>Josie said:\\n\\t\\t\\t\\n\\t\\t\\n\\t\\n\\t\\n\\t\\t\\n\\t\\t\\...</td>\n",
       "      <td>Patriotic Voter</td>\n",
       "      <td>https://debatepolitics.com/members/patriotic-v...</td>\n",
       "      <td>2021-06-22T15:50:53-0400</td>\n",
       "      <td>NaN</td>\n",
       "      <td>thanks even though i opposes all laws that vio...</td>\n",
       "      <td>[thanks, opposes, laws, violate, th, amendment...</td>\n",
       "      <td>[thanks, opposes, laws, violate, th, amendment...</td>\n",
       "    </tr>\n",
       "    <tr>\n",
       "      <th>9</th>\n",
       "      <td>https://debatepolitics.com/threads/is-a-normal...</td>\n",
       "      <td>Political forums</td>\n",
       "      <td>Abortion</td>\n",
       "      <td>NaN</td>\n",
       "      <td>Is a normally developing ZEF alive?</td>\n",
       "      <td>2021-06-23T00:08:21+0800</td>\n",
       "      <td>MamboDervish said:\\n\\t\\t\\t\\n\\t\\t\\n\\t\\n\\t\\n\\t\\t...</td>\n",
       "      <td>Patriotic Voter</td>\n",
       "      <td>https://debatepolitics.com/members/patriotic-v...</td>\n",
       "      <td>2021-06-22T16:07:28-0400</td>\n",
       "      <td>NaN</td>\n",
       "      <td>the sperm is one cell in the dadthe ovum is on...</td>\n",
       "      <td>[sperm, cell, dadthe, ovum, cell, momneither, ...</td>\n",
       "      <td>[sperm, cell, dadthe, ovum, cell, momneither, ...</td>\n",
       "    </tr>\n",
       "  </tbody>\n",
       "</table>\n",
       "</div>"
      ],
      "text/plain": [
       "                                          <fullpath>              一级论坛  \\\n",
       "1  https://debatepolitics.com/threads/is-a-normal...  Political forums   \n",
       "4  https://debatepolitics.com/threads/is-a-normal...  Political forums   \n",
       "6  https://debatepolitics.com/threads/is-a-normal...  Political forums   \n",
       "7  https://debatepolitics.com/threads/is-a-normal...  Political forums   \n",
       "9  https://debatepolitics.com/threads/is-a-normal...  Political forums   \n",
       "\n",
       "       二级论坛 三级论坛                                   标题  \\\n",
       "1  Abortion  NaN  Is a normally developing ZEF alive?   \n",
       "4  Abortion  NaN  Is a normally developing ZEF alive?   \n",
       "6  Abortion  NaN  Is a normally developing ZEF alive?   \n",
       "7  Abortion  NaN  Is a normally developing ZEF alive?   \n",
       "9  Abortion  NaN  Is a normally developing ZEF alive?   \n",
       "\n",
       "                     主贴发布时间  \\\n",
       "1  2021-06-23T00:08:21+0800   \n",
       "4  2021-06-23T00:08:21+0800   \n",
       "6  2021-06-23T00:08:21+0800   \n",
       "7  2021-06-23T00:08:21+0800   \n",
       "9  2021-06-23T00:08:21+0800   \n",
       "\n",
       "                                                  正文               作者  \\\n",
       "1  Josie said:\\n\\t\\t\\t\\n\\t\\t\\n\\t\\n\\t\\n\\t\\t\\n\\t\\t\\...          Lutherf   \n",
       "4  Josie said:\\n\\t\\t\\t\\n\\t\\t\\n\\t\\n\\t\\n\\t\\t\\n\\t\\t\\...  Patriotic Voter   \n",
       "6  Josie said:\\n\\t\\t\\t\\n\\t\\t\\n\\t\\n\\t\\n\\t\\t\\n\\t\\t\\...          Lutherf   \n",
       "7  Josie said:\\n\\t\\t\\t\\n\\t\\t\\n\\t\\n\\t\\n\\t\\t\\n\\t\\t\\...  Patriotic Voter   \n",
       "9  MamboDervish said:\\n\\t\\t\\t\\n\\t\\t\\n\\t\\n\\t\\n\\t\\t...  Patriotic Voter   \n",
       "\n",
       "                                                作者链接  \\\n",
       "1  https://debatepolitics.com/members/lutherf.18873/   \n",
       "4  https://debatepolitics.com/members/patriotic-v...   \n",
       "6  https://debatepolitics.com/members/lutherf.18873/   \n",
       "7  https://debatepolitics.com/members/patriotic-v...   \n",
       "9  https://debatepolitics.com/members/patriotic-v...   \n",
       "\n",
       "                       发布时间                                          点赞用户  \\\n",
       "1  2021-06-22T12:32:53-0400  code1211, LadyMoonlight, vesper and 4 others   \n",
       "4  2021-06-22T13:02:59-0400                                         Josie   \n",
       "6  2021-06-22T13:57:20-0400              PirateMk1, eohrnberger and Josie   \n",
       "7  2021-06-22T15:50:53-0400                                           NaN   \n",
       "9  2021-06-22T16:07:28-0400                                           NaN   \n",
       "\n",
       "                                              speech  \\\n",
       "1  it not a zef its a humanwhen a human egg is fe...   \n",
       "4  of course it is life begins at fertilization t...   \n",
       "6  i have no expectation that everyone will see t...   \n",
       "7  thanks even though i opposes all laws that vio...   \n",
       "9  the sperm is one cell in the dadthe ovum is on...   \n",
       "\n",
       "                                         speech_proc  \\\n",
       "1  [zef, humanwhen, human, egg, fertilized, resul...   \n",
       "4  [course, life, begins, fertilization, proven, ...   \n",
       "6  [expectation, things, way, hold, animosity, th...   \n",
       "7  [thanks, opposes, laws, violate, th, amendment...   \n",
       "9  [sperm, cell, dadthe, ovum, cell, momneither, ...   \n",
       "\n",
       "                                        speech_proc2  \n",
       "1  [zef, humanwhen, human, egg, fertilized, resul...  \n",
       "4  [course, life, begins, fertilization, proven, ...  \n",
       "6  [expectation, things, way, hold, animosity, th...  \n",
       "7  [thanks, opposes, laws, violate, th, amendment...  \n",
       "9  [sperm, cell, dadthe, ovum, cell, momneither, ...  "
      ]
     },
     "execution_count": 201,
     "metadata": {},
     "output_type": "execute_result"
    }
   ],
   "source": [
    "speeches_long.head()"
   ]
  },
  {
   "cell_type": "code",
   "execution_count": 202,
   "id": "10a53110",
   "metadata": {},
   "outputs": [
    {
     "data": {
      "text/plain": [
       "array(['Abortion', 'General Political Discussion',\n",
       "       'International Politics', 'US State and Local', 'US Constitution',\n",
       "       'US Partisan Politics and Political Platforms', 'Military',\n",
       "       'Law and Order', 'Tech Support', 'Archives',\n",
       "       'Battle Grounds and Disputations', 'Bias in the Media',\n",
       "       'Sex and Sexuality', 'Feedback / Suggestions',\n",
       "       'Announcements / Forum News', 'The Loft',\n",
       "       'COVID-19 - Coronavirus Disease', 'DP Games',\n",
       "       'Government Spending and Debt', 'Government Regulation',\n",
       "       'Breaking News', 'Come in and say Hi', 'Leisure Activities'],\n",
       "      dtype=object)"
      ]
     },
     "execution_count": 202,
     "metadata": {},
     "output_type": "execute_result"
    }
   ],
   "source": [
    "speeches_long['二级论坛'].unique()"
   ]
  },
  {
   "cell_type": "code",
   "execution_count": 203,
   "id": "8f766b9f",
   "metadata": {},
   "outputs": [
    {
     "data": {
      "text/plain": [
       "array([nan, 'Gun Control', 'Asia', 'Canada', 'West', 'Northeast',\n",
       "       'Government & Separation of Powers', 'Russia / Ukraine / Belarus',\n",
       "       'Australia and Oceania', 'Africa', 'US Elections', 'War on Terror',\n",
       "       'War on drugs', 'Church and State', 'Middle East', 'Latin America',\n",
       "       'Freedom of Speech', 'Environment & Climate Issues', 'Europe',\n",
       "       'Midwest', 'Health Care', 'Immigration',\n",
       "       'US Political Scandal Du Jour', 'Southeast', 'Southwest',\n",
       "       'Art & Entertainment'], dtype=object)"
      ]
     },
     "execution_count": 203,
     "metadata": {},
     "output_type": "execute_result"
    }
   ],
   "source": [
    "speeches_long['三级论坛'].unique()"
   ]
  },
  {
   "cell_type": "code",
   "execution_count": 204,
   "id": "309c1e55",
   "metadata": {},
   "outputs": [
    {
     "data": {
      "text/plain": [
       "(895811, 14)"
      ]
     },
     "execution_count": 204,
     "metadata": {},
     "output_type": "execute_result"
    }
   ],
   "source": [
    "speeches_long.shape"
   ]
  },
  {
   "cell_type": "code",
   "execution_count": 205,
   "id": "813e046e",
   "metadata": {},
   "outputs": [],
   "source": [
    "condition = (speeches_long['三级论坛'].isin(['Gun Control', 'Health Care'])|speeches_long['二级论坛'].isin(['Abortion', 'Sex and Sexuality']))"
   ]
  },
  {
   "cell_type": "code",
   "execution_count": 206,
   "id": "6bd0e560",
   "metadata": {},
   "outputs": [
    {
     "data": {
      "text/plain": [
       "146448"
      ]
     },
     "execution_count": 206,
     "metadata": {},
     "output_type": "execute_result"
    }
   ],
   "source": [
    "condition.sum()"
   ]
  },
  {
   "cell_type": "code",
   "execution_count": 207,
   "id": "8770e5d9",
   "metadata": {},
   "outputs": [],
   "source": [
    "speeches_filt = speeches_long.loc[condition]"
   ]
  },
  {
   "cell_type": "code",
   "execution_count": 252,
   "id": "603b13c6",
   "metadata": {},
   "outputs": [],
   "source": [
    "del speeches_long"
   ]
  },
  {
   "cell_type": "code",
   "execution_count": 209,
   "id": "4a936589",
   "metadata": {},
   "outputs": [
    {
     "data": {
      "text/plain": [
       "(146448, 14)"
      ]
     },
     "execution_count": 209,
     "metadata": {},
     "output_type": "execute_result"
    }
   ],
   "source": [
    "speeches_filt.shape"
   ]
  },
  {
   "cell_type": "code",
   "execution_count": 235,
   "id": "45e5288b",
   "metadata": {},
   "outputs": [
    {
     "name": "stderr",
     "output_type": "stream",
     "text": [
      "D:\\anaconda\\envs\\py37\\lib\\site-packages\\ipykernel_launcher.py:1: SettingWithCopyWarning: \n",
      "A value is trying to be set on a copy of a slice from a DataFrame.\n",
      "Try using .loc[row_indexer,col_indexer] = value instead\n",
      "\n",
      "See the caveats in the documentation: https://pandas.pydata.org/pandas-docs/stable/user_guide/indexing.html#returning-a-view-versus-a-copy\n",
      "  \"\"\"Entry point for launching an IPython kernel.\n"
     ]
    }
   ],
   "source": [
    "speeches_filt['topics_prior'] = 1"
   ]
  },
  {
   "cell_type": "code",
   "execution_count": 212,
   "id": "697e302b",
   "metadata": {},
   "outputs": [
    {
     "data": {
      "text/plain": [
       "{'ip': 0,\n",
       " 'it': 1,\n",
       " 'abortion': 2,\n",
       " 'academic': 3,\n",
       " 'agriculture': 4,\n",
       " 'business': 5,\n",
       " 'children': 6,\n",
       " 'china': 7,\n",
       " 'commerce': 8,\n",
       " 'crime': 9,\n",
       " 'culture': 10,\n",
       " 'homelandsecurity': 11,\n",
       " 'detainee': 12,\n",
       " 'disadvantaged': 13,\n",
       " 'disaster': 14,\n",
       " 'discrimination': 15,\n",
       " 'disease': 16,\n",
       " 'addictives': 17,\n",
       " 'economy': 18,\n",
       " 'education': 19,\n",
       " 'environment': 20,\n",
       " 'family': 21,\n",
       " 'federal': 22,\n",
       " 'finance': 23,\n",
       " 'fiscal': 24,\n",
       " 'food': 25,\n",
       " 'guns': 26,\n",
       " 'health': 27,\n",
       " 'healthcare': 28,\n",
       " 'hightech': 29,\n",
       " 'housing': 30,\n",
       " 'immigration': 31,\n",
       " 'industry': 32,\n",
       " 'cyber': 33,\n",
       " 'infrastructure': 34,\n",
       " 'international': 35,\n",
       " 'iransyrialibya': 36,\n",
       " 'iraq': 37,\n",
       " 'israel': 38,\n",
       " 'jury': 39,\n",
       " 'lgbtq': 40,\n",
       " 'media': 41,\n",
       " 'militarycomplex': 42,\n",
       " 'natives': 43,\n",
       " 'nuclear': 44,\n",
       " 'police': 45,\n",
       " 'politicalact': 46,\n",
       " 'postal': 47,\n",
       " 'randd': 48,\n",
       " 'religion': 49,\n",
       " 'renewable': 50,\n",
       " 'reserves': 51,\n",
       " 'russia': 52,\n",
       " 'safety': 53,\n",
       " 'sport': 54,\n",
       " 'tax': 55,\n",
       " 'terrorism': 56,\n",
       " 'trade': 57,\n",
       " 'traditionalenergy': 58,\n",
       " 'transportation': 59,\n",
       " 'veteran': 60,\n",
       " 'vietnam': 61,\n",
       " 'vote': 62,\n",
       " 'waste': 63,\n",
       " 'welfare': 64,\n",
       " 'woman': 65,\n",
       " 'workforce': 66,\n",
       " 'other': 67}"
      ]
     },
     "execution_count": 212,
     "metadata": {},
     "output_type": "execute_result"
    }
   ],
   "source": [
    "topics_id_dic"
   ]
  },
  {
   "cell_type": "code",
   "execution_count": 236,
   "id": "b1070ffa",
   "metadata": {},
   "outputs": [],
   "source": [
    "def find_topic(x):\n",
    "    a = 1\n",
    "    if x == 'Abortion':\n",
    "        a = topics_id_dic['abortion']\n",
    "    elif x == 'Gun Control':\n",
    "        a = topics_id_dic['guns']\n",
    "    elif x == 'Health Care':\n",
    "        a = topics_id_dic['healthcare']\n",
    "    elif x == 'Sex and Sexuality':\n",
    "        a = topics_id_dic['lgbtq']\n",
    "    else:\n",
    "        pass\n",
    "    return a"
   ]
  },
  {
   "cell_type": "code",
   "execution_count": 237,
   "id": "09f76006",
   "metadata": {},
   "outputs": [
    {
     "data": {
      "text/plain": [
       "26"
      ]
     },
     "execution_count": 237,
     "metadata": {},
     "output_type": "execute_result"
    }
   ],
   "source": [
    "find_topic('Gun Control')"
   ]
  },
  {
   "cell_type": "code",
   "execution_count": 238,
   "id": "cf8fcf8c",
   "metadata": {},
   "outputs": [
    {
     "name": "stderr",
     "output_type": "stream",
     "text": [
      "D:\\anaconda\\envs\\py37\\lib\\site-packages\\ipykernel_launcher.py:1: SettingWithCopyWarning: \n",
      "A value is trying to be set on a copy of a slice from a DataFrame.\n",
      "Try using .loc[row_indexer,col_indexer] = value instead\n",
      "\n",
      "See the caveats in the documentation: https://pandas.pydata.org/pandas-docs/stable/user_guide/indexing.html#returning-a-view-versus-a-copy\n",
      "  \"\"\"Entry point for launching an IPython kernel.\n"
     ]
    }
   ],
   "source": [
    "speeches_filt['topics_prior_1'] = speeches_filt.loc[:, '二级论坛'].apply(find_topic)"
   ]
  },
  {
   "cell_type": "code",
   "execution_count": 239,
   "id": "6e620111",
   "metadata": {},
   "outputs": [
    {
     "name": "stderr",
     "output_type": "stream",
     "text": [
      "D:\\anaconda\\envs\\py37\\lib\\site-packages\\ipykernel_launcher.py:1: SettingWithCopyWarning: \n",
      "A value is trying to be set on a copy of a slice from a DataFrame.\n",
      "Try using .loc[row_indexer,col_indexer] = value instead\n",
      "\n",
      "See the caveats in the documentation: https://pandas.pydata.org/pandas-docs/stable/user_guide/indexing.html#returning-a-view-versus-a-copy\n",
      "  \"\"\"Entry point for launching an IPython kernel.\n"
     ]
    }
   ],
   "source": [
    "speeches_filt['topics_prior_2'] = speeches_filt.loc[:, '三级论坛'].apply(find_topic)"
   ]
  },
  {
   "cell_type": "code",
   "execution_count": 240,
   "id": "72f3ae3a",
   "metadata": {},
   "outputs": [
    {
     "name": "stderr",
     "output_type": "stream",
     "text": [
      "D:\\anaconda\\envs\\py37\\lib\\site-packages\\ipykernel_launcher.py:1: SettingWithCopyWarning: \n",
      "A value is trying to be set on a copy of a slice from a DataFrame.\n",
      "Try using .loc[row_indexer,col_indexer] = value instead\n",
      "\n",
      "See the caveats in the documentation: https://pandas.pydata.org/pandas-docs/stable/user_guide/indexing.html#returning-a-view-versus-a-copy\n",
      "  \"\"\"Entry point for launching an IPython kernel.\n"
     ]
    }
   ],
   "source": [
    "speeches_filt['topics_prior'] = speeches_filt['topics_prior_1'] * speeches_filt['topics_prior_2']"
   ]
  },
  {
   "cell_type": "code",
   "execution_count": 242,
   "id": "d3fe95cb",
   "metadata": {},
   "outputs": [
    {
     "data": {
      "text/plain": [
       "0"
      ]
     },
     "execution_count": 242,
     "metadata": {},
     "output_type": "execute_result"
    }
   ],
   "source": [
    "(speeches_filt['topics_prior'] == 1).sum()"
   ]
  },
  {
   "cell_type": "code",
   "execution_count": 243,
   "id": "003a5aa1",
   "metadata": {},
   "outputs": [
    {
     "name": "stderr",
     "output_type": "stream",
     "text": [
      "D:\\anaconda\\envs\\py37\\lib\\site-packages\\ipykernel_launcher.py:1: SettingWithCopyWarning: \n",
      "A value is trying to be set on a copy of a slice from a DataFrame.\n",
      "Try using .loc[row_indexer,col_indexer] = value instead\n",
      "\n",
      "See the caveats in the documentation: https://pandas.pydata.org/pandas-docs/stable/user_guide/indexing.html#returning-a-view-versus-a-copy\n",
      "  \"\"\"Entry point for launching an IPython kernel.\n"
     ]
    }
   ],
   "source": [
    "speeches_filt['topics_name'] = speeches_filt['topics_prior'].apply(lambda x: id_topics_dic[x])"
   ]
  },
  {
   "cell_type": "code",
   "execution_count": 244,
   "id": "5e7834a1",
   "metadata": {},
   "outputs": [
    {
     "data": {
      "text/plain": [
       "1          abortion\n",
       "4          abortion\n",
       "6          abortion\n",
       "7          abortion\n",
       "9          abortion\n",
       "             ...   \n",
       "1428564       lgbtq\n",
       "1428565       lgbtq\n",
       "1429104       lgbtq\n",
       "1429120       lgbtq\n",
       "1429124       lgbtq\n",
       "Name: topics_name, Length: 146448, dtype: object"
      ]
     },
     "execution_count": 244,
     "metadata": {},
     "output_type": "execute_result"
    }
   ],
   "source": [
    "speeches_filt['topics_name']"
   ]
  },
  {
   "cell_type": "code",
   "execution_count": 245,
   "id": "329409b1",
   "metadata": {},
   "outputs": [
    {
     "data": {
      "text/html": [
       "<div>\n",
       "<style scoped>\n",
       "    .dataframe tbody tr th:only-of-type {\n",
       "        vertical-align: middle;\n",
       "    }\n",
       "\n",
       "    .dataframe tbody tr th {\n",
       "        vertical-align: top;\n",
       "    }\n",
       "\n",
       "    .dataframe thead th {\n",
       "        text-align: right;\n",
       "    }\n",
       "</style>\n",
       "<table border=\"1\" class=\"dataframe\">\n",
       "  <thead>\n",
       "    <tr style=\"text-align: right;\">\n",
       "      <th></th>\n",
       "      <th>&lt;fullpath&gt;</th>\n",
       "      <th>一级论坛</th>\n",
       "      <th>二级论坛</th>\n",
       "      <th>三级论坛</th>\n",
       "      <th>标题</th>\n",
       "      <th>主贴发布时间</th>\n",
       "      <th>正文</th>\n",
       "      <th>作者</th>\n",
       "      <th>作者链接</th>\n",
       "      <th>发布时间</th>\n",
       "      <th>点赞用户</th>\n",
       "      <th>speech</th>\n",
       "      <th>speech_proc</th>\n",
       "      <th>speech_proc2</th>\n",
       "      <th>topics_prior</th>\n",
       "      <th>topics_prior_1</th>\n",
       "      <th>topics_prior_2</th>\n",
       "      <th>topics_name</th>\n",
       "    </tr>\n",
       "  </thead>\n",
       "  <tbody>\n",
       "    <tr>\n",
       "      <th>1</th>\n",
       "      <td>https://debatepolitics.com/threads/is-a-normal...</td>\n",
       "      <td>Political forums</td>\n",
       "      <td>Abortion</td>\n",
       "      <td>NaN</td>\n",
       "      <td>Is a normally developing ZEF alive?</td>\n",
       "      <td>2021-06-23T00:08:21+0800</td>\n",
       "      <td>Josie said:\\n\\t\\t\\t\\n\\t\\t\\n\\t\\n\\t\\n\\t\\t\\n\\t\\t\\...</td>\n",
       "      <td>Lutherf</td>\n",
       "      <td>https://debatepolitics.com/members/lutherf.18873/</td>\n",
       "      <td>2021-06-22T12:32:53-0400</td>\n",
       "      <td>code1211, LadyMoonlight, vesper and 4 others</td>\n",
       "      <td>it not a zef its a humanwhen a human egg is fe...</td>\n",
       "      <td>[zef, humanwhen, human, egg, fertilized, resul...</td>\n",
       "      <td>[zef, humanwhen, human, egg, fertilized, resul...</td>\n",
       "      <td>2</td>\n",
       "      <td>2</td>\n",
       "      <td>1</td>\n",
       "      <td>abortion</td>\n",
       "    </tr>\n",
       "    <tr>\n",
       "      <th>4</th>\n",
       "      <td>https://debatepolitics.com/threads/is-a-normal...</td>\n",
       "      <td>Political forums</td>\n",
       "      <td>Abortion</td>\n",
       "      <td>NaN</td>\n",
       "      <td>Is a normally developing ZEF alive?</td>\n",
       "      <td>2021-06-23T00:08:21+0800</td>\n",
       "      <td>Josie said:\\n\\t\\t\\t\\n\\t\\t\\n\\t\\n\\t\\n\\t\\t\\n\\t\\t\\...</td>\n",
       "      <td>Patriotic Voter</td>\n",
       "      <td>https://debatepolitics.com/members/patriotic-v...</td>\n",
       "      <td>2021-06-22T13:02:59-0400</td>\n",
       "      <td>Josie</td>\n",
       "      <td>of course it is life begins at fertilization t...</td>\n",
       "      <td>[course, life, begins, fertilization, proven, ...</td>\n",
       "      <td>[course, life, begins, fertilization, proven, ...</td>\n",
       "      <td>2</td>\n",
       "      <td>2</td>\n",
       "      <td>1</td>\n",
       "      <td>abortion</td>\n",
       "    </tr>\n",
       "    <tr>\n",
       "      <th>6</th>\n",
       "      <td>https://debatepolitics.com/threads/is-a-normal...</td>\n",
       "      <td>Political forums</td>\n",
       "      <td>Abortion</td>\n",
       "      <td>NaN</td>\n",
       "      <td>Is a normally developing ZEF alive?</td>\n",
       "      <td>2021-06-23T00:08:21+0800</td>\n",
       "      <td>Josie said:\\n\\t\\t\\t\\n\\t\\t\\n\\t\\n\\t\\n\\t\\t\\n\\t\\t\\...</td>\n",
       "      <td>Lutherf</td>\n",
       "      <td>https://debatepolitics.com/members/lutherf.18873/</td>\n",
       "      <td>2021-06-22T13:57:20-0400</td>\n",
       "      <td>PirateMk1, eohrnberger and Josie</td>\n",
       "      <td>i have no expectation that everyone will see t...</td>\n",
       "      <td>[expectation, things, way, hold, animosity, th...</td>\n",
       "      <td>[expectation, things, way, hold, animosity, th...</td>\n",
       "      <td>2</td>\n",
       "      <td>2</td>\n",
       "      <td>1</td>\n",
       "      <td>abortion</td>\n",
       "    </tr>\n",
       "    <tr>\n",
       "      <th>7</th>\n",
       "      <td>https://debatepolitics.com/threads/is-a-normal...</td>\n",
       "      <td>Political forums</td>\n",
       "      <td>Abortion</td>\n",
       "      <td>NaN</td>\n",
       "      <td>Is a normally developing ZEF alive?</td>\n",
       "      <td>2021-06-23T00:08:21+0800</td>\n",
       "      <td>Josie said:\\n\\t\\t\\t\\n\\t\\t\\n\\t\\n\\t\\n\\t\\t\\n\\t\\t\\...</td>\n",
       "      <td>Patriotic Voter</td>\n",
       "      <td>https://debatepolitics.com/members/patriotic-v...</td>\n",
       "      <td>2021-06-22T15:50:53-0400</td>\n",
       "      <td>NaN</td>\n",
       "      <td>thanks even though i opposes all laws that vio...</td>\n",
       "      <td>[thanks, opposes, laws, violate, th, amendment...</td>\n",
       "      <td>[thanks, opposes, laws, violate, th, amendment...</td>\n",
       "      <td>2</td>\n",
       "      <td>2</td>\n",
       "      <td>1</td>\n",
       "      <td>abortion</td>\n",
       "    </tr>\n",
       "    <tr>\n",
       "      <th>9</th>\n",
       "      <td>https://debatepolitics.com/threads/is-a-normal...</td>\n",
       "      <td>Political forums</td>\n",
       "      <td>Abortion</td>\n",
       "      <td>NaN</td>\n",
       "      <td>Is a normally developing ZEF alive?</td>\n",
       "      <td>2021-06-23T00:08:21+0800</td>\n",
       "      <td>MamboDervish said:\\n\\t\\t\\t\\n\\t\\t\\n\\t\\n\\t\\n\\t\\t...</td>\n",
       "      <td>Patriotic Voter</td>\n",
       "      <td>https://debatepolitics.com/members/patriotic-v...</td>\n",
       "      <td>2021-06-22T16:07:28-0400</td>\n",
       "      <td>NaN</td>\n",
       "      <td>the sperm is one cell in the dadthe ovum is on...</td>\n",
       "      <td>[sperm, cell, dadthe, ovum, cell, momneither, ...</td>\n",
       "      <td>[sperm, cell, dadthe, ovum, cell, momneither, ...</td>\n",
       "      <td>2</td>\n",
       "      <td>2</td>\n",
       "      <td>1</td>\n",
       "      <td>abortion</td>\n",
       "    </tr>\n",
       "    <tr>\n",
       "      <th>...</th>\n",
       "      <td>...</td>\n",
       "      <td>...</td>\n",
       "      <td>...</td>\n",
       "      <td>...</td>\n",
       "      <td>...</td>\n",
       "      <td>...</td>\n",
       "      <td>...</td>\n",
       "      <td>...</td>\n",
       "      <td>...</td>\n",
       "      <td>...</td>\n",
       "      <td>...</td>\n",
       "      <td>...</td>\n",
       "      <td>...</td>\n",
       "      <td>...</td>\n",
       "      <td>...</td>\n",
       "      <td>...</td>\n",
       "      <td>...</td>\n",
       "      <td>...</td>\n",
       "    </tr>\n",
       "    <tr>\n",
       "      <th>1428564</th>\n",
       "      <td>https://debatepolitics.com/threads/w-3596-argu...</td>\n",
       "      <td>Political forums</td>\n",
       "      <td>Sex and Sexuality</td>\n",
       "      <td>NaN</td>\n",
       "      <td>[W:3596] Arguments Against Same-Sex Marriage</td>\n",
       "      <td>2019-04-04T07:09:01+0800</td>\n",
       "      <td>Lisa said:\\n\\t\\t\\t\\n\\t\\t\\n\\t\\n\\t\\n\\t\\t\\n\\t\\t\\n...</td>\n",
       "      <td>Rich2018</td>\n",
       "      <td>https://debatepolitics.com/members/rich2018.32...</td>\n",
       "      <td>2019-10-11T12:34:57-0400</td>\n",
       "      <td>NaN</td>\n",
       "      <td>palin believes whatever her script says for he...</td>\n",
       "      <td>[palin, believes, script, says, sayshe, harm, ...</td>\n",
       "      <td>[palin, believes, script, says, sayshe, harm, ...</td>\n",
       "      <td>40</td>\n",
       "      <td>40</td>\n",
       "      <td>1</td>\n",
       "      <td>lgbtq</td>\n",
       "    </tr>\n",
       "    <tr>\n",
       "      <th>1428565</th>\n",
       "      <td>https://debatepolitics.com/threads/w-3596-argu...</td>\n",
       "      <td>Political forums</td>\n",
       "      <td>Sex and Sexuality</td>\n",
       "      <td>NaN</td>\n",
       "      <td>[W:3596] Arguments Against Same-Sex Marriage</td>\n",
       "      <td>2019-04-04T07:09:01+0800</td>\n",
       "      <td>danielpalos said:\\n\\t\\t\\t\\n\\t\\t\\n\\t\\n\\t\\n\\t\\t\\...</td>\n",
       "      <td>Rich2018</td>\n",
       "      <td>https://debatepolitics.com/members/rich2018.32...</td>\n",
       "      <td>2019-10-11T12:37:16-0400</td>\n",
       "      <td>NaN</td>\n",
       "      <td>you mentioned taxes who else did you spoke of ...</td>\n",
       "      <td>[mentioned, taxes, spoke, expense, government,...</td>\n",
       "      <td>[mentioned, taxes, spoke, expense, government,...</td>\n",
       "      <td>40</td>\n",
       "      <td>40</td>\n",
       "      <td>1</td>\n",
       "      <td>lgbtq</td>\n",
       "    </tr>\n",
       "    <tr>\n",
       "      <th>1429104</th>\n",
       "      <td>https://debatepolitics.com/threads/w-3596-argu...</td>\n",
       "      <td>Political forums</td>\n",
       "      <td>Sex and Sexuality</td>\n",
       "      <td>NaN</td>\n",
       "      <td>[W:3596] Arguments Against Same-Sex Marriage</td>\n",
       "      <td>2019-04-04T07:09:01+0800</td>\n",
       "      <td>Rich2018 said:\\n\\t\\t\\t\\n\\t\\t\\n\\t\\n\\t\\n\\t\\t\\n\\t...</td>\n",
       "      <td>danielpalos</td>\n",
       "      <td>https://debatepolitics.com/members/danielpalos...</td>\n",
       "      <td>2019-10-22T00:38:10+0800</td>\n",
       "      <td>NaN</td>\n",
       "      <td>do you only know how to copy and paste or do y...</td>\n",
       "      <td>[know, copy, paste, know, argue, relevant, poi...</td>\n",
       "      <td>[know, copy, paste, know, argue, relevant, poi...</td>\n",
       "      <td>40</td>\n",
       "      <td>40</td>\n",
       "      <td>1</td>\n",
       "      <td>lgbtq</td>\n",
       "    </tr>\n",
       "    <tr>\n",
       "      <th>1429120</th>\n",
       "      <td>https://debatepolitics.com/threads/w-3596-argu...</td>\n",
       "      <td>Political forums</td>\n",
       "      <td>Sex and Sexuality</td>\n",
       "      <td>NaN</td>\n",
       "      <td>[W:3596] Arguments Against Same-Sex Marriage</td>\n",
       "      <td>2019-04-04T07:09:01+0800</td>\n",
       "      <td>Rich2018 said:\\n\\t\\t\\t\\n\\t\\t\\n\\t\\n\\t\\n\\t\\t\\n\\t...</td>\n",
       "      <td>danielpalos</td>\n",
       "      <td>https://debatepolitics.com/members/danielpalos...</td>\n",
       "      <td>2019-10-24T02:16:07+0800</td>\n",
       "      <td>NaN</td>\n",
       "      <td>our ninth and tenth amendments cover it as far...</td>\n",
       "      <td>[ninth, tenth, amendments, cover, far, tell, s...</td>\n",
       "      <td>[ninth, tenth, amendments, cover, far, tell, s...</td>\n",
       "      <td>40</td>\n",
       "      <td>40</td>\n",
       "      <td>1</td>\n",
       "      <td>lgbtq</td>\n",
       "    </tr>\n",
       "    <tr>\n",
       "      <th>1429124</th>\n",
       "      <td>https://debatepolitics.com/threads/w-3596-argu...</td>\n",
       "      <td>Political forums</td>\n",
       "      <td>Sex and Sexuality</td>\n",
       "      <td>NaN</td>\n",
       "      <td>[W:3596] Arguments Against Same-Sex Marriage</td>\n",
       "      <td>2019-04-04T07:09:01+0800</td>\n",
       "      <td>Rich2018 said:\\n\\t\\t\\t\\n\\t\\t\\n\\t\\n\\t\\n\\t\\t\\n\\t...</td>\n",
       "      <td>danielpalos</td>\n",
       "      <td>https://debatepolitics.com/members/danielpalos...</td>\n",
       "      <td>2019-10-24T03:40:48+0800</td>\n",
       "      <td>NaN</td>\n",
       "      <td>nothing specific you actually want to discuss ...</td>\n",
       "      <td>[specific, actually, want, discuss, debate, go...</td>\n",
       "      <td>[specific, actually, want, discuss, debate, go...</td>\n",
       "      <td>40</td>\n",
       "      <td>40</td>\n",
       "      <td>1</td>\n",
       "      <td>lgbtq</td>\n",
       "    </tr>\n",
       "  </tbody>\n",
       "</table>\n",
       "<p>146448 rows × 18 columns</p>\n",
       "</div>"
      ],
      "text/plain": [
       "                                                <fullpath>              一级论坛  \\\n",
       "1        https://debatepolitics.com/threads/is-a-normal...  Political forums   \n",
       "4        https://debatepolitics.com/threads/is-a-normal...  Political forums   \n",
       "6        https://debatepolitics.com/threads/is-a-normal...  Political forums   \n",
       "7        https://debatepolitics.com/threads/is-a-normal...  Political forums   \n",
       "9        https://debatepolitics.com/threads/is-a-normal...  Political forums   \n",
       "...                                                    ...               ...   \n",
       "1428564  https://debatepolitics.com/threads/w-3596-argu...  Political forums   \n",
       "1428565  https://debatepolitics.com/threads/w-3596-argu...  Political forums   \n",
       "1429104  https://debatepolitics.com/threads/w-3596-argu...  Political forums   \n",
       "1429120  https://debatepolitics.com/threads/w-3596-argu...  Political forums   \n",
       "1429124  https://debatepolitics.com/threads/w-3596-argu...  Political forums   \n",
       "\n",
       "                      二级论坛 三级论坛                                            标题  \\\n",
       "1                 Abortion  NaN           Is a normally developing ZEF alive?   \n",
       "4                 Abortion  NaN           Is a normally developing ZEF alive?   \n",
       "6                 Abortion  NaN           Is a normally developing ZEF alive?   \n",
       "7                 Abortion  NaN           Is a normally developing ZEF alive?   \n",
       "9                 Abortion  NaN           Is a normally developing ZEF alive?   \n",
       "...                    ...  ...                                           ...   \n",
       "1428564  Sex and Sexuality  NaN  [W:3596] Arguments Against Same-Sex Marriage   \n",
       "1428565  Sex and Sexuality  NaN  [W:3596] Arguments Against Same-Sex Marriage   \n",
       "1429104  Sex and Sexuality  NaN  [W:3596] Arguments Against Same-Sex Marriage   \n",
       "1429120  Sex and Sexuality  NaN  [W:3596] Arguments Against Same-Sex Marriage   \n",
       "1429124  Sex and Sexuality  NaN  [W:3596] Arguments Against Same-Sex Marriage   \n",
       "\n",
       "                           主贴发布时间  \\\n",
       "1        2021-06-23T00:08:21+0800   \n",
       "4        2021-06-23T00:08:21+0800   \n",
       "6        2021-06-23T00:08:21+0800   \n",
       "7        2021-06-23T00:08:21+0800   \n",
       "9        2021-06-23T00:08:21+0800   \n",
       "...                           ...   \n",
       "1428564  2019-04-04T07:09:01+0800   \n",
       "1428565  2019-04-04T07:09:01+0800   \n",
       "1429104  2019-04-04T07:09:01+0800   \n",
       "1429120  2019-04-04T07:09:01+0800   \n",
       "1429124  2019-04-04T07:09:01+0800   \n",
       "\n",
       "                                                        正文               作者  \\\n",
       "1        Josie said:\\n\\t\\t\\t\\n\\t\\t\\n\\t\\n\\t\\n\\t\\t\\n\\t\\t\\...          Lutherf   \n",
       "4        Josie said:\\n\\t\\t\\t\\n\\t\\t\\n\\t\\n\\t\\n\\t\\t\\n\\t\\t\\...  Patriotic Voter   \n",
       "6        Josie said:\\n\\t\\t\\t\\n\\t\\t\\n\\t\\n\\t\\n\\t\\t\\n\\t\\t\\...          Lutherf   \n",
       "7        Josie said:\\n\\t\\t\\t\\n\\t\\t\\n\\t\\n\\t\\n\\t\\t\\n\\t\\t\\...  Patriotic Voter   \n",
       "9        MamboDervish said:\\n\\t\\t\\t\\n\\t\\t\\n\\t\\n\\t\\n\\t\\t...  Patriotic Voter   \n",
       "...                                                    ...              ...   \n",
       "1428564  Lisa said:\\n\\t\\t\\t\\n\\t\\t\\n\\t\\n\\t\\n\\t\\t\\n\\t\\t\\n...         Rich2018   \n",
       "1428565  danielpalos said:\\n\\t\\t\\t\\n\\t\\t\\n\\t\\n\\t\\n\\t\\t\\...         Rich2018   \n",
       "1429104  Rich2018 said:\\n\\t\\t\\t\\n\\t\\t\\n\\t\\n\\t\\n\\t\\t\\n\\t...      danielpalos   \n",
       "1429120  Rich2018 said:\\n\\t\\t\\t\\n\\t\\t\\n\\t\\n\\t\\n\\t\\t\\n\\t...      danielpalos   \n",
       "1429124  Rich2018 said:\\n\\t\\t\\t\\n\\t\\t\\n\\t\\n\\t\\n\\t\\t\\n\\t...      danielpalos   \n",
       "\n",
       "                                                      作者链接  \\\n",
       "1        https://debatepolitics.com/members/lutherf.18873/   \n",
       "4        https://debatepolitics.com/members/patriotic-v...   \n",
       "6        https://debatepolitics.com/members/lutherf.18873/   \n",
       "7        https://debatepolitics.com/members/patriotic-v...   \n",
       "9        https://debatepolitics.com/members/patriotic-v...   \n",
       "...                                                    ...   \n",
       "1428564  https://debatepolitics.com/members/rich2018.32...   \n",
       "1428565  https://debatepolitics.com/members/rich2018.32...   \n",
       "1429104  https://debatepolitics.com/members/danielpalos...   \n",
       "1429120  https://debatepolitics.com/members/danielpalos...   \n",
       "1429124  https://debatepolitics.com/members/danielpalos...   \n",
       "\n",
       "                             发布时间  \\\n",
       "1        2021-06-22T12:32:53-0400   \n",
       "4        2021-06-22T13:02:59-0400   \n",
       "6        2021-06-22T13:57:20-0400   \n",
       "7        2021-06-22T15:50:53-0400   \n",
       "9        2021-06-22T16:07:28-0400   \n",
       "...                           ...   \n",
       "1428564  2019-10-11T12:34:57-0400   \n",
       "1428565  2019-10-11T12:37:16-0400   \n",
       "1429104  2019-10-22T00:38:10+0800   \n",
       "1429120  2019-10-24T02:16:07+0800   \n",
       "1429124  2019-10-24T03:40:48+0800   \n",
       "\n",
       "                                                 点赞用户  \\\n",
       "1        code1211, LadyMoonlight, vesper and 4 others   \n",
       "4                                               Josie   \n",
       "6                    PirateMk1, eohrnberger and Josie   \n",
       "7                                                 NaN   \n",
       "9                                                 NaN   \n",
       "...                                               ...   \n",
       "1428564                                           NaN   \n",
       "1428565                                           NaN   \n",
       "1429104                                           NaN   \n",
       "1429120                                           NaN   \n",
       "1429124                                           NaN   \n",
       "\n",
       "                                                    speech  \\\n",
       "1        it not a zef its a humanwhen a human egg is fe...   \n",
       "4        of course it is life begins at fertilization t...   \n",
       "6        i have no expectation that everyone will see t...   \n",
       "7        thanks even though i opposes all laws that vio...   \n",
       "9        the sperm is one cell in the dadthe ovum is on...   \n",
       "...                                                    ...   \n",
       "1428564  palin believes whatever her script says for he...   \n",
       "1428565  you mentioned taxes who else did you spoke of ...   \n",
       "1429104  do you only know how to copy and paste or do y...   \n",
       "1429120  our ninth and tenth amendments cover it as far...   \n",
       "1429124  nothing specific you actually want to discuss ...   \n",
       "\n",
       "                                               speech_proc  \\\n",
       "1        [zef, humanwhen, human, egg, fertilized, resul...   \n",
       "4        [course, life, begins, fertilization, proven, ...   \n",
       "6        [expectation, things, way, hold, animosity, th...   \n",
       "7        [thanks, opposes, laws, violate, th, amendment...   \n",
       "9        [sperm, cell, dadthe, ovum, cell, momneither, ...   \n",
       "...                                                    ...   \n",
       "1428564  [palin, believes, script, says, sayshe, harm, ...   \n",
       "1428565  [mentioned, taxes, spoke, expense, government,...   \n",
       "1429104  [know, copy, paste, know, argue, relevant, poi...   \n",
       "1429120  [ninth, tenth, amendments, cover, far, tell, s...   \n",
       "1429124  [specific, actually, want, discuss, debate, go...   \n",
       "\n",
       "                                              speech_proc2  topics_prior  \\\n",
       "1        [zef, humanwhen, human, egg, fertilized, resul...             2   \n",
       "4        [course, life, begins, fertilization, proven, ...             2   \n",
       "6        [expectation, things, way, hold, animosity, th...             2   \n",
       "7        [thanks, opposes, laws, violate, th, amendment...             2   \n",
       "9        [sperm, cell, dadthe, ovum, cell, momneither, ...             2   \n",
       "...                                                    ...           ...   \n",
       "1428564  [palin, believes, script, says, sayshe, harm, ...            40   \n",
       "1428565  [mentioned, taxes, spoke, expense, government,...            40   \n",
       "1429104  [know, copy, paste, know, argue, relevant, poi...            40   \n",
       "1429120  [ninth, tenth, amendments, cover, far, tell, s...            40   \n",
       "1429124  [specific, actually, want, discuss, debate, go...            40   \n",
       "\n",
       "         topics_prior_1  topics_prior_2 topics_name  \n",
       "1                     2               1    abortion  \n",
       "4                     2               1    abortion  \n",
       "6                     2               1    abortion  \n",
       "7                     2               1    abortion  \n",
       "9                     2               1    abortion  \n",
       "...                 ...             ...         ...  \n",
       "1428564              40               1       lgbtq  \n",
       "1428565              40               1       lgbtq  \n",
       "1429104              40               1       lgbtq  \n",
       "1429120              40               1       lgbtq  \n",
       "1429124              40               1       lgbtq  \n",
       "\n",
       "[146448 rows x 18 columns]"
      ]
     },
     "execution_count": 245,
     "metadata": {},
     "output_type": "execute_result"
    }
   ],
   "source": [
    "speeches_filt"
   ]
  },
  {
   "cell_type": "code",
   "execution_count": 248,
   "id": "f0e4e626",
   "metadata": {},
   "outputs": [],
   "source": [
    "sentences = speeches_filt['speech_proc2'].tolist()"
   ]
  },
  {
   "cell_type": "code",
   "execution_count": 250,
   "id": "b3bd1171",
   "metadata": {},
   "outputs": [
    {
     "data": {
      "text/plain": [
       "146448"
      ]
     },
     "execution_count": 250,
     "metadata": {},
     "output_type": "execute_result"
    }
   ],
   "source": [
    "len(sentences)"
   ]
  },
  {
   "cell_type": "code",
   "execution_count": 251,
   "id": "9f622864",
   "metadata": {},
   "outputs": [
    {
     "data": {
      "text/plain": [
       "memmap([-1.4382811e+00, -1.5863197e+00,  3.1247959e-01,  1.5906711e-01,\n",
       "         9.1573113e-01, -9.7969753e-01, -6.1894268e-01,  2.1219039e+00,\n",
       "         1.6410077e-01, -7.1918815e-01,  1.3501960e-01,  6.0054207e-01,\n",
       "         1.3391365e-01,  1.3356121e-01,  1.3802420e+00,  7.4298757e-01,\n",
       "         1.8047346e-02, -1.3061938e-01, -8.2015228e-03,  7.3352140e-01,\n",
       "        -2.4403423e-01, -2.9360259e+00,  5.6717944e-01, -1.5036006e-01,\n",
       "        -1.8242574e+00, -1.3221377e+00, -6.7139930e-01, -3.6562577e-01,\n",
       "         1.8482234e-01, -6.8113315e-01,  1.1420556e+00,  1.7859061e+00,\n",
       "        -2.0265346e+00, -5.4028386e-01,  7.9335243e-01,  8.0485988e-01,\n",
       "        -3.3336887e+00,  1.4353647e+00,  1.5153053e+00, -5.2710885e-01,\n",
       "         2.4909947e+00, -1.3695401e+00,  7.5324929e-01,  5.4689437e-01,\n",
       "        -2.6108113e-01, -1.7923243e+00, -1.8450903e+00, -5.9825838e-01,\n",
       "        -8.2223564e-03,  1.4292014e+00,  1.1180506e+00,  1.0024468e+00,\n",
       "         6.0625666e-01,  1.5542005e-01,  7.4391127e-01,  1.3881541e+00,\n",
       "        -1.9693586e+00,  2.1084057e-01, -1.0530109e+00, -5.2397239e-01,\n",
       "        -1.2675200e+00,  1.4353404e+00, -1.5275890e+00,  8.0869967e-01,\n",
       "        -8.9154404e-01,  2.1988041e+00,  8.7708466e-02, -9.1578221e-01,\n",
       "         1.6875788e+00,  7.4122572e-01, -1.0788378e+00,  9.2861521e-01,\n",
       "         9.9215090e-01, -1.7108420e+00,  2.3080523e+00,  1.5751699e+00,\n",
       "        -1.8745230e-01, -2.4766430e-01, -2.2867842e+00, -1.7510493e-01,\n",
       "         1.0533140e+00, -2.2463767e-01,  1.5641502e+00,  1.8363549e-01,\n",
       "        -1.4464859e+00,  2.0831950e+00,  1.3159689e+00,  1.0182072e+00,\n",
       "        -1.7635927e+00,  6.2249404e-01,  1.6308821e+00, -2.1154780e+00,\n",
       "        -9.9355078e-01, -3.4941095e-01,  2.1343853e-01,  1.7938955e+00,\n",
       "         5.1627290e-01, -2.4808115e-01,  8.7329924e-01,  7.8018618e-01,\n",
       "         6.2736619e-01, -7.0142686e-01,  1.9843030e+00, -1.4955090e+00,\n",
       "         1.1507457e+00, -4.7714195e-01,  5.7961476e-01,  1.6507008e+00,\n",
       "         4.6261495e-01, -6.5937376e-01,  6.8389457e-01, -2.0040066e+00,\n",
       "         1.7792222e-01, -2.3619721e+00, -2.7668281e-02, -7.9149669e-01,\n",
       "        -2.6788956e-01, -1.1282644e+00,  7.7771121e-01, -1.1916417e+00,\n",
       "        -6.1938584e-01,  6.9256926e-01,  4.6693566e-01, -1.1390738e+00,\n",
       "         1.5360605e+00,  6.4701468e-01,  3.7274757e-01, -2.1974316e+00,\n",
       "         1.3784320e+00, -2.2889653e-01,  1.2612922e+00, -8.6391884e-01,\n",
       "        -9.4049340e-01,  2.4402816e+00, -7.2115749e-01, -1.1813381e+00,\n",
       "         1.4111056e+00, -9.5346516e-01,  1.0240088e-03, -1.2381577e+00,\n",
       "        -2.3877757e+00, -2.1665189e+00,  5.8056074e-01, -4.5053390e-01,\n",
       "         2.1739531e-01,  4.7830033e-01, -2.3299144e-01, -9.8518974e-01,\n",
       "         1.0109297e+00, -3.0286023e-02,  1.6565039e+00, -9.2507744e-01,\n",
       "        -1.3485186e+00,  5.4461073e-02,  1.7543428e+00,  8.3302516e-01,\n",
       "        -1.6924711e+00,  1.6044515e-01, -6.1152577e-01,  1.6646453e+00,\n",
       "         7.6002043e-01, -1.6885844e+00,  2.9291549e-01, -1.8788600e-01,\n",
       "        -1.0027388e+00,  2.0745845e+00,  5.7204199e-01, -1.8364891e+00,\n",
       "         6.5692300e-01, -1.2110777e+00,  1.3909321e+00, -1.0032670e+00,\n",
       "         1.6422680e-01,  7.1161548e-03, -4.9215060e-01, -5.1380044e-01,\n",
       "        -9.9736220e-01, -3.5075796e+00, -5.9554332e-01,  1.5610712e+00,\n",
       "         1.7580366e+00,  3.3011367e+00, -2.5083692e+00,  9.3177396e-01,\n",
       "        -1.2699908e+00, -9.7865015e-01,  3.5122281e-01, -3.1687958e+00,\n",
       "         5.3805089e-01,  3.8829720e-01, -2.0783789e-01,  1.3646796e+00,\n",
       "         8.0836564e-01,  1.8369006e+00, -2.0248592e-02, -1.3884269e+00,\n",
       "         2.0394893e+00, -6.8324161e-01, -1.5228351e+00, -2.3783002e+00,\n",
       "         3.3599746e-01,  1.7132742e+00,  5.9599704e-01,  1.3746818e+00,\n",
       "         3.0935535e-01,  1.4145175e+00,  2.0157855e+00, -1.5957812e+00,\n",
       "        -2.2716427e+00, -7.4571294e-01,  1.3103312e+00, -3.5804522e-01,\n",
       "        -5.3944495e-02,  9.9631131e-01,  8.8770592e-01,  1.2507567e+00,\n",
       "        -1.1452465e+00, -1.3558238e+00, -9.5713675e-01,  8.0914861e-01,\n",
       "         1.4245726e+00, -1.7132138e-01,  2.3808305e+00,  5.6408182e-02,\n",
       "        -1.9411540e+00, -9.3046492e-01, -3.4933111e-01, -2.7266030e+00,\n",
       "         7.0249087e-01,  2.3777351e-01, -1.7312403e-01,  1.0025072e+00,\n",
       "        -2.7942128e+00,  1.0013399e+00, -5.3114623e-01, -1.0518956e-01,\n",
       "         2.7522998e+00,  1.6727412e+00, -4.4977239e-01, -1.3952153e+00,\n",
       "         4.7647256e-02, -1.2191271e+00,  8.2740796e-01, -1.0671579e+00,\n",
       "         3.7187018e+00, -7.1654999e-01, -2.4601665e+00,  1.5666150e-01,\n",
       "        -2.0213571e-01,  1.4063281e+00,  4.9759817e-01,  1.1166357e+00,\n",
       "        -4.7593103e-03, -1.8411186e+00,  2.2165525e-01, -1.6774936e+00,\n",
       "        -2.8853517e+00,  3.2168441e+00,  3.4472468e-01,  1.3310100e-01,\n",
       "        -8.8156444e-01, -1.3737516e+00, -1.6473038e+00, -1.2540462e+00,\n",
       "        -1.2587603e+00, -1.5536407e+00, -8.5885078e-01,  8.0095840e-01,\n",
       "        -4.9309236e-01, -1.1908747e+00,  7.3941010e-01,  3.4683189e-01,\n",
       "         1.3085685e+00, -1.0572098e+00,  3.1743416e-01,  5.5603296e-01,\n",
       "        -1.6229366e+00, -6.0407591e-01, -4.5638329e-01, -4.2870324e-02,\n",
       "         2.0199740e-01,  1.5654430e+00, -1.6540473e+00,  3.2996564e+00,\n",
       "        -1.2016784e+00,  2.5101861e-01,  1.5992575e+00,  9.9710983e-01,\n",
       "         7.8371221e-01,  1.0250936e-01, -1.2078265e+00,  3.0477569e-01,\n",
       "         8.1428254e-01,  1.2510329e-01, -1.0269510e+00,  2.7498987e-02,\n",
       "         8.8927291e-02, -2.1038413e+00, -1.1131356e+00, -1.3466289e+00],\n",
       "       dtype=float32)"
      ]
     },
     "execution_count": 251,
     "metadata": {},
     "output_type": "execute_result"
    }
   ],
   "source": [
    "kvs.get_vector('gun')"
   ]
  },
  {
   "cell_type": "code",
   "execution_count": 253,
   "id": "46eed637",
   "metadata": {},
   "outputs": [],
   "source": [
    "sentences_vectors = np.array([np.mean(np.array([kvs.get_vector(w) for w in sen if w in kvs.index2word]), axis = 0) for sen in sentences])"
   ]
  },
  {
   "cell_type": "code",
   "execution_count": 254,
   "id": "473e8b83",
   "metadata": {},
   "outputs": [],
   "source": [
    "np.save(r'D:\\projects\\congress\\processed\\training_vectors\\debatepol/'+ r'debatepol_sentencevector' ,sentences_vectors)"
   ]
  },
  {
   "cell_type": "code",
   "execution_count": null,
   "id": "5d02027a",
   "metadata": {},
   "outputs": [],
   "source": []
  },
  {
   "cell_type": "code",
   "execution_count": 255,
   "id": "da456cb6",
   "metadata": {},
   "outputs": [],
   "source": [
    "speeches_filt.reset_index(drop = True, inplace = True)"
   ]
  },
  {
   "cell_type": "code",
   "execution_count": 256,
   "id": "a221cf54",
   "metadata": {},
   "outputs": [],
   "source": [
    "speeches_filt['speech_final'] = speeches_filt['speech_proc2'].apply(lambda x: \" \".join(x))"
   ]
  },
  {
   "cell_type": "code",
   "execution_count": 258,
   "id": "54e358ed",
   "metadata": {},
   "outputs": [],
   "source": [
    "speeches_filt.rename(columns = {'标题': 'title', '正文':'text_raw', '主贴发布时间':'subject_posttime', '作者':'author', '点赞用户':'upvoted', '发布时间':\"reply_posttime\", '作者链接':'authorlink','<fullpath>':'posturl'}, inplace = True)"
   ]
  },
  {
   "cell_type": "code",
   "execution_count": 259,
   "id": "ab9f537a",
   "metadata": {},
   "outputs": [
    {
     "data": {
      "text/html": [
       "<div>\n",
       "<style scoped>\n",
       "    .dataframe tbody tr th:only-of-type {\n",
       "        vertical-align: middle;\n",
       "    }\n",
       "\n",
       "    .dataframe tbody tr th {\n",
       "        vertical-align: top;\n",
       "    }\n",
       "\n",
       "    .dataframe thead th {\n",
       "        text-align: right;\n",
       "    }\n",
       "</style>\n",
       "<table border=\"1\" class=\"dataframe\">\n",
       "  <thead>\n",
       "    <tr style=\"text-align: right;\">\n",
       "      <th></th>\n",
       "      <th>posturl</th>\n",
       "      <th>一级论坛</th>\n",
       "      <th>二级论坛</th>\n",
       "      <th>三级论坛</th>\n",
       "      <th>title</th>\n",
       "      <th>subject_posttime</th>\n",
       "      <th>text_raw</th>\n",
       "      <th>author</th>\n",
       "      <th>authorlink</th>\n",
       "      <th>reply_posttime</th>\n",
       "      <th>upvoted</th>\n",
       "      <th>speech</th>\n",
       "      <th>speech_proc</th>\n",
       "      <th>speech_proc2</th>\n",
       "      <th>topics_prior</th>\n",
       "      <th>topics_prior_1</th>\n",
       "      <th>topics_prior_2</th>\n",
       "      <th>topics_name</th>\n",
       "      <th>speech_final</th>\n",
       "    </tr>\n",
       "  </thead>\n",
       "  <tbody>\n",
       "    <tr>\n",
       "      <th>0</th>\n",
       "      <td>https://debatepolitics.com/threads/is-a-normal...</td>\n",
       "      <td>Political forums</td>\n",
       "      <td>Abortion</td>\n",
       "      <td>NaN</td>\n",
       "      <td>Is a normally developing ZEF alive?</td>\n",
       "      <td>2021-06-23T00:08:21+0800</td>\n",
       "      <td>Josie said:\\n\\t\\t\\t\\n\\t\\t\\n\\t\\n\\t\\n\\t\\t\\n\\t\\t\\...</td>\n",
       "      <td>Lutherf</td>\n",
       "      <td>https://debatepolitics.com/members/lutherf.18873/</td>\n",
       "      <td>2021-06-22T12:32:53-0400</td>\n",
       "      <td>code1211, LadyMoonlight, vesper and 4 others</td>\n",
       "      <td>it not a zef its a humanwhen a human egg is fe...</td>\n",
       "      <td>[zef, humanwhen, human, egg, fertilized, resul...</td>\n",
       "      <td>[zef, humanwhen, human, egg, fertilized, resul...</td>\n",
       "      <td>2</td>\n",
       "      <td>2</td>\n",
       "      <td>1</td>\n",
       "      <td>abortion</td>\n",
       "      <td>zef humanwhen human egg fertilized result prov...</td>\n",
       "    </tr>\n",
       "    <tr>\n",
       "      <th>1</th>\n",
       "      <td>https://debatepolitics.com/threads/is-a-normal...</td>\n",
       "      <td>Political forums</td>\n",
       "      <td>Abortion</td>\n",
       "      <td>NaN</td>\n",
       "      <td>Is a normally developing ZEF alive?</td>\n",
       "      <td>2021-06-23T00:08:21+0800</td>\n",
       "      <td>Josie said:\\n\\t\\t\\t\\n\\t\\t\\n\\t\\n\\t\\n\\t\\t\\n\\t\\t\\...</td>\n",
       "      <td>Patriotic Voter</td>\n",
       "      <td>https://debatepolitics.com/members/patriotic-v...</td>\n",
       "      <td>2021-06-22T13:02:59-0400</td>\n",
       "      <td>Josie</td>\n",
       "      <td>of course it is life begins at fertilization t...</td>\n",
       "      <td>[course, life, begins, fertilization, proven, ...</td>\n",
       "      <td>[course, life, begins, fertilization, proven, ...</td>\n",
       "      <td>2</td>\n",
       "      <td>2</td>\n",
       "      <td>1</td>\n",
       "      <td>abortion</td>\n",
       "      <td>course life begins fertilization proven biolog...</td>\n",
       "    </tr>\n",
       "    <tr>\n",
       "      <th>2</th>\n",
       "      <td>https://debatepolitics.com/threads/is-a-normal...</td>\n",
       "      <td>Political forums</td>\n",
       "      <td>Abortion</td>\n",
       "      <td>NaN</td>\n",
       "      <td>Is a normally developing ZEF alive?</td>\n",
       "      <td>2021-06-23T00:08:21+0800</td>\n",
       "      <td>Josie said:\\n\\t\\t\\t\\n\\t\\t\\n\\t\\n\\t\\n\\t\\t\\n\\t\\t\\...</td>\n",
       "      <td>Lutherf</td>\n",
       "      <td>https://debatepolitics.com/members/lutherf.18873/</td>\n",
       "      <td>2021-06-22T13:57:20-0400</td>\n",
       "      <td>PirateMk1, eohrnberger and Josie</td>\n",
       "      <td>i have no expectation that everyone will see t...</td>\n",
       "      <td>[expectation, things, way, hold, animosity, th...</td>\n",
       "      <td>[expectation, things, way, hold, animosity, th...</td>\n",
       "      <td>2</td>\n",
       "      <td>2</td>\n",
       "      <td>1</td>\n",
       "      <td>abortion</td>\n",
       "      <td>expectation things way hold animosity things d...</td>\n",
       "    </tr>\n",
       "    <tr>\n",
       "      <th>3</th>\n",
       "      <td>https://debatepolitics.com/threads/is-a-normal...</td>\n",
       "      <td>Political forums</td>\n",
       "      <td>Abortion</td>\n",
       "      <td>NaN</td>\n",
       "      <td>Is a normally developing ZEF alive?</td>\n",
       "      <td>2021-06-23T00:08:21+0800</td>\n",
       "      <td>Josie said:\\n\\t\\t\\t\\n\\t\\t\\n\\t\\n\\t\\n\\t\\t\\n\\t\\t\\...</td>\n",
       "      <td>Patriotic Voter</td>\n",
       "      <td>https://debatepolitics.com/members/patriotic-v...</td>\n",
       "      <td>2021-06-22T15:50:53-0400</td>\n",
       "      <td>NaN</td>\n",
       "      <td>thanks even though i opposes all laws that vio...</td>\n",
       "      <td>[thanks, opposes, laws, violate, th, amendment...</td>\n",
       "      <td>[thanks, opposes, laws, violate, th, amendment...</td>\n",
       "      <td>2</td>\n",
       "      <td>2</td>\n",
       "      <td>1</td>\n",
       "      <td>abortion</td>\n",
       "      <td>thanks opposes laws violate th amendment belie...</td>\n",
       "    </tr>\n",
       "    <tr>\n",
       "      <th>4</th>\n",
       "      <td>https://debatepolitics.com/threads/is-a-normal...</td>\n",
       "      <td>Political forums</td>\n",
       "      <td>Abortion</td>\n",
       "      <td>NaN</td>\n",
       "      <td>Is a normally developing ZEF alive?</td>\n",
       "      <td>2021-06-23T00:08:21+0800</td>\n",
       "      <td>MamboDervish said:\\n\\t\\t\\t\\n\\t\\t\\n\\t\\n\\t\\n\\t\\t...</td>\n",
       "      <td>Patriotic Voter</td>\n",
       "      <td>https://debatepolitics.com/members/patriotic-v...</td>\n",
       "      <td>2021-06-22T16:07:28-0400</td>\n",
       "      <td>NaN</td>\n",
       "      <td>the sperm is one cell in the dadthe ovum is on...</td>\n",
       "      <td>[sperm, cell, dadthe, ovum, cell, momneither, ...</td>\n",
       "      <td>[sperm, cell, dadthe, ovum, cell, momneither, ...</td>\n",
       "      <td>2</td>\n",
       "      <td>2</td>\n",
       "      <td>1</td>\n",
       "      <td>abortion</td>\n",
       "      <td>sperm cell dadthe ovum cell momneither cell ne...</td>\n",
       "    </tr>\n",
       "    <tr>\n",
       "      <th>...</th>\n",
       "      <td>...</td>\n",
       "      <td>...</td>\n",
       "      <td>...</td>\n",
       "      <td>...</td>\n",
       "      <td>...</td>\n",
       "      <td>...</td>\n",
       "      <td>...</td>\n",
       "      <td>...</td>\n",
       "      <td>...</td>\n",
       "      <td>...</td>\n",
       "      <td>...</td>\n",
       "      <td>...</td>\n",
       "      <td>...</td>\n",
       "      <td>...</td>\n",
       "      <td>...</td>\n",
       "      <td>...</td>\n",
       "      <td>...</td>\n",
       "      <td>...</td>\n",
       "      <td>...</td>\n",
       "    </tr>\n",
       "    <tr>\n",
       "      <th>146443</th>\n",
       "      <td>https://debatepolitics.com/threads/w-3596-argu...</td>\n",
       "      <td>Political forums</td>\n",
       "      <td>Sex and Sexuality</td>\n",
       "      <td>NaN</td>\n",
       "      <td>[W:3596] Arguments Against Same-Sex Marriage</td>\n",
       "      <td>2019-04-04T07:09:01+0800</td>\n",
       "      <td>Lisa said:\\n\\t\\t\\t\\n\\t\\t\\n\\t\\n\\t\\n\\t\\t\\n\\t\\t\\n...</td>\n",
       "      <td>Rich2018</td>\n",
       "      <td>https://debatepolitics.com/members/rich2018.32...</td>\n",
       "      <td>2019-10-11T12:34:57-0400</td>\n",
       "      <td>NaN</td>\n",
       "      <td>palin believes whatever her script says for he...</td>\n",
       "      <td>[palin, believes, script, says, sayshe, harm, ...</td>\n",
       "      <td>[palin, believes, script, says, sayshe, harm, ...</td>\n",
       "      <td>40</td>\n",
       "      <td>40</td>\n",
       "      <td>1</td>\n",
       "      <td>lgbtq</td>\n",
       "      <td>palin believes script says sayshe harm good op...</td>\n",
       "    </tr>\n",
       "    <tr>\n",
       "      <th>146444</th>\n",
       "      <td>https://debatepolitics.com/threads/w-3596-argu...</td>\n",
       "      <td>Political forums</td>\n",
       "      <td>Sex and Sexuality</td>\n",
       "      <td>NaN</td>\n",
       "      <td>[W:3596] Arguments Against Same-Sex Marriage</td>\n",
       "      <td>2019-04-04T07:09:01+0800</td>\n",
       "      <td>danielpalos said:\\n\\t\\t\\t\\n\\t\\t\\n\\t\\n\\t\\n\\t\\t\\...</td>\n",
       "      <td>Rich2018</td>\n",
       "      <td>https://debatepolitics.com/members/rich2018.32...</td>\n",
       "      <td>2019-10-11T12:37:16-0400</td>\n",
       "      <td>NaN</td>\n",
       "      <td>you mentioned taxes who else did you spoke of ...</td>\n",
       "      <td>[mentioned, taxes, spoke, expense, government,...</td>\n",
       "      <td>[mentioned, taxes, spoke, expense, government,...</td>\n",
       "      <td>40</td>\n",
       "      <td>40</td>\n",
       "      <td>1</td>\n",
       "      <td>lgbtq</td>\n",
       "      <td>mentioned taxes spoke expense government expla...</td>\n",
       "    </tr>\n",
       "    <tr>\n",
       "      <th>146445</th>\n",
       "      <td>https://debatepolitics.com/threads/w-3596-argu...</td>\n",
       "      <td>Political forums</td>\n",
       "      <td>Sex and Sexuality</td>\n",
       "      <td>NaN</td>\n",
       "      <td>[W:3596] Arguments Against Same-Sex Marriage</td>\n",
       "      <td>2019-04-04T07:09:01+0800</td>\n",
       "      <td>Rich2018 said:\\n\\t\\t\\t\\n\\t\\t\\n\\t\\n\\t\\n\\t\\t\\n\\t...</td>\n",
       "      <td>danielpalos</td>\n",
       "      <td>https://debatepolitics.com/members/danielpalos...</td>\n",
       "      <td>2019-10-22T00:38:10+0800</td>\n",
       "      <td>NaN</td>\n",
       "      <td>do you only know how to copy and paste or do y...</td>\n",
       "      <td>[know, copy, paste, know, argue, relevant, poi...</td>\n",
       "      <td>[know, copy, paste, know, argue, relevant, poi...</td>\n",
       "      <td>40</td>\n",
       "      <td>40</td>\n",
       "      <td>1</td>\n",
       "      <td>lgbtq</td>\n",
       "      <td>know copy paste know argue relevant pointi dem...</td>\n",
       "    </tr>\n",
       "    <tr>\n",
       "      <th>146446</th>\n",
       "      <td>https://debatepolitics.com/threads/w-3596-argu...</td>\n",
       "      <td>Political forums</td>\n",
       "      <td>Sex and Sexuality</td>\n",
       "      <td>NaN</td>\n",
       "      <td>[W:3596] Arguments Against Same-Sex Marriage</td>\n",
       "      <td>2019-04-04T07:09:01+0800</td>\n",
       "      <td>Rich2018 said:\\n\\t\\t\\t\\n\\t\\t\\n\\t\\n\\t\\n\\t\\t\\n\\t...</td>\n",
       "      <td>danielpalos</td>\n",
       "      <td>https://debatepolitics.com/members/danielpalos...</td>\n",
       "      <td>2019-10-24T02:16:07+0800</td>\n",
       "      <td>NaN</td>\n",
       "      <td>our ninth and tenth amendments cover it as far...</td>\n",
       "      <td>[ninth, tenth, amendments, cover, far, tell, s...</td>\n",
       "      <td>[ninth, tenth, amendments, cover, far, tell, s...</td>\n",
       "      <td>40</td>\n",
       "      <td>40</td>\n",
       "      <td>1</td>\n",
       "      <td>lgbtq</td>\n",
       "      <td>ninth tenth amendments cover far tell specific...</td>\n",
       "    </tr>\n",
       "    <tr>\n",
       "      <th>146447</th>\n",
       "      <td>https://debatepolitics.com/threads/w-3596-argu...</td>\n",
       "      <td>Political forums</td>\n",
       "      <td>Sex and Sexuality</td>\n",
       "      <td>NaN</td>\n",
       "      <td>[W:3596] Arguments Against Same-Sex Marriage</td>\n",
       "      <td>2019-04-04T07:09:01+0800</td>\n",
       "      <td>Rich2018 said:\\n\\t\\t\\t\\n\\t\\t\\n\\t\\n\\t\\n\\t\\t\\n\\t...</td>\n",
       "      <td>danielpalos</td>\n",
       "      <td>https://debatepolitics.com/members/danielpalos...</td>\n",
       "      <td>2019-10-24T03:40:48+0800</td>\n",
       "      <td>NaN</td>\n",
       "      <td>nothing specific you actually want to discuss ...</td>\n",
       "      <td>[specific, actually, want, discuss, debate, go...</td>\n",
       "      <td>[specific, actually, want, discuss, debate, go...</td>\n",
       "      <td>40</td>\n",
       "      <td>40</td>\n",
       "      <td>1</td>\n",
       "      <td>lgbtq</td>\n",
       "      <td>specific actually want discuss debate got righ...</td>\n",
       "    </tr>\n",
       "  </tbody>\n",
       "</table>\n",
       "<p>146448 rows × 19 columns</p>\n",
       "</div>"
      ],
      "text/plain": [
       "                                                  posturl              一级论坛  \\\n",
       "0       https://debatepolitics.com/threads/is-a-normal...  Political forums   \n",
       "1       https://debatepolitics.com/threads/is-a-normal...  Political forums   \n",
       "2       https://debatepolitics.com/threads/is-a-normal...  Political forums   \n",
       "3       https://debatepolitics.com/threads/is-a-normal...  Political forums   \n",
       "4       https://debatepolitics.com/threads/is-a-normal...  Political forums   \n",
       "...                                                   ...               ...   \n",
       "146443  https://debatepolitics.com/threads/w-3596-argu...  Political forums   \n",
       "146444  https://debatepolitics.com/threads/w-3596-argu...  Political forums   \n",
       "146445  https://debatepolitics.com/threads/w-3596-argu...  Political forums   \n",
       "146446  https://debatepolitics.com/threads/w-3596-argu...  Political forums   \n",
       "146447  https://debatepolitics.com/threads/w-3596-argu...  Political forums   \n",
       "\n",
       "                     二级论坛 三级论坛                                         title  \\\n",
       "0                Abortion  NaN           Is a normally developing ZEF alive?   \n",
       "1                Abortion  NaN           Is a normally developing ZEF alive?   \n",
       "2                Abortion  NaN           Is a normally developing ZEF alive?   \n",
       "3                Abortion  NaN           Is a normally developing ZEF alive?   \n",
       "4                Abortion  NaN           Is a normally developing ZEF alive?   \n",
       "...                   ...  ...                                           ...   \n",
       "146443  Sex and Sexuality  NaN  [W:3596] Arguments Against Same-Sex Marriage   \n",
       "146444  Sex and Sexuality  NaN  [W:3596] Arguments Against Same-Sex Marriage   \n",
       "146445  Sex and Sexuality  NaN  [W:3596] Arguments Against Same-Sex Marriage   \n",
       "146446  Sex and Sexuality  NaN  [W:3596] Arguments Against Same-Sex Marriage   \n",
       "146447  Sex and Sexuality  NaN  [W:3596] Arguments Against Same-Sex Marriage   \n",
       "\n",
       "                subject_posttime  \\\n",
       "0       2021-06-23T00:08:21+0800   \n",
       "1       2021-06-23T00:08:21+0800   \n",
       "2       2021-06-23T00:08:21+0800   \n",
       "3       2021-06-23T00:08:21+0800   \n",
       "4       2021-06-23T00:08:21+0800   \n",
       "...                          ...   \n",
       "146443  2019-04-04T07:09:01+0800   \n",
       "146444  2019-04-04T07:09:01+0800   \n",
       "146445  2019-04-04T07:09:01+0800   \n",
       "146446  2019-04-04T07:09:01+0800   \n",
       "146447  2019-04-04T07:09:01+0800   \n",
       "\n",
       "                                                 text_raw           author  \\\n",
       "0       Josie said:\\n\\t\\t\\t\\n\\t\\t\\n\\t\\n\\t\\n\\t\\t\\n\\t\\t\\...          Lutherf   \n",
       "1       Josie said:\\n\\t\\t\\t\\n\\t\\t\\n\\t\\n\\t\\n\\t\\t\\n\\t\\t\\...  Patriotic Voter   \n",
       "2       Josie said:\\n\\t\\t\\t\\n\\t\\t\\n\\t\\n\\t\\n\\t\\t\\n\\t\\t\\...          Lutherf   \n",
       "3       Josie said:\\n\\t\\t\\t\\n\\t\\t\\n\\t\\n\\t\\n\\t\\t\\n\\t\\t\\...  Patriotic Voter   \n",
       "4       MamboDervish said:\\n\\t\\t\\t\\n\\t\\t\\n\\t\\n\\t\\n\\t\\t...  Patriotic Voter   \n",
       "...                                                   ...              ...   \n",
       "146443  Lisa said:\\n\\t\\t\\t\\n\\t\\t\\n\\t\\n\\t\\n\\t\\t\\n\\t\\t\\n...         Rich2018   \n",
       "146444  danielpalos said:\\n\\t\\t\\t\\n\\t\\t\\n\\t\\n\\t\\n\\t\\t\\...         Rich2018   \n",
       "146445  Rich2018 said:\\n\\t\\t\\t\\n\\t\\t\\n\\t\\n\\t\\n\\t\\t\\n\\t...      danielpalos   \n",
       "146446  Rich2018 said:\\n\\t\\t\\t\\n\\t\\t\\n\\t\\n\\t\\n\\t\\t\\n\\t...      danielpalos   \n",
       "146447  Rich2018 said:\\n\\t\\t\\t\\n\\t\\t\\n\\t\\n\\t\\n\\t\\t\\n\\t...      danielpalos   \n",
       "\n",
       "                                               authorlink  \\\n",
       "0       https://debatepolitics.com/members/lutherf.18873/   \n",
       "1       https://debatepolitics.com/members/patriotic-v...   \n",
       "2       https://debatepolitics.com/members/lutherf.18873/   \n",
       "3       https://debatepolitics.com/members/patriotic-v...   \n",
       "4       https://debatepolitics.com/members/patriotic-v...   \n",
       "...                                                   ...   \n",
       "146443  https://debatepolitics.com/members/rich2018.32...   \n",
       "146444  https://debatepolitics.com/members/rich2018.32...   \n",
       "146445  https://debatepolitics.com/members/danielpalos...   \n",
       "146446  https://debatepolitics.com/members/danielpalos...   \n",
       "146447  https://debatepolitics.com/members/danielpalos...   \n",
       "\n",
       "                  reply_posttime  \\\n",
       "0       2021-06-22T12:32:53-0400   \n",
       "1       2021-06-22T13:02:59-0400   \n",
       "2       2021-06-22T13:57:20-0400   \n",
       "3       2021-06-22T15:50:53-0400   \n",
       "4       2021-06-22T16:07:28-0400   \n",
       "...                          ...   \n",
       "146443  2019-10-11T12:34:57-0400   \n",
       "146444  2019-10-11T12:37:16-0400   \n",
       "146445  2019-10-22T00:38:10+0800   \n",
       "146446  2019-10-24T02:16:07+0800   \n",
       "146447  2019-10-24T03:40:48+0800   \n",
       "\n",
       "                                             upvoted  \\\n",
       "0       code1211, LadyMoonlight, vesper and 4 others   \n",
       "1                                              Josie   \n",
       "2                   PirateMk1, eohrnberger and Josie   \n",
       "3                                                NaN   \n",
       "4                                                NaN   \n",
       "...                                              ...   \n",
       "146443                                           NaN   \n",
       "146444                                           NaN   \n",
       "146445                                           NaN   \n",
       "146446                                           NaN   \n",
       "146447                                           NaN   \n",
       "\n",
       "                                                   speech  \\\n",
       "0       it not a zef its a humanwhen a human egg is fe...   \n",
       "1       of course it is life begins at fertilization t...   \n",
       "2       i have no expectation that everyone will see t...   \n",
       "3       thanks even though i opposes all laws that vio...   \n",
       "4       the sperm is one cell in the dadthe ovum is on...   \n",
       "...                                                   ...   \n",
       "146443  palin believes whatever her script says for he...   \n",
       "146444  you mentioned taxes who else did you spoke of ...   \n",
       "146445  do you only know how to copy and paste or do y...   \n",
       "146446  our ninth and tenth amendments cover it as far...   \n",
       "146447  nothing specific you actually want to discuss ...   \n",
       "\n",
       "                                              speech_proc  \\\n",
       "0       [zef, humanwhen, human, egg, fertilized, resul...   \n",
       "1       [course, life, begins, fertilization, proven, ...   \n",
       "2       [expectation, things, way, hold, animosity, th...   \n",
       "3       [thanks, opposes, laws, violate, th, amendment...   \n",
       "4       [sperm, cell, dadthe, ovum, cell, momneither, ...   \n",
       "...                                                   ...   \n",
       "146443  [palin, believes, script, says, sayshe, harm, ...   \n",
       "146444  [mentioned, taxes, spoke, expense, government,...   \n",
       "146445  [know, copy, paste, know, argue, relevant, poi...   \n",
       "146446  [ninth, tenth, amendments, cover, far, tell, s...   \n",
       "146447  [specific, actually, want, discuss, debate, go...   \n",
       "\n",
       "                                             speech_proc2  topics_prior  \\\n",
       "0       [zef, humanwhen, human, egg, fertilized, resul...             2   \n",
       "1       [course, life, begins, fertilization, proven, ...             2   \n",
       "2       [expectation, things, way, hold, animosity, th...             2   \n",
       "3       [thanks, opposes, laws, violate, th, amendment...             2   \n",
       "4       [sperm, cell, dadthe, ovum, cell, momneither, ...             2   \n",
       "...                                                   ...           ...   \n",
       "146443  [palin, believes, script, says, sayshe, harm, ...            40   \n",
       "146444  [mentioned, taxes, spoke, expense, government,...            40   \n",
       "146445  [know, copy, paste, know, argue, relevant, poi...            40   \n",
       "146446  [ninth, tenth, amendments, cover, far, tell, s...            40   \n",
       "146447  [specific, actually, want, discuss, debate, go...            40   \n",
       "\n",
       "        topics_prior_1  topics_prior_2 topics_name  \\\n",
       "0                    2               1    abortion   \n",
       "1                    2               1    abortion   \n",
       "2                    2               1    abortion   \n",
       "3                    2               1    abortion   \n",
       "4                    2               1    abortion   \n",
       "...                ...             ...         ...   \n",
       "146443              40               1       lgbtq   \n",
       "146444              40               1       lgbtq   \n",
       "146445              40               1       lgbtq   \n",
       "146446              40               1       lgbtq   \n",
       "146447              40               1       lgbtq   \n",
       "\n",
       "                                             speech_final  \n",
       "0       zef humanwhen human egg fertilized result prov...  \n",
       "1       course life begins fertilization proven biolog...  \n",
       "2       expectation things way hold animosity things d...  \n",
       "3       thanks opposes laws violate th amendment belie...  \n",
       "4       sperm cell dadthe ovum cell momneither cell ne...  \n",
       "...                                                   ...  \n",
       "146443  palin believes script says sayshe harm good op...  \n",
       "146444  mentioned taxes spoke expense government expla...  \n",
       "146445  know copy paste know argue relevant pointi dem...  \n",
       "146446  ninth tenth amendments cover far tell specific...  \n",
       "146447  specific actually want discuss debate got righ...  \n",
       "\n",
       "[146448 rows x 19 columns]"
      ]
     },
     "execution_count": 259,
     "metadata": {},
     "output_type": "execute_result"
    }
   ],
   "source": [
    "speeches_filt"
   ]
  },
  {
   "cell_type": "code",
   "execution_count": null,
   "id": "2b973a94",
   "metadata": {},
   "outputs": [],
   "source": []
  },
  {
   "cell_type": "code",
   "execution_count": 304,
   "id": "44d55809",
   "metadata": {},
   "outputs": [],
   "source": [
    "speeches_filt_aut = pd.merge(speeches_filt.loc[:, ['title','text_raw', 'subject_posttime', 'author', 'authorlink','topics_prior',\n",
    "                      'posturl', 'reply_posttime', 'upvoted', 'topics_name', 'speech_final']], member, left_on = 'author', right_on = 'name', how = 'left')"
   ]
  },
  {
   "cell_type": "code",
   "execution_count": 303,
   "id": "81684145",
   "metadata": {},
   "outputs": [
    {
     "data": {
      "text/plain": [
       "False"
      ]
     },
     "execution_count": 303,
     "metadata": {},
     "output_type": "execute_result"
    }
   ],
   "source": [
    "speeches_filt_aut.slant_lib"
   ]
  },
  {
   "cell_type": "code",
   "execution_count": 305,
   "id": "595af84a",
   "metadata": {},
   "outputs": [],
   "source": [
    "speeches_filt_aut.to_csv(r'D:\\projects\\congress\\data\\debate_politics\\filtered_data\\debatepol_4topics_author_train.csv', \n",
    "                                                                                                     sep = '\\t', index_label = False)"
   ]
  },
  {
   "cell_type": "code",
   "execution_count": 20,
   "id": "d18a9bb0",
   "metadata": {},
   "outputs": [],
   "source": [
    "speeches_filt_2 = pd.read_csv(r'D:\\projects\\congress\\data\\debate_politics\\filtered_data\\debatepol_4topics_author_train.csv', \n",
    "                                                                                                     sep = '\\t')"
   ]
  },
  {
   "cell_type": "code",
   "execution_count": 21,
   "id": "8c5014d1",
   "metadata": {},
   "outputs": [
    {
     "data": {
      "text/html": [
       "<div>\n",
       "<style scoped>\n",
       "    .dataframe tbody tr th:only-of-type {\n",
       "        vertical-align: middle;\n",
       "    }\n",
       "\n",
       "    .dataframe tbody tr th {\n",
       "        vertical-align: top;\n",
       "    }\n",
       "\n",
       "    .dataframe thead th {\n",
       "        text-align: right;\n",
       "    }\n",
       "</style>\n",
       "<table border=\"1\" class=\"dataframe\">\n",
       "  <thead>\n",
       "    <tr style=\"text-align: right;\">\n",
       "      <th></th>\n",
       "      <th>title</th>\n",
       "      <th>text_raw</th>\n",
       "      <th>subject_posttime</th>\n",
       "      <th>author</th>\n",
       "      <th>authorlink</th>\n",
       "      <th>topics_prior</th>\n",
       "      <th>posturl</th>\n",
       "      <th>reply_posttime</th>\n",
       "      <th>upvoted</th>\n",
       "      <th>topics_name</th>\n",
       "      <th>...</th>\n",
       "      <th>score</th>\n",
       "      <th>points</th>\n",
       "      <th>awards</th>\n",
       "      <th>birthday</th>\n",
       "      <th>location</th>\n",
       "      <th>gender</th>\n",
       "      <th>occupation</th>\n",
       "      <th>political_leaning</th>\n",
       "      <th>signature</th>\n",
       "      <th>slant_lib</th>\n",
       "    </tr>\n",
       "  </thead>\n",
       "  <tbody>\n",
       "    <tr>\n",
       "      <th>0</th>\n",
       "      <td>Is a normally developing ZEF alive?</td>\n",
       "      <td>Josie said:\\n\\t\\t\\t\\n\\t\\t\\n\\t\\n\\t\\n\\t\\t\\n\\t\\t\\...</td>\n",
       "      <td>2021-06-23T00:08:21+0800</td>\n",
       "      <td>Lutherf</td>\n",
       "      <td>https://debatepolitics.com/members/lutherf.18873/</td>\n",
       "      <td>2</td>\n",
       "      <td>https://debatepolitics.com/threads/is-a-normal...</td>\n",
       "      <td>2021-06-22T12:32:53-0400</td>\n",
       "      <td>code1211, LadyMoonlight, vesper and 4 others</td>\n",
       "      <td>abortion</td>\n",
       "      <td>...</td>\n",
       "      <td>46,794</td>\n",
       "      <td>0</td>\n",
       "      <td>$50.00</td>\n",
       "      <td>Apr 10, 1966\\n\\t\\t\\t\\t\\t\\t\\t\\t\\t\\t\\n\\t\\t\\t\\t\\t...</td>\n",
       "      <td>Tucson, AZ</td>\n",
       "      <td>Male</td>\n",
       "      <td>Accountant</td>\n",
       "      <td>Conservative</td>\n",
       "      <td>NaN</td>\n",
       "      <td>2</td>\n",
       "    </tr>\n",
       "    <tr>\n",
       "      <th>1</th>\n",
       "      <td>Is a normally developing ZEF alive?</td>\n",
       "      <td>Josie said:\\n\\t\\t\\t\\n\\t\\t\\n\\t\\n\\t\\n\\t\\t\\n\\t\\t\\...</td>\n",
       "      <td>2021-06-23T00:08:21+0800</td>\n",
       "      <td>Patriotic Voter</td>\n",
       "      <td>https://debatepolitics.com/members/patriotic-v...</td>\n",
       "      <td>2</td>\n",
       "      <td>https://debatepolitics.com/threads/is-a-normal...</td>\n",
       "      <td>2021-06-22T13:02:59-0400</td>\n",
       "      <td>Josie</td>\n",
       "      <td>abortion</td>\n",
       "      <td>...</td>\n",
       "      <td>4,046</td>\n",
       "      <td>0</td>\n",
       "      <td>4</td>\n",
       "      <td>Jan 27, 1977\\n\\t\\t\\t\\t\\t\\t\\t\\t\\t\\t\\n\\t\\t\\t\\t\\t...</td>\n",
       "      <td>Alachua Coucnty, FL</td>\n",
       "      <td>Female</td>\n",
       "      <td>Unemployed</td>\n",
       "      <td>Liberal</td>\n",
       "      <td>NaN</td>\n",
       "      <td>6</td>\n",
       "    </tr>\n",
       "    <tr>\n",
       "      <th>2</th>\n",
       "      <td>Is a normally developing ZEF alive?</td>\n",
       "      <td>Josie said:\\n\\t\\t\\t\\n\\t\\t\\n\\t\\n\\t\\n\\t\\t\\n\\t\\t\\...</td>\n",
       "      <td>2021-06-23T00:08:21+0800</td>\n",
       "      <td>Lutherf</td>\n",
       "      <td>https://debatepolitics.com/members/lutherf.18873/</td>\n",
       "      <td>2</td>\n",
       "      <td>https://debatepolitics.com/threads/is-a-normal...</td>\n",
       "      <td>2021-06-22T13:57:20-0400</td>\n",
       "      <td>PirateMk1, eohrnberger and Josie</td>\n",
       "      <td>abortion</td>\n",
       "      <td>...</td>\n",
       "      <td>46,794</td>\n",
       "      <td>0</td>\n",
       "      <td>$50.00</td>\n",
       "      <td>Apr 10, 1966\\n\\t\\t\\t\\t\\t\\t\\t\\t\\t\\t\\n\\t\\t\\t\\t\\t...</td>\n",
       "      <td>Tucson, AZ</td>\n",
       "      <td>Male</td>\n",
       "      <td>Accountant</td>\n",
       "      <td>Conservative</td>\n",
       "      <td>NaN</td>\n",
       "      <td>2</td>\n",
       "    </tr>\n",
       "    <tr>\n",
       "      <th>3</th>\n",
       "      <td>Is a normally developing ZEF alive?</td>\n",
       "      <td>Josie said:\\n\\t\\t\\t\\n\\t\\t\\n\\t\\n\\t\\n\\t\\t\\n\\t\\t\\...</td>\n",
       "      <td>2021-06-23T00:08:21+0800</td>\n",
       "      <td>Patriotic Voter</td>\n",
       "      <td>https://debatepolitics.com/members/patriotic-v...</td>\n",
       "      <td>2</td>\n",
       "      <td>https://debatepolitics.com/threads/is-a-normal...</td>\n",
       "      <td>2021-06-22T15:50:53-0400</td>\n",
       "      <td>NaN</td>\n",
       "      <td>abortion</td>\n",
       "      <td>...</td>\n",
       "      <td>4,046</td>\n",
       "      <td>0</td>\n",
       "      <td>4</td>\n",
       "      <td>Jan 27, 1977\\n\\t\\t\\t\\t\\t\\t\\t\\t\\t\\t\\n\\t\\t\\t\\t\\t...</td>\n",
       "      <td>Alachua Coucnty, FL</td>\n",
       "      <td>Female</td>\n",
       "      <td>Unemployed</td>\n",
       "      <td>Liberal</td>\n",
       "      <td>NaN</td>\n",
       "      <td>6</td>\n",
       "    </tr>\n",
       "    <tr>\n",
       "      <th>4</th>\n",
       "      <td>Is a normally developing ZEF alive?</td>\n",
       "      <td>MamboDervish said:\\n\\t\\t\\t\\n\\t\\t\\n\\t\\n\\t\\n\\t\\t...</td>\n",
       "      <td>2021-06-23T00:08:21+0800</td>\n",
       "      <td>Patriotic Voter</td>\n",
       "      <td>https://debatepolitics.com/members/patriotic-v...</td>\n",
       "      <td>2</td>\n",
       "      <td>https://debatepolitics.com/threads/is-a-normal...</td>\n",
       "      <td>2021-06-22T16:07:28-0400</td>\n",
       "      <td>NaN</td>\n",
       "      <td>abortion</td>\n",
       "      <td>...</td>\n",
       "      <td>4,046</td>\n",
       "      <td>0</td>\n",
       "      <td>4</td>\n",
       "      <td>Jan 27, 1977\\n\\t\\t\\t\\t\\t\\t\\t\\t\\t\\t\\n\\t\\t\\t\\t\\t...</td>\n",
       "      <td>Alachua Coucnty, FL</td>\n",
       "      <td>Female</td>\n",
       "      <td>Unemployed</td>\n",
       "      <td>Liberal</td>\n",
       "      <td>NaN</td>\n",
       "      <td>6</td>\n",
       "    </tr>\n",
       "    <tr>\n",
       "      <th>...</th>\n",
       "      <td>...</td>\n",
       "      <td>...</td>\n",
       "      <td>...</td>\n",
       "      <td>...</td>\n",
       "      <td>...</td>\n",
       "      <td>...</td>\n",
       "      <td>...</td>\n",
       "      <td>...</td>\n",
       "      <td>...</td>\n",
       "      <td>...</td>\n",
       "      <td>...</td>\n",
       "      <td>...</td>\n",
       "      <td>...</td>\n",
       "      <td>...</td>\n",
       "      <td>...</td>\n",
       "      <td>...</td>\n",
       "      <td>...</td>\n",
       "      <td>...</td>\n",
       "      <td>...</td>\n",
       "      <td>...</td>\n",
       "      <td>...</td>\n",
       "    </tr>\n",
       "    <tr>\n",
       "      <th>146443</th>\n",
       "      <td>[W:3596] Arguments Against Same-Sex Marriage</td>\n",
       "      <td>Lisa said:\\n\\t\\t\\t\\n\\t\\t\\n\\t\\n\\t\\n\\t\\t\\n\\t\\t\\n...</td>\n",
       "      <td>2019-04-04T07:09:01+0800</td>\n",
       "      <td>Rich2018</td>\n",
       "      <td>https://debatepolitics.com/members/rich2018.32...</td>\n",
       "      <td>40</td>\n",
       "      <td>https://debatepolitics.com/threads/w-3596-argu...</td>\n",
       "      <td>2019-10-11T12:34:57-0400</td>\n",
       "      <td>NaN</td>\n",
       "      <td>lgbtq</td>\n",
       "      <td>...</td>\n",
       "      <td>3,311</td>\n",
       "      <td>0</td>\n",
       "      <td>7</td>\n",
       "      <td>NaN</td>\n",
       "      <td>Norcross, Georgia</td>\n",
       "      <td>Male</td>\n",
       "      <td>HVAC</td>\n",
       "      <td>Liberal</td>\n",
       "      <td>NaN</td>\n",
       "      <td>6</td>\n",
       "    </tr>\n",
       "    <tr>\n",
       "      <th>146444</th>\n",
       "      <td>[W:3596] Arguments Against Same-Sex Marriage</td>\n",
       "      <td>danielpalos said:\\n\\t\\t\\t\\n\\t\\t\\n\\t\\n\\t\\n\\t\\t\\...</td>\n",
       "      <td>2019-04-04T07:09:01+0800</td>\n",
       "      <td>Rich2018</td>\n",
       "      <td>https://debatepolitics.com/members/rich2018.32...</td>\n",
       "      <td>40</td>\n",
       "      <td>https://debatepolitics.com/threads/w-3596-argu...</td>\n",
       "      <td>2019-10-11T12:37:16-0400</td>\n",
       "      <td>NaN</td>\n",
       "      <td>lgbtq</td>\n",
       "      <td>...</td>\n",
       "      <td>3,311</td>\n",
       "      <td>0</td>\n",
       "      <td>7</td>\n",
       "      <td>NaN</td>\n",
       "      <td>Norcross, Georgia</td>\n",
       "      <td>Male</td>\n",
       "      <td>HVAC</td>\n",
       "      <td>Liberal</td>\n",
       "      <td>NaN</td>\n",
       "      <td>6</td>\n",
       "    </tr>\n",
       "    <tr>\n",
       "      <th>146445</th>\n",
       "      <td>[W:3596] Arguments Against Same-Sex Marriage</td>\n",
       "      <td>Rich2018 said:\\n\\t\\t\\t\\n\\t\\t\\n\\t\\n\\t\\n\\t\\t\\n\\t...</td>\n",
       "      <td>2019-04-04T07:09:01+0800</td>\n",
       "      <td>danielpalos</td>\n",
       "      <td>https://debatepolitics.com/members/danielpalos...</td>\n",
       "      <td>40</td>\n",
       "      <td>https://debatepolitics.com/threads/w-3596-argu...</td>\n",
       "      <td>2019-10-22T00:38:10+0800</td>\n",
       "      <td>NaN</td>\n",
       "      <td>lgbtq</td>\n",
       "      <td>...</td>\n",
       "      <td>1,257</td>\n",
       "      <td>0</td>\n",
       "      <td>13</td>\n",
       "      <td>NaN</td>\n",
       "      <td>US, California - federalist</td>\n",
       "      <td>Male</td>\n",
       "      <td>NaN</td>\n",
       "      <td>Liberal</td>\n",
       "      <td>NaN</td>\n",
       "      <td>6</td>\n",
       "    </tr>\n",
       "    <tr>\n",
       "      <th>146446</th>\n",
       "      <td>[W:3596] Arguments Against Same-Sex Marriage</td>\n",
       "      <td>Rich2018 said:\\n\\t\\t\\t\\n\\t\\t\\n\\t\\n\\t\\n\\t\\t\\n\\t...</td>\n",
       "      <td>2019-04-04T07:09:01+0800</td>\n",
       "      <td>danielpalos</td>\n",
       "      <td>https://debatepolitics.com/members/danielpalos...</td>\n",
       "      <td>40</td>\n",
       "      <td>https://debatepolitics.com/threads/w-3596-argu...</td>\n",
       "      <td>2019-10-24T02:16:07+0800</td>\n",
       "      <td>NaN</td>\n",
       "      <td>lgbtq</td>\n",
       "      <td>...</td>\n",
       "      <td>1,257</td>\n",
       "      <td>0</td>\n",
       "      <td>13</td>\n",
       "      <td>NaN</td>\n",
       "      <td>US, California - federalist</td>\n",
       "      <td>Male</td>\n",
       "      <td>NaN</td>\n",
       "      <td>Liberal</td>\n",
       "      <td>NaN</td>\n",
       "      <td>6</td>\n",
       "    </tr>\n",
       "    <tr>\n",
       "      <th>146447</th>\n",
       "      <td>[W:3596] Arguments Against Same-Sex Marriage</td>\n",
       "      <td>Rich2018 said:\\n\\t\\t\\t\\n\\t\\t\\n\\t\\n\\t\\n\\t\\t\\n\\t...</td>\n",
       "      <td>2019-04-04T07:09:01+0800</td>\n",
       "      <td>danielpalos</td>\n",
       "      <td>https://debatepolitics.com/members/danielpalos...</td>\n",
       "      <td>40</td>\n",
       "      <td>https://debatepolitics.com/threads/w-3596-argu...</td>\n",
       "      <td>2019-10-24T03:40:48+0800</td>\n",
       "      <td>NaN</td>\n",
       "      <td>lgbtq</td>\n",
       "      <td>...</td>\n",
       "      <td>1,257</td>\n",
       "      <td>0</td>\n",
       "      <td>13</td>\n",
       "      <td>NaN</td>\n",
       "      <td>US, California - federalist</td>\n",
       "      <td>Male</td>\n",
       "      <td>NaN</td>\n",
       "      <td>Liberal</td>\n",
       "      <td>NaN</td>\n",
       "      <td>6</td>\n",
       "    </tr>\n",
       "  </tbody>\n",
       "</table>\n",
       "<p>146448 rows × 24 columns</p>\n",
       "</div>"
      ],
      "text/plain": [
       "                                               title  \\\n",
       "0                Is a normally developing ZEF alive?   \n",
       "1                Is a normally developing ZEF alive?   \n",
       "2                Is a normally developing ZEF alive?   \n",
       "3                Is a normally developing ZEF alive?   \n",
       "4                Is a normally developing ZEF alive?   \n",
       "...                                              ...   \n",
       "146443  [W:3596] Arguments Against Same-Sex Marriage   \n",
       "146444  [W:3596] Arguments Against Same-Sex Marriage   \n",
       "146445  [W:3596] Arguments Against Same-Sex Marriage   \n",
       "146446  [W:3596] Arguments Against Same-Sex Marriage   \n",
       "146447  [W:3596] Arguments Against Same-Sex Marriage   \n",
       "\n",
       "                                                 text_raw  \\\n",
       "0       Josie said:\\n\\t\\t\\t\\n\\t\\t\\n\\t\\n\\t\\n\\t\\t\\n\\t\\t\\...   \n",
       "1       Josie said:\\n\\t\\t\\t\\n\\t\\t\\n\\t\\n\\t\\n\\t\\t\\n\\t\\t\\...   \n",
       "2       Josie said:\\n\\t\\t\\t\\n\\t\\t\\n\\t\\n\\t\\n\\t\\t\\n\\t\\t\\...   \n",
       "3       Josie said:\\n\\t\\t\\t\\n\\t\\t\\n\\t\\n\\t\\n\\t\\t\\n\\t\\t\\...   \n",
       "4       MamboDervish said:\\n\\t\\t\\t\\n\\t\\t\\n\\t\\n\\t\\n\\t\\t...   \n",
       "...                                                   ...   \n",
       "146443  Lisa said:\\n\\t\\t\\t\\n\\t\\t\\n\\t\\n\\t\\n\\t\\t\\n\\t\\t\\n...   \n",
       "146444  danielpalos said:\\n\\t\\t\\t\\n\\t\\t\\n\\t\\n\\t\\n\\t\\t\\...   \n",
       "146445  Rich2018 said:\\n\\t\\t\\t\\n\\t\\t\\n\\t\\n\\t\\n\\t\\t\\n\\t...   \n",
       "146446  Rich2018 said:\\n\\t\\t\\t\\n\\t\\t\\n\\t\\n\\t\\n\\t\\t\\n\\t...   \n",
       "146447  Rich2018 said:\\n\\t\\t\\t\\n\\t\\t\\n\\t\\n\\t\\n\\t\\t\\n\\t...   \n",
       "\n",
       "                subject_posttime           author  \\\n",
       "0       2021-06-23T00:08:21+0800          Lutherf   \n",
       "1       2021-06-23T00:08:21+0800  Patriotic Voter   \n",
       "2       2021-06-23T00:08:21+0800          Lutherf   \n",
       "3       2021-06-23T00:08:21+0800  Patriotic Voter   \n",
       "4       2021-06-23T00:08:21+0800  Patriotic Voter   \n",
       "...                          ...              ...   \n",
       "146443  2019-04-04T07:09:01+0800         Rich2018   \n",
       "146444  2019-04-04T07:09:01+0800         Rich2018   \n",
       "146445  2019-04-04T07:09:01+0800      danielpalos   \n",
       "146446  2019-04-04T07:09:01+0800      danielpalos   \n",
       "146447  2019-04-04T07:09:01+0800      danielpalos   \n",
       "\n",
       "                                               authorlink  topics_prior  \\\n",
       "0       https://debatepolitics.com/members/lutherf.18873/             2   \n",
       "1       https://debatepolitics.com/members/patriotic-v...             2   \n",
       "2       https://debatepolitics.com/members/lutherf.18873/             2   \n",
       "3       https://debatepolitics.com/members/patriotic-v...             2   \n",
       "4       https://debatepolitics.com/members/patriotic-v...             2   \n",
       "...                                                   ...           ...   \n",
       "146443  https://debatepolitics.com/members/rich2018.32...            40   \n",
       "146444  https://debatepolitics.com/members/rich2018.32...            40   \n",
       "146445  https://debatepolitics.com/members/danielpalos...            40   \n",
       "146446  https://debatepolitics.com/members/danielpalos...            40   \n",
       "146447  https://debatepolitics.com/members/danielpalos...            40   \n",
       "\n",
       "                                                  posturl  \\\n",
       "0       https://debatepolitics.com/threads/is-a-normal...   \n",
       "1       https://debatepolitics.com/threads/is-a-normal...   \n",
       "2       https://debatepolitics.com/threads/is-a-normal...   \n",
       "3       https://debatepolitics.com/threads/is-a-normal...   \n",
       "4       https://debatepolitics.com/threads/is-a-normal...   \n",
       "...                                                   ...   \n",
       "146443  https://debatepolitics.com/threads/w-3596-argu...   \n",
       "146444  https://debatepolitics.com/threads/w-3596-argu...   \n",
       "146445  https://debatepolitics.com/threads/w-3596-argu...   \n",
       "146446  https://debatepolitics.com/threads/w-3596-argu...   \n",
       "146447  https://debatepolitics.com/threads/w-3596-argu...   \n",
       "\n",
       "                  reply_posttime  \\\n",
       "0       2021-06-22T12:32:53-0400   \n",
       "1       2021-06-22T13:02:59-0400   \n",
       "2       2021-06-22T13:57:20-0400   \n",
       "3       2021-06-22T15:50:53-0400   \n",
       "4       2021-06-22T16:07:28-0400   \n",
       "...                          ...   \n",
       "146443  2019-10-11T12:34:57-0400   \n",
       "146444  2019-10-11T12:37:16-0400   \n",
       "146445  2019-10-22T00:38:10+0800   \n",
       "146446  2019-10-24T02:16:07+0800   \n",
       "146447  2019-10-24T03:40:48+0800   \n",
       "\n",
       "                                             upvoted topics_name  ...   score  \\\n",
       "0       code1211, LadyMoonlight, vesper and 4 others    abortion  ...  46,794   \n",
       "1                                              Josie    abortion  ...   4,046   \n",
       "2                   PirateMk1, eohrnberger and Josie    abortion  ...  46,794   \n",
       "3                                                NaN    abortion  ...   4,046   \n",
       "4                                                NaN    abortion  ...   4,046   \n",
       "...                                              ...         ...  ...     ...   \n",
       "146443                                           NaN       lgbtq  ...   3,311   \n",
       "146444                                           NaN       lgbtq  ...   3,311   \n",
       "146445                                           NaN       lgbtq  ...   1,257   \n",
       "146446                                           NaN       lgbtq  ...   1,257   \n",
       "146447                                           NaN       lgbtq  ...   1,257   \n",
       "\n",
       "       points  awards                                           birthday  \\\n",
       "0           0  $50.00  Apr 10, 1966\\n\\t\\t\\t\\t\\t\\t\\t\\t\\t\\t\\n\\t\\t\\t\\t\\t...   \n",
       "1           0       4  Jan 27, 1977\\n\\t\\t\\t\\t\\t\\t\\t\\t\\t\\t\\n\\t\\t\\t\\t\\t...   \n",
       "2           0  $50.00  Apr 10, 1966\\n\\t\\t\\t\\t\\t\\t\\t\\t\\t\\t\\n\\t\\t\\t\\t\\t...   \n",
       "3           0       4  Jan 27, 1977\\n\\t\\t\\t\\t\\t\\t\\t\\t\\t\\t\\n\\t\\t\\t\\t\\t...   \n",
       "4           0       4  Jan 27, 1977\\n\\t\\t\\t\\t\\t\\t\\t\\t\\t\\t\\n\\t\\t\\t\\t\\t...   \n",
       "...       ...     ...                                                ...   \n",
       "146443      0       7                                                NaN   \n",
       "146444      0       7                                                NaN   \n",
       "146445      0      13                                                NaN   \n",
       "146446      0      13                                                NaN   \n",
       "146447      0      13                                                NaN   \n",
       "\n",
       "                           location  gender  occupation political_leaning  \\\n",
       "0                        Tucson, AZ    Male  Accountant      Conservative   \n",
       "1               Alachua Coucnty, FL  Female  Unemployed           Liberal   \n",
       "2                        Tucson, AZ    Male  Accountant      Conservative   \n",
       "3               Alachua Coucnty, FL  Female  Unemployed           Liberal   \n",
       "4               Alachua Coucnty, FL  Female  Unemployed           Liberal   \n",
       "...                             ...     ...         ...               ...   \n",
       "146443            Norcross, Georgia    Male        HVAC           Liberal   \n",
       "146444            Norcross, Georgia    Male        HVAC           Liberal   \n",
       "146445  US, California - federalist    Male         NaN           Liberal   \n",
       "146446  US, California - federalist    Male         NaN           Liberal   \n",
       "146447  US, California - federalist    Male         NaN           Liberal   \n",
       "\n",
       "       signature slant_lib  \n",
       "0            NaN         2  \n",
       "1            NaN         6  \n",
       "2            NaN         2  \n",
       "3            NaN         6  \n",
       "4            NaN         6  \n",
       "...          ...       ...  \n",
       "146443       NaN         6  \n",
       "146444       NaN         6  \n",
       "146445       NaN         6  \n",
       "146446       NaN         6  \n",
       "146447       NaN         6  \n",
       "\n",
       "[146448 rows x 24 columns]"
      ]
     },
     "execution_count": 21,
     "metadata": {},
     "output_type": "execute_result"
    }
   ],
   "source": [
    "speeches_filt_2"
   ]
  },
  {
   "cell_type": "code",
   "execution_count": 268,
   "id": "3f9be6b9",
   "metadata": {},
   "outputs": [],
   "source": [
    "np.save(r'D:\\projects\\congress\\processed\\training_vectors\\debatepol/' + 'speech_ids',speeches_filt.index.values)"
   ]
  },
  {
   "cell_type": "code",
   "execution_count": 272,
   "id": "2b79a9e9",
   "metadata": {},
   "outputs": [],
   "source": [
    "a = pd.get_dummies(speeches_filt.author)"
   ]
  },
  {
   "cell_type": "code",
   "execution_count": 273,
   "id": "31b918ad",
   "metadata": {},
   "outputs": [
    {
     "data": {
      "text/html": [
       "<div>\n",
       "<style scoped>\n",
       "    .dataframe tbody tr th:only-of-type {\n",
       "        vertical-align: middle;\n",
       "    }\n",
       "\n",
       "    .dataframe tbody tr th {\n",
       "        vertical-align: top;\n",
       "    }\n",
       "\n",
       "    .dataframe thead th {\n",
       "        text-align: right;\n",
       "    }\n",
       "</style>\n",
       "<table border=\"1\" class=\"dataframe\">\n",
       "  <thead>\n",
       "    <tr style=\"text-align: right;\">\n",
       "      <th></th>\n",
       "      <th>'da Coach</th>\n",
       "      <th>2aguy</th>\n",
       "      <th>45Loyalist</th>\n",
       "      <th>90sGuy</th>\n",
       "      <th>911Sparky</th>\n",
       "      <th>99percenter</th>\n",
       "      <th>A3M0N</th>\n",
       "      <th>ABC123TT</th>\n",
       "      <th>AJG</th>\n",
       "      <th>AJay_Willms</th>\n",
       "      <th>...</th>\n",
       "      <th>voyager1</th>\n",
       "      <th>washunut</th>\n",
       "      <th>watsup</th>\n",
       "      <th>wellwisher</th>\n",
       "      <th>whysoserious</th>\n",
       "      <th>wl45hd</th>\n",
       "      <th>wolfman24</th>\n",
       "      <th>ygmarny109</th>\n",
       "      <th>ziggy1734</th>\n",
       "      <th>zoetherat</th>\n",
       "    </tr>\n",
       "  </thead>\n",
       "  <tbody>\n",
       "    <tr>\n",
       "      <th>0</th>\n",
       "      <td>0</td>\n",
       "      <td>0</td>\n",
       "      <td>0</td>\n",
       "      <td>0</td>\n",
       "      <td>0</td>\n",
       "      <td>0</td>\n",
       "      <td>0</td>\n",
       "      <td>0</td>\n",
       "      <td>0</td>\n",
       "      <td>0</td>\n",
       "      <td>...</td>\n",
       "      <td>0</td>\n",
       "      <td>0</td>\n",
       "      <td>0</td>\n",
       "      <td>0</td>\n",
       "      <td>0</td>\n",
       "      <td>0</td>\n",
       "      <td>0</td>\n",
       "      <td>0</td>\n",
       "      <td>0</td>\n",
       "      <td>0</td>\n",
       "    </tr>\n",
       "    <tr>\n",
       "      <th>1</th>\n",
       "      <td>0</td>\n",
       "      <td>0</td>\n",
       "      <td>0</td>\n",
       "      <td>0</td>\n",
       "      <td>0</td>\n",
       "      <td>0</td>\n",
       "      <td>0</td>\n",
       "      <td>0</td>\n",
       "      <td>0</td>\n",
       "      <td>0</td>\n",
       "      <td>...</td>\n",
       "      <td>0</td>\n",
       "      <td>0</td>\n",
       "      <td>0</td>\n",
       "      <td>0</td>\n",
       "      <td>0</td>\n",
       "      <td>0</td>\n",
       "      <td>0</td>\n",
       "      <td>0</td>\n",
       "      <td>0</td>\n",
       "      <td>0</td>\n",
       "    </tr>\n",
       "    <tr>\n",
       "      <th>2</th>\n",
       "      <td>0</td>\n",
       "      <td>0</td>\n",
       "      <td>0</td>\n",
       "      <td>0</td>\n",
       "      <td>0</td>\n",
       "      <td>0</td>\n",
       "      <td>0</td>\n",
       "      <td>0</td>\n",
       "      <td>0</td>\n",
       "      <td>0</td>\n",
       "      <td>...</td>\n",
       "      <td>0</td>\n",
       "      <td>0</td>\n",
       "      <td>0</td>\n",
       "      <td>0</td>\n",
       "      <td>0</td>\n",
       "      <td>0</td>\n",
       "      <td>0</td>\n",
       "      <td>0</td>\n",
       "      <td>0</td>\n",
       "      <td>0</td>\n",
       "    </tr>\n",
       "    <tr>\n",
       "      <th>3</th>\n",
       "      <td>0</td>\n",
       "      <td>0</td>\n",
       "      <td>0</td>\n",
       "      <td>0</td>\n",
       "      <td>0</td>\n",
       "      <td>0</td>\n",
       "      <td>0</td>\n",
       "      <td>0</td>\n",
       "      <td>0</td>\n",
       "      <td>0</td>\n",
       "      <td>...</td>\n",
       "      <td>0</td>\n",
       "      <td>0</td>\n",
       "      <td>0</td>\n",
       "      <td>0</td>\n",
       "      <td>0</td>\n",
       "      <td>0</td>\n",
       "      <td>0</td>\n",
       "      <td>0</td>\n",
       "      <td>0</td>\n",
       "      <td>0</td>\n",
       "    </tr>\n",
       "    <tr>\n",
       "      <th>4</th>\n",
       "      <td>0</td>\n",
       "      <td>0</td>\n",
       "      <td>0</td>\n",
       "      <td>0</td>\n",
       "      <td>0</td>\n",
       "      <td>0</td>\n",
       "      <td>0</td>\n",
       "      <td>0</td>\n",
       "      <td>0</td>\n",
       "      <td>0</td>\n",
       "      <td>...</td>\n",
       "      <td>0</td>\n",
       "      <td>0</td>\n",
       "      <td>0</td>\n",
       "      <td>0</td>\n",
       "      <td>0</td>\n",
       "      <td>0</td>\n",
       "      <td>0</td>\n",
       "      <td>0</td>\n",
       "      <td>0</td>\n",
       "      <td>0</td>\n",
       "    </tr>\n",
       "    <tr>\n",
       "      <th>...</th>\n",
       "      <td>...</td>\n",
       "      <td>...</td>\n",
       "      <td>...</td>\n",
       "      <td>...</td>\n",
       "      <td>...</td>\n",
       "      <td>...</td>\n",
       "      <td>...</td>\n",
       "      <td>...</td>\n",
       "      <td>...</td>\n",
       "      <td>...</td>\n",
       "      <td>...</td>\n",
       "      <td>...</td>\n",
       "      <td>...</td>\n",
       "      <td>...</td>\n",
       "      <td>...</td>\n",
       "      <td>...</td>\n",
       "      <td>...</td>\n",
       "      <td>...</td>\n",
       "      <td>...</td>\n",
       "      <td>...</td>\n",
       "      <td>...</td>\n",
       "    </tr>\n",
       "    <tr>\n",
       "      <th>146443</th>\n",
       "      <td>0</td>\n",
       "      <td>0</td>\n",
       "      <td>0</td>\n",
       "      <td>0</td>\n",
       "      <td>0</td>\n",
       "      <td>0</td>\n",
       "      <td>0</td>\n",
       "      <td>0</td>\n",
       "      <td>0</td>\n",
       "      <td>0</td>\n",
       "      <td>...</td>\n",
       "      <td>0</td>\n",
       "      <td>0</td>\n",
       "      <td>0</td>\n",
       "      <td>0</td>\n",
       "      <td>0</td>\n",
       "      <td>0</td>\n",
       "      <td>0</td>\n",
       "      <td>0</td>\n",
       "      <td>0</td>\n",
       "      <td>0</td>\n",
       "    </tr>\n",
       "    <tr>\n",
       "      <th>146444</th>\n",
       "      <td>0</td>\n",
       "      <td>0</td>\n",
       "      <td>0</td>\n",
       "      <td>0</td>\n",
       "      <td>0</td>\n",
       "      <td>0</td>\n",
       "      <td>0</td>\n",
       "      <td>0</td>\n",
       "      <td>0</td>\n",
       "      <td>0</td>\n",
       "      <td>...</td>\n",
       "      <td>0</td>\n",
       "      <td>0</td>\n",
       "      <td>0</td>\n",
       "      <td>0</td>\n",
       "      <td>0</td>\n",
       "      <td>0</td>\n",
       "      <td>0</td>\n",
       "      <td>0</td>\n",
       "      <td>0</td>\n",
       "      <td>0</td>\n",
       "    </tr>\n",
       "    <tr>\n",
       "      <th>146445</th>\n",
       "      <td>0</td>\n",
       "      <td>0</td>\n",
       "      <td>0</td>\n",
       "      <td>0</td>\n",
       "      <td>0</td>\n",
       "      <td>0</td>\n",
       "      <td>0</td>\n",
       "      <td>0</td>\n",
       "      <td>0</td>\n",
       "      <td>0</td>\n",
       "      <td>...</td>\n",
       "      <td>0</td>\n",
       "      <td>0</td>\n",
       "      <td>0</td>\n",
       "      <td>0</td>\n",
       "      <td>0</td>\n",
       "      <td>0</td>\n",
       "      <td>0</td>\n",
       "      <td>0</td>\n",
       "      <td>0</td>\n",
       "      <td>0</td>\n",
       "    </tr>\n",
       "    <tr>\n",
       "      <th>146446</th>\n",
       "      <td>0</td>\n",
       "      <td>0</td>\n",
       "      <td>0</td>\n",
       "      <td>0</td>\n",
       "      <td>0</td>\n",
       "      <td>0</td>\n",
       "      <td>0</td>\n",
       "      <td>0</td>\n",
       "      <td>0</td>\n",
       "      <td>0</td>\n",
       "      <td>...</td>\n",
       "      <td>0</td>\n",
       "      <td>0</td>\n",
       "      <td>0</td>\n",
       "      <td>0</td>\n",
       "      <td>0</td>\n",
       "      <td>0</td>\n",
       "      <td>0</td>\n",
       "      <td>0</td>\n",
       "      <td>0</td>\n",
       "      <td>0</td>\n",
       "    </tr>\n",
       "    <tr>\n",
       "      <th>146447</th>\n",
       "      <td>0</td>\n",
       "      <td>0</td>\n",
       "      <td>0</td>\n",
       "      <td>0</td>\n",
       "      <td>0</td>\n",
       "      <td>0</td>\n",
       "      <td>0</td>\n",
       "      <td>0</td>\n",
       "      <td>0</td>\n",
       "      <td>0</td>\n",
       "      <td>...</td>\n",
       "      <td>0</td>\n",
       "      <td>0</td>\n",
       "      <td>0</td>\n",
       "      <td>0</td>\n",
       "      <td>0</td>\n",
       "      <td>0</td>\n",
       "      <td>0</td>\n",
       "      <td>0</td>\n",
       "      <td>0</td>\n",
       "      <td>0</td>\n",
       "    </tr>\n",
       "  </tbody>\n",
       "</table>\n",
       "<p>146448 rows × 692 columns</p>\n",
       "</div>"
      ],
      "text/plain": [
       "        'da Coach  2aguy  45Loyalist  90sGuy  911Sparky  99percenter  A3M0N  \\\n",
       "0               0      0           0       0          0            0      0   \n",
       "1               0      0           0       0          0            0      0   \n",
       "2               0      0           0       0          0            0      0   \n",
       "3               0      0           0       0          0            0      0   \n",
       "4               0      0           0       0          0            0      0   \n",
       "...           ...    ...         ...     ...        ...          ...    ...   \n",
       "146443          0      0           0       0          0            0      0   \n",
       "146444          0      0           0       0          0            0      0   \n",
       "146445          0      0           0       0          0            0      0   \n",
       "146446          0      0           0       0          0            0      0   \n",
       "146447          0      0           0       0          0            0      0   \n",
       "\n",
       "        ABC123TT  AJG  AJay_Willms  ...  voyager1  washunut  watsup  \\\n",
       "0              0    0            0  ...         0         0       0   \n",
       "1              0    0            0  ...         0         0       0   \n",
       "2              0    0            0  ...         0         0       0   \n",
       "3              0    0            0  ...         0         0       0   \n",
       "4              0    0            0  ...         0         0       0   \n",
       "...          ...  ...          ...  ...       ...       ...     ...   \n",
       "146443         0    0            0  ...         0         0       0   \n",
       "146444         0    0            0  ...         0         0       0   \n",
       "146445         0    0            0  ...         0         0       0   \n",
       "146446         0    0            0  ...         0         0       0   \n",
       "146447         0    0            0  ...         0         0       0   \n",
       "\n",
       "        wellwisher  whysoserious  wl45hd  wolfman24  ygmarny109  ziggy1734  \\\n",
       "0                0             0       0          0           0          0   \n",
       "1                0             0       0          0           0          0   \n",
       "2                0             0       0          0           0          0   \n",
       "3                0             0       0          0           0          0   \n",
       "4                0             0       0          0           0          0   \n",
       "...            ...           ...     ...        ...         ...        ...   \n",
       "146443           0             0       0          0           0          0   \n",
       "146444           0             0       0          0           0          0   \n",
       "146445           0             0       0          0           0          0   \n",
       "146446           0             0       0          0           0          0   \n",
       "146447           0             0       0          0           0          0   \n",
       "\n",
       "        zoetherat  \n",
       "0               0  \n",
       "1               0  \n",
       "2               0  \n",
       "3               0  \n",
       "4               0  \n",
       "...           ...  \n",
       "146443          0  \n",
       "146444          0  \n",
       "146445          0  \n",
       "146446          0  \n",
       "146447          0  \n",
       "\n",
       "[146448 rows x 692 columns]"
      ]
     },
     "execution_count": 273,
     "metadata": {},
     "output_type": "execute_result"
    }
   ],
   "source": [
    "a"
   ]
  },
  {
   "cell_type": "code",
   "execution_count": 278,
   "id": "a3fcef85",
   "metadata": {},
   "outputs": [],
   "source": [
    "authorids = a.columns.values"
   ]
  },
  {
   "cell_type": "code",
   "execution_count": 296,
   "id": "dfc11d9f",
   "metadata": {},
   "outputs": [],
   "source": [
    "authorids = np.array( list(authorids)+ [\"\"] * (1674 - 692))"
   ]
  },
  {
   "cell_type": "code",
   "execution_count": 297,
   "id": "5a83a34c",
   "metadata": {},
   "outputs": [
    {
     "data": {
      "text/plain": [
       "array([\"'da Coach\", '2aguy', '45Loyalist', ..., '', '', ''], dtype='<U17')"
      ]
     },
     "execution_count": 297,
     "metadata": {},
     "output_type": "execute_result"
    }
   ],
   "source": [
    "authorids"
   ]
  },
  {
   "cell_type": "code",
   "execution_count": 280,
   "id": "a96b75d8",
   "metadata": {},
   "outputs": [],
   "source": [
    "authordummy = a.values"
   ]
  },
  {
   "cell_type": "code",
   "execution_count": 281,
   "id": "4ca8bbe0",
   "metadata": {},
   "outputs": [
    {
     "data": {
      "text/plain": [
       "(146448, 692)"
      ]
     },
     "execution_count": 281,
     "metadata": {},
     "output_type": "execute_result"
    }
   ],
   "source": [
    "authordummy.shape"
   ]
  },
  {
   "cell_type": "code",
   "execution_count": 282,
   "id": "ea52f71b",
   "metadata": {},
   "outputs": [
    {
     "data": {
      "text/plain": [
       "array([1, 1, 1, ..., 1, 1, 1], dtype=uint32)"
      ]
     },
     "execution_count": 282,
     "metadata": {},
     "output_type": "execute_result"
    }
   ],
   "source": [
    "authordummy.sum(axis = -1)"
   ]
  },
  {
   "cell_type": "code",
   "execution_count": 291,
   "id": "2dd0efb5",
   "metadata": {},
   "outputs": [],
   "source": [
    "b = np.pad(authordummy, [(0, 0),(0, 1674 - 692)], mode='constant', constant_values = 0)"
   ]
  },
  {
   "cell_type": "code",
   "execution_count": 292,
   "id": "0e2ae891",
   "metadata": {},
   "outputs": [
    {
     "data": {
      "text/plain": [
       "array([1, 1, 1, ..., 1, 1, 1], dtype=uint32)"
      ]
     },
     "execution_count": 292,
     "metadata": {},
     "output_type": "execute_result"
    }
   ],
   "source": [
    "b.sum(axis = -1)"
   ]
  },
  {
   "cell_type": "code",
   "execution_count": 294,
   "id": "11e86175",
   "metadata": {},
   "outputs": [],
   "source": [
    "np.save(r'D:\\projects\\congress\\processed\\training_vectors\\debatepol/' + 'author_dummies', b)\n",
    "\n",
    "np.save(r'D:\\projects\\congress\\processed\\training_vectors\\debatepol/' + 'authorids', authorids)\n",
    "\n",
    "np.save(r'D:\\projects\\congress\\processed\\training_vectors\\debatepol/' + 'stance_lib_7scale', speeches_filt_aut.slant_lib.values)\n",
    "np.save(r'D:\\projects\\congress\\processed\\training_vectors\\debatepol/' + 'stance_lib_01scale', (speeches_filt_aut.slant_lib.values-1)/6)\n",
    "np.save(r'D:\\projects\\congress\\processed\\training_vectors\\debatepol/' + 'topics_hard', speeches_filt_aut.topics_prior.values)"
   ]
  },
  {
   "cell_type": "code",
   "execution_count": 315,
   "id": "b267e7ae",
   "metadata": {},
   "outputs": [
    {
     "data": {
      "text/plain": [
       "0.0"
      ]
     },
     "execution_count": 315,
     "metadata": {},
     "output_type": "execute_result"
    }
   ],
   "source": [
    "((speeches_filt_aut.slant_lib.values-1)/6)"
   ]
  },
  {
   "cell_type": "code",
   "execution_count": 322,
   "id": "a8997b0b",
   "metadata": {},
   "outputs": [
    {
     "data": {
      "text/plain": [
       "array([ 2,  2,  2, ..., 40, 40, 40], dtype=int64)"
      ]
     },
     "execution_count": 322,
     "metadata": {},
     "output_type": "execute_result"
    }
   ],
   "source": [
    "speeches_filt_aut.topics_prior.values"
   ]
  },
  {
   "cell_type": "code",
   "execution_count": 323,
   "id": "d50d70d0",
   "metadata": {},
   "outputs": [],
   "source": [
    "del model"
   ]
  },
  {
   "cell_type": "code",
   "execution_count": 324,
   "id": "aefdf1af",
   "metadata": {},
   "outputs": [],
   "source": [
    "del speeches_filt"
   ]
  },
  {
   "cell_type": "code",
   "execution_count": 328,
   "id": "76f7f7b7",
   "metadata": {},
   "outputs": [],
   "source": [
    "del authordummy\n",
    "del b"
   ]
  },
  {
   "cell_type": "code",
   "execution_count": 329,
   "id": "1074ad61",
   "metadata": {},
   "outputs": [],
   "source": [
    "from scipy.spatial.distance import cosine\n",
    "\n",
    "cosine_dis = np.array([[1 - cosine(sv, tv) for tv in tpv_cr] for sv in sentences_vectors])\n",
    "\n",
    "\n",
    "max_sim = np.amax(cosine_dis, axis  =1)\n"
   ]
  },
  {
   "cell_type": "code",
   "execution_count": 330,
   "id": "cb29fa3c",
   "metadata": {},
   "outputs": [
    {
     "name": "stdout",
     "output_type": "stream",
     "text": [
      "0.0925876535475254\n",
      "0.14946657791733742\n",
      "0.18859250694513324\n",
      "0.24439349472522737\n",
      "0.2670074701309204\n",
      "0.28803292810916903\n",
      "0.3285076916217804\n",
      "0.3692108243703842\n",
      "0.41251271963119507\n",
      "0.46077699959278107\n"
     ]
    }
   ],
   "source": [
    "\n",
    "for i in [1, 5, 10, 20, 25,  30, 40, 50, 60, 70]:\n",
    "    print(np.percentile(max_sim, i))\n"
   ]
  },
  {
   "cell_type": "code",
   "execution_count": 331,
   "id": "7eb704f2",
   "metadata": {},
   "outputs": [],
   "source": [
    "a = 0.15\n",
    "cosine_dis_masked = cosine_dis.copy()"
   ]
  },
  {
   "cell_type": "code",
   "execution_count": 332,
   "id": "b6488ab4",
   "metadata": {},
   "outputs": [],
   "source": [
    "cosine_dis_masked[cosine_dis<=a] = 0\n",
    "max_masked = np.amax(cosine_dis_masked, axis = 1)\n",
    "nonetopic = (max_masked==0)*1"
   ]
  },
  {
   "cell_type": "code",
   "execution_count": 333,
   "id": "234fe3d6",
   "metadata": {},
   "outputs": [
    {
     "data": {
      "text/plain": [
       "7408"
      ]
     },
     "execution_count": 333,
     "metadata": {},
     "output_type": "execute_result"
    }
   ],
   "source": [
    "nonetopic.sum()"
   ]
  },
  {
   "cell_type": "code",
   "execution_count": 335,
   "id": "909ab24d",
   "metadata": {},
   "outputs": [],
   "source": [
    "soft_topics = np.concatenate((cosine_dis_masked, np.array([nonetopic]).T), axis = 1)\n",
    "soft_topics[soft_topics==0] = -20\n",
    "soft_topics = np.exp(soft_topics)\n",
    "soft_topics[soft_topics<0.000001] = 0\n",
    "softmax_topics = soft_topics/np.sum(soft_topics, axis = -1)[:, None]"
   ]
  },
  {
   "cell_type": "code",
   "execution_count": 336,
   "id": "bcab38a6",
   "metadata": {},
   "outputs": [],
   "source": [
    "np.save(r'D:\\projects\\congress\\processed\\training_vectors\\debatepol/' + 'topics_soft', softmax_topics)"
   ]
  },
  {
   "cell_type": "code",
   "execution_count": 343,
   "id": "caed7fd5",
   "metadata": {},
   "outputs": [],
   "source": [
    "none_vec=sentences_vectors[softmax_topics[:, -1]==1].mean(axis = 0)"
   ]
  },
  {
   "cell_type": "code",
   "execution_count": 344,
   "id": "d7679628",
   "metadata": {},
   "outputs": [],
   "source": [
    "tpv_db = np.concatenate((tpv_cr, np.array([none_vec])), axis = 0)"
   ]
  },
  {
   "cell_type": "code",
   "execution_count": 345,
   "id": "b8f7bde2",
   "metadata": {},
   "outputs": [
    {
     "data": {
      "text/plain": [
       "(67, 300)"
      ]
     },
     "execution_count": 345,
     "metadata": {},
     "output_type": "execute_result"
    }
   ],
   "source": [
    "tpv_cr.shape"
   ]
  },
  {
   "cell_type": "code",
   "execution_count": 346,
   "id": "065569aa",
   "metadata": {},
   "outputs": [
    {
     "data": {
      "text/plain": [
       "(300,)"
      ]
     },
     "execution_count": 346,
     "metadata": {},
     "output_type": "execute_result"
    }
   ],
   "source": [
    "none_vec.shape"
   ]
  },
  {
   "cell_type": "code",
   "execution_count": 347,
   "id": "fd60a638",
   "metadata": {},
   "outputs": [
    {
     "data": {
      "text/plain": [
       "array([[-0.08675012,  0.75665724,  0.3689849 , ...,  0.3706709 ,\n",
       "         0.3587228 , -0.04484515],\n",
       "       [ 0.29558107,  0.09487281,  0.21745645, ...,  1.1056648 ,\n",
       "         0.35978296, -0.4821599 ],\n",
       "       [-0.33759812, -0.08839372, -1.1754515 , ..., -0.01064773,\n",
       "         0.2841852 ,  0.41567475],\n",
       "       ...,\n",
       "       [-0.05607699,  0.00216774, -0.9878117 , ..., -0.39045858,\n",
       "         0.26187316, -0.07240476],\n",
       "       [ 0.7147031 ,  0.1513696 ,  0.48976973, ..., -0.8133498 ,\n",
       "         0.51990986, -0.5718898 ],\n",
       "       [-0.0647185 , -0.01759601, -0.09676134, ..., -0.08579268,\n",
       "         0.12908408, -0.2005067 ]], dtype=float32)"
      ]
     },
     "execution_count": 347,
     "metadata": {},
     "output_type": "execute_result"
    }
   ],
   "source": [
    "np.save(r'D:\\projects\\congress\\processed\\training_vectors\\debatepol/' + 'topics_soft', softmax_topics)"
   ]
  },
  {
   "cell_type": "code",
   "execution_count": 3,
   "id": "e49c8422",
   "metadata": {},
   "outputs": [],
   "source": [
    "stance = np.load(r'D:\\projects\\congress\\processed\\training_vectors\\debatepol/' + 'stance_lib_7scale.npy')"
   ]
  },
  {
   "cell_type": "code",
   "execution_count": 5,
   "id": "dfcfd92d",
   "metadata": {},
   "outputs": [
    {
     "data": {
      "text/plain": [
       "(146448,)"
      ]
     },
     "execution_count": 5,
     "metadata": {},
     "output_type": "execute_result"
    }
   ],
   "source": [
    "stance.shape"
   ]
  },
  {
   "cell_type": "code",
   "execution_count": 19,
   "id": "7c8d142a",
   "metadata": {},
   "outputs": [
    {
     "data": {
      "text/plain": [
       "8266"
      ]
     },
     "execution_count": 19,
     "metadata": {},
     "output_type": "execute_result"
    }
   ],
   "source": [
    "(stance ==5).sum()"
   ]
  },
  {
   "cell_type": "code",
   "execution_count": 66,
   "id": "8cb56a22",
   "metadata": {},
   "outputs": [],
   "source": [
    "# get author statistics\n",
    "\n",
    "authorslant= speeches_filt_2.groupby('author')['political_leaning'].first()"
   ]
  },
  {
   "cell_type": "code",
   "execution_count": 67,
   "id": "9cac3353",
   "metadata": {},
   "outputs": [
    {
     "data": {
      "text/plain": [
       "Index(['title', 'text_raw', 'subject_posttime', 'author', 'authorlink',\n",
       "       'topics_prior', 'posturl', 'reply_posttime', 'upvoted', 'topics_name',\n",
       "       'speech_final', '<fullpath>', 'name', 'massages', 'score', 'points',\n",
       "       'awards', 'birthday', 'location', 'gender', 'occupation',\n",
       "       'political_leaning', 'signature', 'slant_lib'],\n",
       "      dtype='object')"
      ]
     },
     "execution_count": 67,
     "metadata": {},
     "output_type": "execute_result"
    }
   ],
   "source": [
    "speeches_filt_2.columns"
   ]
  },
  {
   "cell_type": "code",
   "execution_count": 68,
   "id": "1ebb99ee",
   "metadata": {},
   "outputs": [],
   "source": [
    "authorcount = speeches_filt_2.groupby('author')['political_leaning'].count()"
   ]
  },
  {
   "cell_type": "code",
   "execution_count": 69,
   "id": "e04d0273",
   "metadata": {},
   "outputs": [
    {
     "data": {
      "text/plain": [
       "(author\n",
       " 'da Coach               Liberal\n",
       " 2aguy         Very Conservative\n",
       " 45Loyalist             Moderate\n",
       " 90sGuy                  Liberal\n",
       " 911Sparky              Moderate\n",
       "                     ...        \n",
       " wl45hd             Conservative\n",
       " wolfman24              Moderate\n",
       " ygmarny109              Liberal\n",
       " ziggy1734          Conservative\n",
       " zoetherat      Slightly Liberal\n",
       " Name: political_leaning, Length: 692, dtype: object,\n",
       " author\n",
       " 'da Coach      3\n",
       " 2aguy          2\n",
       " 45Loyalist     2\n",
       " 90sGuy         3\n",
       " 911Sparky     16\n",
       "               ..\n",
       " wl45hd         4\n",
       " wolfman24     12\n",
       " ygmarny109     2\n",
       " ziggy1734      1\n",
       " zoetherat      7\n",
       " Name: political_leaning, Length: 692, dtype: int64)"
      ]
     },
     "execution_count": 69,
     "metadata": {},
     "output_type": "execute_result"
    }
   ],
   "source": [
    "authorslant, authorcount"
   ]
  },
  {
   "cell_type": "code",
   "execution_count": 70,
   "id": "14d0ca12",
   "metadata": {},
   "outputs": [],
   "source": [
    "authorcount._name = 'counts'"
   ]
  },
  {
   "cell_type": "code",
   "execution_count": 71,
   "id": "ecdb5ac8",
   "metadata": {},
   "outputs": [],
   "source": [
    "author_slantcount = pd.concat([authorslant, authorcount], axis = 1)"
   ]
  },
  {
   "cell_type": "code",
   "execution_count": 72,
   "id": "7a6eb0d0",
   "metadata": {},
   "outputs": [
    {
     "data": {
      "text/html": [
       "<div>\n",
       "<style scoped>\n",
       "    .dataframe tbody tr th:only-of-type {\n",
       "        vertical-align: middle;\n",
       "    }\n",
       "\n",
       "    .dataframe tbody tr th {\n",
       "        vertical-align: top;\n",
       "    }\n",
       "\n",
       "    .dataframe thead th {\n",
       "        text-align: right;\n",
       "    }\n",
       "</style>\n",
       "<table border=\"1\" class=\"dataframe\">\n",
       "  <thead>\n",
       "    <tr style=\"text-align: right;\">\n",
       "      <th></th>\n",
       "      <th>political_leaning</th>\n",
       "      <th>counts</th>\n",
       "    </tr>\n",
       "    <tr>\n",
       "      <th>author</th>\n",
       "      <th></th>\n",
       "      <th></th>\n",
       "    </tr>\n",
       "  </thead>\n",
       "  <tbody>\n",
       "    <tr>\n",
       "      <th>'da Coach</th>\n",
       "      <td>Liberal</td>\n",
       "      <td>3</td>\n",
       "    </tr>\n",
       "    <tr>\n",
       "      <th>2aguy</th>\n",
       "      <td>Very Conservative</td>\n",
       "      <td>2</td>\n",
       "    </tr>\n",
       "    <tr>\n",
       "      <th>45Loyalist</th>\n",
       "      <td>Moderate</td>\n",
       "      <td>2</td>\n",
       "    </tr>\n",
       "    <tr>\n",
       "      <th>90sGuy</th>\n",
       "      <td>Liberal</td>\n",
       "      <td>3</td>\n",
       "    </tr>\n",
       "    <tr>\n",
       "      <th>911Sparky</th>\n",
       "      <td>Moderate</td>\n",
       "      <td>16</td>\n",
       "    </tr>\n",
       "    <tr>\n",
       "      <th>...</th>\n",
       "      <td>...</td>\n",
       "      <td>...</td>\n",
       "    </tr>\n",
       "    <tr>\n",
       "      <th>wl45hd</th>\n",
       "      <td>Conservative</td>\n",
       "      <td>4</td>\n",
       "    </tr>\n",
       "    <tr>\n",
       "      <th>wolfman24</th>\n",
       "      <td>Moderate</td>\n",
       "      <td>12</td>\n",
       "    </tr>\n",
       "    <tr>\n",
       "      <th>ygmarny109</th>\n",
       "      <td>Liberal</td>\n",
       "      <td>2</td>\n",
       "    </tr>\n",
       "    <tr>\n",
       "      <th>ziggy1734</th>\n",
       "      <td>Conservative</td>\n",
       "      <td>1</td>\n",
       "    </tr>\n",
       "    <tr>\n",
       "      <th>zoetherat</th>\n",
       "      <td>Slightly Liberal</td>\n",
       "      <td>7</td>\n",
       "    </tr>\n",
       "  </tbody>\n",
       "</table>\n",
       "<p>692 rows × 2 columns</p>\n",
       "</div>"
      ],
      "text/plain": [
       "            political_leaning  counts\n",
       "author                               \n",
       "'da Coach             Liberal       3\n",
       "2aguy       Very Conservative       2\n",
       "45Loyalist           Moderate       2\n",
       "90sGuy                Liberal       3\n",
       "911Sparky            Moderate      16\n",
       "...                       ...     ...\n",
       "wl45hd           Conservative       4\n",
       "wolfman24            Moderate      12\n",
       "ygmarny109            Liberal       2\n",
       "ziggy1734        Conservative       1\n",
       "zoetherat    Slightly Liberal       7\n",
       "\n",
       "[692 rows x 2 columns]"
      ]
     },
     "execution_count": 72,
     "metadata": {},
     "output_type": "execute_result"
    }
   ],
   "source": [
    "author_slantcount"
   ]
  },
  {
   "cell_type": "code",
   "execution_count": 73,
   "id": "4d0ab513",
   "metadata": {},
   "outputs": [
    {
     "data": {
      "text/plain": [
       "(211.63005780346822, 853.3569645611237)"
      ]
     },
     "execution_count": 73,
     "metadata": {},
     "output_type": "execute_result"
    }
   ],
   "source": [
    "# average number of posts\n",
    "authorcount.mean(), authorcount.std()"
   ]
  },
  {
   "cell_type": "code",
   "execution_count": 74,
   "id": "b8a573f2",
   "metadata": {},
   "outputs": [
    {
     "data": {
      "text/plain": [
       "count      692.000000\n",
       "mean       211.630058\n",
       "std        853.356965\n",
       "min          1.000000\n",
       "25%          3.000000\n",
       "50%         14.000000\n",
       "75%         91.250000\n",
       "max      11930.000000\n",
       "Name: counts, dtype: float64"
      ]
     },
     "execution_count": 74,
     "metadata": {},
     "output_type": "execute_result"
    }
   ],
   "source": [
    "authorcount.describe()"
   ]
  },
  {
   "cell_type": "code",
   "execution_count": 79,
   "id": "04706b15",
   "metadata": {},
   "outputs": [],
   "source": [
    "slantcount = author_slantcount.groupby('political_leaning')['counts'].count()"
   ]
  },
  {
   "cell_type": "code",
   "execution_count": 80,
   "id": "579de143",
   "metadata": {},
   "outputs": [],
   "source": [
    "slantpostmean = author_slantcount.groupby('political_leaning')['counts'].mean()"
   ]
  },
  {
   "cell_type": "code",
   "execution_count": 104,
   "id": "5eb7ca67",
   "metadata": {},
   "outputs": [],
   "source": [
    "slantpostsum = author_slantcount.groupby('political_leaning')['counts'].sum()"
   ]
  },
  {
   "cell_type": "code",
   "execution_count": 116,
   "id": "4ac56040",
   "metadata": {},
   "outputs": [],
   "source": [
    "slantpostmean._name = \"ave_post\"\n",
    "slantpostsum._name = 'total_post'"
   ]
  },
  {
   "cell_type": "code",
   "execution_count": 5,
   "id": "410c09ca",
   "metadata": {},
   "outputs": [],
   "source": [
    "import matplotlib.pyplot as plt\n",
    "import matplotlib.colors as mcol\n",
    "import matplotlib.cm as cm"
   ]
  },
  {
   "cell_type": "code",
   "execution_count": 136,
   "id": "5a2b5583",
   "metadata": {},
   "outputs": [],
   "source": []
  },
  {
   "cell_type": "code",
   "execution_count": 146,
   "id": "0b83952a",
   "metadata": {},
   "outputs": [
    {
     "data": {
      "text/plain": [
       "(0.0, 0.0, 0.5450980392156862, 1.0)"
      ]
     },
     "execution_count": 146,
     "metadata": {},
     "output_type": "execute_result"
    }
   ],
   "source": []
  },
  {
   "cell_type": "code",
   "execution_count": 118,
   "id": "50d5582c",
   "metadata": {},
   "outputs": [
    {
     "data": {
      "text/plain": [
       "political_leaning\n",
       "Conservative             199\n",
       "Liberal                  124\n",
       "Moderate                  84\n",
       "Slightly Conservative     48\n",
       "Slightly Liberal          59\n",
       "Very Conservative         70\n",
       "Very Liberal              31\n",
       "Name: counts, dtype: int64"
      ]
     },
     "execution_count": 118,
     "metadata": {},
     "output_type": "execute_result"
    }
   ],
   "source": [
    "slantcount[1:]"
   ]
  },
  {
   "cell_type": "code",
   "execution_count": 119,
   "id": "54fdc036",
   "metadata": {},
   "outputs": [],
   "source": [
    "userprofile = pd.concat([slantcount[1:], slantpostmean[1:], slantpostsum[1:]], axis = 1 )"
   ]
  },
  {
   "cell_type": "code",
   "execution_count": 120,
   "id": "f2a417c8",
   "metadata": {},
   "outputs": [],
   "source": [
    "userprofile['slantscale'] = np.array([2,6,4, 3, 5, 1, 7])"
   ]
  },
  {
   "cell_type": "code",
   "execution_count": 121,
   "id": "c9e1a5ef",
   "metadata": {},
   "outputs": [],
   "source": [
    "userprofile.sort_values(by = 'slantscale', inplace = True)"
   ]
  },
  {
   "cell_type": "code",
   "execution_count": 122,
   "id": "6183496a",
   "metadata": {},
   "outputs": [
    {
     "data": {
      "text/html": [
       "<div>\n",
       "<style scoped>\n",
       "    .dataframe tbody tr th:only-of-type {\n",
       "        vertical-align: middle;\n",
       "    }\n",
       "\n",
       "    .dataframe tbody tr th {\n",
       "        vertical-align: top;\n",
       "    }\n",
       "\n",
       "    .dataframe thead th {\n",
       "        text-align: right;\n",
       "    }\n",
       "</style>\n",
       "<table border=\"1\" class=\"dataframe\">\n",
       "  <thead>\n",
       "    <tr style=\"text-align: right;\">\n",
       "      <th></th>\n",
       "      <th>counts</th>\n",
       "      <th>ave_post</th>\n",
       "      <th>total_post</th>\n",
       "      <th>slantscale</th>\n",
       "    </tr>\n",
       "    <tr>\n",
       "      <th>political_leaning</th>\n",
       "      <th></th>\n",
       "      <th></th>\n",
       "      <th></th>\n",
       "      <th></th>\n",
       "    </tr>\n",
       "  </thead>\n",
       "  <tbody>\n",
       "    <tr>\n",
       "      <th>Very Conservative</th>\n",
       "      <td>70</td>\n",
       "      <td>134.900000</td>\n",
       "      <td>9443</td>\n",
       "      <td>1</td>\n",
       "    </tr>\n",
       "    <tr>\n",
       "      <th>Conservative</th>\n",
       "      <td>199</td>\n",
       "      <td>246.110553</td>\n",
       "      <td>48976</td>\n",
       "      <td>2</td>\n",
       "    </tr>\n",
       "    <tr>\n",
       "      <th>Slightly Conservative</th>\n",
       "      <td>48</td>\n",
       "      <td>185.833333</td>\n",
       "      <td>8920</td>\n",
       "      <td>3</td>\n",
       "    </tr>\n",
       "    <tr>\n",
       "      <th>Moderate</th>\n",
       "      <td>84</td>\n",
       "      <td>275.285714</td>\n",
       "      <td>23124</td>\n",
       "      <td>4</td>\n",
       "    </tr>\n",
       "    <tr>\n",
       "      <th>Slightly Liberal</th>\n",
       "      <td>59</td>\n",
       "      <td>140.101695</td>\n",
       "      <td>8266</td>\n",
       "      <td>5</td>\n",
       "    </tr>\n",
       "    <tr>\n",
       "      <th>Liberal</th>\n",
       "      <td>124</td>\n",
       "      <td>245.580645</td>\n",
       "      <td>30452</td>\n",
       "      <td>6</td>\n",
       "    </tr>\n",
       "    <tr>\n",
       "      <th>Very Liberal</th>\n",
       "      <td>31</td>\n",
       "      <td>38.451613</td>\n",
       "      <td>1192</td>\n",
       "      <td>7</td>\n",
       "    </tr>\n",
       "  </tbody>\n",
       "</table>\n",
       "</div>"
      ],
      "text/plain": [
       "                       counts    ave_post  total_post  slantscale\n",
       "political_leaning                                                \n",
       "Very Conservative          70  134.900000        9443           1\n",
       "Conservative              199  246.110553       48976           2\n",
       "Slightly Conservative      48  185.833333        8920           3\n",
       "Moderate                   84  275.285714       23124           4\n",
       "Slightly Liberal           59  140.101695        8266           5\n",
       "Liberal                   124  245.580645       30452           6\n",
       "Very Liberal               31   38.451613        1192           7"
      ]
     },
     "execution_count": 122,
     "metadata": {},
     "output_type": "execute_result"
    }
   ],
   "source": [
    "userprofile"
   ]
  },
  {
   "cell_type": "code",
   "execution_count": 123,
   "id": "c00ed2df",
   "metadata": {},
   "outputs": [],
   "source": [
    "xlabels = userprofile.index.values"
   ]
  },
  {
   "cell_type": "code",
   "execution_count": 124,
   "id": "f0a8fb21",
   "metadata": {},
   "outputs": [],
   "source": [
    "Xs = userprofile.slantscale.values"
   ]
  },
  {
   "cell_type": "code",
   "execution_count": 125,
   "id": "0f1d6106",
   "metadata": {},
   "outputs": [],
   "source": []
  },
  {
   "cell_type": "code",
   "execution_count": 126,
   "id": "c9bd6870",
   "metadata": {},
   "outputs": [
    {
     "data": {
      "text/plain": [
       "<Figure size 720x360 with 0 Axes>"
      ]
     },
     "metadata": {},
     "output_type": "display_data"
    }
   ],
   "source": [
    "fig = plt.figure(figsize = (10, 5))"
   ]
  },
  {
   "cell_type": "code",
   "execution_count": 157,
   "id": "0e8217c2",
   "metadata": {},
   "outputs": [
    {
     "data": {
      "text/plain": [
       "Text(0.5, 1.0, 'number of users of different ideology')"
      ]
     },
     "execution_count": 157,
     "metadata": {},
     "output_type": "execute_result"
    },
    {
     "data": {
      "image/png": "[encoded data removed]",
      "text/plain": [
       "<Figure size 432x288 with 1 Axes>"
      ]
     },
     "metadata": {
      "needs_background": "light"
     },
     "output_type": "display_data"
    }
   ],
   "source": [
    "Ys = userprofile.counts.values\n",
    "bars = plt.bar(xlabels, Ys)\n",
    "cm1 = mcol.LinearSegmentedColormap.from_list(\"MyCmapName\",[\"darkred\",\"b\"])\n",
    "cnorm = mcol.Normalize(vmin=0,vmax=8)\n",
    "cpick = cm.ScalarMappable(norm=cnorm,cmap=cm1)\n",
    "cpick.set_array([])\n",
    "# colors = ['darkred', 'r', 'lightsalmon', 'green','lightblue', 'b', 'navy']\n",
    "for i, bar in enumerate(bars):\n",
    "    bar.set_color(cpick.to_rgba(i))\n",
    "plt.xlabel('self reported ideology in 7 point scale')\n",
    "plt.ylabel('users count')\n",
    "plt.xticks(rotation = 45)\n",
    "plt.title('number of users of different ideology')"
   ]
  },
  {
   "cell_type": "code",
   "execution_count": 158,
   "id": "d54ee7a3",
   "metadata": {},
   "outputs": [
    {
     "data": {
      "text/plain": [
       "Text(0.5, 1.0, 'average number of posts by users of different ideology')"
      ]
     },
     "execution_count": 158,
     "metadata": {},
     "output_type": "execute_result"
    },
    {
     "data": {
      "image/png": "[encoded data removed]",
      "text/plain": [
       "<Figure size 432x288 with 1 Axes>"
      ]
     },
     "metadata": {
      "needs_background": "light"
     },
     "output_type": "display_data"
    }
   ],
   "source": [
    "Ys = userprofile.ave_post.values\n",
    "bars = plt.bar(xlabels, Ys)\n",
    "cm1 = mcol.LinearSegmentedColormap.from_list(\"MyCmapName\",[\"darkred\",\"b\"])\n",
    "cnorm = mcol.Normalize(vmin=0,vmax=8)\n",
    "cpick = cm.ScalarMappable(norm=cnorm,cmap=cm1)\n",
    "cpick.set_array([])\n",
    "# colors = ['darkred', 'r', 'lightsalmon', 'green','lightblue', 'b', 'navy']\n",
    "for i, bar in enumerate(bars):\n",
    "    bar.set_color(cpick.to_rgba(i))\n",
    "plt.xlabel('self reported ideology in 7 point scale')\n",
    "plt.ylabel('users average posts count')\n",
    "plt.xticks(rotation = 45)\n",
    "plt.title('average number of posts by users of different ideology')"
   ]
  },
  {
   "cell_type": "code",
   "execution_count": 160,
   "id": "a31094f8",
   "metadata": {},
   "outputs": [
    {
     "data": {
      "text/plain": [
       "Text(0.5, 1.0, 'total number of posts from different ideology')"
      ]
     },
     "execution_count": 160,
     "metadata": {},
     "output_type": "execute_result"
    },
    {
     "data": {
      "image/png": "[encoded data removed]",
      "text/plain": [
       "<Figure size 432x288 with 1 Axes>"
      ]
     },
     "metadata": {
      "needs_background": "light"
     },
     "output_type": "display_data"
    }
   ],
   "source": [
    "Ys = userprofile.total_post.values\n",
    "bars = plt.bar(xlabels, Ys)\n",
    "cm1 = mcol.LinearSegmentedColormap.from_list(\"MyCmapName\",[\"darkred\",\"b\"])\n",
    "cnorm = mcol.Normalize(vmin=0,vmax=8)\n",
    "cpick = cm.ScalarMappable(norm=cnorm,cmap=cm1)\n",
    "cpick.set_array([])\n",
    "# colors = ['darkred', 'r', 'lightsalmon', 'green','lightblue', 'b', 'navy']\n",
    "for i, bar in enumerate(bars):\n",
    "    bar.set_color(cpick.to_rgba(i))\n",
    "plt.xlabel('self reported ideology in 7 point scale')\n",
    "plt.ylabel('total posts count of different ideology')\n",
    "plt.xticks(rotation = 45)\n",
    "plt.title('total number of posts from different ideology')"
   ]
  },
  {
   "cell_type": "code",
   "execution_count": 169,
   "id": "d9123622",
   "metadata": {},
   "outputs": [],
   "source": [
    "userprofile_nomoder = userprofile.drop('Moderate', axis = 0)"
   ]
  },
  {
   "cell_type": "code",
   "execution_count": 170,
   "id": "14a67504",
   "metadata": {},
   "outputs": [
    {
     "data": {
      "text/html": [
       "<div>\n",
       "<style scoped>\n",
       "    .dataframe tbody tr th:only-of-type {\n",
       "        vertical-align: middle;\n",
       "    }\n",
       "\n",
       "    .dataframe tbody tr th {\n",
       "        vertical-align: top;\n",
       "    }\n",
       "\n",
       "    .dataframe thead th {\n",
       "        text-align: right;\n",
       "    }\n",
       "</style>\n",
       "<table border=\"1\" class=\"dataframe\">\n",
       "  <thead>\n",
       "    <tr style=\"text-align: right;\">\n",
       "      <th></th>\n",
       "      <th>counts</th>\n",
       "      <th>ave_post</th>\n",
       "      <th>total_post</th>\n",
       "      <th>slantscale</th>\n",
       "    </tr>\n",
       "    <tr>\n",
       "      <th>political_leaning</th>\n",
       "      <th></th>\n",
       "      <th></th>\n",
       "      <th></th>\n",
       "      <th></th>\n",
       "    </tr>\n",
       "  </thead>\n",
       "  <tbody>\n",
       "    <tr>\n",
       "      <th>Very Conservative</th>\n",
       "      <td>70</td>\n",
       "      <td>134.900000</td>\n",
       "      <td>9443</td>\n",
       "      <td>1</td>\n",
       "    </tr>\n",
       "    <tr>\n",
       "      <th>Conservative</th>\n",
       "      <td>199</td>\n",
       "      <td>246.110553</td>\n",
       "      <td>48976</td>\n",
       "      <td>2</td>\n",
       "    </tr>\n",
       "    <tr>\n",
       "      <th>Slightly Conservative</th>\n",
       "      <td>48</td>\n",
       "      <td>185.833333</td>\n",
       "      <td>8920</td>\n",
       "      <td>3</td>\n",
       "    </tr>\n",
       "    <tr>\n",
       "      <th>Slightly Liberal</th>\n",
       "      <td>59</td>\n",
       "      <td>140.101695</td>\n",
       "      <td>8266</td>\n",
       "      <td>5</td>\n",
       "    </tr>\n",
       "    <tr>\n",
       "      <th>Liberal</th>\n",
       "      <td>124</td>\n",
       "      <td>245.580645</td>\n",
       "      <td>30452</td>\n",
       "      <td>6</td>\n",
       "    </tr>\n",
       "    <tr>\n",
       "      <th>Very Liberal</th>\n",
       "      <td>31</td>\n",
       "      <td>38.451613</td>\n",
       "      <td>1192</td>\n",
       "      <td>7</td>\n",
       "    </tr>\n",
       "  </tbody>\n",
       "</table>\n",
       "</div>"
      ],
      "text/plain": [
       "                       counts    ave_post  total_post  slantscale\n",
       "political_leaning                                                \n",
       "Very Conservative          70  134.900000        9443           1\n",
       "Conservative              199  246.110553       48976           2\n",
       "Slightly Conservative      48  185.833333        8920           3\n",
       "Slightly Liberal           59  140.101695        8266           5\n",
       "Liberal                   124  245.580645       30452           6\n",
       "Very Liberal               31   38.451613        1192           7"
      ]
     },
     "execution_count": 170,
     "metadata": {},
     "output_type": "execute_result"
    }
   ],
   "source": [
    "userprofile_nomoder"
   ]
  },
  {
   "cell_type": "code",
   "execution_count": 173,
   "id": "109cf193",
   "metadata": {},
   "outputs": [
    {
     "data": {
      "text/plain": [
       "<Figure size 720x360 with 0 Axes>"
      ]
     },
     "metadata": {},
     "output_type": "display_data"
    }
   ],
   "source": [
    "fig = plt.figure(figsize = (10, 5))\n",
    "xlabels = userprofile_nomoder.index.values\n"
   ]
  },
  {
   "cell_type": "code",
   "execution_count": 174,
   "id": "faeca0d7",
   "metadata": {},
   "outputs": [
    {
     "data": {
      "text/plain": [
       "Text(0.5, 1.0, 'number of users of different ideology')"
      ]
     },
     "execution_count": 174,
     "metadata": {},
     "output_type": "execute_result"
    },
    {
     "data": {
      "image/png": "[encoded data removed]",
      "text/plain": [
       "<Figure size 432x288 with 1 Axes>"
      ]
     },
     "metadata": {
      "needs_background": "light"
     },
     "output_type": "display_data"
    }
   ],
   "source": [
    "Ys = userprofile_nomoder.counts.values\n",
    "\n",
    "bars = plt.bar(xlabels, Ys)\n",
    "cm1 = mcol.LinearSegmentedColormap.from_list(\"MyCmapName\",[\"darkred\",\"b\"])\n",
    "cnorm = mcol.Normalize(vmin=0,vmax=8)\n",
    "cpick = cm.ScalarMappable(norm=cnorm,cmap=cm1)\n",
    "cpick.set_array([])\n",
    "# colors = ['darkred', 'r', 'lightsalmon', 'green','lightblue', 'b', 'navy']\n",
    "for i, bar in enumerate(bars):\n",
    "    bar.set_color(cpick.to_rgba(i))\n",
    "plt.xlabel('self reported ideology in 7 point scale')\n",
    "plt.ylabel('users count')\n",
    "plt.xticks(rotation = 45)\n",
    "plt.title('number of users of different ideology')"
   ]
  },
  {
   "cell_type": "code",
   "execution_count": 175,
   "id": "4d9349ae",
   "metadata": {},
   "outputs": [
    {
     "data": {
      "text/plain": [
       "Text(0.5, 1.0, 'average number of posts by users of different ideology')"
      ]
     },
     "execution_count": 175,
     "metadata": {},
     "output_type": "execute_result"
    },
    {
     "data": {
      "image/png": "[encoded data removed]",
      "text/plain": [
       "<Figure size 432x288 with 1 Axes>"
      ]
     },
     "metadata": {
      "needs_background": "light"
     },
     "output_type": "display_data"
    }
   ],
   "source": [
    "Ys = userprofile_nomoder.ave_post.values\n",
    "bars = plt.bar(xlabels, Ys)\n",
    "cm1 = mcol.LinearSegmentedColormap.from_list(\"MyCmapName\",[\"darkred\",\"b\"])\n",
    "cnorm = mcol.Normalize(vmin=0,vmax=8)\n",
    "cpick = cm.ScalarMappable(norm=cnorm,cmap=cm1)\n",
    "cpick.set_array([])\n",
    "# colors = ['darkred', 'r', 'lightsalmon', 'green','lightblue', 'b', 'navy']\n",
    "for i, bar in enumerate(bars):\n",
    "    bar.set_color(cpick.to_rgba(i))\n",
    "plt.xlabel('self reported ideology in 7 point scale')\n",
    "plt.ylabel('users average posts count')\n",
    "plt.xticks(rotation = 45)\n",
    "plt.title('average number of posts by users of different ideology')"
   ]
  },
  {
   "cell_type": "code",
   "execution_count": 176,
   "id": "61843019",
   "metadata": {},
   "outputs": [
    {
     "data": {
      "text/plain": [
       "Text(0.5, 1.0, 'total number of posts from different ideology')"
      ]
     },
     "execution_count": 176,
     "metadata": {},
     "output_type": "execute_result"
    },
    {
     "data": {
      "image/png": "[encoded data removed]",
      "text/plain": [
       "<Figure size 432x288 with 1 Axes>"
      ]
     },
     "metadata": {
      "needs_background": "light"
     },
     "output_type": "display_data"
    }
   ],
   "source": [
    "Ys = userprofile_nomoder.total_post.values\n",
    "bars = plt.bar(xlabels, Ys)\n",
    "cm1 = mcol.LinearSegmentedColormap.from_list(\"MyCmapName\",[\"darkred\",\"b\"])\n",
    "cnorm = mcol.Normalize(vmin=0,vmax=8)\n",
    "cpick = cm.ScalarMappable(norm=cnorm,cmap=cm1)\n",
    "cpick.set_array([])\n",
    "# colors = ['darkred', 'r', 'lightsalmon', 'green','lightblue', 'b', 'navy']\n",
    "for i, bar in enumerate(bars):\n",
    "    bar.set_color(cpick.to_rgba(i))\n",
    "plt.xlabel('self reported ideology in 7 point scale')\n",
    "plt.ylabel('total posts count of different ideology')\n",
    "plt.xticks(rotation = 45)\n",
    "plt.title('total number of posts from different ideology')"
   ]
  },
  {
   "cell_type": "code",
   "execution_count": null,
   "id": "fe333c7d",
   "metadata": {},
   "outputs": [],
   "source": []
  },
  {
   "cell_type": "code",
   "execution_count": 52,
   "id": "3ab7213d",
   "metadata": {},
   "outputs": [
    {
     "data": {
      "text/plain": [
       "Index(['title', 'text_raw', 'subject_posttime', 'author', 'authorlink',\n",
       "       'topics_prior', 'posturl', 'reply_posttime', 'upvoted', 'topics_name',\n",
       "       'speech_final', '<fullpath>', 'name', 'massages', 'score', 'points',\n",
       "       'awards', 'birthday', 'location', 'gender', 'occupation',\n",
       "       'political_leaning', 'signature', 'slant_lib'],\n",
       "      dtype='object')"
      ]
     },
     "execution_count": 52,
     "metadata": {},
     "output_type": "execute_result"
    }
   ],
   "source": [
    "speeches_filt_2.columns"
   ]
  },
  {
   "cell_type": "code",
   "execution_count": 17,
   "id": "04c5fc4b",
   "metadata": {},
   "outputs": [
    {
     "ename": "NameError",
     "evalue": "name 'speeches_filt_2' is not defined",
     "output_type": "error",
     "traceback": [
      "\u001b[1;31m---------------------------------------------------------------------------\u001b[0m",
      "\u001b[1;31mNameError\u001b[0m                                 Traceback (most recent call last)",
      "\u001b[1;32m<ipython-input-17-11f716dd0240>\u001b[0m in \u001b[0;36m<module>\u001b[1;34m\u001b[0m\n\u001b[1;32m----> 1\u001b[1;33m speeches_filt_2.loc[speeches_filt_2.loc[:, 'slant_lib'] == 4,['speech_final', 'political_leaning', 'slant_lib','author', 'topics_name']].to_csv(r'D:\\projects\\congress\\data\\debate_politics\\filtered_data\\debatepol_4topics_author_centermorderate.csv', \n\u001b[0m\u001b[0;32m      2\u001b[0m                                                                                                      sep = '\\t', index_label = False)\n",
      "\u001b[1;31mNameError\u001b[0m: name 'speeches_filt_2' is not defined"
     ]
    }
   ],
   "source": [
    "# speeches_filt_2.loc[speeches_filt_2.loc[:, 'slant_lib'] == 4,['speech_final', 'political_leaning', 'slant_lib','author', 'topics_name']].to_csv(r'D:\\projects\\congress\\data\\debate_politics\\filtered_data\\debatepol_4topics_author_centermorderate.csv', \n",
    "#                                                                                                      sep = '\\t', index_label = False)"
   ]
  },
  {
   "cell_type": "code",
   "execution_count": 8,
   "id": "8761c0c7",
   "metadata": {},
   "outputs": [],
   "source": [
    "speeches_filt_2 = pd.read_csv(r'D:\\projects\\congress\\data\\debate_politics\\filtered_data\\debatepol_4topics_author_train.csv', \n",
    "                                                                                                     sep = '\\t', index_col = 0)"
   ]
  },
  {
   "cell_type": "code",
   "execution_count": 9,
   "id": "259567cc",
   "metadata": {},
   "outputs": [
    {
     "data": {
      "text/plain": [
       "topics_name\n",
       "abortion      35422\n",
       "guns          71472\n",
       "healthcare     6428\n",
       "lgbtq         33126\n",
       "dtype: int64"
      ]
     },
     "execution_count": 9,
     "metadata": {},
     "output_type": "execute_result"
    }
   ],
   "source": [
    "speeches_filt_2.groupby('topics_name').size()"
   ]
  },
  {
   "cell_type": "code",
   "execution_count": 10,
   "id": "316b2b51",
   "metadata": {},
   "outputs": [
    {
     "data": {
      "text/plain": [
       "(146448, 24)"
      ]
     },
     "execution_count": 10,
     "metadata": {},
     "output_type": "execute_result"
    }
   ],
   "source": [
    "speeches_filt_2.shape"
   ]
  },
  {
   "cell_type": "code",
   "execution_count": 11,
   "id": "b434c3bc",
   "metadata": {},
   "outputs": [
    {
     "data": {
      "text/plain": [
       "'\\nfirst of all, filter out moderate and centrist, as their political label is not clear. and a lot of self-claimed moderate are\\nactually not what they claim to be. \\nnext filter out topics that are not guns 26\\n\\n'"
      ]
     },
     "execution_count": 11,
     "metadata": {},
     "output_type": "execute_result"
    }
   ],
   "source": [
    "## test sampling scheme\n",
    "'''\n",
    "first of all, filter out moderate and centrist, as their political label is not clear. and a lot of self-claimed moderate are\n",
    "actually not what they claim to be. \n",
    "next filter out topics that are not guns 26\n",
    "\n",
    "'''"
   ]
  },
  {
   "cell_type": "code",
   "execution_count": 12,
   "id": "661192d3",
   "metadata": {},
   "outputs": [
    {
     "name": "stdout",
     "output_type": "stream",
     "text": [
      "(146448, 300) (71472, 24)\n",
      "(146448, 1674)\n",
      "(146448,)\n",
      "(146448, 68) (146448, 68)\n"
     ]
    }
   ],
   "source": [
    "sentence_vec = np.load(r'D:\\projects\\congress\\processed\\training_vectors\\debatepol/'+ r'debatepol_sentencevector.npy')\n",
    "\n",
    "print(sentence_vec.shape, speeches_filt_2.loc[speeches_filt_2.topics_name == 'guns'].shape)\n",
    "\n",
    "author_dummies = np.load(r'D:\\projects\\congress\\processed\\training_vectors\\debatepol/' + 'author_dummies.npy')\n",
    "print(author_dummies.shape)\n",
    "\n",
    "stance_7 = np.load(r'D:\\projects\\congress\\processed\\training_vectors\\debatepol/' + 'stance_lib_7scale.npy')\n",
    "print(stance_7.shape)\n",
    "\n",
    "stance_binary = np.load(r'D:\\projects\\congress\\processed\\training_vectors\\debatepol/' + 'stance_lib_binary.npy')\n",
    "\n",
    "topics_hard = np.load(r'D:\\projects\\congress\\processed\\training_vectors\\debatepol/' + 'topics_hard.npy')\n",
    "\n",
    "topics_soft = np.load(r'D:\\projects\\congress\\processed\\training_vectors\\debatepol/' + 'topics_soft.npy')\n",
    "\n",
    "print(topics_soft.shape, topics_hard.shape)\n",
    "\n",
    "speech_ids = np.load(r'D:\\projects\\congress\\processed\\training_vectors\\debatepol/' + 'speech_ids.npy')"
   ]
  },
  {
   "cell_type": "code",
   "execution_count": 13,
   "id": "01d93efa",
   "metadata": {},
   "outputs": [
    {
     "name": "stdout",
     "output_type": "stream",
     "text": [
      "(52675, 68) (52675,)\n",
      "0.4510299003322259 2201\n"
     ]
    }
   ],
   "source": [
    "# start filter\n",
    "# device a filter\n",
    "_filter = (speeches_filt_2.slant_lib != 4)&(speeches_filt_2.topics_prior == 26)\n",
    "\n",
    "stance_7g = stance_7[_filter]\n",
    "author_dummiesg = author_dummies[_filter]\n",
    "\n",
    "topics_softg = topics_soft[_filter]\n",
    "\n",
    "topics_hardg = topics_hard[_filter]\n",
    "\n",
    "print(topics_hardg.shape, stance_7g.shape)\n",
    "\n",
    "stance_binaryg = (stance_7g>4)*1\n",
    "\n",
    "print(stance_binaryg.mean(),(stance_7g==1).sum())\n",
    "\n",
    "speech_idsg = speech_ids[_filter]\n",
    "sentence_vecg = sentence_vec[_filter]"
   ]
  },
  {
   "cell_type": "code",
   "execution_count": 16,
   "id": "50bf8456",
   "metadata": {},
   "outputs": [
    {
     "data": {
      "text/plain": [
       "0.3872832369942196"
      ]
     },
     "execution_count": 16,
     "metadata": {},
     "output_type": "execute_result"
    }
   ],
   "source": [
    "(np.matmul(author_dummiesg.T, stance_binaryg)[author_dummiesg.T.sum(axis = 1)>0]>0).mean()\n",
    " # 61.3% cons in members who talks about guns"
   ]
  },
  {
   "cell_type": "code",
   "execution_count": 19,
   "id": "1f78b58a",
   "metadata": {},
   "outputs": [
    {
     "data": {
      "text/plain": [
       "0.5489700996677741"
      ]
     },
     "execution_count": 19,
     "metadata": {},
     "output_type": "execute_result"
    }
   ],
   "source": [
    "1- stance_binaryg.mean()  # 54.9% cons in members who talks about guns"
   ]
  },
  {
   "cell_type": "code",
   "execution_count": 83,
   "id": "8c38a403",
   "metadata": {},
   "outputs": [
    {
     "data": {
      "text/plain": [
       "array([    0.,     0.,     0.,     0.,     0.,     0.,     0.,     0.,\n",
       "           0.,     0.,     0.,     0.,     0.,     0.,     0.,     0.,\n",
       "           0.,     0.,     0.,     0.,     0.,     0.,     0.,     0.,\n",
       "           0.,     0., 52675.,     0.,     0.,     0.,     0.,     0.,\n",
       "           0.,     0.,     0.,     0.,     0.,     0.,     0.,     0.,\n",
       "           0.,     0.,     0.,     0.,     0.,     0.,     0.,     0.,\n",
       "           0.,     0.,     0.,     0.,     0.,     0.,     0.,     0.,\n",
       "           0.,     0.,     0.,     0.,     0.,     0.,     0.,     0.,\n",
       "           0.,     0.,     0.,     0.])"
      ]
     },
     "execution_count": 83,
     "metadata": {},
     "output_type": "execute_result"
    }
   ],
   "source": [
    "topics_hardg.sum(axis = 0)"
   ]
  },
  {
   "cell_type": "code",
   "execution_count": 202,
   "id": "9595e805",
   "metadata": {},
   "outputs": [],
   "source": [
    "# speeches_filt_2.loc[_filter& ((speeches_filt_2['slant_lib'] ==1)|(speeches_filt_2['slant_lib'] ==7)), ['author', 'political_leaning', 'slant_lib', 'topics_name',\n",
    "#                                                                                                        'speech_final']].to_csv(r'D:\\projects\\congress\\data\\debate_politics\\filtered_data\\debatepol_guns_author_extreme.csv', \n",
    "#                                                                                                      sep = '\\t', index_label = False)"
   ]
  },
  {
   "cell_type": "code",
   "execution_count": null,
   "id": "572d54e7",
   "metadata": {},
   "outputs": [],
   "source": [
    "# save"
   ]
  },
  {
   "cell_type": "code",
   "execution_count": 217,
   "id": "32d75102",
   "metadata": {},
   "outputs": [],
   "source": [
    "np.save(r'D:\\projects\\congress\\processed\\training_vectors\\debatepol/' + 'author_dummies_guns_nomoder', author_dummiesg)\n",
    "np.save(r'D:\\projects\\congress\\processed\\training_vectors\\debatepol/' +'sentence_vectors_guns_nomoder', sentence_vecg)\n",
    "np.save(r'D:\\projects\\congress\\processed\\training_vectors\\debatepol/' + 'speech_ids_guns_nomoder.npy', speech_idsg)\n",
    "np.save(r'D:\\projects\\congress\\processed\\training_vectors\\debatepol/' + 'stance_lib_7scale_guns_nomoder', stance_7g)\n",
    "np.save(r'D:\\projects\\congress\\processed\\training_vectors\\debatepol/' + 'stance_lib_binary_guns_nomoder', stance_binaryg)\n",
    "np.save(r'D:\\projects\\congress\\processed\\training_vectors\\debatepol/' + 'topics_hard_guns_nomoder', topics_hardg)\n",
    "np.save(r'D:\\projects\\congress\\processed\\training_vectors\\debatepol/' + 'topics_soft_guns_nomoder', topics_softg)"
   ]
  },
  {
   "cell_type": "code",
   "execution_count": 89,
   "id": "4a2836dc",
   "metadata": {},
   "outputs": [
    {
     "data": {
      "text/plain": [
       "(52675,)"
      ]
     },
     "execution_count": 89,
     "metadata": {},
     "output_type": "execute_result"
    }
   ],
   "source": [
    "stance_binaryg.shape"
   ]
  },
  {
   "cell_type": "code",
   "execution_count": 84,
   "id": "7d7b4559",
   "metadata": {},
   "outputs": [],
   "source": [
    "ids_all = np.load(r'D:\\projects\\congress\\processed\\training_vectors\\debatepol/' 'speech_ids.npy', allow_pickle= True)"
   ]
  },
  {
   "cell_type": "code",
   "execution_count": 85,
   "id": "718d8713",
   "metadata": {},
   "outputs": [
    {
     "data": {
      "text/plain": [
       "(146448,)"
      ]
     },
     "execution_count": 85,
     "metadata": {},
     "output_type": "execute_result"
    }
   ],
   "source": [
    "ids_all.shape"
   ]
  },
  {
   "cell_type": "code",
   "execution_count": 78,
   "id": "688d074d",
   "metadata": {},
   "outputs": [
    {
     "name": "stdout",
     "output_type": "stream",
     "text": [
      "(71472, 68) (71472,)\n",
      "0.33240989478397137 2201\n"
     ]
    }
   ],
   "source": [
    "# # start a new filter, include \n",
    "# device a filter\n",
    "_filter2 = (speeches_filt_2.topics_prior == 26)\n",
    "\n",
    "stance_7m = stance_7[_filter2]\n",
    "author_dummiesm = author_dummies[_filter2]\n",
    "\n",
    "topics_softm = topics_soft[_filter2]\n",
    "\n",
    "topics_hardm = topics_hard_[_filter2]\n",
    "\n",
    "print(topics_hardm.shape, stance_7m.shape)\n",
    "\n",
    "stance_binarym = (stance_7m>4)*1 # moderate as 0\n",
    "\n",
    "print(stance_binarym.mean(),(stance_7m==1).sum())\n",
    "\n",
    "speech_idsm = speech_ids[_filter2]\n",
    "sentence_vecm = sentence_vec[_filter2]"
   ]
  },
  {
   "cell_type": "code",
   "execution_count": 80,
   "id": "c87471ec",
   "metadata": {},
   "outputs": [],
   "source": [
    "np.save(r'D:\\projects\\congress\\processed\\training_vectors\\debatepol/' + 'author_dummies_guns_wmoder', author_dummiesm)\n",
    "np.save(r'D:\\projects\\congress\\processed\\training_vectors\\debatepol/' +'sentence_vectors_guns_wmoder', sentence_vecm)\n",
    "np.save(r'D:\\projects\\congress\\processed\\training_vectors\\debatepol/' + 'speech_ids_guns_wmoder.npy', speech_idsm)\n",
    "np.save(r'D:\\projects\\congress\\processed\\training_vectors\\debatepol/' + 'stance_lib_7scale_guns_wmoder', stance_7m)\n",
    "np.save(r'D:\\projects\\congress\\processed\\training_vectors\\debatepol/' + 'stance_lib_binary_guns_wmoder', stance_binarym)\n",
    "np.save(r'D:\\projects\\congress\\processed\\training_vectors\\debatepol/' + 'topics_hard_guns_wmoder', topics_hardm)\n",
    "np.save(r'D:\\projects\\congress\\processed\\training_vectors\\debatepol/' + 'topics_soft_guns_wmoder', topics_softm)"
   ]
  },
  {
   "cell_type": "code",
   "execution_count": 82,
   "id": "54ace093",
   "metadata": {},
   "outputs": [
    {
     "data": {
      "text/plain": [
       "array([    0.,     0.,     0.,     0.,     0.,     0.,     0.,     0.,\n",
       "           0.,     0.,     0.,     0.,     0.,     0.,     0.,     0.,\n",
       "           0.,     0.,     0.,     0.,     0.,     0.,     0.,     0.,\n",
       "           0.,     0., 71472.,     0.,     0.,     0.,     0.,     0.,\n",
       "           0.,     0.,     0.,     0.,     0.,     0.,     0.,     0.,\n",
       "           0.,     0.,     0.,     0.,     0.,     0.,     0.,     0.,\n",
       "           0.,     0.,     0.,     0.,     0.,     0.,     0.,     0.,\n",
       "           0.,     0.,     0.,     0.,     0.,     0.,     0.,     0.,\n",
       "           0.,     0.,     0.,     0.])"
      ]
     },
     "execution_count": 82,
     "metadata": {},
     "output_type": "execute_result"
    }
   ],
   "source": [
    "topics_hardm.sum(axis = 0)"
   ]
  },
  {
   "cell_type": "code",
   "execution_count": null,
   "id": "61cde954",
   "metadata": {},
   "outputs": [],
   "source": []
  },
  {
   "cell_type": "code",
   "execution_count": null,
   "id": "0acf41ff",
   "metadata": {},
   "outputs": [],
   "source": []
  },
  {
   "cell_type": "code",
   "execution_count": 2,
   "id": "b33b3928",
   "metadata": {},
   "outputs": [
    {
     "name": "stdout",
     "output_type": "stream",
     "text": [
      "0.4510299003322259\n"
     ]
    }
   ],
   "source": [
    "### test sampling scheme\n",
    "\n",
    "datapath = r'D:\\projects\\congress\\processed\\training_vectors\\debatepol/' \n",
    "ds_all = np.load(os.path.join(datapath, 'sentence_vectors_guns_nomoder.npy'))\n",
    "\n",
    "\n",
    "\n",
    "thetas_soft_all = np.load(os.path.join(datapath, 'topics_soft_guns_nomoder.npy'))\n",
    "\n",
    "thetas_hard_all = np.load(os.path.join(datapath, 'topics_soft_guns_nomoder.npy'))\n",
    "\n",
    "theta_categ= np.argmax(thetas_hard_all, axis = -1)\n",
    "\n",
    "\n",
    "# ds_all = np.load(os.path.join(datapath, 'cong_reports_102_114_for_training_sif.npz'))['arr_0'][bottom:]\n",
    "\n",
    "# oversample = SMOTE()\n",
    "\n",
    "parties_all = np.load(os.path.join(datapath, 'stance_lib_binary_guns_nomoder.npy'))\n",
    "stance_all = np.load(os.path.join(datapath, 'stance_lib_7scale_guns_nomoder.npy'))\n",
    "y = parties_all.copy()\n",
    "\n",
    "\n",
    "\n",
    "\n",
    "print(parties_all.mean())\n",
    "totals = len(ds_all)\n",
    "\n",
    "###########change 50 to lantent dim if latent dim is modified\n",
    "Zmus_pre = np.zeros([len(ds_all), 50])\n",
    "ds_all = np.float32(ds_all)\n",
    "thetas_all = thetas_hard_all\n",
    "\n",
    "\n",
    "# print(ds.shape)\n",
    "As_all = np.load(os.path.join(datapath, 'author_dummies_guns_nomoder.npy')) # change it to true authors when applicable\n",
    "\n",
    "\n",
    "# print(\"Author matrix shape is \", As_all.shape)\n",
    "\n",
    "T00 = np.load(os.path.join(datapath, 'debatepol_Topicvectors_withother.npy'))\n",
    "\n",
    "ids_all = np.load(os.path.join(datapath, 'speech_ids.npy'), allow_pickle= True)\n",
    "# P0 = np.load(os.path.join(FLAGS.data_dir, 'PR_axis_piror_1991_{}.npy'.format(enddate)))\n",
    "# P0 = np.roll(P0, -1, axis = 0) # orignal P0 first row corresponding to the null topic, which is the last topic,\n",
    "# P0 = np.load(r'C:\\code\\chen_proj_codes\\\\news_bias\\congressionalreport\\processed\\congress_report_topics\\trial_data\\PR_sample_piror.npy')\n",
    "# assert P0.shape ==(68, 300), 'dr axis prior shape error'\n",
    "# thetas_all = thetas0_all.copy()\n",
    "T0 = T00.copy()\n",
    "# print('loaded data')\n",
    "# split\n",
    "\n",
    "Zbar0 = np.matmul(As_all.T, Zmus_pre)/(np.sum(As_all, axis = 0)[:, np.newaxis]+0.000001)"
   ]
  },
  {
   "cell_type": "code",
   "execution_count": 3,
   "id": "6a97adae",
   "metadata": {},
   "outputs": [
    {
     "data": {
      "text/plain": [
       "(1674, 50)"
      ]
     },
     "execution_count": 3,
     "metadata": {},
     "output_type": "execute_result"
    }
   ],
   "source": [
    "Zbar0.shape\n"
   ]
  },
  {
   "cell_type": "code",
   "execution_count": null,
   "id": "1f58eebc",
   "metadata": {},
   "outputs": [],
   "source": []
  },
  {
   "cell_type": "code",
   "execution_count": 32,
   "id": "24fca723",
   "metadata": {},
   "outputs": [],
   "source": [
    "# calculate Zbar0 matrix\n",
    "biased = True\n",
    "notmask = 0.8\n",
    "mask_ = np.array([0]* len(parties_all))\n",
    "if not biased:\n",
    "    sss = StratifiedShuffleSplit(n_splits=5, test_size= 1- FLAGS.notmask)\n",
    "    train_id, test_id = next(sss.split(theta_categ, parties_all))\n",
    "    mask_[train_id] = 1\n",
    "    # print(\"non zero results\", sum(mask_))\n",
    "    \n",
    "    mask_pre = mask_.copy()\n",
    "else:\n",
    "    orderid = np.argsort(stance_all)\n",
    "    tbn = int(len(parties_all) * notmask/2)\n",
    "    train_id = np.concatenate([orderid[:tbn], orderid[-tbn:]])\n",
    "    test_id = [i for i in range(len(orderid)) if i not in train_id]\n",
    "    mask_[train_id] = 1\n",
    "    mask_pre = mask_.copy()"
   ]
  },
  {
   "cell_type": "code",
   "execution_count": 33,
   "id": "daf369d2",
   "metadata": {},
   "outputs": [],
   "source": [
    "totalsamp = len(parties_all)\n",
    "mask_ = np.array([0]* totalsamp)\n",
    "if not biased:\n",
    "    sss = StratifiedShuffleSplit(n_splits=5, test_size= 1- FLAGS.notmask)\n",
    "    train_id, test_id = next(sss.split(theta_categ, parties_all))\n",
    "    mask_[train_id] = 1\n",
    "    # print(\"non zero results\", sum(mask_))\n",
    "    mask_pre = mask_.copy()\n",
    "else:\n",
    "    p = np.array([(4- i)**4  if i <4 else (i -4)**4 for i in stance_all])\n",
    "    p = p / np.sum(p)\n",
    "\n",
    "    train_id = np.random.choice(np.arange(totalsamp), int(totalsamp * notmask), replace = False, p = p)\n",
    "\n",
    "    test_id = [i for i in range(totalsamp) if i not in train_id]\n",
    "    mask_[train_id] = 1\n",
    "    mask_pre = mask_.copy()\n"
   ]
  },
  {
   "cell_type": "code",
   "execution_count": 34,
   "id": "7489e762",
   "metadata": {},
   "outputs": [
    {
     "data": {
      "text/plain": [
       "array([8, 8, 8, ..., 8, 8, 8], dtype=int64)"
      ]
     },
     "execution_count": 34,
     "metadata": {},
     "output_type": "execute_result"
    }
   ],
   "source": [
    "p = np.array([(4- i)**3  if i <4 else (i -4)**3 for i in stance_all])\n",
    "p"
   ]
  },
  {
   "cell_type": "code",
   "execution_count": 35,
   "id": "8a424fce",
   "metadata": {},
   "outputs": [
    {
     "data": {
      "text/plain": [
       "42140"
      ]
     },
     "execution_count": 35,
     "metadata": {},
     "output_type": "execute_result"
    }
   ],
   "source": [
    "len(train_id)"
   ]
  },
  {
   "cell_type": "code",
   "execution_count": 36,
   "id": "8fa49cbb",
   "metadata": {},
   "outputs": [
    {
     "data": {
      "text/plain": [
       "52675"
      ]
     },
     "execution_count": 36,
     "metadata": {},
     "output_type": "execute_result"
    }
   ],
   "source": [
    "totalsamp"
   ]
  },
  {
   "cell_type": "code",
   "execution_count": 37,
   "id": "b21e99f8",
   "metadata": {},
   "outputs": [
    {
     "data": {
      "text/plain": [
       "array([18402, 51268, 51475, ..., 44358, 19056, 37388])"
      ]
     },
     "execution_count": 37,
     "metadata": {},
     "output_type": "execute_result"
    }
   ],
   "source": [
    "train_id"
   ]
  },
  {
   "cell_type": "code",
   "execution_count": 39,
   "id": "78d42a4c",
   "metadata": {},
   "outputs": [
    {
     "data": {
      "text/plain": [
       "0.06862838158519222"
      ]
     },
     "execution_count": 39,
     "metadata": {},
     "output_type": "execute_result"
    }
   ],
   "source": [
    "(np.abs(stance_all[train_id]-4)>2).sum()/42140"
   ]
  },
  {
   "cell_type": "code",
   "execution_count": 20,
   "id": "cb7312bf",
   "metadata": {},
   "outputs": [
    {
     "data": {
      "text/plain": [
       "2892"
      ]
     },
     "execution_count": 20,
     "metadata": {},
     "output_type": "execute_result"
    }
   ],
   "source": [
    "(p == 27).sum()"
   ]
  },
  {
   "cell_type": "code",
   "execution_count": 21,
   "id": "752a5fef",
   "metadata": {},
   "outputs": [
    {
     "data": {
      "text/plain": [
       "0.0429086766660338"
      ]
     },
     "execution_count": 21,
     "metadata": {},
     "output_type": "execute_result"
    }
   ],
   "source": [
    "226/5267"
   ]
  },
  {
   "cell_type": "code",
   "execution_count": 22,
   "id": "973be523",
   "metadata": {},
   "outputs": [
    {
     "data": {
      "text/plain": [
       "0.05490270526815377"
      ]
     },
     "execution_count": 22,
     "metadata": {},
     "output_type": "execute_result"
    }
   ],
   "source": [
    "2892/52675"
   ]
  },
  {
   "cell_type": "code",
   "execution_count": null,
   "id": "9974c30f",
   "metadata": {},
   "outputs": [],
   "source": []
  }
 ],
 "metadata": {
  "kernelspec": {
   "display_name": "py37",
   "language": "python",
   "name": "py37"
  },
  "language_info": {
   "codemirror_mode": {
    "name": "ipython",
    "version": 3
   },
   "file_extension": ".py",
   "mimetype": "text/x-python",
   "name": "python",
   "nbconvert_exporter": "python",
   "pygments_lexer": "ipython3",
   "version": "3.7.6"
  }
 },
 "nbformat": 4,
 "nbformat_minor": 5
}
