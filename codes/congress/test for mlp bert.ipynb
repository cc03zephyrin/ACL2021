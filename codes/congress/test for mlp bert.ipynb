{
 "cells": [
  {
   "cell_type": "code",
   "execution_count": 53,
   "id": "0a31e22e",
   "metadata": {},
   "outputs": [],
   "source": [
    "import pandas as pd\n",
    "import numpy as np\n",
    "import os\n",
    "from sklearn.model_selection import StratifiedShuffleSplit"
   ]
  },
  {
   "cell_type": "code",
   "execution_count": 11,
   "id": "7cf30b79",
   "metadata": {},
   "outputs": [],
   "source": [
    "datapath = r'D:/projects/congress/processed/training_vectors/'"
   ]
  },
  {
   "cell_type": "code",
   "execution_count": 30,
   "id": "9984bdb7",
   "metadata": {},
   "outputs": [],
   "source": [
    "true_switchers_ = ['A000361','B000229', 'B001264', 'D000168', 'G000280', 'H000067', 'H000390', 'L000119', 'P000066', 'T000058', 'C000077','F000257', 'G000557', \n",
    "'S000320', 'S000709','J000072']\n",
    "\n",
    "independents = ['S000033', 'B001237', 'K000383']\n",
    "\n",
    "true_switchers =independents + true_switchers_\n",
    "enddate = '2020-10-04'"
   ]
  },
  {
   "cell_type": "code",
   "execution_count": 23,
   "id": "1abf6d3c",
   "metadata": {},
   "outputs": [
    {
     "data": {
      "text/plain": [
       "(208292,)"
      ]
     },
     "execution_count": 23,
     "metadata": {},
     "output_type": "execute_result"
    }
   ],
   "source": [
    "dws = np.load(datapath + 'dws_2009_20.npy')\n",
    "dws.shape"
   ]
  },
  {
   "cell_type": "code",
   "execution_count": 66,
   "id": "4ba02463",
   "metadata": {},
   "outputs": [
    {
     "data": {
      "text/plain": [
       "(208292, 1674)"
      ]
     },
     "execution_count": 66,
     "metadata": {},
     "output_type": "execute_result"
    }
   ],
   "source": [
    "As_all = np.load(datapath+ 'author_dummy_2009_20.npy')\n",
    "As_all.shape"
   ]
  },
  {
   "cell_type": "code",
   "execution_count": 26,
   "id": "1828523d",
   "metadata": {},
   "outputs": [],
   "source": [
    "congress_df = pd.read_csv(r'D:\\projects\\congress\\processed\\processed_reports\\crs_2009_20_10_04_trancated.csv', sep ='\\t', encoding = 'ISO-8859-1', index_col = 0)"
   ]
  },
  {
   "cell_type": "code",
   "execution_count": 27,
   "id": "a6975692",
   "metadata": {},
   "outputs": [
    {
     "data": {
      "text/plain": [
       "(208292, 11)"
      ]
     },
     "execution_count": 27,
     "metadata": {},
     "output_type": "execute_result"
    }
   ],
   "source": [
    "congress_df.shape"
   ]
  },
  {
   "cell_type": "code",
   "execution_count": 69,
   "id": "9bf27ed5",
   "metadata": {},
   "outputs": [],
   "source": [
    "congress_df['dw'] = dws\n",
    "congress_df['author'] = list(As_all)"
   ]
  },
  {
   "cell_type": "code",
   "execution_count": 70,
   "id": "ea99ca44",
   "metadata": {
    "scrolled": true
   },
   "outputs": [
    {
     "data": {
      "text/html": [
       "<div>\n",
       "<style scoped>\n",
       "    .dataframe tbody tr th:only-of-type {\n",
       "        vertical-align: middle;\n",
       "    }\n",
       "\n",
       "    .dataframe tbody tr th {\n",
       "        vertical-align: top;\n",
       "    }\n",
       "\n",
       "    .dataframe thead th {\n",
       "        text-align: right;\n",
       "    }\n",
       "</style>\n",
       "<table border=\"1\" class=\"dataframe\">\n",
       "  <thead>\n",
       "    <tr style=\"text-align: right;\">\n",
       "      <th></th>\n",
       "      <th>speech_id</th>\n",
       "      <th>true_id</th>\n",
       "      <th>chamber</th>\n",
       "      <th>state</th>\n",
       "      <th>party</th>\n",
       "      <th>congress</th>\n",
       "      <th>daysafter</th>\n",
       "      <th>monthsafter</th>\n",
       "      <th>speech</th>\n",
       "      <th>date</th>\n",
       "      <th>topics_prior</th>\n",
       "      <th>dw</th>\n",
       "      <th>author</th>\n",
       "    </tr>\n",
       "  </thead>\n",
       "  <tbody>\n",
       "    <tr>\n",
       "      <th>594060</th>\n",
       "      <td>1110000007</td>\n",
       "      <td>L000557</td>\n",
       "      <td>H</td>\n",
       "      <td>CT</td>\n",
       "      <td>D</td>\n",
       "      <td>111</td>\n",
       "      <td>6578</td>\n",
       "      <td>216</td>\n",
       "      <td>our democracy renews itself every 2 years as m...</td>\n",
       "      <td>20090106</td>\n",
       "      <td>22</td>\n",
       "      <td>-0.398</td>\n",
       "      <td>[0, 0, 0, 0, 0, 0, 0, 0, 0, 0, 0, 0, 0, 0, 0, ...</td>\n",
       "    </tr>\n",
       "    <tr>\n",
       "      <th>594061</th>\n",
       "      <td>1110000009</td>\n",
       "      <td>P000587</td>\n",
       "      <td>H</td>\n",
       "      <td>IN</td>\n",
       "      <td>R</td>\n",
       "      <td>111</td>\n",
       "      <td>6578</td>\n",
       "      <td>216</td>\n",
       "      <td>madam clerk. as chairman of the republican con...</td>\n",
       "      <td>20090106</td>\n",
       "      <td>22</td>\n",
       "      <td>0.655</td>\n",
       "      <td>[0, 0, 0, 0, 0, 0, 0, 0, 0, 0, 0, 0, 0, 0, 0, ...</td>\n",
       "    </tr>\n",
       "    <tr>\n",
       "      <th>594062</th>\n",
       "      <td>1110000013</td>\n",
       "      <td>B000589</td>\n",
       "      <td>H</td>\n",
       "      <td>OH</td>\n",
       "      <td>R</td>\n",
       "      <td>111</td>\n",
       "      <td>6578</td>\n",
       "      <td>216</td>\n",
       "      <td>. leader hoyer. fellow members. and a special ...</td>\n",
       "      <td>20090106</td>\n",
       "      <td>18</td>\n",
       "      <td>0.513</td>\n",
       "      <td>[0, 0, 0, 0, 0, 0, 0, 0, 0, 0, 0, 0, 0, 0, 0, ...</td>\n",
       "    </tr>\n",
       "    <tr>\n",
       "      <th>594063</th>\n",
       "      <td>1110000014</td>\n",
       "      <td>P000197</td>\n",
       "      <td>H</td>\n",
       "      <td>CA</td>\n",
       "      <td>D</td>\n",
       "      <td>111</td>\n",
       "      <td>6578</td>\n",
       "      <td>216</td>\n",
       "      <td>thank you very much. leader boehner. together....</td>\n",
       "      <td>20090106</td>\n",
       "      <td>22</td>\n",
       "      <td>-0.490</td>\n",
       "      <td>[0, 0, 0, 0, 0, 0, 0, 0, 0, 0, 0, 0, 0, 0, 0, ...</td>\n",
       "    </tr>\n",
       "    <tr>\n",
       "      <th>594064</th>\n",
       "      <td>1110000016</td>\n",
       "      <td>L000557</td>\n",
       "      <td>H</td>\n",
       "      <td>CT</td>\n",
       "      <td>D</td>\n",
       "      <td>111</td>\n",
       "      <td>6578</td>\n",
       "      <td>216</td>\n",
       "      <td>for\"your nomination this morning. thank you to...</td>\n",
       "      <td>20090106</td>\n",
       "      <td>-1</td>\n",
       "      <td>-0.398</td>\n",
       "      <td>[0, 0, 0, 0, 0, 0, 0, 0, 0, 0, 0, 0, 0, 0, 0, ...</td>\n",
       "    </tr>\n",
       "  </tbody>\n",
       "</table>\n",
       "</div>"
      ],
      "text/plain": [
       "         speech_id  true_id chamber state party  congress  daysafter  \\\n",
       "594060  1110000007  L000557       H    CT     D       111       6578   \n",
       "594061  1110000009  P000587       H    IN     R       111       6578   \n",
       "594062  1110000013  B000589       H    OH     R       111       6578   \n",
       "594063  1110000014  P000197       H    CA     D       111       6578   \n",
       "594064  1110000016  L000557       H    CT     D       111       6578   \n",
       "\n",
       "        monthsafter                                             speech  \\\n",
       "594060          216  our democracy renews itself every 2 years as m...   \n",
       "594061          216  madam clerk. as chairman of the republican con...   \n",
       "594062          216  . leader hoyer. fellow members. and a special ...   \n",
       "594063          216  thank you very much. leader boehner. together....   \n",
       "594064          216  for\"your nomination this morning. thank you to...   \n",
       "\n",
       "            date  topics_prior     dw  \\\n",
       "594060  20090106            22 -0.398   \n",
       "594061  20090106            22  0.655   \n",
       "594062  20090106            18  0.513   \n",
       "594063  20090106            22 -0.490   \n",
       "594064  20090106            -1 -0.398   \n",
       "\n",
       "                                                   author  \n",
       "594060  [0, 0, 0, 0, 0, 0, 0, 0, 0, 0, 0, 0, 0, 0, 0, ...  \n",
       "594061  [0, 0, 0, 0, 0, 0, 0, 0, 0, 0, 0, 0, 0, 0, 0, ...  \n",
       "594062  [0, 0, 0, 0, 0, 0, 0, 0, 0, 0, 0, 0, 0, 0, 0, ...  \n",
       "594063  [0, 0, 0, 0, 0, 0, 0, 0, 0, 0, 0, 0, 0, 0, 0, ...  \n",
       "594064  [0, 0, 0, 0, 0, 0, 0, 0, 0, 0, 0, 0, 0, 0, 0, ...  "
      ]
     },
     "execution_count": 70,
     "metadata": {},
     "output_type": "execute_result"
    }
   ],
   "source": [
    "congress_df.head()"
   ]
  },
  {
   "cell_type": "code",
   "execution_count": 71,
   "id": "9b81eaa5",
   "metadata": {},
   "outputs": [
    {
     "name": "stderr",
     "output_type": "stream",
     "text": [
      "D:\\anaconda\\envs\\py37\\lib\\site-packages\\ipykernel_launcher.py:3: SettingWithCopyWarning: \n",
      "A value is trying to be set on a copy of a slice from a DataFrame.\n",
      "Try using .loc[row_indexer,col_indexer] = value instead\n",
      "\n",
      "See the caveats in the documentation: https://pandas.pydata.org/pandas-docs/stable/user_guide/indexing.html#returning-a-view-versus-a-copy\n",
      "  This is separate from the ipykernel package so we can avoid doing imports until\n"
     ]
    }
   ],
   "source": [
    "# filter out all switchers\n",
    "congress_flt_ = congress_df.loc[~congress_df['true_id'].isin(true_switchers)]\n",
    "congress_flt_['is_Dem'] = (congress_flt_['party'] == 'D')*1"
   ]
  },
  {
   "cell_type": "code",
   "execution_count": 72,
   "id": "475fd835",
   "metadata": {},
   "outputs": [],
   "source": [
    "congress_flt = congress_flt_.sort_values(by = ['dw'], ascending = True, ignore_index = True)"
   ]
  },
  {
   "cell_type": "code",
   "execution_count": 73,
   "id": "061289e4",
   "metadata": {},
   "outputs": [],
   "source": [
    "ds_ns = np.load(r'D:\\projects\\congress\\processed\\training_vectors\\all_berts_vec_noswitcher.npy')"
   ]
  },
  {
   "cell_type": "code",
   "execution_count": 74,
   "id": "d4de79c3",
   "metadata": {},
   "outputs": [
    {
     "data": {
      "text/plain": [
       "(206899, 768)"
      ]
     },
     "execution_count": 74,
     "metadata": {},
     "output_type": "execute_result"
    }
   ],
   "source": [
    "ds_ns.shape"
   ]
  },
  {
   "cell_type": "code",
   "execution_count": null,
   "id": "6b5dfe80",
   "metadata": {},
   "outputs": [],
   "source": []
  },
  {
   "cell_type": "code",
   "execution_count": 38,
   "id": "2e924aca",
   "metadata": {},
   "outputs": [
    {
     "data": {
      "text/html": [
       "<div>\n",
       "<style scoped>\n",
       "    .dataframe tbody tr th:only-of-type {\n",
       "        vertical-align: middle;\n",
       "    }\n",
       "\n",
       "    .dataframe tbody tr th {\n",
       "        vertical-align: top;\n",
       "    }\n",
       "\n",
       "    .dataframe thead th {\n",
       "        text-align: right;\n",
       "    }\n",
       "</style>\n",
       "<table border=\"1\" class=\"dataframe\">\n",
       "  <thead>\n",
       "    <tr style=\"text-align: right;\">\n",
       "      <th></th>\n",
       "      <th>speech_id</th>\n",
       "      <th>true_id</th>\n",
       "      <th>chamber</th>\n",
       "      <th>state</th>\n",
       "      <th>party</th>\n",
       "      <th>congress</th>\n",
       "      <th>daysafter</th>\n",
       "      <th>monthsafter</th>\n",
       "      <th>speech</th>\n",
       "      <th>date</th>\n",
       "      <th>topics_prior</th>\n",
       "      <th>dw</th>\n",
       "      <th>is_Dem</th>\n",
       "    </tr>\n",
       "  </thead>\n",
       "  <tbody>\n",
       "    <tr>\n",
       "      <th>0</th>\n",
       "      <td>1130067801</td>\n",
       "      <td>W000817</td>\n",
       "      <td>S</td>\n",
       "      <td>MA</td>\n",
       "      <td>D</td>\n",
       "      <td>113</td>\n",
       "      <td>8405</td>\n",
       "      <td>276</td>\n",
       "      <td>i am here today with some good news. this week...</td>\n",
       "      <td>20140107</td>\n",
       "      <td>23</td>\n",
       "      <td>-0.769</td>\n",
       "      <td>1</td>\n",
       "    </tr>\n",
       "    <tr>\n",
       "      <th>1</th>\n",
       "      <td>1130082890</td>\n",
       "      <td>W000817</td>\n",
       "      <td>S</td>\n",
       "      <td>MA</td>\n",
       "      <td>D</td>\n",
       "      <td>113</td>\n",
       "      <td>8484</td>\n",
       "      <td>278</td>\n",
       "      <td>. this is a difficult day for the city of bost...</td>\n",
       "      <td>20140327</td>\n",
       "      <td>45</td>\n",
       "      <td>-0.769</td>\n",
       "      <td>1</td>\n",
       "    </tr>\n",
       "    <tr>\n",
       "      <th>2</th>\n",
       "      <td>1140095053</td>\n",
       "      <td>W000817</td>\n",
       "      <td>S</td>\n",
       "      <td>MA</td>\n",
       "      <td>D</td>\n",
       "      <td>114</td>\n",
       "      <td>9272</td>\n",
       "      <td>304</td>\n",
       "      <td>. 8 years ago reckless bankers on wall street ...</td>\n",
       "      <td>20160523</td>\n",
       "      <td>64</td>\n",
       "      <td>-0.769</td>\n",
       "      <td>1</td>\n",
       "    </tr>\n",
       "    <tr>\n",
       "      <th>3</th>\n",
       "      <td>1130074735</td>\n",
       "      <td>W000817</td>\n",
       "      <td>S</td>\n",
       "      <td>MA</td>\n",
       "      <td>D</td>\n",
       "      <td>113</td>\n",
       "      <td>8441</td>\n",
       "      <td>277</td>\n",
       "      <td>. i thank senators durbin and reed for their e...</td>\n",
       "      <td>20140212</td>\n",
       "      <td>18</td>\n",
       "      <td>-0.769</td>\n",
       "      <td>1</td>\n",
       "    </tr>\n",
       "    <tr>\n",
       "      <th>4</th>\n",
       "      <td>1130074743</td>\n",
       "      <td>W000817</td>\n",
       "      <td>S</td>\n",
       "      <td>MA</td>\n",
       "      <td>D</td>\n",
       "      <td>113</td>\n",
       "      <td>8441</td>\n",
       "      <td>277</td>\n",
       "      <td>. i would like to speak for another minute abo...</td>\n",
       "      <td>20140212</td>\n",
       "      <td>64</td>\n",
       "      <td>-0.769</td>\n",
       "      <td>1</td>\n",
       "    </tr>\n",
       "  </tbody>\n",
       "</table>\n",
       "</div>"
      ],
      "text/plain": [
       "    speech_id  true_id chamber state party  congress  daysafter  monthsafter  \\\n",
       "0  1130067801  W000817       S    MA     D       113       8405          276   \n",
       "1  1130082890  W000817       S    MA     D       113       8484          278   \n",
       "2  1140095053  W000817       S    MA     D       114       9272          304   \n",
       "3  1130074735  W000817       S    MA     D       113       8441          277   \n",
       "4  1130074743  W000817       S    MA     D       113       8441          277   \n",
       "\n",
       "                                              speech      date  topics_prior  \\\n",
       "0  i am here today with some good news. this week...  20140107            23   \n",
       "1  . this is a difficult day for the city of bost...  20140327            45   \n",
       "2  . 8 years ago reckless bankers on wall street ...  20160523            64   \n",
       "3  . i thank senators durbin and reed for their e...  20140212            18   \n",
       "4  . i would like to speak for another minute abo...  20140212            64   \n",
       "\n",
       "      dw  is_Dem  \n",
       "0 -0.769       1  \n",
       "1 -0.769       1  \n",
       "2 -0.769       1  \n",
       "3 -0.769       1  \n",
       "4 -0.769       1  "
      ]
     },
     "execution_count": 38,
     "metadata": {},
     "output_type": "execute_result"
    }
   ],
   "source": [
    "congress_flt.head()"
   ]
  },
  {
   "cell_type": "code",
   "execution_count": 39,
   "id": "0c485039",
   "metadata": {},
   "outputs": [],
   "source": [
    "ids_ns = congress_flt['speech_id'].values"
   ]
  },
  {
   "cell_type": "code",
   "execution_count": 44,
   "id": "c856a0ab",
   "metadata": {},
   "outputs": [],
   "source": [
    "parties_ns = congress_flt['is_Dem'].values\n",
    "thetas_ns = congress_flt['topics_prior'].values"
   ]
  },
  {
   "cell_type": "code",
   "execution_count": 80,
   "id": "da1ffdb3",
   "metadata": {},
   "outputs": [
    {
     "data": {
      "text/plain": [
       "(206899, 1674)"
      ]
     },
     "execution_count": 80,
     "metadata": {},
     "output_type": "execute_result"
    }
   ],
   "source": [
    "As_ns = np.array(congress_flt['author'].values.tolist())\n",
    "As_ns.shape"
   ]
  },
  {
   "cell_type": "code",
   "execution_count": 78,
   "id": "3bdfe0ec",
   "metadata": {},
   "outputs": [],
   "source": [
    "biased = True\n",
    "notmask = 0.8"
   ]
  },
  {
   "cell_type": "code",
   "execution_count": 81,
   "id": "32c0cc47",
   "metadata": {},
   "outputs": [
    {
     "name": "stdout",
     "output_type": "stream",
     "text": [
      "start biased sampling\n",
      "165518 41381\n"
     ]
    }
   ],
   "source": [
    "if not biased:\n",
    "    sss = StratifiedShuffleSplit(n_splits=5, test_size= 1- notmask)\n",
    "    train_id, test_id= next(sss.split(thetas_ns, parties_ns))\n",
    "else:\n",
    "    print('start biased sampling')\n",
    "    orderid = np.arange(len(parties_ns))\n",
    "    tbn = int(len(parties_ns) * notmask/2)\n",
    "    train_id = np.concatenate([orderid[:tbn], orderid[-tbn:]])\n",
    "    test_id = orderid[tbn:-tbn]\n",
    "    np.random.shuffle(train_id)\n",
    "    np.random.shuffle(test_id)\n",
    "    print(len(train_id), len(test_id))\n",
    "\n",
    "\n",
    "ids, ids_val = ids_ns[train_id], ids_ns[test_id]\n",
    "ds, ds_val = ds_ns[train_id], ds_ns[test_id]\n",
    "# As, As_val = As_ns[train_id], As_ns[test_id]\n",
    "# thetas0, thetas_val = thetas_ns[train_id], thetas_ns[test_id]\n",
    "parties, parties_val = parties_ns[train_id], parties_ns[test_id]\n",
    "As, As_val = As_ns[train_id], As_ns[test_id]\n"
   ]
  },
  {
   "cell_type": "code",
   "execution_count": 82,
   "id": "e53202f9",
   "metadata": {},
   "outputs": [
    {
     "data": {
      "text/plain": [
       "(array([142929,  74266,  21260, ..., 184711, 133379,  54700]),\n",
       " array([ 88536, 111616, 101801, ..., 101653,  89281,  99726]))"
      ]
     },
     "execution_count": 82,
     "metadata": {},
     "output_type": "execute_result"
    }
   ],
   "source": [
    "train_id, test_id"
   ]
  },
  {
   "cell_type": "code",
   "execution_count": 83,
   "id": "d742e2ef",
   "metadata": {},
   "outputs": [
    {
     "data": {
      "text/plain": [
       "(165518, 1674)"
      ]
     },
     "execution_count": 83,
     "metadata": {},
     "output_type": "execute_result"
    }
   ],
   "source": [
    "As.shape"
   ]
  },
  {
   "cell_type": "code",
   "execution_count": null,
   "id": "3d82590c",
   "metadata": {},
   "outputs": [],
   "source": []
  }
 ],
 "metadata": {
  "kernelspec": {
   "display_name": "Python 3",
   "language": "python",
   "name": "python3"
  },
  "language_info": {
   "codemirror_mode": {
    "name": "ipython",
    "version": 3
   },
   "file_extension": ".py",
   "mimetype": "text/x-python",
   "name": "python",
   "nbconvert_exporter": "python",
   "pygments_lexer": "ipython3",
   "version": "3.7.6"
  }
 },
 "nbformat": 4,
 "nbformat_minor": 5
}
