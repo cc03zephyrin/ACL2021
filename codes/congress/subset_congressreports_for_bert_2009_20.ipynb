{
 "cells": [
  {
   "cell_type": "code",
   "execution_count": 1,
   "id": "00dd6e38",
   "metadata": {},
   "outputs": [],
   "source": [
    "import itertools\n",
    "import matplotlib as mpl\n",
    "import numpy as np\n",
    "import os\n",
    "import re\n",
    "\n",
    "import pandas as pd"
   ]
  },
  {
   "cell_type": "code",
   "execution_count": 3,
   "id": "05c016a3",
   "metadata": {},
   "outputs": [],
   "source": [
    "datapath = r'D:/projects/congress/processed/training_vectors/'\n",
    "\n",
    "\n",
    "# In[3]:\n",
    "\n",
    "\n",
    "# load data\n",
    "df = pd.read_csv(r'D:\\projects\\congress\\processed\\processed_reports/crs_1991_2020-10-04_sorted_filtered.csv', sep = '\\t', encoding= 'ISO-8859-1', index_col =0)\n",
    "\n"
   ]
  },
  {
   "cell_type": "code",
   "execution_count": 4,
   "id": "d2d5cf43",
   "metadata": {},
   "outputs": [
    {
     "data": {
      "text/html": [
       "<div>\n",
       "<style scoped>\n",
       "    .dataframe tbody tr th:only-of-type {\n",
       "        vertical-align: middle;\n",
       "    }\n",
       "\n",
       "    .dataframe tbody tr th {\n",
       "        vertical-align: top;\n",
       "    }\n",
       "\n",
       "    .dataframe thead th {\n",
       "        text-align: right;\n",
       "    }\n",
       "</style>\n",
       "<table border=\"1\" class=\"dataframe\">\n",
       "  <thead>\n",
       "    <tr style=\"text-align: right;\">\n",
       "      <th></th>\n",
       "      <th>speech_id</th>\n",
       "      <th>true_id</th>\n",
       "      <th>chamber</th>\n",
       "      <th>state</th>\n",
       "      <th>party</th>\n",
       "      <th>congress</th>\n",
       "      <th>daysafter</th>\n",
       "      <th>monthsafter</th>\n",
       "      <th>speech</th>\n",
       "      <th>date</th>\n",
       "      <th>topics_prior</th>\n",
       "    </tr>\n",
       "  </thead>\n",
       "  <tbody>\n",
       "    <tr>\n",
       "      <th>0</th>\n",
       "      <td>1020000029</td>\n",
       "      <td>M000811</td>\n",
       "      <td>S</td>\n",
       "      <td>ME</td>\n",
       "      <td>D</td>\n",
       "      <td>102</td>\n",
       "      <td>0</td>\n",
       "      <td>0</td>\n",
       "      <td>mr. presdient. i will momentarily suggest the ...</td>\n",
       "      <td>19910103</td>\n",
       "      <td>22</td>\n",
       "    </tr>\n",
       "    <tr>\n",
       "      <th>1</th>\n",
       "      <td>1020000077</td>\n",
       "      <td>M000811</td>\n",
       "      <td>S</td>\n",
       "      <td>ME</td>\n",
       "      <td>D</td>\n",
       "      <td>102</td>\n",
       "      <td>0</td>\n",
       "      <td>0</td>\n",
       "      <td>. i send -to the desk en bloc 12 unanimouscons...</td>\n",
       "      <td>19910103</td>\n",
       "      <td>22</td>\n",
       "    </tr>\n",
       "    <tr>\n",
       "      <th>2</th>\n",
       "      <td>1020000084</td>\n",
       "      <td>M000811</td>\n",
       "      <td>S</td>\n",
       "      <td>ME</td>\n",
       "      <td>D</td>\n",
       "      <td>102</td>\n",
       "      <td>0</td>\n",
       "      <td>0</td>\n",
       "      <td>. the 12th of the series of requests does so p...</td>\n",
       "      <td>19910103</td>\n",
       "      <td>22</td>\n",
       "    </tr>\n",
       "    <tr>\n",
       "      <th>3</th>\n",
       "      <td>1020000088</td>\n",
       "      <td>M000811</td>\n",
       "      <td>S</td>\n",
       "      <td>ME</td>\n",
       "      <td>D</td>\n",
       "      <td>102</td>\n",
       "      <td>0</td>\n",
       "      <td>0</td>\n",
       "      <td>the next item of business is a schedule of sen...</td>\n",
       "      <td>19910103</td>\n",
       "      <td>22</td>\n",
       "    </tr>\n",
       "    <tr>\n",
       "      <th>4</th>\n",
       "      <td>1020000105</td>\n",
       "      <td>H000206</td>\n",
       "      <td>S</td>\n",
       "      <td>IA</td>\n",
       "      <td>D</td>\n",
       "      <td>102</td>\n",
       "      <td>0</td>\n",
       "      <td>0</td>\n",
       "      <td>. i have a resolution. along with senator adam...</td>\n",
       "      <td>19910103</td>\n",
       "      <td>22</td>\n",
       "    </tr>\n",
       "  </tbody>\n",
       "</table>\n",
       "</div>"
      ],
      "text/plain": [
       "    speech_id  true_id chamber state party  congress  daysafter  monthsafter  \\\n",
       "0  1020000029  M000811       S    ME     D       102          0            0   \n",
       "1  1020000077  M000811       S    ME     D       102          0            0   \n",
       "2  1020000084  M000811       S    ME     D       102          0            0   \n",
       "3  1020000088  M000811       S    ME     D       102          0            0   \n",
       "4  1020000105  H000206       S    IA     D       102          0            0   \n",
       "\n",
       "                                              speech      date  topics_prior  \n",
       "0  mr. presdient. i will momentarily suggest the ...  19910103            22  \n",
       "1  . i send -to the desk en bloc 12 unanimouscons...  19910103            22  \n",
       "2  . the 12th of the series of requests does so p...  19910103            22  \n",
       "3  the next item of business is a schedule of sen...  19910103            22  \n",
       "4  . i have a resolution. along with senator adam...  19910103            22  "
      ]
     },
     "execution_count": 4,
     "metadata": {},
     "output_type": "execute_result"
    }
   ],
   "source": [
    "df.head()"
   ]
  },
  {
   "cell_type": "code",
   "execution_count": 5,
   "id": "63f7a6f4",
   "metadata": {},
   "outputs": [],
   "source": [
    "enddate = '2020-10-04'\n",
    "# bottom= FLAGS.bottom\n",
    "\n",
    "date = np.load(os.path.join(datapath, 'sorted_date_1991_{}.npy'.format(enddate)))\n",
    "\n",
    "inx = date>20090000"
   ]
  },
  {
   "cell_type": "code",
   "execution_count": 6,
   "id": "da8891f5",
   "metadata": {},
   "outputs": [],
   "source": [
    "svs_all = np.load(os.path.join(datapath, 'cr_sentencevectors_1991_2020-10-04.npy'))[inx]\n",
    "As_all = np.load(os.path.join(datapath, 'cr_author_dummy_1991_{}.npy'.format(enddate)))[inx]\n",
    "\n",
    "parties_all = np.load(os.path.join(datapath, 'cr_parties_1991_{}.npy'.format(enddate)))[inx]\n",
    "\n",
    "As_ids = np.load(os.path.join(datapath, 'cr_author_id_1991_{}.npy'.format(enddate)),allow_pickle=True)\n",
    "\n",
    "dws_all = np.float32(np.load(os.path.join(datapath, 'cr_authordw_bydoc_1991_{}.npy'.format(enddate))))[inx][:, 0]\n",
    "\n"
   ]
  },
  {
   "cell_type": "code",
   "execution_count": 7,
   "id": "c660e25b",
   "metadata": {},
   "outputs": [
    {
     "data": {
      "text/plain": [
       "(208292, 1674)"
      ]
     },
     "execution_count": 7,
     "metadata": {},
     "output_type": "execute_result"
    }
   ],
   "source": [
    "As_all.shape"
   ]
  },
  {
   "cell_type": "code",
   "execution_count": 8,
   "id": "6c331e52",
   "metadata": {},
   "outputs": [
    {
     "data": {
      "text/plain": [
       "array([False, False, False, ...,  True,  True,  True])"
      ]
     },
     "execution_count": 8,
     "metadata": {},
     "output_type": "execute_result"
    }
   ],
   "source": [
    "inx"
   ]
  },
  {
   "cell_type": "code",
   "execution_count": 9,
   "id": "2bce8dbd",
   "metadata": {},
   "outputs": [],
   "source": [
    "df_new = df.loc[inx]"
   ]
  },
  {
   "cell_type": "code",
   "execution_count": 10,
   "id": "9156c207",
   "metadata": {},
   "outputs": [
    {
     "data": {
      "text/plain": [
       "((208292, 11), (208292,))"
      ]
     },
     "execution_count": 10,
     "metadata": {},
     "output_type": "execute_result"
    }
   ],
   "source": [
    "df_new.shape, dws_all.shape"
   ]
  },
  {
   "cell_type": "code",
   "execution_count": null,
   "id": "44ffb74f",
   "metadata": {},
   "outputs": [],
   "source": [
    "As_all.t"
   ]
  },
  {
   "cell_type": "code",
   "execution_count": null,
   "id": "8ec6b249",
   "metadata": {},
   "outputs": [],
   "source": [
    "df_new.to_csv(r'D:\\projects\\congress\\processed\\processed_reports/crs_2009_20_10_04_trancated.csv', sep ='\\t', encoding = 'ISO-8859-1', index_label = False)"
   ]
  },
  {
   "cell_type": "code",
   "execution_count": null,
   "id": "f3c4aa04",
   "metadata": {},
   "outputs": [],
   "source": [
    "dws_all"
   ]
  },
  {
   "cell_type": "code",
   "execution_count": null,
   "id": "1fcedd1a",
   "metadata": {},
   "outputs": [],
   "source": [
    "datapath"
   ]
  },
  {
   "cell_type": "code",
   "execution_count": null,
   "id": "c840cec3",
   "metadata": {},
   "outputs": [],
   "source": [
    "np.save(datapath + 'dws_2009_20', dws_all)"
   ]
  },
  {
   "cell_type": "code",
   "execution_count": 5,
   "id": "6257f78b",
   "metadata": {},
   "outputs": [],
   "source": [
    "np.save(datapath + 'sentence_vec_2009_20', svs_all)"
   ]
  },
  {
   "cell_type": "code",
   "execution_count": 11,
   "id": "05f6d956",
   "metadata": {},
   "outputs": [],
   "source": [
    "np.save(datapath + 'author_dummy_2009_20', As_all)"
   ]
  },
  {
   "cell_type": "code",
   "execution_count": 12,
   "id": "ecc98f41",
   "metadata": {},
   "outputs": [
    {
     "data": {
      "text/plain": [
       "(208292, 1674)"
      ]
     },
     "execution_count": 12,
     "metadata": {},
     "output_type": "execute_result"
    }
   ],
   "source": [
    "As_all.shape"
   ]
  },
  {
   "cell_type": "code",
   "execution_count": 17,
   "id": "63f2d94c",
   "metadata": {},
   "outputs": [
    {
     "name": "stderr",
     "output_type": "stream",
     "text": [
      "D:\\anaconda\\envs\\py37\\lib\\site-packages\\ipykernel_launcher.py:1: SettingWithCopyWarning: \n",
      "A value is trying to be set on a copy of a slice from a DataFrame.\n",
      "Try using .loc[row_indexer,col_indexer] = value instead\n",
      "\n",
      "See the caveats in the documentation: https://pandas.pydata.org/pandas-docs/stable/user_guide/indexing.html#returning-a-view-versus-a-copy\n",
      "  \"\"\"Entry point for launching an IPython kernel.\n"
     ]
    }
   ],
   "source": [
    "df_new['author'] = list(As_all)"
   ]
  },
  {
   "cell_type": "code",
   "execution_count": 18,
   "id": "b0be2557",
   "metadata": {},
   "outputs": [
    {
     "data": {
      "text/plain": [
       "1674"
      ]
     },
     "execution_count": 18,
     "metadata": {},
     "output_type": "execute_result"
    }
   ],
   "source": [
    "len(df_new['author'].iloc[0])"
   ]
  },
  {
   "cell_type": "code",
   "execution_count": 21,
   "id": "29c6ccf1",
   "metadata": {},
   "outputs": [
    {
     "data": {
      "text/plain": [
       "(1674,)"
      ]
     },
     "execution_count": 21,
     "metadata": {},
     "output_type": "execute_result"
    }
   ],
   "source": [
    "df_new['author'].iloc[0].shape"
   ]
  },
  {
   "cell_type": "code",
   "execution_count": null,
   "id": "847a4cec",
   "metadata": {},
   "outputs": [],
   "source": []
  }
 ],
 "metadata": {
  "kernelspec": {
   "display_name": "Python 3",
   "language": "python",
   "name": "python3"
  },
  "language_info": {
   "codemirror_mode": {
    "name": "ipython",
    "version": 3
   },
   "file_extension": ".py",
   "mimetype": "text/x-python",
   "name": "python",
   "nbconvert_exporter": "python",
   "pygments_lexer": "ipython3",
   "version": "3.7.6"
  }
 },
 "nbformat": 4,
 "nbformat_minor": 5
}
