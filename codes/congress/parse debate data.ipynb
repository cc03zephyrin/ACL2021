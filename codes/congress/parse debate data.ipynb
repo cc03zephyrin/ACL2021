{
 "cells": [
  {
   "cell_type": "code",
   "execution_count": 1,
   "metadata": {},
   "outputs": [
    {
     "name": "stderr",
     "output_type": "stream",
     "text": [
      "/home/cczephyrin/anaconda3/envs/py37/lib/python3.8/site-packages/gensim/similarities/__init__.py:15: UserWarning: The gensim.similarities.levenshtein submodule is disabled, because the optional Levenshtein package <https://pypi.org/project/python-Levenshtein/> is unavailable. Install Levenhstein (e.g. `pip install python-Levenshtein`) to suppress this warning.\n",
      "  warnings.warn(msg)\n"
     ]
    }
   ],
   "source": [
    "## this is used to parse two dataset:\n",
    "#\n",
    "\n",
    "import numpy as np\n",
    "import pandas as pd\n",
    "import csv\n",
    "import json\n",
    "import os\n",
    "import ast\n",
    "from gensim.models.keyedvectors import KeyedVectors\n",
    "# from sklearn.cluster import KMeans\n",
    "# # import scipy.cluster.hierarchy as sch\n",
    "# from sklearn.cluster import AgglomerativeClustering\n",
    "from gensim.models import Word2Vec\n",
    "from scipy.special import comb\n",
    "import os\n",
    "\n",
    "from gensim.parsing.preprocessing import preprocess_string\n",
    "from gensim.parsing.preprocessing import strip_tags, strip_punctuation, strip_multiple_whitespaces, remove_stopwords\n",
    "import re\n",
    "\n"
   ]
  },
  {
   "cell_type": "code",
   "execution_count": 2,
   "metadata": {},
   "outputs": [],
   "source": [
    "id_topics_dic = {0: 'ip', 1: 'it', 2: 'abortion', 3: 'academic', 4: 'agriculture', 5: 'business', 6: 'children', 7: 'china', 8: 'commerce', 9: 'crime', \n",
    "10: 'culture', 11: 'homelandsecurity', 12: 'detainee', 13: 'disadvantaged', 14: 'disaster', 15: 'discrimination', 16: 'disease', \n",
    "17: 'addictives', 18: 'economy', 19: 'education', 20: 'environment', 21: 'family', 22: 'federal', 23: 'finance', 24: 'fiscal', \n",
    "25: 'food', 26: 'guns', 27: 'health', 28: 'healthcare', 29: 'hightech', 30: 'housing', 31: 'immigration', 32: 'industry', 33: 'cyber',\n",
    "34: 'infrastructure', 35: 'international', 36: 'iransyrialibya', 37: 'iraq', 38: 'israel', 39: 'jury', 40: 'lgbtq', 41: 'media',\n",
    "42: 'militarycomplex', 43: 'natives', 44: 'nuclear', 45: 'police', 46: 'politicalact', 47: 'postal', 48: 'randd', 49: 'religion',\n",
    "50: 'renewable', 51: 'reserves', 52: 'russia', 53: 'safety', 54: 'sport', 55: 'tax', 56: 'terrorism', 57: 'trade',\n",
    "58: 'traditionalenergy', 59: 'transportation', 60: 'veteran', 61: 'vietnam', 62: 'vote', 63: 'waste', 64: 'welfare', \n",
    "65: 'woman', 66: 'workforce', 67:'other'}"
   ]
  },
  {
   "cell_type": "code",
   "execution_count": 3,
   "metadata": {},
   "outputs": [],
   "source": [
    "topics_id_dic = {v:k for k, v in id_topics_dic.items()}"
   ]
  },
  {
   "cell_type": "code",
   "execution_count": 4,
   "metadata": {},
   "outputs": [],
   "source": [
    "datapath = r'/home/cczephyrin/projects/political embedding/data/'\n",
    "\n",
    "\n"
   ]
  },
  {
   "cell_type": "code",
   "execution_count": 5,
   "metadata": {},
   "outputs": [],
   "source": [
    "\n",
    "kvs = KeyedVectors.load(r'/home/cczephyrin/projects/political embedding/embedding/' + 'kv_from_trump_to_somasdebate.kv', mmap='r')\n",
    "\n",
    "\n",
    "# In[4]:"
   ]
  },
  {
   "cell_type": "code",
   "execution_count": 8,
   "metadata": {},
   "outputs": [],
   "source": [
    "\n",
    "fpath = r'/home/cczephyrin/projects/political embedding/processed/topics/'+'topic_seeds_fordebate.csv'\n",
    "\n",
    "with open(fpath, 'r') as f:\n",
    "    lines = f.readlines()\n",
    "topics_seeds={}\n",
    "for line in lines:\n",
    "    l=line.strip('\\n').split(',')\n",
    "    l=[el.lower() for el in l if el not in ['','\\n']]\n",
    "    topics_seeds[l[0]]=list(set(l[1:]))\n",
    "# t='finance'\n",
    "# for el in w2v.wv.most_similar(positive=topics[t],topn=100):\n",
    "#     print('{}   {}'.format(el[0],el[1]))\n",
    "\n",
    "\n",
    "\n",
    "\n"
   ]
  },
  {
   "cell_type": "code",
   "execution_count": 10,
   "metadata": {},
   "outputs": [
    {
     "name": "stdout",
     "output_type": "stream",
     "text": [
      "['payer', 'medicaid', 'care', 'tricare', 'medicare', 'insurance', 'single', 'copayment', 'healthcare', 'patient', 'affordable', 'universial']\n",
      "['criminal', 'guns', 'concealed', 'ownership', 'rifles', 'assault', 'semi', 'nra', 'armed', 'amendment', 'massacre', 'homicide', 'firearms', 'semiautomatic', 'murder', 'weapons', 'handgun', 'firearm', 'munitions', 'hunting', 'gun', 'arms', 'weapon', 'automatic', 'ban']\n",
      "['couples', 'transgender', 'homophobia', 'christians', 'marriage', 'lesbian', 'homosexual', 'bisexuality', 'marry', 'orientation', 'queer', 'sin', 'homosexualtiy', 'christian', 'bisexual', 'bible', 'gay', 'lgbt', 'lgbtq', 'christianity', 'sexuality', 'sexual', 'religion', 'gays', 'samesex']\n",
      "['prochoice', 'partial', 'baby', 'fetus', 'contraception', 'birth', 'abortions', 'life', 'fetal', 'choice', 'lateterm', 'zygote', 'pregnancy', 'thirdtrimester', 'abortion', 'womb', 'rape', 'babies', 'fetuses', 'aborting', 'partialbirth', 'prolife', 'parenthood']\n"
     ]
    }
   ],
   "source": [
    "for t in['healthcare', 'gun', 'lgbtq', 'abortion']:\n",
    "    print(topics_seeds[t])"
   ]
  },
  {
   "cell_type": "code",
   "execution_count": 40,
   "metadata": {},
   "outputs": [],
   "source": [
    "topics_expanded={}\n",
    "for topic in topics.keys():\n",
    "    words=topics_seeds[topic]\n",
    "    #words=[w.replace(' ','_') for w in words]\n",
    "    words_invocab = [w for w in words if w in kvs.key_to_index]\n",
    "    words_all = list(words_invocab)\n",
    "#     trash = [words_all.extend(w.split('_')) for w in words if kvs.vocab.get(w) is None] # trick to add split words not in vocab into a list and extend the list of all words\n",
    "    expanded = kvs.most_similar(positive=words_all,topn=80)\n",
    "    words_seed = [(i, 'seedwords')for i in words_all]\n",
    "    topics_expanded[topic]= words_seed + expanded\n",
    "    \n"
   ]
  },
  {
   "cell_type": "code",
   "execution_count": 41,
   "metadata": {},
   "outputs": [
    {
     "name": "stdout",
     "output_type": "stream",
     "text": [
      "['ip', 'it', 'abortion', 'academic', 'agriculture', 'business', 'children', 'china', 'commerce', 'crime', 'culture', 'homelandsecurity', 'detainee', 'disadvantaged', 'disaster', 'discrimination', 'disease', 'addictives', 'economy', 'education', 'environment', 'family', 'federal', 'finance', 'fiscal', 'food', 'gun', 'health', 'healthcare', 'hightech', 'housing', 'immigration', 'industry', 'cyber', 'infrastructure', 'international', 'iransyrialibya', 'iraq', 'israel', 'jury', 'lgbtq', 'media', 'militarycomplex', 'natives', 'nuclear', 'police', 'politicalact', 'postal', 'randd', 'religion', 'renewable', 'reserves', 'russia', 'safety', 'sport', 'tax', 'terrorism', 'trade', 'traditionalenergy', 'transportation', 'veteran', 'vietnam', 'vote', 'waste', 'welfare', 'woman', 'workforce']\n"
     ]
    }
   ],
   "source": [
    "\n",
    "# In[5]:\n",
    "\n",
    "\n",
    "\n",
    "\n",
    "# In[5]:\n",
    "\n",
    "\n",
    "topics_cr = []\n",
    "tpv_cr = []\n",
    "for k,v in topics_expanded.items():\n",
    "\ttopics_cr.append(k)\n",
    "\tvs = []\n",
    "\tfor w, _ in v:\n",
    "\t\tvs.append(kvs.get_vector(w))\n",
    "\ttpv_cr.append(np.mean(vs, axis = 0))\n",
    "\n",
    "tpv_cr = np.array(tpv_cr)\n",
    "print(topics_cr)\n",
    "tpv_cr.shape\n",
    "\n",
    "\n",
    "# In[30]:\n",
    "\n",
    "\n",
    "np.save(r'/home/cczephyrin/projects/political embedding/training_vec/debate_Topicvectors_noother', tpv_cr)\n",
    "\n"
   ]
  },
  {
   "cell_type": "code",
   "execution_count": null,
   "metadata": {},
   "outputs": [],
   "source": []
  },
  {
   "cell_type": "code",
   "execution_count": null,
   "metadata": {},
   "outputs": [],
   "source": []
  },
  {
   "cell_type": "code",
   "execution_count": null,
   "metadata": {},
   "outputs": [],
   "source": []
  },
  {
   "cell_type": "code",
   "execution_count": null,
   "metadata": {},
   "outputs": [],
   "source": []
  },
  {
   "cell_type": "code",
   "execution_count": 27,
   "metadata": {},
   "outputs": [
    {
     "name": "stdout",
     "output_type": "stream",
     "text": [
      "/home/cczephyrin/projects/political embedding/data/SomasundaranWiebe-politicalDebates/healthcare/\n",
      "/home/cczephyrin/projects/political embedding/data/SomasundaranWiebe-politicalDebates/guns/\n",
      "/home/cczephyrin/projects/political embedding/data/SomasundaranWiebe-politicalDebates/gayRights/\n",
      "/home/cczephyrin/projects/political embedding/data/SomasundaranWiebe-politicalDebates/abortion/\n"
     ]
    }
   ],
   "source": [
    "# ############################### parse Somas datase ######################################\n",
    "\n",
    "topics = ['healthcare', 'guns', 'gayRights', 'abortion']\n",
    "topics_ids = [28, 26, 40,  2]\n",
    "records = []\n",
    "for i, t in enumerate(topics):\n",
    "    topicpath = os.path.join(datapath, r'SomasundaranWiebe-politicalDebates/{}/'.format(t))\n",
    "    print(topicpath)\n",
    "    \n",
    "    files = os.listdir(topicpath)\n",
    "#     print(files[:5])\n",
    "    for fn in files:\n",
    "        fp = os.path.join(topicpath, fn)\n",
    "        record = []\n",
    "        with open(fp, 'r', encoding = 'ISO-8859-1') as foo:\n",
    "            for line in foo:\n",
    "\n",
    "                if line.startswith('#') and \"=\" in line:\n",
    "\n",
    "                    record.append(line[1:-1].split(\"=\"))\n",
    "                else:\n",
    "                    record.append(['body', line.strip('\\n')])\n",
    "        record.append([\"topic\", t])\n",
    "        record.append(['topic_id', topics_ids[i]])\n",
    "        record_dic = {k:v for k, v in record}\n",
    "#         print(record_dic)\n",
    "        records.append(record_dic)\n",
    "        \n",
    "#         break\n",
    "# print(records)\n"
   ]
  },
  {
   "cell_type": "code",
   "execution_count": 29,
   "metadata": {},
   "outputs": [],
   "source": [
    "somas_df = pd.DataFrame(records)"
   ]
  },
  {
   "cell_type": "code",
   "execution_count": 30,
   "metadata": {},
   "outputs": [
    {
     "data": {
      "text/html": [
       "<div>\n",
       "<style scoped>\n",
       "    .dataframe tbody tr th:only-of-type {\n",
       "        vertical-align: middle;\n",
       "    }\n",
       "\n",
       "    .dataframe tbody tr th {\n",
       "        vertical-align: top;\n",
       "    }\n",
       "\n",
       "    .dataframe thead th {\n",
       "        text-align: right;\n",
       "    }\n",
       "</style>\n",
       "<table border=\"1\" class=\"dataframe\">\n",
       "  <thead>\n",
       "    <tr style=\"text-align: right;\">\n",
       "      <th></th>\n",
       "      <th>stance</th>\n",
       "      <th>originalStanceText</th>\n",
       "      <th>originalTopic</th>\n",
       "      <th>body</th>\n",
       "      <th>topic</th>\n",
       "      <th>topic_id</th>\n",
       "    </tr>\n",
       "  </thead>\n",
       "  <tbody>\n",
       "    <tr>\n",
       "      <th>0</th>\n",
       "      <td>stance1</td>\n",
       "      <td>Yes</td>\n",
       "      <td>should-the-us-have-universal-healthcare</td>\n",
       "      <td>i think that we should have   universal health...</td>\n",
       "      <td>healthcare</td>\n",
       "      <td>28</td>\n",
       "    </tr>\n",
       "    <tr>\n",
       "      <th>1</th>\n",
       "      <td>stance2</td>\n",
       "      <td>No</td>\n",
       "      <td>should-the-us-have-universal-healthcare</td>\n",
       "      <td>There are some facts about those infant mortal...</td>\n",
       "      <td>healthcare</td>\n",
       "      <td>28</td>\n",
       "    </tr>\n",
       "    <tr>\n",
       "      <th>2</th>\n",
       "      <td>stance2</td>\n",
       "      <td>No</td>\n",
       "      <td>should-the-us-have-universal-healthcare</td>\n",
       "      <td>You have no solution?  Why?  If you are the ex...</td>\n",
       "      <td>healthcare</td>\n",
       "      <td>28</td>\n",
       "    </tr>\n",
       "    <tr>\n",
       "      <th>3</th>\n",
       "      <td>stance2</td>\n",
       "      <td>No</td>\n",
       "      <td>should-the-us-have-universal-healthcare</td>\n",
       "      <td>Public spending is already 50% of health care ...</td>\n",
       "      <td>healthcare</td>\n",
       "      <td>28</td>\n",
       "    </tr>\n",
       "    <tr>\n",
       "      <th>4</th>\n",
       "      <td>stance1</td>\n",
       "      <td>Pro</td>\n",
       "      <td>Debate:_Public_insurance_option_in_US_health_care</td>\n",
       "      <td>Mandates wrongly give insurers millions of ne...</td>\n",
       "      <td>healthcare</td>\n",
       "      <td>28</td>\n",
       "    </tr>\n",
       "  </tbody>\n",
       "</table>\n",
       "</div>"
      ],
      "text/plain": [
       "    stance originalStanceText  \\\n",
       "0  stance1                Yes   \n",
       "1  stance2                 No   \n",
       "2  stance2                 No   \n",
       "3  stance2                 No   \n",
       "4  stance1                Pro   \n",
       "\n",
       "                                       originalTopic  \\\n",
       "0            should-the-us-have-universal-healthcare   \n",
       "1            should-the-us-have-universal-healthcare   \n",
       "2            should-the-us-have-universal-healthcare   \n",
       "3            should-the-us-have-universal-healthcare   \n",
       "4  Debate:_Public_insurance_option_in_US_health_care   \n",
       "\n",
       "                                                body       topic  topic_id  \n",
       "0  i think that we should have   universal health...  healthcare        28  \n",
       "1  There are some facts about those infant mortal...  healthcare        28  \n",
       "2  You have no solution?  Why?  If you are the ex...  healthcare        28  \n",
       "3  Public spending is already 50% of health care ...  healthcare        28  \n",
       "4   Mandates wrongly give insurers millions of ne...  healthcare        28  "
      ]
     },
     "execution_count": 30,
     "metadata": {},
     "output_type": "execute_result"
    }
   ],
   "source": [
    "somas_df.head()"
   ]
  },
  {
   "cell_type": "code",
   "execution_count": 33,
   "metadata": {},
   "outputs": [
    {
     "data": {
      "text/plain": [
       "({'stance1', 'stance2'},\n",
       " {'Abortion_Should_Be_Banned',\n",
       "  'All_Health_Care_Should_Be_Free',\n",
       "  'Are_you_Pro_Choice',\n",
       "  'Debate:_Abortion',\n",
       "  'Debate:_Adoption_of_children_by_same-sex_couples',\n",
       "  'Debate:_Armed_pilots_in_airplanes',\n",
       "  'Debate:_Assault_weapons_ban_in_the_United_States',\n",
       "  'Debate:_DC_handgun_ban',\n",
       "  'Debate:_Homosexuals_in_the_US_military',\n",
       "  'Debate:_Partial-birth_abortion',\n",
       "  'Debate:_Public_insurance_option_in_US_health_care',\n",
       "  'Debate:_Right_to_bear_arms_in_the_US',\n",
       "  'Debate:_Same_sex_marriage_ban',\n",
       "  'Debate:_Single-payer_universal_health_care',\n",
       "  'Gay_Adoption',\n",
       "  'Gun_Control_For_Or_Against',\n",
       "  'Gun_Control_Should_Be_Made_Stricter_In_America',\n",
       "  'Gun_Ownership_Should_Be_Strictly_Controlled',\n",
       "  'Gun_Rights',\n",
       "  'Healthcare_Reform_Good_Bad_or_Ugly',\n",
       "  'Healthcare_Should_Be_Available_For_Everyone',\n",
       "  'How_can_gay_marriage_hurt_any_one',\n",
       "  'If_abortion_was_illegal_should_it_still_be_legal_for_rape',\n",
       "  'Is_Homosexuality_a_bad_thing',\n",
       "  'Is_homosexuality_a_sin',\n",
       "  'Is_homosexuality_morally_wrong_2',\n",
       "  'Is_the_National_Health_Care_Reform_the_answer_to_our_medical_problems',\n",
       "  'It_Would_Be_Much_Safer_If_Everyone_Carried_A_Gun',\n",
       "  'Obama_And_His_Health_Care_Plan_Any_Thoughts',\n",
       "  'People_Should_Have_The_Right_To_Own_Guns',\n",
       "  'Should_All_Health_Care_Be_Made_Free_For_All',\n",
       "  'Should_America_have_Universal_Healthcare',\n",
       "  'Should_abortion_be_legal',\n",
       "  'Should_gays_and_lesbians_be_allowed_to_marry',\n",
       "  'Should_gays_have_the_right_to_marry',\n",
       "  'Should_guns_be_banned_in_America',\n",
       "  'Should_late_term_abortions_be_legal',\n",
       "  'So_you_still_want_Nationalized_Health_Care',\n",
       "  'Teachers_Packing_Concealed_Guns_On_School_Campus_In_Texas_Near_Oklahoma_Boarder_Is_Good_Idea',\n",
       "  'Universal_Health_Care_We_Should_Have_It',\n",
       "  'Universal_Healthcare',\n",
       "  'are-children-with-same-sex-parents-at-a-disadvantage',\n",
       "  'are-people-born-gay',\n",
       "  'can-catholics-vote-for-pro-choice-politicians',\n",
       "  'does-owning-a-gun-make-you-safer',\n",
       "  'healthcare',\n",
       "  'is-homosexuality-a-sin',\n",
       "  'should-abortion-be-legal',\n",
       "  'should-california-pass-prop-8',\n",
       "  'should-loaded-and-concealed-guns-be-allowed-in-national-parks',\n",
       "  'should-marriage-for-same-sex-couples-be-legal',\n",
       "  'should-obama-have-reversed-us-abortion-policy',\n",
       "  'should-south-dakota-pass-the-abortion-ban',\n",
       "  'should-the-dc-handgun-ban-have-been-overturned',\n",
       "  'should-the-us-adopt-a-single-payer-health-care-program',\n",
       "  'should-the-us-have-universal-healthcare',\n",
       "  'should_Guns_Be_Illigal',\n",
       "  'should_abortion_be_banned',\n",
       "  'what-do-guns-mean-to-americans',\n",
       "  'when-does-life-begin',\n",
       "  'would-allowing-students-to-carry-weapons-make-college-campuses-safer'})"
      ]
     },
     "execution_count": 33,
     "metadata": {},
     "output_type": "execute_result"
    }
   ],
   "source": [
    "set(somas_df.stance), set(somas_df.originalTopic)"
   ]
  },
  {
   "cell_type": "code",
   "execution_count": 35,
   "metadata": {},
   "outputs": [],
   "source": [
    "abortion_df = somas_df[somas_df['topic']=='abortion']"
   ]
  },
  {
   "cell_type": "code",
   "execution_count": 40,
   "metadata": {},
   "outputs": [],
   "source": [
    "gun_df = somas_df[somas_df['topic']=='guns']"
   ]
  },
  {
   "cell_type": "code",
   "execution_count": 42,
   "metadata": {},
   "outputs": [
    {
     "name": "stderr",
     "output_type": "stream",
     "text": [
      "<ipython-input-42-244db7939ced>:1: SettingWithCopyWarning: \n",
      "A value is trying to be set on a copy of a slice from a DataFrame.\n",
      "Try using .loc[row_indexer,col_indexer] = value instead\n",
      "\n",
      "See the caveats in the documentation: https://pandas.pydata.org/pandas-docs/stable/user_guide/indexing.html#returning-a-view-versus-a-copy\n",
      "  gun_df['liberal']= gun_df['stance'] == 'stance2'\n"
     ]
    }
   ],
   "source": [
    "gun_df['liberal']= gun_df['stance'] == 'stance2'"
   ]
  },
  {
   "cell_type": "code",
   "execution_count": 50,
   "metadata": {},
   "outputs": [
    {
     "data": {
      "text/html": [
       "<div>\n",
       "<style scoped>\n",
       "    .dataframe tbody tr th:only-of-type {\n",
       "        vertical-align: middle;\n",
       "    }\n",
       "\n",
       "    .dataframe tbody tr th {\n",
       "        vertical-align: top;\n",
       "    }\n",
       "\n",
       "    .dataframe thead th {\n",
       "        text-align: right;\n",
       "    }\n",
       "</style>\n",
       "<table border=\"1\" class=\"dataframe\">\n",
       "  <thead>\n",
       "    <tr style=\"text-align: right;\">\n",
       "      <th></th>\n",
       "      <th>stance</th>\n",
       "      <th>originalStanceText</th>\n",
       "      <th>originalTopic</th>\n",
       "      <th>body</th>\n",
       "      <th>topic</th>\n",
       "      <th>topic_id</th>\n",
       "      <th>liberal</th>\n",
       "    </tr>\n",
       "  </thead>\n",
       "  <tbody>\n",
       "    <tr>\n",
       "      <th>667</th>\n",
       "      <td>stance2</td>\n",
       "      <td>Against</td>\n",
       "      <td>Gun_Rights</td>\n",
       "      <td>Student News Daily offers lots of policial sta...</td>\n",
       "      <td>guns</td>\n",
       "      <td>26</td>\n",
       "      <td>True</td>\n",
       "    </tr>\n",
       "    <tr>\n",
       "      <th>668</th>\n",
       "      <td>stance1</td>\n",
       "      <td>Yes</td>\n",
       "      <td>does-owning-a-gun-make-you-safer</td>\n",
       "      <td>Accidental injury and/or death from a handgun ...</td>\n",
       "      <td>guns</td>\n",
       "      <td>26</td>\n",
       "      <td>False</td>\n",
       "    </tr>\n",
       "    <tr>\n",
       "      <th>669</th>\n",
       "      <td>stance1</td>\n",
       "      <td>Yes</td>\n",
       "      <td>does-owning-a-gun-make-you-safer</td>\n",
       "      <td>In every sense of the word, guns do make you s...</td>\n",
       "      <td>guns</td>\n",
       "      <td>26</td>\n",
       "      <td>False</td>\n",
       "    </tr>\n",
       "    <tr>\n",
       "      <th>670</th>\n",
       "      <td>stance1</td>\n",
       "      <td>Yes</td>\n",
       "      <td>would-allowing-students-to-carry-weapons-make-...</td>\n",
       "      <td>You, as one who believes there is no place for...</td>\n",
       "      <td>guns</td>\n",
       "      <td>26</td>\n",
       "      <td>False</td>\n",
       "    </tr>\n",
       "    <tr>\n",
       "      <th>671</th>\n",
       "      <td>stance1</td>\n",
       "      <td>No, guns don't kill people.</td>\n",
       "      <td>Should_guns_be_banned_in_America</td>\n",
       "      <td>we would gain nothing from banning guns in ame...</td>\n",
       "      <td>guns</td>\n",
       "      <td>26</td>\n",
       "      <td>False</td>\n",
       "    </tr>\n",
       "    <tr>\n",
       "      <th>...</th>\n",
       "      <td>...</td>\n",
       "      <td>...</td>\n",
       "      <td>...</td>\n",
       "      <td>...</td>\n",
       "      <td>...</td>\n",
       "      <td>...</td>\n",
       "      <td>...</td>\n",
       "    </tr>\n",
       "    <tr>\n",
       "      <th>1731</th>\n",
       "      <td>stance2</td>\n",
       "      <td>Against</td>\n",
       "      <td>Gun_Rights</td>\n",
       "      <td>\"guns kill people\" that is wat we have to reme...</td>\n",
       "      <td>guns</td>\n",
       "      <td>26</td>\n",
       "      <td>True</td>\n",
       "    </tr>\n",
       "    <tr>\n",
       "      <th>1732</th>\n",
       "      <td>stance1</td>\n",
       "      <td>No</td>\n",
       "      <td>Debate:_Assault_weapons_ban_in_the_United_States</td>\n",
       "      <td>The Supreme Court has affirmed the individual ...</td>\n",
       "      <td>guns</td>\n",
       "      <td>26</td>\n",
       "      <td>False</td>\n",
       "    </tr>\n",
       "    <tr>\n",
       "      <th>1733</th>\n",
       "      <td>stance2</td>\n",
       "      <td>No</td>\n",
       "      <td>should-loaded-and-concealed-guns-be-allowed-in...</td>\n",
       "      <td>\"The   second amendment   is not intended to d...</td>\n",
       "      <td>guns</td>\n",
       "      <td>26</td>\n",
       "      <td>True</td>\n",
       "    </tr>\n",
       "    <tr>\n",
       "      <th>1734</th>\n",
       "      <td>stance1</td>\n",
       "      <td>No, guns don't kill people.</td>\n",
       "      <td>Should_guns_be_banned_in_America</td>\n",
       "      <td>Thanks. Here on CD I aim to please (just like ...</td>\n",
       "      <td>guns</td>\n",
       "      <td>26</td>\n",
       "      <td>False</td>\n",
       "    </tr>\n",
       "    <tr>\n",
       "      <th>1735</th>\n",
       "      <td>stance2</td>\n",
       "      <td>yes</td>\n",
       "      <td>Should_guns_be_banned_in_America</td>\n",
       "      <td>i don't think we should ban all guns, but cert...</td>\n",
       "      <td>guns</td>\n",
       "      <td>26</td>\n",
       "      <td>True</td>\n",
       "    </tr>\n",
       "  </tbody>\n",
       "</table>\n",
       "<p>1069 rows × 7 columns</p>\n",
       "</div>"
      ],
      "text/plain": [
       "       stance           originalStanceText  \\\n",
       "667   stance2                      Against   \n",
       "668   stance1                          Yes   \n",
       "669   stance1                          Yes   \n",
       "670   stance1                          Yes   \n",
       "671   stance1  No, guns don't kill people.   \n",
       "...       ...                          ...   \n",
       "1731  stance2                      Against   \n",
       "1732  stance1                           No   \n",
       "1733  stance2                           No   \n",
       "1734  stance1  No, guns don't kill people.   \n",
       "1735  stance2                          yes   \n",
       "\n",
       "                                          originalTopic  \\\n",
       "667                                          Gun_Rights   \n",
       "668                    does-owning-a-gun-make-you-safer   \n",
       "669                    does-owning-a-gun-make-you-safer   \n",
       "670   would-allowing-students-to-carry-weapons-make-...   \n",
       "671                    Should_guns_be_banned_in_America   \n",
       "...                                                 ...   \n",
       "1731                                         Gun_Rights   \n",
       "1732   Debate:_Assault_weapons_ban_in_the_United_States   \n",
       "1733  should-loaded-and-concealed-guns-be-allowed-in...   \n",
       "1734                   Should_guns_be_banned_in_America   \n",
       "1735                   Should_guns_be_banned_in_America   \n",
       "\n",
       "                                                   body topic  topic_id  \\\n",
       "667   Student News Daily offers lots of policial sta...  guns        26   \n",
       "668   Accidental injury and/or death from a handgun ...  guns        26   \n",
       "669   In every sense of the word, guns do make you s...  guns        26   \n",
       "670   You, as one who believes there is no place for...  guns        26   \n",
       "671   we would gain nothing from banning guns in ame...  guns        26   \n",
       "...                                                 ...   ...       ...   \n",
       "1731  \"guns kill people\" that is wat we have to reme...  guns        26   \n",
       "1732  The Supreme Court has affirmed the individual ...  guns        26   \n",
       "1733  \"The   second amendment   is not intended to d...  guns        26   \n",
       "1734  Thanks. Here on CD I aim to please (just like ...  guns        26   \n",
       "1735  i don't think we should ban all guns, but cert...  guns        26   \n",
       "\n",
       "      liberal  \n",
       "667      True  \n",
       "668     False  \n",
       "669     False  \n",
       "670     False  \n",
       "671     False  \n",
       "...       ...  \n",
       "1731     True  \n",
       "1732    False  \n",
       "1733     True  \n",
       "1734    False  \n",
       "1735     True  \n",
       "\n",
       "[1069 rows x 7 columns]"
      ]
     },
     "execution_count": 50,
     "metadata": {},
     "output_type": "execute_result"
    }
   ],
   "source": [
    "gun_df"
   ]
  },
  {
   "cell_type": "code",
   "execution_count": 43,
   "metadata": {},
   "outputs": [
    {
     "name": "stderr",
     "output_type": "stream",
     "text": [
      "<ipython-input-43-5ba522e1063f>:1: SettingWithCopyWarning: \n",
      "A value is trying to be set on a copy of a slice from a DataFrame.\n",
      "Try using .loc[row_indexer,col_indexer] = value instead\n",
      "\n",
      "See the caveats in the documentation: https://pandas.pydata.org/pandas-docs/stable/user_guide/indexing.html#returning-a-view-versus-a-copy\n",
      "  abortion_df['liberal'] = abortion_df['stance'] =='stance1'\n"
     ]
    }
   ],
   "source": [
    "abortion_df['liberal'] = abortion_df['stance'] =='stance1'"
   ]
  },
  {
   "cell_type": "code",
   "execution_count": 51,
   "metadata": {},
   "outputs": [
    {
     "data": {
      "text/html": [
       "<div>\n",
       "<style scoped>\n",
       "    .dataframe tbody tr th:only-of-type {\n",
       "        vertical-align: middle;\n",
       "    }\n",
       "\n",
       "    .dataframe tbody tr th {\n",
       "        vertical-align: top;\n",
       "    }\n",
       "\n",
       "    .dataframe thead th {\n",
       "        text-align: right;\n",
       "    }\n",
       "</style>\n",
       "<table border=\"1\" class=\"dataframe\">\n",
       "  <thead>\n",
       "    <tr style=\"text-align: right;\">\n",
       "      <th></th>\n",
       "      <th>stance</th>\n",
       "      <th>originalStanceText</th>\n",
       "      <th>originalTopic</th>\n",
       "      <th>body</th>\n",
       "      <th>topic</th>\n",
       "      <th>topic_id</th>\n",
       "      <th>liberal</th>\n",
       "    </tr>\n",
       "  </thead>\n",
       "  <tbody>\n",
       "    <tr>\n",
       "      <th>3800</th>\n",
       "      <td>stance1</td>\n",
       "      <td>yes</td>\n",
       "      <td>Should_abortion_be_legal</td>\n",
       "      <td>The frightening thing about the abortion debat...</td>\n",
       "      <td>abortion</td>\n",
       "      <td>2</td>\n",
       "      <td>True</td>\n",
       "    </tr>\n",
       "    <tr>\n",
       "      <th>3801</th>\n",
       "      <td>stance2</td>\n",
       "      <td>No</td>\n",
       "      <td>should-abortion-be-legal</td>\n",
       "      <td>I know it is a \"lapsus\" but i couldn't resist:...</td>\n",
       "      <td>abortion</td>\n",
       "      <td>2</td>\n",
       "      <td>False</td>\n",
       "    </tr>\n",
       "    <tr>\n",
       "      <th>3802</th>\n",
       "      <td>stance1</td>\n",
       "      <td>Yes</td>\n",
       "      <td>should-abortion-be-legal</td>\n",
       "      <td>Those gruesome pictures the pro-pregnancy crow...</td>\n",
       "      <td>abortion</td>\n",
       "      <td>2</td>\n",
       "      <td>True</td>\n",
       "    </tr>\n",
       "    <tr>\n",
       "      <th>3803</th>\n",
       "      <td>stance1</td>\n",
       "      <td>no it should not</td>\n",
       "      <td>Abortion_Should_Be_Banned</td>\n",
       "      <td>Although abortion is such a sadening thing tha...</td>\n",
       "      <td>abortion</td>\n",
       "      <td>2</td>\n",
       "      <td>True</td>\n",
       "    </tr>\n",
       "    <tr>\n",
       "      <th>3804</th>\n",
       "      <td>stance2</td>\n",
       "      <td>abortion should be banned</td>\n",
       "      <td>should_abortion_be_banned</td>\n",
       "      <td>I agree, go back and look at the record of Con...</td>\n",
       "      <td>abortion</td>\n",
       "      <td>2</td>\n",
       "      <td>False</td>\n",
       "    </tr>\n",
       "    <tr>\n",
       "      <th>...</th>\n",
       "      <td>...</td>\n",
       "      <td>...</td>\n",
       "      <td>...</td>\n",
       "      <td>...</td>\n",
       "      <td>...</td>\n",
       "      <td>...</td>\n",
       "      <td>...</td>\n",
       "    </tr>\n",
       "    <tr>\n",
       "      <th>4946</th>\n",
       "      <td>stance1</td>\n",
       "      <td>yes</td>\n",
       "      <td>Should_abortion_be_legal</td>\n",
       "      <td>Not only do I think that it is wrong for the g...</td>\n",
       "      <td>abortion</td>\n",
       "      <td>2</td>\n",
       "      <td>True</td>\n",
       "    </tr>\n",
       "    <tr>\n",
       "      <th>4947</th>\n",
       "      <td>stance2</td>\n",
       "      <td>No</td>\n",
       "      <td>Debate:_Abortion</td>\n",
       "      <td>Abortion deprives a fetus of an entire human f...</td>\n",
       "      <td>abortion</td>\n",
       "      <td>2</td>\n",
       "      <td>False</td>\n",
       "    </tr>\n",
       "    <tr>\n",
       "      <th>4948</th>\n",
       "      <td>stance2</td>\n",
       "      <td>No</td>\n",
       "      <td>should-abortion-be-legal</td>\n",
       "      <td>According to your reasoning:If anyone really b...</td>\n",
       "      <td>abortion</td>\n",
       "      <td>2</td>\n",
       "      <td>False</td>\n",
       "    </tr>\n",
       "    <tr>\n",
       "      <th>4949</th>\n",
       "      <td>stance1</td>\n",
       "      <td>abortion should not be banned</td>\n",
       "      <td>should_abortion_be_banned</td>\n",
       "      <td>1. duh, the point is these woman are going to ...</td>\n",
       "      <td>abortion</td>\n",
       "      <td>2</td>\n",
       "      <td>True</td>\n",
       "    </tr>\n",
       "    <tr>\n",
       "      <th>4950</th>\n",
       "      <td>stance2</td>\n",
       "      <td>No</td>\n",
       "      <td>Should_abortion_be_legal</td>\n",
       "      <td>Unborn babies are living things and when you k...</td>\n",
       "      <td>abortion</td>\n",
       "      <td>2</td>\n",
       "      <td>False</td>\n",
       "    </tr>\n",
       "  </tbody>\n",
       "</table>\n",
       "<p>1151 rows × 7 columns</p>\n",
       "</div>"
      ],
      "text/plain": [
       "       stance             originalStanceText              originalTopic  \\\n",
       "3800  stance1                            yes   Should_abortion_be_legal   \n",
       "3801  stance2                             No   should-abortion-be-legal   \n",
       "3802  stance1                            Yes   should-abortion-be-legal   \n",
       "3803  stance1               no it should not  Abortion_Should_Be_Banned   \n",
       "3804  stance2      abortion should be banned  should_abortion_be_banned   \n",
       "...       ...                            ...                        ...   \n",
       "4946  stance1                            yes   Should_abortion_be_legal   \n",
       "4947  stance2                             No           Debate:_Abortion   \n",
       "4948  stance2                             No   should-abortion-be-legal   \n",
       "4949  stance1  abortion should not be banned  should_abortion_be_banned   \n",
       "4950  stance2                             No   Should_abortion_be_legal   \n",
       "\n",
       "                                                   body     topic  topic_id  \\\n",
       "3800  The frightening thing about the abortion debat...  abortion         2   \n",
       "3801  I know it is a \"lapsus\" but i couldn't resist:...  abortion         2   \n",
       "3802  Those gruesome pictures the pro-pregnancy crow...  abortion         2   \n",
       "3803  Although abortion is such a sadening thing tha...  abortion         2   \n",
       "3804  I agree, go back and look at the record of Con...  abortion         2   \n",
       "...                                                 ...       ...       ...   \n",
       "4946  Not only do I think that it is wrong for the g...  abortion         2   \n",
       "4947  Abortion deprives a fetus of an entire human f...  abortion         2   \n",
       "4948  According to your reasoning:If anyone really b...  abortion         2   \n",
       "4949  1. duh, the point is these woman are going to ...  abortion         2   \n",
       "4950  Unborn babies are living things and when you k...  abortion         2   \n",
       "\n",
       "      liberal  \n",
       "3800     True  \n",
       "3801    False  \n",
       "3802     True  \n",
       "3803     True  \n",
       "3804    False  \n",
       "...       ...  \n",
       "4946     True  \n",
       "4947    False  \n",
       "4948    False  \n",
       "4949     True  \n",
       "4950    False  \n",
       "\n",
       "[1151 rows x 7 columns]"
      ]
     },
     "execution_count": 51,
     "metadata": {},
     "output_type": "execute_result"
    }
   ],
   "source": [
    "abortion_df"
   ]
  },
  {
   "cell_type": "code",
   "execution_count": 48,
   "metadata": {},
   "outputs": [],
   "source": [
    "gay_df=somas_df[somas_df['topic']=='gayRights']"
   ]
  },
  {
   "cell_type": "code",
   "execution_count": 52,
   "metadata": {},
   "outputs": [
    {
     "name": "stderr",
     "output_type": "stream",
     "text": [
      "<ipython-input-52-05b2f1f6d744>:1: SettingWithCopyWarning: \n",
      "A value is trying to be set on a copy of a slice from a DataFrame.\n",
      "Try using .loc[row_indexer,col_indexer] = value instead\n",
      "\n",
      "See the caveats in the documentation: https://pandas.pydata.org/pandas-docs/stable/user_guide/indexing.html#returning-a-view-versus-a-copy\n",
      "  gay_df['liberal']=gay_df['stance']=='stance1'\n"
     ]
    }
   ],
   "source": [
    "gay_df['liberal']=gay_df['stance']=='stance1'"
   ]
  },
  {
   "cell_type": "code",
   "execution_count": 53,
   "metadata": {},
   "outputs": [
    {
     "data": {
      "text/html": [
       "<div>\n",
       "<style scoped>\n",
       "    .dataframe tbody tr th:only-of-type {\n",
       "        vertical-align: middle;\n",
       "    }\n",
       "\n",
       "    .dataframe tbody tr th {\n",
       "        vertical-align: top;\n",
       "    }\n",
       "\n",
       "    .dataframe thead th {\n",
       "        text-align: right;\n",
       "    }\n",
       "</style>\n",
       "<table border=\"1\" class=\"dataframe\">\n",
       "  <thead>\n",
       "    <tr style=\"text-align: right;\">\n",
       "      <th></th>\n",
       "      <th>stance</th>\n",
       "      <th>originalStanceText</th>\n",
       "      <th>originalTopic</th>\n",
       "      <th>body</th>\n",
       "      <th>topic</th>\n",
       "      <th>topic_id</th>\n",
       "      <th>liberal</th>\n",
       "    </tr>\n",
       "  </thead>\n",
       "  <tbody>\n",
       "    <tr>\n",
       "      <th>1736</th>\n",
       "      <td>stance2</td>\n",
       "      <td>Yes</td>\n",
       "      <td>is-homosexuality-a-sin</td>\n",
       "      <td>The exception to being joined in a union that ...</td>\n",
       "      <td>gayRights</td>\n",
       "      <td>40</td>\n",
       "      <td>False</td>\n",
       "    </tr>\n",
       "    <tr>\n",
       "      <th>1737</th>\n",
       "      <td>stance1</td>\n",
       "      <td>YES</td>\n",
       "      <td>are-people-born-gay</td>\n",
       "      <td>You distort the work of legitimate scientists ...</td>\n",
       "      <td>gayRights</td>\n",
       "      <td>40</td>\n",
       "      <td>True</td>\n",
       "    </tr>\n",
       "    <tr>\n",
       "      <th>1738</th>\n",
       "      <td>stance1</td>\n",
       "      <td>No</td>\n",
       "      <td>are-children-with-same-sex-parents-at-a-disadv...</td>\n",
       "      <td>We teach our children the same things any pare...</td>\n",
       "      <td>gayRights</td>\n",
       "      <td>40</td>\n",
       "      <td>True</td>\n",
       "    </tr>\n",
       "    <tr>\n",
       "      <th>1739</th>\n",
       "      <td>stance2</td>\n",
       "      <td>Yes</td>\n",
       "      <td>is-homosexuality-a-sin</td>\n",
       "      <td>First off I want to thank you for being faithf...</td>\n",
       "      <td>gayRights</td>\n",
       "      <td>40</td>\n",
       "      <td>False</td>\n",
       "    </tr>\n",
       "    <tr>\n",
       "      <th>1740</th>\n",
       "      <td>stance1</td>\n",
       "      <td>No</td>\n",
       "      <td>should-california-pass-prop-8</td>\n",
       "      <td>Our founding fathers didn't think women should...</td>\n",
       "      <td>gayRights</td>\n",
       "      <td>40</td>\n",
       "      <td>True</td>\n",
       "    </tr>\n",
       "    <tr>\n",
       "      <th>...</th>\n",
       "      <td>...</td>\n",
       "      <td>...</td>\n",
       "      <td>...</td>\n",
       "      <td>...</td>\n",
       "      <td>...</td>\n",
       "      <td>...</td>\n",
       "      <td>...</td>\n",
       "    </tr>\n",
       "    <tr>\n",
       "      <th>3795</th>\n",
       "      <td>stance1</td>\n",
       "      <td>YES</td>\n",
       "      <td>are-people-born-gay</td>\n",
       "      <td>Actually, there is a scientifically high proba...</td>\n",
       "      <td>gayRights</td>\n",
       "      <td>40</td>\n",
       "      <td>True</td>\n",
       "    </tr>\n",
       "    <tr>\n",
       "      <th>3796</th>\n",
       "      <td>stance1</td>\n",
       "      <td>Doesnt hurt anyone</td>\n",
       "      <td>How_can_gay_marriage_hurt_any_one</td>\n",
       "      <td>I'm pretty sure you didn't understand my point...</td>\n",
       "      <td>gayRights</td>\n",
       "      <td>40</td>\n",
       "      <td>True</td>\n",
       "    </tr>\n",
       "    <tr>\n",
       "      <th>3797</th>\n",
       "      <td>stance1</td>\n",
       "      <td>Yes, gays should adopt</td>\n",
       "      <td>Gay_Adoption</td>\n",
       "      <td>ahahaha wow 6ahaha 62 i was way off ahaha ...n...</td>\n",
       "      <td>gayRights</td>\n",
       "      <td>40</td>\n",
       "      <td>True</td>\n",
       "    </tr>\n",
       "    <tr>\n",
       "      <th>3798</th>\n",
       "      <td>stance1</td>\n",
       "      <td>No</td>\n",
       "      <td>should-california-pass-prop-8</td>\n",
       "      <td>Brian, you wrote:\"Are you kidding me? Prop 8 i...</td>\n",
       "      <td>gayRights</td>\n",
       "      <td>40</td>\n",
       "      <td>True</td>\n",
       "    </tr>\n",
       "    <tr>\n",
       "      <th>3799</th>\n",
       "      <td>stance2</td>\n",
       "      <td>Yes</td>\n",
       "      <td>should-california-pass-prop-8</td>\n",
       "      <td>I agree. My story at   www.hope7.highpowersite...</td>\n",
       "      <td>gayRights</td>\n",
       "      <td>40</td>\n",
       "      <td>False</td>\n",
       "    </tr>\n",
       "  </tbody>\n",
       "</table>\n",
       "<p>2064 rows × 7 columns</p>\n",
       "</div>"
      ],
      "text/plain": [
       "       stance      originalStanceText  \\\n",
       "1736  stance2                     Yes   \n",
       "1737  stance1                     YES   \n",
       "1738  stance1                      No   \n",
       "1739  stance2                     Yes   \n",
       "1740  stance1                      No   \n",
       "...       ...                     ...   \n",
       "3795  stance1                     YES   \n",
       "3796  stance1      Doesnt hurt anyone   \n",
       "3797  stance1  Yes, gays should adopt   \n",
       "3798  stance1                      No   \n",
       "3799  stance2                     Yes   \n",
       "\n",
       "                                          originalTopic  \\\n",
       "1736                             is-homosexuality-a-sin   \n",
       "1737                                are-people-born-gay   \n",
       "1738  are-children-with-same-sex-parents-at-a-disadv...   \n",
       "1739                             is-homosexuality-a-sin   \n",
       "1740                      should-california-pass-prop-8   \n",
       "...                                                 ...   \n",
       "3795                                are-people-born-gay   \n",
       "3796                  How_can_gay_marriage_hurt_any_one   \n",
       "3797                                       Gay_Adoption   \n",
       "3798                      should-california-pass-prop-8   \n",
       "3799                      should-california-pass-prop-8   \n",
       "\n",
       "                                                   body      topic  topic_id  \\\n",
       "1736  The exception to being joined in a union that ...  gayRights        40   \n",
       "1737  You distort the work of legitimate scientists ...  gayRights        40   \n",
       "1738  We teach our children the same things any pare...  gayRights        40   \n",
       "1739  First off I want to thank you for being faithf...  gayRights        40   \n",
       "1740  Our founding fathers didn't think women should...  gayRights        40   \n",
       "...                                                 ...        ...       ...   \n",
       "3795  Actually, there is a scientifically high proba...  gayRights        40   \n",
       "3796  I'm pretty sure you didn't understand my point...  gayRights        40   \n",
       "3797  ahahaha wow 6ahaha 62 i was way off ahaha ...n...  gayRights        40   \n",
       "3798  Brian, you wrote:\"Are you kidding me? Prop 8 i...  gayRights        40   \n",
       "3799  I agree. My story at   www.hope7.highpowersite...  gayRights        40   \n",
       "\n",
       "      liberal  \n",
       "1736    False  \n",
       "1737     True  \n",
       "1738     True  \n",
       "1739    False  \n",
       "1740     True  \n",
       "...       ...  \n",
       "3795     True  \n",
       "3796     True  \n",
       "3797     True  \n",
       "3798     True  \n",
       "3799    False  \n",
       "\n",
       "[2064 rows x 7 columns]"
      ]
     },
     "execution_count": 53,
     "metadata": {},
     "output_type": "execute_result"
    }
   ],
   "source": [
    "gay_df"
   ]
  },
  {
   "cell_type": "code",
   "execution_count": 60,
   "metadata": {},
   "outputs": [],
   "source": [
    "hc_df=somas_df[somas_df['topic']=='healthcare']"
   ]
  },
  {
   "cell_type": "code",
   "execution_count": 61,
   "metadata": {},
   "outputs": [
    {
     "name": "stderr",
     "output_type": "stream",
     "text": [
      "<ipython-input-61-5c2b1dd961b4>:1: SettingWithCopyWarning: \n",
      "A value is trying to be set on a copy of a slice from a DataFrame.\n",
      "Try using .loc[row_indexer,col_indexer] = value instead\n",
      "\n",
      "See the caveats in the documentation: https://pandas.pydata.org/pandas-docs/stable/user_guide/indexing.html#returning-a-view-versus-a-copy\n",
      "  hc_df['liberal'] = hc_df['stance']=='stance1'\n"
     ]
    }
   ],
   "source": [
    "hc_df['liberal'] = hc_df['stance']=='stance1'"
   ]
  },
  {
   "cell_type": "code",
   "execution_count": 62,
   "metadata": {},
   "outputs": [
    {
     "data": {
      "text/html": [
       "<div>\n",
       "<style scoped>\n",
       "    .dataframe tbody tr th:only-of-type {\n",
       "        vertical-align: middle;\n",
       "    }\n",
       "\n",
       "    .dataframe tbody tr th {\n",
       "        vertical-align: top;\n",
       "    }\n",
       "\n",
       "    .dataframe thead th {\n",
       "        text-align: right;\n",
       "    }\n",
       "</style>\n",
       "<table border=\"1\" class=\"dataframe\">\n",
       "  <thead>\n",
       "    <tr style=\"text-align: right;\">\n",
       "      <th></th>\n",
       "      <th>stance</th>\n",
       "      <th>originalStanceText</th>\n",
       "      <th>originalTopic</th>\n",
       "      <th>body</th>\n",
       "      <th>topic</th>\n",
       "      <th>topic_id</th>\n",
       "      <th>liberal</th>\n",
       "    </tr>\n",
       "  </thead>\n",
       "  <tbody>\n",
       "    <tr>\n",
       "      <th>0</th>\n",
       "      <td>stance1</td>\n",
       "      <td>Yes</td>\n",
       "      <td>should-the-us-have-universal-healthcare</td>\n",
       "      <td>i think that we should have   universal health...</td>\n",
       "      <td>healthcare</td>\n",
       "      <td>28</td>\n",
       "      <td>True</td>\n",
       "    </tr>\n",
       "    <tr>\n",
       "      <th>1</th>\n",
       "      <td>stance2</td>\n",
       "      <td>No</td>\n",
       "      <td>should-the-us-have-universal-healthcare</td>\n",
       "      <td>There are some facts about those infant mortal...</td>\n",
       "      <td>healthcare</td>\n",
       "      <td>28</td>\n",
       "      <td>False</td>\n",
       "    </tr>\n",
       "    <tr>\n",
       "      <th>2</th>\n",
       "      <td>stance2</td>\n",
       "      <td>No</td>\n",
       "      <td>should-the-us-have-universal-healthcare</td>\n",
       "      <td>You have no solution?  Why?  If you are the ex...</td>\n",
       "      <td>healthcare</td>\n",
       "      <td>28</td>\n",
       "      <td>False</td>\n",
       "    </tr>\n",
       "    <tr>\n",
       "      <th>3</th>\n",
       "      <td>stance2</td>\n",
       "      <td>No</td>\n",
       "      <td>should-the-us-have-universal-healthcare</td>\n",
       "      <td>Public spending is already 50% of health care ...</td>\n",
       "      <td>healthcare</td>\n",
       "      <td>28</td>\n",
       "      <td>False</td>\n",
       "    </tr>\n",
       "    <tr>\n",
       "      <th>4</th>\n",
       "      <td>stance1</td>\n",
       "      <td>Pro</td>\n",
       "      <td>Debate:_Public_insurance_option_in_US_health_care</td>\n",
       "      <td>Mandates wrongly give insurers millions of ne...</td>\n",
       "      <td>healthcare</td>\n",
       "      <td>28</td>\n",
       "      <td>True</td>\n",
       "    </tr>\n",
       "    <tr>\n",
       "      <th>...</th>\n",
       "      <td>...</td>\n",
       "      <td>...</td>\n",
       "      <td>...</td>\n",
       "      <td>...</td>\n",
       "      <td>...</td>\n",
       "      <td>...</td>\n",
       "      <td>...</td>\n",
       "    </tr>\n",
       "    <tr>\n",
       "      <th>662</th>\n",
       "      <td>stance1</td>\n",
       "      <td>Yes</td>\n",
       "      <td>should-the-us-have-universal-healthcare</td>\n",
       "      <td>But the question I was trying to get at was, w...</td>\n",
       "      <td>healthcare</td>\n",
       "      <td>28</td>\n",
       "      <td>True</td>\n",
       "    </tr>\n",
       "    <tr>\n",
       "      <th>663</th>\n",
       "      <td>stance2</td>\n",
       "      <td>against</td>\n",
       "      <td>Should_All_Health_Care_Be_Made_Free_For_All</td>\n",
       "      <td>You should have to work for your stuff.</td>\n",
       "      <td>healthcare</td>\n",
       "      <td>28</td>\n",
       "      <td>False</td>\n",
       "    </tr>\n",
       "    <tr>\n",
       "      <th>664</th>\n",
       "      <td>stance2</td>\n",
       "      <td>No</td>\n",
       "      <td>Debate:_Single-payer_universal_health_care</td>\n",
       "      <td>Securing a \"right\" to universal health means ...</td>\n",
       "      <td>healthcare</td>\n",
       "      <td>28</td>\n",
       "      <td>False</td>\n",
       "    </tr>\n",
       "    <tr>\n",
       "      <th>665</th>\n",
       "      <td>stance1</td>\n",
       "      <td>Pro</td>\n",
       "      <td>Debate:_Public_insurance_option_in_US_health_care</td>\n",
       "      <td>Government will not favor public insurer over...</td>\n",
       "      <td>healthcare</td>\n",
       "      <td>28</td>\n",
       "      <td>True</td>\n",
       "    </tr>\n",
       "    <tr>\n",
       "      <th>666</th>\n",
       "      <td>stance1</td>\n",
       "      <td>Yes, it's a right.</td>\n",
       "      <td>Should_America_have_Universal_Healthcare</td>\n",
       "      <td>To our right? If were healthy our right will b...</td>\n",
       "      <td>healthcare</td>\n",
       "      <td>28</td>\n",
       "      <td>True</td>\n",
       "    </tr>\n",
       "  </tbody>\n",
       "</table>\n",
       "<p>667 rows × 7 columns</p>\n",
       "</div>"
      ],
      "text/plain": [
       "      stance  originalStanceText  \\\n",
       "0    stance1                 Yes   \n",
       "1    stance2                  No   \n",
       "2    stance2                  No   \n",
       "3    stance2                  No   \n",
       "4    stance1                 Pro   \n",
       "..       ...                 ...   \n",
       "662  stance1                 Yes   \n",
       "663  stance2             against   \n",
       "664  stance2                  No   \n",
       "665  stance1                 Pro   \n",
       "666  stance1  Yes, it's a right.   \n",
       "\n",
       "                                         originalTopic  \\\n",
       "0              should-the-us-have-universal-healthcare   \n",
       "1              should-the-us-have-universal-healthcare   \n",
       "2              should-the-us-have-universal-healthcare   \n",
       "3              should-the-us-have-universal-healthcare   \n",
       "4    Debate:_Public_insurance_option_in_US_health_care   \n",
       "..                                                 ...   \n",
       "662            should-the-us-have-universal-healthcare   \n",
       "663        Should_All_Health_Care_Be_Made_Free_For_All   \n",
       "664         Debate:_Single-payer_universal_health_care   \n",
       "665  Debate:_Public_insurance_option_in_US_health_care   \n",
       "666           Should_America_have_Universal_Healthcare   \n",
       "\n",
       "                                                  body       topic  topic_id  \\\n",
       "0    i think that we should have   universal health...  healthcare        28   \n",
       "1    There are some facts about those infant mortal...  healthcare        28   \n",
       "2    You have no solution?  Why?  If you are the ex...  healthcare        28   \n",
       "3    Public spending is already 50% of health care ...  healthcare        28   \n",
       "4     Mandates wrongly give insurers millions of ne...  healthcare        28   \n",
       "..                                                 ...         ...       ...   \n",
       "662  But the question I was trying to get at was, w...  healthcare        28   \n",
       "663            You should have to work for your stuff.  healthcare        28   \n",
       "664   Securing a \"right\" to universal health means ...  healthcare        28   \n",
       "665   Government will not favor public insurer over...  healthcare        28   \n",
       "666  To our right? If were healthy our right will b...  healthcare        28   \n",
       "\n",
       "     liberal  \n",
       "0       True  \n",
       "1      False  \n",
       "2      False  \n",
       "3      False  \n",
       "4       True  \n",
       "..       ...  \n",
       "662     True  \n",
       "663    False  \n",
       "664    False  \n",
       "665     True  \n",
       "666     True  \n",
       "\n",
       "[667 rows x 7 columns]"
      ]
     },
     "execution_count": 62,
     "metadata": {},
     "output_type": "execute_result"
    }
   ],
   "source": [
    "hc_df"
   ]
  },
  {
   "cell_type": "code",
   "execution_count": 69,
   "metadata": {},
   "outputs": [],
   "source": [
    "final_df_raw=pd.concat([hc_df, abortion_df, gun_df, gay_df])"
   ]
  },
  {
   "cell_type": "code",
   "execution_count": 70,
   "metadata": {},
   "outputs": [
    {
     "data": {
      "text/plain": [
       "{'After Conception',\n",
       " 'Against',\n",
       " 'At Conception',\n",
       " 'Bush had it right.',\n",
       " 'Con',\n",
       " 'Doesnt hurt anyone',\n",
       " 'For',\n",
       " 'Gays and lesbians should be',\n",
       " \"Gays and lesbians shouldn't be\",\n",
       " 'Hell no!',\n",
       " 'Hurts everyone?',\n",
       " 'I love it!',\n",
       " 'NO',\n",
       " 'NO WAY',\n",
       " 'NO!!!',\n",
       " 'No',\n",
       " 'No, gays should not adopt',\n",
       " \"No, guns don't kill people.\",\n",
       " \"No, it's fine!\",\n",
       " \"No, it's not feasible.\",\n",
       " 'Nope!',\n",
       " 'Oh, yes please.  Thank you.',\n",
       " 'Private Health care',\n",
       " 'Private Healthcare',\n",
       " 'Pro',\n",
       " 'YES',\n",
       " 'Yes',\n",
       " 'Yes it should be',\n",
       " 'Yes of course',\n",
       " 'Yes, gays should adopt',\n",
       " 'Yes, it goes against nature!',\n",
       " \"Yes, it's a right.\",\n",
       " 'abortion should be banned',\n",
       " 'abortion should not be banned',\n",
       " 'against',\n",
       " 'for',\n",
       " 'individual healthcare',\n",
       " 'no it should not',\n",
       " 'universal',\n",
       " 'universal health care',\n",
       " 'universal healthcare',\n",
       " 'yes'}"
      ]
     },
     "execution_count": 70,
     "metadata": {},
     "output_type": "execute_result"
    }
   ],
   "source": [
    "set(final_df_raw['originalStanceText'])"
   ]
  },
  {
   "cell_type": "code",
   "execution_count": 71,
   "metadata": {},
   "outputs": [],
   "source": [
    "final_df_raw['liberal'] = final_df_raw['liberal']*1"
   ]
  },
  {
   "cell_type": "code",
   "execution_count": 77,
   "metadata": {},
   "outputs": [],
   "source": [
    "regex = re.compile('[^a-zA-Z ]')\n",
    "final_df_raw['body2'] = final_df_raw['body'].apply(lambda x: re.sub('\\s+', ' ',regex.sub('',x)).lower())"
   ]
  },
  {
   "cell_type": "code",
   "execution_count": 82,
   "metadata": {},
   "outputs": [],
   "source": [
    "final_df_raw['body3'] = final_df_raw['body2'].apply(lambda x: re.sub(r'\\b(were|youre|im|hes|shes|theyre|ive)\\b','',x))"
   ]
  },
  {
   "cell_type": "code",
   "execution_count": 83,
   "metadata": {},
   "outputs": [],
   "source": [
    "final_df_raw['body3'] = final_df_raw['body3'].apply(lambda x: re.sub(r'\\b(didnt|dont|doesnt|cant|wont|havent|hasnt|isnt)\\b', 'not',x))"
   ]
  },
  {
   "cell_type": "code",
   "execution_count": 86,
   "metadata": {},
   "outputs": [],
   "source": [
    "final_df_raw.to_csv(datapath + r'/somas_debate_4topics.csv', sep = '\\t', encoding = 'ISO-8859-1', index_label = False)"
   ]
  },
  {
   "cell_type": "code",
   "execution_count": null,
   "metadata": {},
   "outputs": [],
   "source": []
  },
  {
   "cell_type": "code",
   "execution_count": null,
   "metadata": {},
   "outputs": [],
   "source": []
  },
  {
   "cell_type": "code",
   "execution_count": null,
   "metadata": {},
   "outputs": [],
   "source": []
  },
  {
   "cell_type": "code",
   "execution_count": null,
   "metadata": {},
   "outputs": [],
   "source": []
  },
  {
   "cell_type": "code",
   "execution_count": null,
   "metadata": {},
   "outputs": [],
   "source": []
  },
  {
   "cell_type": "code",
   "execution_count": null,
   "metadata": {},
   "outputs": [],
   "source": []
  },
  {
   "cell_type": "code",
   "execution_count": 14,
   "metadata": {},
   "outputs": [],
   "source": [
    "final_df_raw = pd.read_csv(datapath + r'/somas_debate_4topics.csv', sep = '\\t', encoding = 'ISO-8859-1', index_col = None)"
   ]
  },
  {
   "cell_type": "code",
   "execution_count": 15,
   "metadata": {},
   "outputs": [
    {
     "data": {
      "text/html": [
       "<div>\n",
       "<style scoped>\n",
       "    .dataframe tbody tr th:only-of-type {\n",
       "        vertical-align: middle;\n",
       "    }\n",
       "\n",
       "    .dataframe tbody tr th {\n",
       "        vertical-align: top;\n",
       "    }\n",
       "\n",
       "    .dataframe thead th {\n",
       "        text-align: right;\n",
       "    }\n",
       "</style>\n",
       "<table border=\"1\" class=\"dataframe\">\n",
       "  <thead>\n",
       "    <tr style=\"text-align: right;\">\n",
       "      <th></th>\n",
       "      <th>stance</th>\n",
       "      <th>originalStanceText</th>\n",
       "      <th>originalTopic</th>\n",
       "      <th>body</th>\n",
       "      <th>topic</th>\n",
       "      <th>topic_id</th>\n",
       "      <th>liberal</th>\n",
       "      <th>body2</th>\n",
       "      <th>body3</th>\n",
       "    </tr>\n",
       "  </thead>\n",
       "  <tbody>\n",
       "    <tr>\n",
       "      <th>0</th>\n",
       "      <td>stance1</td>\n",
       "      <td>Yes</td>\n",
       "      <td>should-the-us-have-universal-healthcare</td>\n",
       "      <td>i think that we should have   universal health...</td>\n",
       "      <td>healthcare</td>\n",
       "      <td>28</td>\n",
       "      <td>1</td>\n",
       "      <td>i think that we should have universal health c...</td>\n",
       "      <td>i think that we should have universal health c...</td>\n",
       "    </tr>\n",
       "    <tr>\n",
       "      <th>1</th>\n",
       "      <td>stance2</td>\n",
       "      <td>No</td>\n",
       "      <td>should-the-us-have-universal-healthcare</td>\n",
       "      <td>There are some facts about those infant mortal...</td>\n",
       "      <td>healthcare</td>\n",
       "      <td>28</td>\n",
       "      <td>0</td>\n",
       "      <td>there are some facts about those infant mortal...</td>\n",
       "      <td>there are some facts about those infant mortal...</td>\n",
       "    </tr>\n",
       "    <tr>\n",
       "      <th>2</th>\n",
       "      <td>stance2</td>\n",
       "      <td>No</td>\n",
       "      <td>should-the-us-have-universal-healthcare</td>\n",
       "      <td>You have no solution?  Why?  If you are the ex...</td>\n",
       "      <td>healthcare</td>\n",
       "      <td>28</td>\n",
       "      <td>0</td>\n",
       "      <td>you have no solution why if you are the expert...</td>\n",
       "      <td>you have no solution why if you are the expert...</td>\n",
       "    </tr>\n",
       "    <tr>\n",
       "      <th>3</th>\n",
       "      <td>stance2</td>\n",
       "      <td>No</td>\n",
       "      <td>should-the-us-have-universal-healthcare</td>\n",
       "      <td>Public spending is already 50% of health care ...</td>\n",
       "      <td>healthcare</td>\n",
       "      <td>28</td>\n",
       "      <td>0</td>\n",
       "      <td>public spending is already of health care rela...</td>\n",
       "      <td>public spending is already of health care rela...</td>\n",
       "    </tr>\n",
       "    <tr>\n",
       "      <th>4</th>\n",
       "      <td>stance1</td>\n",
       "      <td>Pro</td>\n",
       "      <td>Debate:_Public_insurance_option_in_US_health_care</td>\n",
       "      <td>Mandates wrongly give insurers millions of ne...</td>\n",
       "      <td>healthcare</td>\n",
       "      <td>28</td>\n",
       "      <td>1</td>\n",
       "      <td>mandates wrongly give insurers millions of ne...</td>\n",
       "      <td>mandates wrongly give insurers millions of ne...</td>\n",
       "    </tr>\n",
       "    <tr>\n",
       "      <th>...</th>\n",
       "      <td>...</td>\n",
       "      <td>...</td>\n",
       "      <td>...</td>\n",
       "      <td>...</td>\n",
       "      <td>...</td>\n",
       "      <td>...</td>\n",
       "      <td>...</td>\n",
       "      <td>...</td>\n",
       "      <td>...</td>\n",
       "    </tr>\n",
       "    <tr>\n",
       "      <th>4946</th>\n",
       "      <td>stance1</td>\n",
       "      <td>YES</td>\n",
       "      <td>are-people-born-gay</td>\n",
       "      <td>Actually, there is a scientifically high proba...</td>\n",
       "      <td>gayRights</td>\n",
       "      <td>40</td>\n",
       "      <td>1</td>\n",
       "      <td>actually there is a scientifically high probab...</td>\n",
       "      <td>actually there is a scientifically high probab...</td>\n",
       "    </tr>\n",
       "    <tr>\n",
       "      <th>4947</th>\n",
       "      <td>stance1</td>\n",
       "      <td>Doesnt hurt anyone</td>\n",
       "      <td>How_can_gay_marriage_hurt_any_one</td>\n",
       "      <td>I'm pretty sure you didn't understand my point...</td>\n",
       "      <td>gayRights</td>\n",
       "      <td>40</td>\n",
       "      <td>1</td>\n",
       "      <td>im pretty sure you didnt understand my point s...</td>\n",
       "      <td>pretty sure you not understand my point so al...</td>\n",
       "    </tr>\n",
       "    <tr>\n",
       "      <th>4948</th>\n",
       "      <td>stance1</td>\n",
       "      <td>Yes, gays should adopt</td>\n",
       "      <td>Gay_Adoption</td>\n",
       "      <td>ahahaha wow 6ahaha 62 i was way off ahaha ...n...</td>\n",
       "      <td>gayRights</td>\n",
       "      <td>40</td>\n",
       "      <td>1</td>\n",
       "      <td>ahahaha wow ahaha i was way off ahaha not hmmm...</td>\n",
       "      <td>ahahaha wow ahaha i was way off ahaha not hmmm...</td>\n",
       "    </tr>\n",
       "    <tr>\n",
       "      <th>4949</th>\n",
       "      <td>stance1</td>\n",
       "      <td>No</td>\n",
       "      <td>should-california-pass-prop-8</td>\n",
       "      <td>Brian, you wrote:\"Are you kidding me? Prop 8 i...</td>\n",
       "      <td>gayRights</td>\n",
       "      <td>40</td>\n",
       "      <td>1</td>\n",
       "      <td>brian you wroteare you kidding me prop imposes...</td>\n",
       "      <td>brian you wroteare you kidding me prop imposes...</td>\n",
       "    </tr>\n",
       "    <tr>\n",
       "      <th>4950</th>\n",
       "      <td>stance2</td>\n",
       "      <td>Yes</td>\n",
       "      <td>should-california-pass-prop-8</td>\n",
       "      <td>I agree. My story at   www.hope7.highpowersite...</td>\n",
       "      <td>gayRights</td>\n",
       "      <td>40</td>\n",
       "      <td>0</td>\n",
       "      <td>i agree my story at wwwhopehighpowersitescom i...</td>\n",
       "      <td>i agree my story at wwwhopehighpowersitescom i...</td>\n",
       "    </tr>\n",
       "  </tbody>\n",
       "</table>\n",
       "<p>4951 rows × 9 columns</p>\n",
       "</div>"
      ],
      "text/plain": [
       "       stance      originalStanceText  \\\n",
       "0     stance1                     Yes   \n",
       "1     stance2                      No   \n",
       "2     stance2                      No   \n",
       "3     stance2                      No   \n",
       "4     stance1                     Pro   \n",
       "...       ...                     ...   \n",
       "4946  stance1                     YES   \n",
       "4947  stance1      Doesnt hurt anyone   \n",
       "4948  stance1  Yes, gays should adopt   \n",
       "4949  stance1                      No   \n",
       "4950  stance2                     Yes   \n",
       "\n",
       "                                          originalTopic  \\\n",
       "0               should-the-us-have-universal-healthcare   \n",
       "1               should-the-us-have-universal-healthcare   \n",
       "2               should-the-us-have-universal-healthcare   \n",
       "3               should-the-us-have-universal-healthcare   \n",
       "4     Debate:_Public_insurance_option_in_US_health_care   \n",
       "...                                                 ...   \n",
       "4946                                are-people-born-gay   \n",
       "4947                  How_can_gay_marriage_hurt_any_one   \n",
       "4948                                       Gay_Adoption   \n",
       "4949                      should-california-pass-prop-8   \n",
       "4950                      should-california-pass-prop-8   \n",
       "\n",
       "                                                   body       topic  topic_id  \\\n",
       "0     i think that we should have   universal health...  healthcare        28   \n",
       "1     There are some facts about those infant mortal...  healthcare        28   \n",
       "2     You have no solution?  Why?  If you are the ex...  healthcare        28   \n",
       "3     Public spending is already 50% of health care ...  healthcare        28   \n",
       "4      Mandates wrongly give insurers millions of ne...  healthcare        28   \n",
       "...                                                 ...         ...       ...   \n",
       "4946  Actually, there is a scientifically high proba...   gayRights        40   \n",
       "4947  I'm pretty sure you didn't understand my point...   gayRights        40   \n",
       "4948  ahahaha wow 6ahaha 62 i was way off ahaha ...n...   gayRights        40   \n",
       "4949  Brian, you wrote:\"Are you kidding me? Prop 8 i...   gayRights        40   \n",
       "4950  I agree. My story at   www.hope7.highpowersite...   gayRights        40   \n",
       "\n",
       "      liberal                                              body2  \\\n",
       "0           1  i think that we should have universal health c...   \n",
       "1           0  there are some facts about those infant mortal...   \n",
       "2           0  you have no solution why if you are the expert...   \n",
       "3           0  public spending is already of health care rela...   \n",
       "4           1   mandates wrongly give insurers millions of ne...   \n",
       "...       ...                                                ...   \n",
       "4946        1  actually there is a scientifically high probab...   \n",
       "4947        1  im pretty sure you didnt understand my point s...   \n",
       "4948        1  ahahaha wow ahaha i was way off ahaha not hmmm...   \n",
       "4949        1  brian you wroteare you kidding me prop imposes...   \n",
       "4950        0  i agree my story at wwwhopehighpowersitescom i...   \n",
       "\n",
       "                                                  body3  \n",
       "0     i think that we should have universal health c...  \n",
       "1     there are some facts about those infant mortal...  \n",
       "2     you have no solution why if you are the expert...  \n",
       "3     public spending is already of health care rela...  \n",
       "4      mandates wrongly give insurers millions of ne...  \n",
       "...                                                 ...  \n",
       "4946  actually there is a scientifically high probab...  \n",
       "4947   pretty sure you not understand my point so al...  \n",
       "4948  ahahaha wow ahaha i was way off ahaha not hmmm...  \n",
       "4949  brian you wroteare you kidding me prop imposes...  \n",
       "4950  i agree my story at wwwhopehighpowersitescom i...  \n",
       "\n",
       "[4951 rows x 9 columns]"
      ]
     },
     "execution_count": 15,
     "metadata": {},
     "output_type": "execute_result"
    }
   ],
   "source": [
    "final_df_raw"
   ]
  },
  {
   "cell_type": "code",
   "execution_count": 16,
   "metadata": {},
   "outputs": [],
   "source": [
    "CUSTOM_FILTERS = [strip_tags, strip_punctuation, strip_multiple_whitespaces, remove_stopwords]"
   ]
  },
  {
   "cell_type": "code",
   "execution_count": 17,
   "metadata": {},
   "outputs": [],
   "source": [
    "final_df_raw['processed_body'] = final_df_raw['body3'].apply(lambda x: preprocess_string(x, CUSTOM_FILTERS) if x is not np.nan else '')"
   ]
  },
  {
   "cell_type": "code",
   "execution_count": 18,
   "metadata": {},
   "outputs": [
    {
     "data": {
      "text/plain": [
       "True"
      ]
     },
     "execution_count": 18,
     "metadata": {},
     "output_type": "execute_result"
    }
   ],
   "source": [
    "(final_df_raw['processed_body']=='').any()"
   ]
  },
  {
   "cell_type": "code",
   "execution_count": 19,
   "metadata": {},
   "outputs": [],
   "source": [
    "final_df_pro = final_df_raw.loc[~(final_df_raw['processed_body']=='')].drop(columns=['body3', 'body2']).reset_index(drop = True)"
   ]
  },
  {
   "cell_type": "code",
   "execution_count": 20,
   "metadata": {},
   "outputs": [
    {
     "data": {
      "text/plain": [
       "False"
      ]
     },
     "execution_count": 20,
     "metadata": {},
     "output_type": "execute_result"
    }
   ],
   "source": [
    "(final_df_pro['processed_body']=='').any()"
   ]
  },
  {
   "cell_type": "code",
   "execution_count": 21,
   "metadata": {},
   "outputs": [
    {
     "data": {
      "text/plain": [
       "['facts',\n",
       " 'infant',\n",
       " 'mortality',\n",
       " 'statistics',\n",
       " 'considernamely',\n",
       " 'criteria',\n",
       " 'compile',\n",
       " 'example',\n",
       " 'dr',\n",
       " 'linda',\n",
       " 'halderman',\n",
       " 'shed',\n",
       " 'important',\n",
       " 'light',\n",
       " 'httppajamasmediacomblogthedoctorisininfantmortalitycomparisonsastatisticalmiscarriage',\n",
       " 'article',\n",
       " 'dr',\n",
       " 'halderman',\n",
       " 'documents',\n",
       " 'myriad',\n",
       " 'differences',\n",
       " 'country',\n",
       " 'country',\n",
       " 'methodologyadjusted',\n",
       " 'differences',\n",
       " 'infant',\n",
       " 'mortality',\n",
       " 'rates',\n",
       " 'worse',\n",
       " 'countries',\n",
       " 'despite',\n",
       " 'large',\n",
       " 'number',\n",
       " 'illegal',\n",
       " 'immigrants',\n",
       " 'living',\n",
       " 'healthy',\n",
       " 'lifestyle',\n",
       " 'course',\n",
       " 'mere',\n",
       " 'statistics',\n",
       " 'justify',\n",
       " 'violation',\n",
       " 'anyones',\n",
       " 'rights',\n",
       " 'level',\n",
       " 'neonatal',\n",
       " 'care',\n",
       " 'america',\n",
       " 'attest',\n",
       " 'high',\n",
       " 'quality',\n",
       " 'granddaughter',\n",
       " 'born',\n",
       " 'weeks',\n",
       " 'pounds',\n",
       " 'healthy',\n",
       " 'thriving',\n",
       " 'year',\n",
       " 'oldcuba',\n",
       " 'cuba',\n",
       " 'dictatorship',\n",
       " 'means',\n",
       " 'flow',\n",
       " 'information',\n",
       " 'strictly',\n",
       " 'controlled',\n",
       " 'government',\n",
       " 'free',\n",
       " 'investigative',\n",
       " 'press',\n",
       " 'freedomofinformation',\n",
       " 'laws',\n",
       " 'fact',\n",
       " 'use',\n",
       " 'dictatorship',\n",
       " 'support',\n",
       " 'socialized',\n",
       " 'medicine',\n",
       " 'tellingwhen',\n",
       " 'weas',\n",
       " 'society',\n",
       " 'decide',\n",
       " 'governmentrun',\n",
       " 'schooling',\n",
       " 'evolved',\n",
       " 'flaw',\n",
       " 'foundingthe',\n",
       " 'failure',\n",
       " 'founders',\n",
       " 'protect',\n",
       " 'freedom',\n",
       " 'education',\n",
       " 'political',\n",
       " 'intrusion',\n",
       " 'way',\n",
       " 'religious',\n",
       " 'freedom',\n",
       " 'protected',\n",
       " 'wall',\n",
       " 'separation',\n",
       " 'church',\n",
       " 'state',\n",
       " 'fully',\n",
       " 'passionately',\n",
       " 'believe',\n",
       " 'proper',\n",
       " 'education',\n",
       " 'child',\n",
       " 'parents',\n",
       " 'solemn',\n",
       " 'responsibilities',\n",
       " 'oppose',\n",
       " 'governmentrun',\n",
       " 'schools',\n",
       " 'reason',\n",
       " 'oppose',\n",
       " 'governmentrun',\n",
       " 'healthcare',\n",
       " 'immoral',\n",
       " 'impractical',\n",
       " 'violation',\n",
       " 'individual',\n",
       " 'rights',\n",
       " 'guess',\n",
       " 'independent',\n",
       " 'thinking',\n",
       " 'human',\n",
       " 'qualify',\n",
       " 'society',\n",
       " 'claim',\n",
       " 'makes',\n",
       " 'decisions',\n",
       " 'whats',\n",
       " 'interesting',\n",
       " 'actually',\n",
       " 'use',\n",
       " 'example',\n",
       " 'public',\n",
       " 'education',\n",
       " 'justify',\n",
       " 'socialized',\n",
       " 'medicine',\n",
       " 'public',\n",
       " 'education',\n",
       " 'beset',\n",
       " 'exploding',\n",
       " 'costs',\n",
       " 'deteriorating',\n",
       " 'qualityjust',\n",
       " 'expect',\n",
       " 'coercive',\n",
       " 'political',\n",
       " 'monopoly',\n",
       " 'american',\n",
       " 'medicine',\n",
       " 'heading',\n",
       " 'path',\n",
       " 'massive',\n",
       " 'government',\n",
       " 'interference',\n",
       " 'controls',\n",
       " 'complete',\n",
       " 'healthcare',\n",
       " 'dictatorship',\n",
       " 'return',\n",
       " 'freedom',\n",
       " 'medicine',\n",
       " 'wrong',\n",
       " 'solution',\n",
       " 'values',\n",
       " 'quality',\n",
       " 'readily',\n",
       " 'available',\n",
       " 'health',\n",
       " 'care',\n",
       " 'american',\n",
       " 'caste',\n",
       " 'exactly',\n",
       " 'result',\n",
       " 'putting',\n",
       " 'state',\n",
       " 'charge',\n",
       " 'economic',\n",
       " 'decisionmakingwhich',\n",
       " 'apparently',\n",
       " 'want',\n",
       " 'free',\n",
       " 'marketwhich',\n",
       " 'bits',\n",
       " 'pieceseveryone',\n",
       " 'free',\n",
       " 'act',\n",
       " 'judgement',\n",
       " 'advance',\n",
       " 'far',\n",
       " 'ability',\n",
       " 'ambition',\n",
       " 'carry',\n",
       " 'wishes',\n",
       " 'increase',\n",
       " 'pay',\n",
       " 'free',\n",
       " 'increase',\n",
       " 'skills',\n",
       " 'work',\n",
       " 'longer',\n",
       " 'hours',\n",
       " 'seek',\n",
       " 'job',\n",
       " 'create',\n",
       " 'job',\n",
       " 'starting',\n",
       " 'business',\n",
       " 'allowed',\n",
       " 'free',\n",
       " 'rightsrespecting',\n",
       " 'society',\n",
       " 'force',\n",
       " 'jobcreating',\n",
       " 'businesses',\n",
       " 'pay',\n",
       " 'willing',\n",
       " 'pay',\n",
       " 'governmentimposed',\n",
       " 'minimum',\n",
       " 'wage',\n",
       " 'laws',\n",
       " 'like',\n",
       " 'fact',\n",
       " 'particular',\n",
       " 'company',\n",
       " 'hires',\n",
       " 'people',\n",
       " 'approve',\n",
       " 'moving',\n",
       " 'jobs',\n",
       " 'seas',\n",
       " 'free',\n",
       " 'protest',\n",
       " 'refusing',\n",
       " 'buy',\n",
       " 'products',\n",
       " 'like',\n",
       " 'companys',\n",
       " 'benefit',\n",
       " 'policy',\n",
       " 'free',\n",
       " 'free',\n",
       " 'control',\n",
       " 'lifewhich',\n",
       " 'means',\n",
       " 'anyones',\n",
       " 'mercy',\n",
       " 'free',\n",
       " 'free',\n",
       " 'market',\n",
       " 'means',\n",
       " 'government',\n",
       " 'regiments',\n",
       " 'economic',\n",
       " 'life',\n",
       " 'nationwhen',\n",
       " 'mercy',\n",
       " 'government',\n",
       " 'officialsthen',\n",
       " 'actual',\n",
       " 'individuals',\n",
       " 'locked',\n",
       " 'cast',\n",
       " 'having',\n",
       " 'dependant',\n",
       " 'government',\n",
       " 'favor',\n",
       " 'agree',\n",
       " 'entitlements',\n",
       " 'arent',\n",
       " 'lazy',\n",
       " 'people',\n",
       " 'trying',\n",
       " 'rip',\n",
       " 'big',\n",
       " 'businesses',\n",
       " 'seeking',\n",
       " 'government',\n",
       " 'subsidies',\n",
       " 'bailouts',\n",
       " 'favors',\n",
       " 'middle',\n",
       " 'upper',\n",
       " 'middle',\n",
       " 'class',\n",
       " 'earners',\n",
       " 'seeking',\n",
       " 'affordable',\n",
       " 'demanding',\n",
       " 'government',\n",
       " 'force',\n",
       " 'provide',\n",
       " 'workers',\n",
       " 'seeking',\n",
       " 'living',\n",
       " 'wages',\n",
       " 'qualified',\n",
       " 'willing',\n",
       " 'voluntarily',\n",
       " 'pay',\n",
       " 'residents',\n",
       " 'wealthy',\n",
       " 'towns',\n",
       " 'seeking',\n",
       " 'lowerincome',\n",
       " 'undesirables',\n",
       " 'order',\n",
       " 'preserve',\n",
       " 'quality',\n",
       " 'communities',\n",
       " 'restrictive',\n",
       " 'zoning',\n",
       " 'planning',\n",
       " 'practices',\n",
       " 'yes',\n",
       " 'lazy',\n",
       " 'people',\n",
       " 'trying',\n",
       " 'rip',\n",
       " 'come',\n",
       " 'shades',\n",
       " 'classes',\n",
       " 'regions',\n",
       " 'entitlement',\n",
       " 'mentality',\n",
       " 'engulfing',\n",
       " 'country',\n",
       " 'possible',\n",
       " 'single',\n",
       " 'common',\n",
       " 'denominatorthe',\n",
       " 'governments',\n",
       " 'power',\n",
       " 'hand',\n",
       " 'economic',\n",
       " 'favors',\n",
       " 'expense',\n",
       " 'universal',\n",
       " 'healthcare',\n",
       " 'entitlement',\n",
       " 'loselose',\n",
       " 'proposition',\n",
       " 'hand',\n",
       " 'money',\n",
       " 'central',\n",
       " 'planning',\n",
       " 'bureaucracy',\n",
       " 'return',\n",
       " 'right',\n",
       " 'health',\n",
       " 'care',\n",
       " 'decisions']"
      ]
     },
     "execution_count": 21,
     "metadata": {},
     "output_type": "execute_result"
    }
   ],
   "source": [
    "final_df_pro['processed_body'][1]"
   ]
  },
  {
   "cell_type": "code",
   "execution_count": 22,
   "metadata": {},
   "outputs": [],
   "source": [
    "final_df_pro['processed_filter'] = final_df_pro['processed_body'].apply(lambda x: [i for i in x if len(i)<=20 and len(i)>=2])"
   ]
  },
  {
   "cell_type": "code",
   "execution_count": 23,
   "metadata": {},
   "outputs": [
    {
     "data": {
      "text/plain": [
       "0       [think, universal, health, care, look, way, al...\n",
       "1       [facts, infant, mortality, statistics, conside...\n",
       "2       [solution, expert, solution, want, universal, ...\n",
       "3       [public, spending, health, care, related, cost...\n",
       "4       [mandates, wrongly, insurers, millions, new, c...\n",
       "                              ...                        \n",
       "4942    [actually, scientifically, high, probability, ...\n",
       "4943    [pretty, sure, understand, point, allow, expla...\n",
       "4944    [ahahaha, wow, ahaha, way, ahaha, hmmmm, happy...\n",
       "4945    [brian, wroteare, kidding, prop, imposes, reli...\n",
       "4946    [agree, story, option, prop, upheld, tradition...\n",
       "Name: processed_filter, Length: 4947, dtype: object"
      ]
     },
     "execution_count": 23,
     "metadata": {},
     "output_type": "execute_result"
    }
   ],
   "source": [
    "final_df_pro['processed_filter']"
   ]
  },
  {
   "cell_type": "code",
   "execution_count": 24,
   "metadata": {},
   "outputs": [],
   "source": [
    "lens = final_df_pro['processed_filter'].apply(lambda x: len(x))"
   ]
  },
  {
   "cell_type": "code",
   "execution_count": 25,
   "metadata": {},
   "outputs": [
    {
     "data": {
      "text/plain": [
       "720"
      ]
     },
     "execution_count": 25,
     "metadata": {},
     "output_type": "execute_result"
    }
   ],
   "source": [
    "(lens<10).sum()"
   ]
  },
  {
   "cell_type": "code",
   "execution_count": 26,
   "metadata": {},
   "outputs": [],
   "source": [
    "data_df = final_df_pro.loc[lens>=10]"
   ]
  },
  {
   "cell_type": "code",
   "execution_count": 27,
   "metadata": {},
   "outputs": [
    {
     "data": {
      "text/plain": [
       "(4227, 9)"
      ]
     },
     "execution_count": 27,
     "metadata": {},
     "output_type": "execute_result"
    }
   ],
   "source": [
    "data_df.shape"
   ]
  },
  {
   "cell_type": "code",
   "execution_count": 34,
   "metadata": {},
   "outputs": [],
   "source": [
    "# kvs = KeyedVectors.load(r'/home/cczephyrin/projects/political embedding/embedding/.kv', mmap='r')"
   ]
  },
  {
   "cell_type": "code",
   "execution_count": 28,
   "metadata": {},
   "outputs": [
    {
     "data": {
      "text/plain": [
       "4227"
      ]
     },
     "execution_count": 28,
     "metadata": {},
     "output_type": "execute_result"
    }
   ],
   "source": [
    "sentences = data_df['processed_filter'].tolist()\n",
    "len(sentences)"
   ]
  },
  {
   "cell_type": "code",
   "execution_count": 29,
   "metadata": {},
   "outputs": [],
   "source": [
    "sentences_vectors = np.array([np.mean(np.array([kvs.get_vector(w) for w in sen if w in kvs.key_to_index]), axis = 0) for sen in sentences])"
   ]
  },
  {
   "cell_type": "code",
   "execution_count": 30,
   "metadata": {},
   "outputs": [],
   "source": [
    "np.save(r'/home/cczephyrin/projects/political embedding/training_vec/debabe_test/debate_sentencevector' ,sentences_vectors)"
   ]
  },
  {
   "cell_type": "code",
   "execution_count": null,
   "metadata": {},
   "outputs": [],
   "source": []
  },
  {
   "cell_type": "code",
   "execution_count": null,
   "metadata": {},
   "outputs": [],
   "source": []
  },
  {
   "cell_type": "code",
   "execution_count": null,
   "metadata": {},
   "outputs": [],
   "source": []
  },
  {
   "cell_type": "code",
   "execution_count": null,
   "metadata": {},
   "outputs": [],
   "source": [
    "# topics of debate use updated kv and tpr"
   ]
  },
  {
   "cell_type": "code",
   "execution_count": 31,
   "metadata": {},
   "outputs": [],
   "source": [
    "topic_num = data_df['topic_id']"
   ]
  },
  {
   "cell_type": "code",
   "execution_count": 32,
   "metadata": {},
   "outputs": [],
   "source": [
    "data_df = data_df.reset_index(drop= True)"
   ]
  },
  {
   "cell_type": "code",
   "execution_count": 33,
   "metadata": {},
   "outputs": [],
   "source": [
    "data_df.to_csv(datapath + r'/somas_debate_4topics_processfiltered.csv', sep = '\\t', encoding = 'ISO-8859-1', index_label = False)"
   ]
  },
  {
   "cell_type": "code",
   "execution_count": 34,
   "metadata": {},
   "outputs": [],
   "source": [
    "np.save(r'/home/cczephyrin/projects/political embedding/training_vec/debabe_test/speech_ids',data_df.index.values)"
   ]
  },
  {
   "cell_type": "code",
   "execution_count": 35,
   "metadata": {},
   "outputs": [],
   "source": [
    "\n",
    "np.save(r'/home/cczephyrin/projects/political embedding/training_vec/debabe_test/stance_lib',data_df['liberal'].values)"
   ]
  },
  {
   "cell_type": "code",
   "execution_count": 36,
   "metadata": {},
   "outputs": [],
   "source": [
    "topic_hard = np.zeros([data_df.shape[0], 68])\n",
    "for i, t in enumerate(topic_num):\n",
    "    topic_hard[i,t] =1\n"
   ]
  },
  {
   "cell_type": "code",
   "execution_count": 37,
   "metadata": {},
   "outputs": [],
   "source": [
    "np.save(r'/home/cczephyrin/projects/political embedding/training_vec/debabe_test/hard_topic',topic_hard)"
   ]
  },
  {
   "cell_type": "code",
   "execution_count": 42,
   "metadata": {},
   "outputs": [],
   "source": [
    "tpv_cr = np.load(r'/home/cczephyrin/projects/political embedding/training_vec/debate_Topicvectors_noother.npy')"
   ]
  },
  {
   "cell_type": "code",
   "execution_count": 43,
   "metadata": {},
   "outputs": [
    {
     "name": "stdout",
     "output_type": "stream",
     "text": [
      "0.29817249774932864\n",
      "0.3510613262653351\n",
      "0.3749004900455475\n",
      "0.39581412076950073\n",
      "0.43990007042884827\n",
      "0.47366634011268616\n",
      "0.5092536568641662\n",
      "0.5477065086364746\n"
     ]
    }
   ],
   "source": [
    "from scipy.spatial.distance import cosine\n",
    "\n",
    "cosine_dis = np.array([[1 - cosine(sv, tv) for tv in tpv_cr] for sv in sentences_vectors])\n",
    "\n",
    "\n",
    "max_sim = np.amax(cosine_dis, axis  =1)\n",
    "\n",
    "\n",
    "# In[15]:\n",
    "\n"
   ]
  },
  {
   "cell_type": "code",
   "execution_count": 45,
   "metadata": {},
   "outputs": [
    {
     "name": "stdout",
     "output_type": "stream",
     "text": [
      "0.20633341789245604\n",
      "0.2628538191318512\n",
      "0.29817249774932864\n",
      "0.3510613262653351\n",
      "0.3749004900455475\n",
      "0.39581412076950073\n",
      "0.43990007042884827\n",
      "0.47366634011268616\n",
      "0.5092536568641662\n",
      "0.5477065086364746\n"
     ]
    }
   ],
   "source": [
    "\n",
    "for i in [1, 5, 10, 20, 25,  30, 40, 50, 60, 70]:\n",
    "    print(np.percentile(max_sim, i))\n",
    "\n"
   ]
  },
  {
   "cell_type": "code",
   "execution_count": 50,
   "metadata": {},
   "outputs": [],
   "source": [
    "a = 0.2\n",
    "cosine_dis_masked = cosine_dis.copy()"
   ]
  },
  {
   "cell_type": "code",
   "execution_count": 51,
   "metadata": {},
   "outputs": [],
   "source": [
    "cosine_dis_masked[cosine_dis<=a] = 0\n",
    "max_masked = np.amax(cosine_dis_masked, axis = 1)\n",
    "nonetopic = (max_masked==0)*1"
   ]
  },
  {
   "cell_type": "code",
   "execution_count": 66,
   "metadata": {},
   "outputs": [
    {
     "data": {
      "text/plain": [
       "35"
      ]
     },
     "execution_count": 66,
     "metadata": {},
     "output_type": "execute_result"
    }
   ],
   "source": [
    "nonetopic.sum()"
   ]
  },
  {
   "cell_type": "code",
   "execution_count": 52,
   "metadata": {},
   "outputs": [],
   "source": [
    "soft_topics = np.concatenate((cosine_dis_masked, np.array([nonetopic]).T), axis = 1)\n",
    "soft_topics[soft_topics==0] = -20\n",
    "soft_topics = np.exp(soft_topics)\n",
    "soft_topics[soft_topics<0.000001] = 0\n",
    "softmax_topics = soft_topics/np.sum(soft_topics, axis = -1)[:, None]"
   ]
  },
  {
   "cell_type": "code",
   "execution_count": 136,
   "metadata": {},
   "outputs": [],
   "source": [
    "# a = 0.2\n",
    "# cosine_dis_masked = cosine_dis.copy()\n",
    "# cosine_dis_masked[:, -1] = 0\n",
    "# # cosine_dis_masked = cosine_dis.copy()\n",
    "# cosine_dis_masked[cosine_dis<=a] = 0 # 10% of max as none topic\n",
    "# max_masked = np.amax(cosine_dis_masked, axis = 1)\n",
    "# nonetopic = (max_masked==0)*1"
   ]
  },
  {
   "cell_type": "code",
   "execution_count": 55,
   "metadata": {},
   "outputs": [
    {
     "data": {
      "text/plain": [
       "0    [think, universal, health, care, look, way, al...\n",
       "1    [facts, infant, mortality, statistics, conside...\n",
       "2    [solution, expert, solution, want, universal, ...\n",
       "3    [public, spending, health, care, related, cost...\n",
       "4    [mandates, wrongly, insurers, millions, new, c...\n",
       "5    [free, health, care, free, pay, doctors, offic...\n",
       "Name: processed_filter, dtype: object"
      ]
     },
     "execution_count": 55,
     "metadata": {},
     "output_type": "execute_result"
    }
   ],
   "source": [
    "data_df.loc[:5, 'processed_filter']"
   ]
  },
  {
   "cell_type": "code",
   "execution_count": 56,
   "metadata": {},
   "outputs": [],
   "source": [
    "np.save(r'/home/cczephyrin/projects/political embedding/training_vec/debabe_test/soft_topic', softmax_topics)"
   ]
  },
  {
   "cell_type": "code",
   "execution_count": 57,
   "metadata": {},
   "outputs": [
    {
     "data": {
      "text/plain": [
       "(1674, 1674)"
      ]
     },
     "execution_count": 57,
     "metadata": {},
     "output_type": "execute_result"
    }
   ],
   "source": [
    "# generate random \n",
    "ones = np.eye(1674)\n",
    "ones.shape"
   ]
  },
  {
   "cell_type": "code",
   "execution_count": 58,
   "metadata": {},
   "outputs": [],
   "source": [
    "authorfakeid = np.random.choice(1674, data_df.shape[0])"
   ]
  },
  {
   "cell_type": "code",
   "execution_count": 59,
   "metadata": {},
   "outputs": [
    {
     "data": {
      "text/plain": [
       "(4227,)"
      ]
     },
     "execution_count": 59,
     "metadata": {},
     "output_type": "execute_result"
    }
   ],
   "source": [
    "authorfakeid.shape"
   ]
  },
  {
   "cell_type": "code",
   "execution_count": 60,
   "metadata": {},
   "outputs": [],
   "source": [
    "authorfake = ones[authorfakeid]"
   ]
  },
  {
   "cell_type": "code",
   "execution_count": 61,
   "metadata": {},
   "outputs": [
    {
     "data": {
      "text/plain": [
       "(4227, 1674)"
      ]
     },
     "execution_count": 61,
     "metadata": {},
     "output_type": "execute_result"
    }
   ],
   "source": [
    "authorfake.shape"
   ]
  },
  {
   "cell_type": "code",
   "execution_count": 62,
   "metadata": {},
   "outputs": [],
   "source": [
    "np.save(r'/home/cczephyrin/projects/political embedding/training_vec/debabe_test/fake_author', authorfake)"
   ]
  },
  {
   "cell_type": "code",
   "execution_count": 69,
   "metadata": {},
   "outputs": [
    {
     "data": {
      "text/plain": [
       "35"
      ]
     },
     "execution_count": 69,
     "metadata": {},
     "output_type": "execute_result"
    }
   ],
   "source": [
    "(softmax_topics[:, -1]==1).sum()"
   ]
  },
  {
   "cell_type": "code",
   "execution_count": 72,
   "metadata": {},
   "outputs": [],
   "source": [
    "none_vec=sentences_vectors[softmax_topics[:, -1]==1].mean(axis = 0).shape"
   ]
  },
  {
   "cell_type": "code",
   "execution_count": 81,
   "metadata": {},
   "outputs": [
    {
     "ename": "SyntaxError",
     "evalue": "invalid syntax (<ipython-input-81-3e6900d1e8ca>, line 1)",
     "output_type": "error",
     "traceback": [
      "\u001b[0;36m  File \u001b[0;32m\"<ipython-input-81-3e6900d1e8ca>\"\u001b[0;36m, line \u001b[0;32m1\u001b[0m\n\u001b[0;31m    tpv_db = np.concatenate((tpv_cr, np.array([none_vec]), axis = 0)\u001b[0m\n\u001b[0m                                                                ^\u001b[0m\n\u001b[0;31mSyntaxError\u001b[0m\u001b[0;31m:\u001b[0m invalid syntax\n"
     ]
    }
   ],
   "source": [
    "tpv_db = np.concatenate((tpv_cr, np.array([none_vec]), axis = 0)"
   ]
  },
  {
   "cell_type": "code",
   "execution_count": null,
   "metadata": {},
   "outputs": [],
   "source": []
  }
 ],
 "metadata": {
  "kernelspec": {
   "display_name": "py37",
   "language": "python",
   "name": "py37"
  },
  "language_info": {
   "codemirror_mode": {
    "name": "ipython",
    "version": 3
   },
   "file_extension": ".py",
   "mimetype": "text/x-python",
   "name": "python",
   "nbconvert_exporter": "python",
   "pygments_lexer": "ipython3",
   "version": "3.8.8"
  }
 },
 "nbformat": 4,
 "nbformat_minor": 2
}
