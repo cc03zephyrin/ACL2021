{
 "cells": [
  {
   "cell_type": "code",
   "execution_count": 3,
   "metadata": {
    "id": "CDVWnOKtK3Yy"
   },
   "outputs": [],
   "source": [
    "import numpy as np\n",
    "from sklearn import datasets\n",
    "from sklearn.semi_supervised import LabelSpreading, SelfTrainingClassifier\n",
    "import pandas as pd\n",
    "from sklearn.model_selection import StratifiedShuffleSplit\n",
    "\n",
    "\n",
    "\n",
    "# iris = datasets.load_iris()\n",
    "# rng = np.random.RandomState(42)\n",
    "# random_unlabeled_points = rng.rand(len(iris.target)) < 0.3\n",
    "# labels = np.copy(iris.target)\n",
    "# labels[random_unlabeled_points] = -1\n",
    "# label_prop_model.fit(iris.data, labels)"
   ]
  },
  {
   "cell_type": "code",
   "execution_count": 4,
   "metadata": {
    "colab": {
     "base_uri": "https://localhost:8080/"
    },
    "id": "onQoG9M8N94V",
    "outputId": "383857f6-5e21-4763-c5f7-dd0685a0a37c"
   },
   "outputs": [
    {
     "data": {
      "text/plain": [
       "'D:\\\\projects\\\\congress'"
      ]
     },
     "execution_count": 4,
     "metadata": {},
     "output_type": "execute_result"
    }
   ],
   "source": [
    "import os\n",
    "# from google.colab import drive\n",
    "# drive.mount(r'/content/gdrive')\n",
    "# print(os.listdir())\n",
    "# os.chdir(r'./gdrive/MyDrive/congress_SSL')\n",
    "os.chdir(r'D:\\projects\\congress\\\\')\n",
    "os.getcwd()"
   ]
  },
  {
   "cell_type": "code",
   "execution_count": 5,
   "metadata": {
    "id": "_aTt1kOrLVgC"
   },
   "outputs": [],
   "source": [
    "congress = pd.read_csv(r'./processed/processed_reports/crs_2009_20_10_04_trancated.csv',  sep ='\\t', encoding = 'ISO-8859-1', index_col = 0)"
   ]
  },
  {
   "cell_type": "code",
   "execution_count": 6,
   "metadata": {},
   "outputs": [
    {
     "data": {
      "text/html": [
       "<div>\n",
       "<style scoped>\n",
       "    .dataframe tbody tr th:only-of-type {\n",
       "        vertical-align: middle;\n",
       "    }\n",
       "\n",
       "    .dataframe tbody tr th {\n",
       "        vertical-align: top;\n",
       "    }\n",
       "\n",
       "    .dataframe thead th {\n",
       "        text-align: right;\n",
       "    }\n",
       "</style>\n",
       "<table border=\"1\" class=\"dataframe\">\n",
       "  <thead>\n",
       "    <tr style=\"text-align: right;\">\n",
       "      <th></th>\n",
       "      <th>speech_id</th>\n",
       "      <th>true_id</th>\n",
       "      <th>chamber</th>\n",
       "      <th>state</th>\n",
       "      <th>party</th>\n",
       "      <th>congress</th>\n",
       "      <th>daysafter</th>\n",
       "      <th>monthsafter</th>\n",
       "      <th>speech</th>\n",
       "      <th>date</th>\n",
       "      <th>topics_prior</th>\n",
       "    </tr>\n",
       "  </thead>\n",
       "  <tbody>\n",
       "    <tr>\n",
       "      <th>594060</th>\n",
       "      <td>1110000007</td>\n",
       "      <td>L000557</td>\n",
       "      <td>H</td>\n",
       "      <td>CT</td>\n",
       "      <td>D</td>\n",
       "      <td>111</td>\n",
       "      <td>6578</td>\n",
       "      <td>216</td>\n",
       "      <td>our democracy renews itself every 2 years as m...</td>\n",
       "      <td>20090106</td>\n",
       "      <td>22</td>\n",
       "    </tr>\n",
       "    <tr>\n",
       "      <th>594061</th>\n",
       "      <td>1110000009</td>\n",
       "      <td>P000587</td>\n",
       "      <td>H</td>\n",
       "      <td>IN</td>\n",
       "      <td>R</td>\n",
       "      <td>111</td>\n",
       "      <td>6578</td>\n",
       "      <td>216</td>\n",
       "      <td>madam clerk. as chairman of the republican con...</td>\n",
       "      <td>20090106</td>\n",
       "      <td>22</td>\n",
       "    </tr>\n",
       "    <tr>\n",
       "      <th>594062</th>\n",
       "      <td>1110000013</td>\n",
       "      <td>B000589</td>\n",
       "      <td>H</td>\n",
       "      <td>OH</td>\n",
       "      <td>R</td>\n",
       "      <td>111</td>\n",
       "      <td>6578</td>\n",
       "      <td>216</td>\n",
       "      <td>. leader hoyer. fellow members. and a special ...</td>\n",
       "      <td>20090106</td>\n",
       "      <td>18</td>\n",
       "    </tr>\n",
       "    <tr>\n",
       "      <th>594063</th>\n",
       "      <td>1110000014</td>\n",
       "      <td>P000197</td>\n",
       "      <td>H</td>\n",
       "      <td>CA</td>\n",
       "      <td>D</td>\n",
       "      <td>111</td>\n",
       "      <td>6578</td>\n",
       "      <td>216</td>\n",
       "      <td>thank you very much. leader boehner. together....</td>\n",
       "      <td>20090106</td>\n",
       "      <td>22</td>\n",
       "    </tr>\n",
       "    <tr>\n",
       "      <th>594064</th>\n",
       "      <td>1110000016</td>\n",
       "      <td>L000557</td>\n",
       "      <td>H</td>\n",
       "      <td>CT</td>\n",
       "      <td>D</td>\n",
       "      <td>111</td>\n",
       "      <td>6578</td>\n",
       "      <td>216</td>\n",
       "      <td>for\"your nomination this morning. thank you to...</td>\n",
       "      <td>20090106</td>\n",
       "      <td>-1</td>\n",
       "    </tr>\n",
       "  </tbody>\n",
       "</table>\n",
       "</div>"
      ],
      "text/plain": [
       "         speech_id  true_id chamber state party  congress  daysafter  \\\n",
       "594060  1110000007  L000557       H    CT     D       111       6578   \n",
       "594061  1110000009  P000587       H    IN     R       111       6578   \n",
       "594062  1110000013  B000589       H    OH     R       111       6578   \n",
       "594063  1110000014  P000197       H    CA     D       111       6578   \n",
       "594064  1110000016  L000557       H    CT     D       111       6578   \n",
       "\n",
       "        monthsafter                                             speech  \\\n",
       "594060          216  our democracy renews itself every 2 years as m...   \n",
       "594061          216  madam clerk. as chairman of the republican con...   \n",
       "594062          216  . leader hoyer. fellow members. and a special ...   \n",
       "594063          216  thank you very much. leader boehner. together....   \n",
       "594064          216  for\"your nomination this morning. thank you to...   \n",
       "\n",
       "            date  topics_prior  \n",
       "594060  20090106            22  \n",
       "594061  20090106            22  \n",
       "594062  20090106            18  \n",
       "594063  20090106            22  \n",
       "594064  20090106            -1  "
      ]
     },
     "execution_count": 6,
     "metadata": {},
     "output_type": "execute_result"
    }
   ],
   "source": [
    "congress.head()"
   ]
  },
  {
   "cell_type": "code",
   "execution_count": 7,
   "metadata": {
    "id": "-IjSpTpMLbc5"
   },
   "outputs": [],
   "source": [
    "sent_vec = np.load(r'./processed/training_vectors/sentence_vec_2009_20.npy')\n",
    "As_all = np.load(r'./processed/training_vectors/author_dummy_2009_20.npy')"
   ]
  },
  {
   "cell_type": "code",
   "execution_count": 8,
   "metadata": {
    "colab": {
     "base_uri": "https://localhost:8080/"
    },
    "id": "-bNj4FJaz603",
    "outputId": "5fb52c19-3fb1-4ff1-c625-e870abdad0b0"
   },
   "outputs": [
    {
     "data": {
      "text/plain": [
       "((208292, 300), (208292, 11), (208292, 1674))"
      ]
     },
     "execution_count": 8,
     "metadata": {},
     "output_type": "execute_result"
    }
   ],
   "source": [
    "sent_vec.shape, congress.shape, As_all.shape"
   ]
  },
  {
   "cell_type": "code",
   "execution_count": 9,
   "metadata": {
    "id": "IrB8GAbHLok5"
   },
   "outputs": [],
   "source": [
    "dws = np.load(r'./processed/training_vectors/dws_2009_20.npy')\n",
    "congress['dw']= dws\n",
    "\n",
    "\n",
    "true_switchers_ = ['A000361','B000229', 'B001264', 'D000168', 'G000280', 'H000067', 'H000390', 'L000119', 'P000066', 'T000058', 'C000077','F000257', 'G000557', \n",
    "'S000320', 'S000709','J000072']\n",
    "\n",
    "independents = ['S000033', 'B001237', 'K000383']\n",
    "\n",
    "true_switchers =independents + true_switchers_\n",
    "select = ~congress['true_id'].isin(true_switchers)\n",
    "congress_flt_ = congress.loc[select]\n",
    "sentvec_flt = sent_vec[select]\n",
    "dws_flt = dws[select]\n",
    "labels = ((congress_flt_['party'] == 'D')*1).values\n",
    "As_flt =As_all[select]\n",
    "\n",
    "# congress_flt = congress_flt_.sort_values(by = ['dw'], ascending = True, ignore_index = True)"
   ]
  },
  {
   "cell_type": "code",
   "execution_count": 10,
   "metadata": {
    "colab": {
     "base_uri": "https://localhost:8080/"
    },
    "id": "gL_hzD211rre",
    "outputId": "882e85b3-f34a-4f26-87da-434585c32138"
   },
   "outputs": [
    {
     "data": {
      "text/plain": [
       "(array([1, 0, 0, ..., 0, 0, 1]), (206899,), (206899, 1674))"
      ]
     },
     "execution_count": 10,
     "metadata": {},
     "output_type": "execute_result"
    }
   ],
   "source": [
    "labels, labels.shape, As_flt.shape"
   ]
  },
  {
   "cell_type": "code",
   "execution_count": 11,
   "metadata": {
    "colab": {
     "base_uri": "https://localhost:8080/"
    },
    "id": "JH8xihF10vD4",
    "outputId": "3e2cccdd-ee26-4406-f85a-23ecefc3938d"
   },
   "outputs": [
    {
     "data": {
      "text/plain": [
       "(206899,)"
      ]
     },
     "execution_count": 11,
     "metadata": {},
     "output_type": "execute_result"
    }
   ],
   "source": [
    "# labels.shape, congress_flt.shape\n",
    "topics = congress_flt_['topics_prior'].values\n",
    "topics.shape"
   ]
  },
  {
   "cell_type": "code",
   "execution_count": 12,
   "metadata": {
    "colab": {
     "base_uri": "https://localhost:8080/"
    },
    "id": "CokGxNTi04P_",
    "outputId": "7c54e9a8-157c-4212-a164-ac3f8fb06931"
   },
   "outputs": [
    {
     "data": {
      "text/plain": [
       "array([-0.769, -0.769, -0.769, ...,  0.916,  0.916,  0.916], dtype=float32)"
      ]
     },
     "execution_count": 12,
     "metadata": {},
     "output_type": "execute_result"
    }
   ],
   "source": [
    "# sort dws\n",
    "sortinx = np.argsort(dws_flt)\n",
    "dws_flt[sortinx]"
   ]
  },
  {
   "cell_type": "code",
   "execution_count": 13,
   "metadata": {
    "id": "OBgad2JQ1KHX"
   },
   "outputs": [],
   "source": [
    "labels = labels[sortinx]\n",
    "sentvec_flt = sentvec_flt[sortinx]\n",
    "topics = topics[sortinx]\n",
    "As = As_flt[sortinx]"
   ]
  },
  {
   "cell_type": "code",
   "execution_count": 14,
   "metadata": {
    "id": "k-ji6tuxRrod"
   },
   "outputs": [],
   "source": [
    "def sample(labels, topics, biased = True, notmask = 0.8):\n",
    "\n",
    "  total = len(labels)\n",
    "  print(total)\n",
    "  if not biased: \n",
    "    print('started random split, test size {}'.format(1-notmask))\n",
    "    sss = StratifiedShuffleSplit(n_splits=5, test_size= 1- notmask)\n",
    "    trainid, testid = next(sss.split(topics, labels))\n",
    "    assert len(trainid) + len(testid) == total, \"length error\"\n",
    "  else:\n",
    "    print('started biased split, test size {}'.format(1-notmask))\n",
    "    topn = int(total * notmask/2.0)\n",
    "    testid = np.arange(total)[topn:-topn]\n",
    "    trainid = np.concatenate([np.arange(total)[:topn], np.arange(total)[-topn:]])\n",
    "  return trainid, testid"
   ]
  },
  {
   "cell_type": "code",
   "execution_count": 23,
   "metadata": {},
   "outputs": [],
   "source": [
    "def predict_party_membership(s_pred, y, As):\n",
    "    # filter out nan\n",
    "    \n",
    "    fin = np.isfinite(s_pred)\n",
    "    s_pred = s_pred[fin]\n",
    "    y = y[fin]\n",
    "    As = As[fin]\n",
    "    nonzero_inx = (np.sum(As.T, axis = -1) !=0)\n",
    "    ave_slants = (np.matmul(As.T, s_pred)/(np.sum(As.T, axis = -1) + 0.000001))[nonzero_inx]\n",
    "    y_ = np.matmul(As.T, y) >0 # this is party label per person, but those with 0 speech be 0\n",
    "    print(\"test slant\", ave_slants.mean(), ave_slants[:5])\n",
    "    y_true = y_[nonzero_inx]\n",
    "    y_pred = ave_slants>0\n",
    "    return np.mean(y_true == y_pred)"
   ]
  },
  {
   "cell_type": "code",
   "execution_count": 24,
   "metadata": {
    "colab": {
     "base_uri": "https://localhost:8080/"
    },
    "id": "fAvW6-q0-kp2",
    "outputId": "015a5543-ad8f-4148-a61b-9407bfcbe85e"
   },
   "outputs": [
    {
     "name": "stdout",
     "output_type": "stream",
     "text": [
      "206899\n",
      "started biased split, test size 0.8\n"
     ]
    }
   ],
   "source": [
    "trainid, testid = sample(labels, topics, biased = True, notmask =0.2)"
   ]
  },
  {
   "cell_type": "code",
   "execution_count": 25,
   "metadata": {
    "id": "s5kwezjL0t1c"
   },
   "outputs": [
    {
     "ename": "NameError",
     "evalue": "name 'congress' is not defined",
     "output_type": "error",
     "traceback": [
      "\u001b[1;31m---------------------------------------------------------------------------\u001b[0m",
      "\u001b[1;31mNameError\u001b[0m                                 Traceback (most recent call last)",
      "\u001b[1;32m<ipython-input-25-337d82553454>\u001b[0m in \u001b[0;36m<module>\u001b[1;34m\u001b[0m\n\u001b[1;32m----> 1\u001b[1;33m \u001b[1;32mdel\u001b[0m \u001b[0mcongress\u001b[0m\u001b[1;33m\u001b[0m\u001b[1;33m\u001b[0m\u001b[0m\n\u001b[0m\u001b[0;32m      2\u001b[0m \u001b[1;32mdel\u001b[0m \u001b[0mcongress_flt_\u001b[0m\u001b[1;33m\u001b[0m\u001b[1;33m\u001b[0m\u001b[0m\n",
      "\u001b[1;31mNameError\u001b[0m: name 'congress' is not defined"
     ]
    }
   ],
   "source": [
    "del congress\n",
    "del congress_flt_\n"
   ]
  },
  {
   "cell_type": "code",
   "execution_count": 26,
   "metadata": {
    "id": "TS3mQpDH6N2v"
   },
   "outputs": [
    {
     "ename": "NameError",
     "evalue": "name 'sent_vec' is not defined",
     "output_type": "error",
     "traceback": [
      "\u001b[1;31m---------------------------------------------------------------------------\u001b[0m",
      "\u001b[1;31mNameError\u001b[0m                                 Traceback (most recent call last)",
      "\u001b[1;32m<ipython-input-26-bccff42e4f12>\u001b[0m in \u001b[0;36m<module>\u001b[1;34m\u001b[0m\n\u001b[1;32m----> 1\u001b[1;33m \u001b[1;32mdel\u001b[0m \u001b[0msent_vec\u001b[0m\u001b[1;33m\u001b[0m\u001b[1;33m\u001b[0m\u001b[0m\n\u001b[0m\u001b[0;32m      2\u001b[0m \u001b[1;32mdel\u001b[0m \u001b[0mdws\u001b[0m\u001b[1;33m\u001b[0m\u001b[1;33m\u001b[0m\u001b[0m\n",
      "\u001b[1;31mNameError\u001b[0m: name 'sent_vec' is not defined"
     ]
    }
   ],
   "source": [
    "del sent_vec\n",
    "del dws"
   ]
  },
  {
   "cell_type": "code",
   "execution_count": 31,
   "metadata": {
    "colab": {
     "base_uri": "https://localhost:8080/"
    },
    "id": "QbMa60SJTfo9",
    "outputId": "1d455db5-3405-4b7d-c240-7a2d7fbc6abf"
   },
   "outputs": [
    {
     "name": "stdout",
     "output_type": "stream",
     "text": [
      "label_spreading_0.01_bias\n",
      "206899\n",
      "started biased split, test size 0.99\n",
      "[-1 -1 -1 -1 -1 -1 -1 -1 -1 -1 -1 -1 -1 -1 -1 -1 -1 -1  1 -1 -1 -1 -1 -1\n",
      " -1 -1 -1 -1 -1 -1 -1 -1 -1 -1 -1 -1 -1 -1 -1 -1 -1 -1 -1 -1 -1 -1 -1 -1\n",
      " -1  0 -1 -1 -1 -1 -1 -1 -1 -1 -1 -1 -1 -1 -1 -1 -1 -1 -1 -1 -1 -1 -1 -1\n",
      " -1 -1 -1 -1 -1 -1 -1 -1 -1 -1 -1 -1 -1 -1 -1 -1 -1 -1 -1 -1 -1 -1 -1 -1\n",
      " -1 -1 -1 -1]\n"
     ]
    },
    {
     "name": "stderr",
     "output_type": "stream",
     "text": [
      "D:\\anaconda\\envs\\py37\\lib\\site-packages\\sklearn\\semi_supervised\\_label_propagation.py:205: RuntimeWarning: invalid value encountered in true_divide\n",
      "  probabilities /= normalizer\n",
      "D:\\anaconda\\envs\\py37\\lib\\site-packages\\sklearn\\semi_supervised\\_label_propagation.py:205: RuntimeWarning: invalid value encountered in true_divide\n",
      "  probabilities /= normalizer\n",
      "D:\\anaconda\\envs\\py37\\lib\\site-packages\\ipykernel_launcher.py:43: RuntimeWarning: divide by zero encountered in log\n"
     ]
    },
    {
     "name": "stdout",
     "output_type": "stream",
     "text": [
      "0.5218985407482266 9308 204831\n",
      "test slant 0.8683953101542335 [-0.07395268  1.77464752  0.35814688  2.76239974 -0.51464617]\n",
      "acc, pcc 0.6055186959005229 0.7180746561886051\n",
      "label_spreading_0.03_bias\n",
      "206899\n",
      "started biased split, test size 0.97\n",
      "[-1 -1 -1 -1 -1 -1 -1 -1 -1 -1 -1 -1  1 -1  0 -1 -1 -1 -1 -1 -1 -1 -1 -1\n",
      " -1 -1 -1 -1 -1 -1 -1 -1 -1 -1 -1 -1 -1 -1 -1 -1 -1 -1 -1 -1 -1 -1 -1 -1\n",
      " -1 -1 -1 -1 -1 -1 -1 -1 -1 -1 -1 -1 -1 -1 -1 -1 -1 -1 -1 -1 -1 -1 -1 -1\n",
      " -1 -1 -1 -1 -1 -1 -1 -1 -1 -1 -1 -1 -1 -1 -1 -1 -1 -1  0 -1 -1 -1 -1 -1\n",
      " -1 -1 -1 -1]\n"
     ]
    },
    {
     "name": "stderr",
     "output_type": "stream",
     "text": [
      "D:\\anaconda\\envs\\py37\\lib\\site-packages\\sklearn\\semi_supervised\\_label_propagation.py:205: RuntimeWarning: invalid value encountered in true_divide\n",
      "  probabilities /= normalizer\n",
      "D:\\anaconda\\envs\\py37\\lib\\site-packages\\sklearn\\semi_supervised\\_label_propagation.py:205: RuntimeWarning: invalid value encountered in true_divide\n",
      "  probabilities /= normalizer\n",
      "D:\\anaconda\\envs\\py37\\lib\\site-packages\\ipykernel_launcher.py:43: RuntimeWarning: divide by zero encountered in log\n"
     ]
    },
    {
     "name": "stdout",
     "output_type": "stream",
     "text": [
      "0.49696800585969614 7660 200693\n",
      "test slant 0.6982119385728949 [-0.42931036  0.78204197  0.71002518  1.89594189 -1.11324174]\n",
      "acc, pcc 0.6009128370197266 0.7134328358208956\n",
      "label_spreading_0.05_bias\n",
      "206899\n",
      "started biased split, test size 0.95\n",
      "[-1 -1 -1 -1 -1 -1 -1 -1 -1 -1 -1 -1 -1 -1 -1 -1 -1 -1 -1 -1 -1 -1 -1 -1\n",
      " -1 -1 -1 -1 -1 -1 -1 -1 -1 -1 -1 -1 -1 -1 -1 -1 -1 -1 -1 -1 -1 -1 -1 -1\n",
      " -1 -1 -1 -1 -1 -1 -1 -1 -1 -1 -1 -1 -1 -1 -1 -1 -1 -1 -1 -1  0 -1 -1 -1\n",
      " -1 -1 -1 -1  0 -1 -1 -1 -1 -1 -1 -1 -1 -1 -1 -1 -1 -1 -1 -1 -1 -1 -1 -1\n",
      "  0 -1 -1 -1]\n"
     ]
    },
    {
     "name": "stderr",
     "output_type": "stream",
     "text": [
      "D:\\anaconda\\envs\\py37\\lib\\site-packages\\sklearn\\semi_supervised\\_label_propagation.py:205: RuntimeWarning: invalid value encountered in true_divide\n",
      "  probabilities /= normalizer\n",
      "D:\\anaconda\\envs\\py37\\lib\\site-packages\\sklearn\\semi_supervised\\_label_propagation.py:205: RuntimeWarning: invalid value encountered in true_divide\n",
      "  probabilities /= normalizer\n",
      "D:\\anaconda\\envs\\py37\\lib\\site-packages\\ipykernel_launcher.py:43: RuntimeWarning: divide by zero encountered in log\n"
     ]
    },
    {
     "name": "stdout",
     "output_type": "stream",
     "text": [
      "0.4784564116913841 7379 196555\n",
      "test slant 0.40177569430025617 [-0.07954768  1.34293594  0.37415372  1.9550149  -1.34742844]\n",
      "acc, pcc 0.6091272163007809 0.7571428571428571\n",
      "label_spreading_0.08_bias\n",
      "206899\n",
      "started biased split, test size 0.92\n",
      "[-1 -1 -1 -1 -1 -1 -1 -1 -1 -1 -1  0 -1 -1  1 -1 -1  1 -1 -1  0 -1 -1 -1\n",
      " -1 -1 -1 -1 -1 -1 -1 -1 -1 -1 -1 -1 -1 -1  0 -1 -1 -1 -1 -1  0 -1 -1 -1\n",
      " -1 -1 -1 -1 -1 -1 -1 -1 -1 -1 -1 -1 -1 -1 -1 -1 -1 -1 -1 -1 -1 -1 -1 -1\n",
      " -1 -1 -1 -1  1 -1 -1 -1 -1 -1 -1  1 -1 -1 -1 -1 -1 -1 -1 -1 -1 -1 -1 -1\n",
      " -1 -1 -1 -1]\n"
     ]
    },
    {
     "name": "stderr",
     "output_type": "stream",
     "text": [
      "D:\\anaconda\\envs\\py37\\lib\\site-packages\\sklearn\\semi_supervised\\_label_propagation.py:205: RuntimeWarning: invalid value encountered in true_divide\n",
      "  probabilities /= normalizer\n",
      "D:\\anaconda\\envs\\py37\\lib\\site-packages\\sklearn\\semi_supervised\\_label_propagation.py:205: RuntimeWarning: invalid value encountered in true_divide\n",
      "  probabilities /= normalizer\n",
      "D:\\anaconda\\envs\\py37\\lib\\site-packages\\ipykernel_launcher.py:43: RuntimeWarning: divide by zero encountered in log\n"
     ]
    },
    {
     "name": "stdout",
     "output_type": "stream",
     "text": [
      "0.5063751319943892 7155 190349\n",
      "test slant 0.45831418055227724 [ 0.29397942  1.53330811  0.22402345  1.64362764 -0.32778957]\n",
      "acc, pcc 0.6179754030754036 0.7816455696202531\n",
      "label_spreading_0.2_bias\n",
      "206899\n",
      "started biased split, test size 0.8\n",
      "[-1  0 -1 -1 -1 -1 -1 -1 -1 -1 -1 -1 -1 -1 -1 -1 -1 -1 -1 -1 -1 -1 -1  1\n",
      " -1 -1 -1 -1 -1 -1 -1 -1 -1 -1 -1 -1  0  0 -1 -1 -1 -1 -1 -1 -1 -1 -1 -1\n",
      " -1 -1 -1 -1  1 -1  1 -1 -1  0  1 -1  0  0 -1 -1  1 -1  0 -1  1  1 -1 -1\n",
      " -1 -1 -1  0 -1 -1 -1  0  1 -1  1 -1 -1 -1 -1 -1 -1  1 -1 -1  1 -1 -1 -1\n",
      " -1  1 -1 -1]\n"
     ]
    },
    {
     "name": "stderr",
     "output_type": "stream",
     "text": [
      "D:\\anaconda\\envs\\py37\\lib\\site-packages\\sklearn\\semi_supervised\\_label_propagation.py:205: RuntimeWarning: invalid value encountered in true_divide\n",
      "  probabilities /= normalizer\n",
      "D:\\anaconda\\envs\\py37\\lib\\site-packages\\sklearn\\semi_supervised\\_label_propagation.py:205: RuntimeWarning: invalid value encountered in true_divide\n",
      "  probabilities /= normalizer\n",
      "D:\\anaconda\\envs\\py37\\lib\\site-packages\\ipykernel_launcher.py:43: RuntimeWarning: divide by zero encountered in log\n"
     ]
    },
    {
     "name": "stdout",
     "output_type": "stream",
     "text": [
      "0.5414297883652225 6046 165521\n",
      "test slant 0.5260764695782365 [ 2.70341905  1.88298471  0.17479442  1.89217699 -0.01371064]\n",
      "acc, pcc 0.6352728656786752 0.8142523364485982\n",
      "label_spreading_0.4_bias\n",
      "206899\n",
      "started biased split, test size 0.6\n",
      "[ 1 -1 -1 -1 -1  1 -1  1  1  1 -1  1 -1  0 -1 -1 -1 -1  1 -1 -1  0 -1 -1\n",
      "  0 -1 -1  1  1 -1 -1 -1 -1 -1  1  0  0 -1 -1  1 -1  0  1 -1  0 -1  0 -1\n",
      " -1  1 -1  0 -1 -1  1  0  0  1 -1  1 -1  0 -1  0  1 -1 -1 -1  1  1  1  1\n",
      " -1 -1 -1  0  1  0  1 -1 -1 -1 -1 -1  0 -1 -1 -1  0  0 -1 -1 -1  1  0  1\n",
      "  0 -1 -1 -1]\n"
     ]
    },
    {
     "name": "stderr",
     "output_type": "stream",
     "text": [
      "D:\\anaconda\\envs\\py37\\lib\\site-packages\\sklearn\\semi_supervised\\_label_propagation.py:205: RuntimeWarning: invalid value encountered in true_divide\n",
      "  probabilities /= normalizer\n",
      "D:\\anaconda\\envs\\py37\\lib\\site-packages\\sklearn\\semi_supervised\\_label_propagation.py:205: RuntimeWarning: invalid value encountered in true_divide\n",
      "  probabilities /= normalizer\n",
      "D:\\anaconda\\envs\\py37\\lib\\site-packages\\ipykernel_launcher.py:43: RuntimeWarning: divide by zero encountered in log\n"
     ]
    },
    {
     "name": "stdout",
     "output_type": "stream",
     "text": [
      "0.5498747392078362 4689 124141\n",
      "test slant 0.45636504984310977 [-0.07490036 -0.14537004 -0.99653642  0.36697427  0.4820612 ]\n",
      "acc, pcc 0.6393778042709499 0.8302425106990015\n",
      "label_spreading_0.6_bias\n",
      "206899\n",
      "started biased split, test size 0.4\n",
      "[ 1 -1  0  0  1 -1  1 -1  0 -1  1  1  1  0  0  0 -1 -1 -1  1 -1 -1  1  0\n",
      "  1  1  0  0  1 -1  0  0  0  0  0 -1 -1 -1  0  0  1 -1  1 -1 -1  1 -1 -1\n",
      " -1 -1  1  0  0  0 -1  1 -1  1  1  0  0  1  0  0  0 -1 -1  0  1 -1  0  1\n",
      "  1 -1 -1  0  1 -1  0  0  1  0 -1 -1 -1  1 -1 -1  1 -1  0 -1  0  0  0 -1\n",
      " -1  1  1 -1]\n"
     ]
    },
    {
     "name": "stderr",
     "output_type": "stream",
     "text": [
      "D:\\anaconda\\envs\\py37\\lib\\site-packages\\sklearn\\semi_supervised\\_label_propagation.py:205: RuntimeWarning: invalid value encountered in true_divide\n",
      "  probabilities /= normalizer\n",
      "D:\\anaconda\\envs\\py37\\lib\\site-packages\\sklearn\\semi_supervised\\_label_propagation.py:205: RuntimeWarning: invalid value encountered in true_divide\n",
      "  probabilities /= normalizer\n",
      "D:\\anaconda\\envs\\py37\\lib\\site-packages\\ipykernel_launcher.py:43: RuntimeWarning: divide by zero encountered in log\n"
     ]
    },
    {
     "name": "stdout",
     "output_type": "stream",
     "text": [
      "0.5823032587813101 2209 82761\n",
      "test slant 0.524953714412821 [ 0.16240736  0.1461508  -0.3229851   0.31972337  0.39484362]\n",
      "acc, pcc 0.6329188869153345 0.8353765323992994\n",
      "label_spreading_0.8_bias\n",
      "206899\n",
      "started biased split, test size 0.19999999999999996\n",
      "[ 1  0 -1  0  1  1  1  1 -1 -1  0  0  1  1  1  1  0  0  1 -1 -1  1  0  0\n",
      "  0  0 -1  1  1 -1  1  1  1  1  1 -1  1  0  1  0  0  1 -1  1  0  1  1  0\n",
      "  1  1  1 -1  1  1  1  0 -1  1  0  1  0  0  1  0  0  0  1  1  0 -1  0  1\n",
      " -1  1  1  0  0  1  1  1  1  1  1  0 -1 -1  1  0  1  0  0  1  1  0  1 -1\n",
      " -1  0  0  1]\n"
     ]
    },
    {
     "name": "stderr",
     "output_type": "stream",
     "text": [
      "D:\\anaconda\\envs\\py37\\lib\\site-packages\\sklearn\\semi_supervised\\_label_propagation.py:205: RuntimeWarning: invalid value encountered in true_divide\n",
      "  probabilities /= normalizer\n",
      "D:\\anaconda\\envs\\py37\\lib\\site-packages\\sklearn\\semi_supervised\\_label_propagation.py:205: RuntimeWarning: invalid value encountered in true_divide\n",
      "  probabilities /= normalizer\n",
      "D:\\anaconda\\envs\\py37\\lib\\site-packages\\ipykernel_launcher.py:43: RuntimeWarning: divide by zero encountered in log\n"
     ]
    },
    {
     "name": "stdout",
     "output_type": "stream",
     "text": [
      "0.6034895241777627 327 41381\n",
      "test slant 0.5590925331665743 [ 0.27819767  0.29320888  1.2105458   0.90990343 -1.67256789]\n",
      "acc, pcc 0.6277760324786738 0.8470873786407767\n",
      "label_spreading_0.01_unbias\n",
      "206899\n",
      "started random split, test size 0.99\n",
      "[-1 -1 -1 -1 -1 -1 -1 -1 -1 -1 -1 -1 -1 -1 -1 -1 -1 -1 -1 -1 -1 -1 -1 -1\n",
      " -1 -1 -1 -1 -1 -1 -1 -1 -1 -1 -1 -1 -1 -1 -1 -1 -1 -1 -1 -1 -1 -1 -1 -1\n",
      " -1 -1 -1 -1 -1 -1 -1 -1 -1 -1 -1 -1 -1 -1 -1 -1 -1 -1 -1 -1 -1 -1 -1 -1\n",
      " -1 -1 -1 -1 -1 -1 -1 -1 -1 -1 -1 -1  0 -1 -1 -1 -1 -1 -1 -1 -1 -1 -1 -1\n",
      " -1 -1 -1 -1]\n"
     ]
    },
    {
     "name": "stderr",
     "output_type": "stream",
     "text": [
      "D:\\anaconda\\envs\\py37\\lib\\site-packages\\sklearn\\semi_supervised\\_label_propagation.py:205: RuntimeWarning: invalid value encountered in true_divide\n",
      "  probabilities /= normalizer\n",
      "D:\\anaconda\\envs\\py37\\lib\\site-packages\\sklearn\\semi_supervised\\_label_propagation.py:205: RuntimeWarning: invalid value encountered in true_divide\n",
      "  probabilities /= normalizer\n",
      "D:\\anaconda\\envs\\py37\\lib\\site-packages\\ipykernel_launcher.py:80: RuntimeWarning: divide by zero encountered in log\n"
     ]
    },
    {
     "name": "stdout",
     "output_type": "stream",
     "text": [
      "0.5368279215548428 7664\n",
      "test slant 0.5052990524016094 [-0.46604939 -0.44616949  0.14635285  1.7786601   0.01010831]\n",
      "206899\n",
      "started random split, test size 0.99\n",
      "[-1 -1 -1 -1 -1 -1 -1 -1 -1 -1 -1 -1 -1 -1 -1 -1 -1 -1 -1 -1  0 -1 -1 -1\n",
      " -1 -1 -1 -1 -1 -1 -1 -1 -1 -1 -1 -1 -1 -1 -1 -1 -1 -1 -1 -1 -1 -1 -1 -1\n",
      " -1 -1 -1 -1 -1 -1 -1 -1 -1 -1 -1 -1 -1 -1 -1 -1 -1 -1 -1 -1 -1 -1 -1 -1\n",
      " -1 -1 -1 -1 -1 -1 -1 -1 -1 -1 -1 -1 -1 -1 -1 -1 -1 -1 -1 -1 -1 -1 -1 -1\n",
      " -1 -1 -1 -1]\n"
     ]
    },
    {
     "name": "stderr",
     "output_type": "stream",
     "text": [
      "D:\\anaconda\\envs\\py37\\lib\\site-packages\\sklearn\\semi_supervised\\_label_propagation.py:205: RuntimeWarning: invalid value encountered in true_divide\n",
      "  probabilities /= normalizer\n",
      "D:\\anaconda\\envs\\py37\\lib\\site-packages\\sklearn\\semi_supervised\\_label_propagation.py:205: RuntimeWarning: invalid value encountered in true_divide\n",
      "  probabilities /= normalizer\n",
      "D:\\anaconda\\envs\\py37\\lib\\site-packages\\ipykernel_launcher.py:80: RuntimeWarning: divide by zero encountered in log\n"
     ]
    },
    {
     "name": "stdout",
     "output_type": "stream",
     "text": [
      "0.4429993506842226 7559\n",
      "test slant -0.2385243119155894 [ 0.37972621  0.59619616  0.12615133  3.44408462 -1.2650006 ]\n",
      "206899\n",
      "started random split, test size 0.99\n",
      "[-1 -1 -1 -1 -1 -1 -1 -1 -1 -1 -1 -1 -1 -1 -1 -1 -1 -1 -1 -1 -1 -1 -1 -1\n",
      " -1 -1 -1 -1 -1 -1 -1 -1 -1 -1 -1 -1 -1 -1 -1 -1 -1 -1 -1 -1 -1 -1 -1 -1\n",
      " -1 -1 -1 -1 -1 -1 -1 -1 -1 -1 -1 -1 -1 -1 -1 -1 -1 -1 -1 -1 -1 -1 -1 -1\n",
      " -1 -1 -1 -1 -1 -1 -1 -1 -1 -1 -1 -1 -1 -1 -1  1 -1 -1 -1 -1 -1 -1 -1 -1\n",
      " -1 -1 -1 -1]\n"
     ]
    },
    {
     "name": "stderr",
     "output_type": "stream",
     "text": [
      "D:\\anaconda\\envs\\py37\\lib\\site-packages\\sklearn\\semi_supervised\\_label_propagation.py:205: RuntimeWarning: invalid value encountered in true_divide\n",
      "  probabilities /= normalizer\n",
      "D:\\anaconda\\envs\\py37\\lib\\site-packages\\sklearn\\semi_supervised\\_label_propagation.py:205: RuntimeWarning: invalid value encountered in true_divide\n",
      "  probabilities /= normalizer\n",
      "D:\\anaconda\\envs\\py37\\lib\\site-packages\\ipykernel_launcher.py:80: RuntimeWarning: divide by zero encountered in log\n"
     ]
    },
    {
     "name": "stdout",
     "output_type": "stream",
     "text": [
      "0.4928209108972763 7796\n",
      "test slant 0.13371141869339123 [ 0.34094007  0.97696944 -0.20288819  0.73082812 -0.12822152]\n",
      "206899\n",
      "started random split, test size 0.99\n",
      "[-1 -1 -1 -1 -1 -1 -1 -1 -1  1 -1 -1 -1 -1 -1 -1 -1 -1 -1 -1 -1 -1 -1 -1\n",
      " -1 -1 -1 -1 -1 -1 -1 -1 -1 -1 -1 -1 -1 -1 -1 -1 -1 -1 -1 -1 -1 -1 -1 -1\n",
      " -1 -1 -1 -1 -1 -1 -1 -1 -1 -1 -1 -1 -1 -1 -1 -1 -1 -1 -1 -1 -1 -1 -1 -1\n",
      " -1 -1 -1 -1 -1 -1 -1 -1 -1 -1 -1 -1 -1 -1 -1  0 -1 -1 -1 -1 -1 -1 -1 -1\n",
      " -1 -1 -1 -1]\n"
     ]
    },
    {
     "name": "stderr",
     "output_type": "stream",
     "text": [
      "D:\\anaconda\\envs\\py37\\lib\\site-packages\\sklearn\\semi_supervised\\_label_propagation.py:205: RuntimeWarning: invalid value encountered in true_divide\n",
      "  probabilities /= normalizer\n",
      "D:\\anaconda\\envs\\py37\\lib\\site-packages\\sklearn\\semi_supervised\\_label_propagation.py:205: RuntimeWarning: invalid value encountered in true_divide\n",
      "  probabilities /= normalizer\n",
      "D:\\anaconda\\envs\\py37\\lib\\site-packages\\ipykernel_launcher.py:80: RuntimeWarning: divide by zero encountered in log\n"
     ]
    },
    {
     "name": "stdout",
     "output_type": "stream",
     "text": [
      "0.46081403693776823 7778\n",
      "test slant 0.03125032876291677 [ 0.18018     1.4623404  -0.00948195  4.43421154 -0.524789  ]\n",
      "206899\n",
      "started random split, test size 0.99\n",
      "[-1 -1 -1 -1 -1 -1 -1 -1 -1 -1 -1 -1 -1 -1 -1 -1 -1 -1 -1 -1 -1 -1  0 -1\n",
      " -1 -1 -1 -1 -1 -1 -1 -1 -1 -1 -1 -1 -1 -1 -1 -1 -1 -1 -1 -1 -1 -1 -1 -1\n",
      " -1 -1 -1 -1 -1 -1 -1 -1 -1 -1 -1 -1 -1 -1 -1 -1 -1 -1 -1 -1 -1 -1 -1 -1\n",
      " -1 -1 -1 -1 -1 -1 -1 -1 -1 -1 -1 -1 -1 -1 -1 -1 -1 -1 -1 -1 -1 -1 -1 -1\n",
      " -1 -1 -1 -1]\n"
     ]
    },
    {
     "name": "stderr",
     "output_type": "stream",
     "text": [
      "D:\\anaconda\\envs\\py37\\lib\\site-packages\\sklearn\\semi_supervised\\_label_propagation.py:205: RuntimeWarning: invalid value encountered in true_divide\n",
      "  probabilities /= normalizer\n",
      "D:\\anaconda\\envs\\py37\\lib\\site-packages\\sklearn\\semi_supervised\\_label_propagation.py:205: RuntimeWarning: invalid value encountered in true_divide\n",
      "  probabilities /= normalizer\n",
      "D:\\anaconda\\envs\\py37\\lib\\site-packages\\ipykernel_launcher.py:80: RuntimeWarning: divide by zero encountered in log\n"
     ]
    },
    {
     "name": "stdout",
     "output_type": "stream",
     "text": [
      "0.5053873681229892 8034\n",
      "test slant 0.21937213551257062 [ 0.67024168  0.12717236  0.74605423  1.5510302  -0.15209022]\n",
      "206899\n",
      "started random split, test size 0.99\n",
      "[-1 -1 -1 -1 -1 -1 -1 -1 -1 -1 -1 -1 -1 -1 -1 -1 -1  0 -1 -1 -1 -1 -1 -1\n",
      " -1 -1 -1 -1 -1 -1 -1 -1 -1 -1 -1 -1 -1 -1 -1 -1 -1 -1 -1 -1 -1 -1 -1 -1\n",
      " -1 -1 -1 -1 -1 -1 -1 -1 -1 -1 -1 -1 -1 -1 -1 -1 -1 -1 -1 -1 -1 -1 -1 -1\n",
      " -1 -1 -1 -1 -1 -1 -1 -1 -1 -1 -1 -1 -1 -1 -1 -1 -1 -1 -1 -1 -1 -1 -1 -1\n",
      " -1 -1 -1 -1]\n"
     ]
    },
    {
     "name": "stderr",
     "output_type": "stream",
     "text": [
      "D:\\anaconda\\envs\\py37\\lib\\site-packages\\sklearn\\semi_supervised\\_label_propagation.py:205: RuntimeWarning: invalid value encountered in true_divide\n",
      "  probabilities /= normalizer\n",
      "D:\\anaconda\\envs\\py37\\lib\\site-packages\\sklearn\\semi_supervised\\_label_propagation.py:205: RuntimeWarning: invalid value encountered in true_divide\n",
      "  probabilities /= normalizer\n",
      "D:\\anaconda\\envs\\py37\\lib\\site-packages\\ipykernel_launcher.py:80: RuntimeWarning: divide by zero encountered in log\n"
     ]
    },
    {
     "name": "stdout",
     "output_type": "stream",
     "text": [
      "0.5223428094380245 7809\n",
      "test slant 0.3604521536021993 [-0.24366096 -0.1857921   0.41978687  3.58464813 -0.27022765]\n",
      "acc, pcc [0.6145847064165092, 0.60951223203519, 0.6094292367854475, 0.6091948972567629, 0.6168695168211843, 0.6055968090767511] [0.7663734115347018, 0.7956989247311828, 0.8318670576735093, 0.8152492668621701, 0.83088954056696, 0.7644183773216031]\n",
      "label_spreading_0.03_unbias\n",
      "206899\n",
      "started random split, test size 0.97\n",
      "[-1 -1 -1 -1 -1 -1 -1 -1 -1 -1 -1 -1 -1 -1 -1 -1 -1 -1 -1 -1 -1 -1 -1 -1\n",
      " -1 -1 -1 -1 -1 -1 -1 -1 -1 -1 -1 -1 -1  0 -1 -1 -1 -1 -1 -1 -1 -1 -1 -1\n",
      " -1 -1 -1 -1 -1 -1 -1 -1 -1 -1 -1 -1  1 -1 -1 -1 -1  0 -1 -1 -1 -1 -1 -1\n",
      " -1 -1 -1 -1 -1 -1 -1 -1 -1 -1 -1 -1 -1 -1 -1  1 -1 -1 -1 -1 -1 -1 -1 -1\n",
      " -1 -1 -1 -1]\n"
     ]
    },
    {
     "name": "stderr",
     "output_type": "stream",
     "text": [
      "D:\\anaconda\\envs\\py37\\lib\\site-packages\\sklearn\\semi_supervised\\_label_propagation.py:205: RuntimeWarning: invalid value encountered in true_divide\n",
      "  probabilities /= normalizer\n",
      "D:\\anaconda\\envs\\py37\\lib\\site-packages\\sklearn\\semi_supervised\\_label_propagation.py:205: RuntimeWarning: invalid value encountered in true_divide\n",
      "  probabilities /= normalizer\n",
      "D:\\anaconda\\envs\\py37\\lib\\site-packages\\ipykernel_launcher.py:80: RuntimeWarning: divide by zero encountered in log\n"
     ]
    },
    {
     "name": "stdout",
     "output_type": "stream",
     "text": [
      "0.5515040385065747 6504\n",
      "test slant 0.34281057486920313 [0.23657354 0.95068475 0.0020131  1.95088458 0.10893518]\n",
      "206899\n",
      "started random split, test size 0.97\n",
      "[-1 -1 -1 -1 -1 -1 -1 -1 -1  1 -1 -1 -1  1 -1 -1 -1 -1 -1 -1 -1 -1 -1 -1\n",
      "  1 -1 -1 -1 -1 -1 -1 -1 -1 -1 -1 -1 -1 -1 -1 -1 -1 -1 -1 -1 -1 -1 -1 -1\n",
      " -1 -1 -1 -1 -1 -1 -1 -1 -1 -1 -1 -1 -1 -1 -1 -1 -1 -1 -1 -1 -1 -1 -1 -1\n",
      " -1 -1 -1 -1 -1 -1 -1 -1 -1 -1 -1 -1 -1 -1 -1 -1 -1 -1 -1 -1 -1 -1 -1 -1\n",
      " -1 -1 -1 -1]\n"
     ]
    },
    {
     "name": "stderr",
     "output_type": "stream",
     "text": [
      "D:\\anaconda\\envs\\py37\\lib\\site-packages\\sklearn\\semi_supervised\\_label_propagation.py:205: RuntimeWarning: invalid value encountered in true_divide\n",
      "  probabilities /= normalizer\n",
      "D:\\anaconda\\envs\\py37\\lib\\site-packages\\sklearn\\semi_supervised\\_label_propagation.py:205: RuntimeWarning: invalid value encountered in true_divide\n",
      "  probabilities /= normalizer\n",
      "D:\\anaconda\\envs\\py37\\lib\\site-packages\\ipykernel_launcher.py:80: RuntimeWarning: divide by zero encountered in log\n"
     ]
    },
    {
     "name": "stdout",
     "output_type": "stream",
     "text": [
      "0.5520571220720204 6893\n",
      "test slant 0.51354310268248 [-0.08361017  1.0971402  -0.14999407  3.2664408   0.0519578 ]\n",
      "206899\n",
      "started random split, test size 0.97\n",
      "[-1 -1 -1 -1 -1 -1 -1 -1 -1 -1 -1 -1 -1 -1 -1 -1 -1 -1 -1 -1 -1 -1 -1 -1\n",
      " -1 -1 -1 -1 -1 -1 -1 -1 -1 -1 -1 -1 -1 -1 -1 -1 -1 -1 -1 -1 -1 -1 -1 -1\n",
      " -1 -1 -1 -1 -1 -1 -1 -1 -1 -1 -1 -1 -1 -1 -1 -1 -1 -1 -1 -1 -1 -1 -1 -1\n",
      " -1 -1 -1 -1 -1 -1 -1 -1 -1 -1 -1 -1 -1 -1 -1 -1 -1 -1 -1 -1 -1 -1 -1 -1\n",
      " -1 -1  0 -1]\n"
     ]
    },
    {
     "name": "stderr",
     "output_type": "stream",
     "text": [
      "D:\\anaconda\\envs\\py37\\lib\\site-packages\\sklearn\\semi_supervised\\_label_propagation.py:205: RuntimeWarning: invalid value encountered in true_divide\n",
      "  probabilities /= normalizer\n",
      "D:\\anaconda\\envs\\py37\\lib\\site-packages\\sklearn\\semi_supervised\\_label_propagation.py:205: RuntimeWarning: invalid value encountered in true_divide\n",
      "  probabilities /= normalizer\n",
      "D:\\anaconda\\envs\\py37\\lib\\site-packages\\ipykernel_launcher.py:80: RuntimeWarning: divide by zero encountered in log\n"
     ]
    },
    {
     "name": "stdout",
     "output_type": "stream",
     "text": [
      "0.5273228264065015 6641\n",
      "test slant 0.38211708395773597 [-0.23796974  1.45856431 -0.67777123  2.58060691  0.14303852]\n",
      "206899\n",
      "started random split, test size 0.97\n",
      "[-1 -1 -1 -1 -1 -1 -1 -1 -1 -1 -1 -1 -1 -1 -1 -1 -1 -1 -1 -1 -1 -1 -1 -1\n",
      " -1 -1 -1 -1 -1 -1 -1 -1 -1 -1 -1 -1  1 -1 -1 -1 -1 -1 -1 -1 -1 -1 -1 -1\n",
      " -1 -1 -1 -1 -1 -1 -1 -1  1 -1 -1 -1 -1 -1 -1  0 -1 -1 -1 -1 -1 -1 -1 -1\n",
      " -1 -1 -1 -1 -1 -1 -1 -1 -1 -1 -1 -1 -1 -1 -1 -1 -1 -1 -1 -1 -1 -1 -1 -1\n",
      " -1 -1 -1 -1]\n"
     ]
    },
    {
     "name": "stderr",
     "output_type": "stream",
     "text": [
      "D:\\anaconda\\envs\\py37\\lib\\site-packages\\sklearn\\semi_supervised\\_label_propagation.py:205: RuntimeWarning: invalid value encountered in true_divide\n",
      "  probabilities /= normalizer\n",
      "D:\\anaconda\\envs\\py37\\lib\\site-packages\\sklearn\\semi_supervised\\_label_propagation.py:205: RuntimeWarning: invalid value encountered in true_divide\n",
      "  probabilities /= normalizer\n",
      "D:\\anaconda\\envs\\py37\\lib\\site-packages\\ipykernel_launcher.py:80: RuntimeWarning: divide by zero encountered in log\n"
     ]
    },
    {
     "name": "stdout",
     "output_type": "stream",
     "text": [
      "0.5549421255350212 6780\n",
      "test slant 0.44265469413613173 [0.36764307 1.02703243 0.48936031 3.22962855 0.30225715]\n",
      "206899\n",
      "started random split, test size 0.97\n",
      "[-1 -1  1  1 -1 -1 -1 -1 -1 -1 -1 -1 -1 -1 -1 -1 -1 -1 -1 -1 -1 -1 -1 -1\n",
      " -1 -1 -1 -1 -1 -1 -1 -1 -1  1 -1 -1 -1 -1 -1 -1 -1 -1 -1 -1 -1 -1 -1 -1\n",
      " -1 -1 -1 -1 -1 -1 -1 -1 -1 -1 -1 -1 -1 -1 -1 -1 -1 -1 -1 -1 -1 -1 -1 -1\n",
      " -1 -1 -1 -1 -1 -1 -1 -1 -1 -1 -1 -1 -1  1 -1 -1 -1 -1 -1 -1 -1 -1 -1 -1\n",
      " -1 -1 -1 -1]\n"
     ]
    },
    {
     "name": "stderr",
     "output_type": "stream",
     "text": [
      "D:\\anaconda\\envs\\py37\\lib\\site-packages\\sklearn\\semi_supervised\\_label_propagation.py:205: RuntimeWarning: invalid value encountered in true_divide\n",
      "  probabilities /= normalizer\n",
      "D:\\anaconda\\envs\\py37\\lib\\site-packages\\sklearn\\semi_supervised\\_label_propagation.py:205: RuntimeWarning: invalid value encountered in true_divide\n",
      "  probabilities /= normalizer\n",
      "D:\\anaconda\\envs\\py37\\lib\\site-packages\\ipykernel_launcher.py:80: RuntimeWarning: divide by zero encountered in log\n"
     ]
    },
    {
     "name": "stdout",
     "output_type": "stream",
     "text": [
      "0.5464365971907341 6708\n",
      "test slant 0.4845518914202649 [ 1.93674659  0.97176774 -0.43519608  2.21957007 -0.07778593]\n",
      "206899\n",
      "started random split, test size 0.97\n",
      "[-1 -1 -1 -1 -1 -1 -1 -1 -1 -1 -1 -1 -1 -1 -1 -1 -1 -1 -1 -1 -1 -1 -1 -1\n",
      " -1 -1 -1 -1 -1 -1 -1 -1 -1 -1 -1  0 -1 -1 -1 -1 -1 -1 -1 -1 -1 -1 -1 -1\n",
      " -1 -1 -1 -1 -1 -1 -1 -1 -1 -1 -1 -1 -1 -1 -1 -1 -1 -1 -1 -1 -1 -1 -1 -1\n",
      " -1 -1 -1 -1 -1 -1 -1 -1 -1 -1 -1 -1 -1 -1 -1 -1 -1 -1 -1 -1 -1 -1 -1 -1\n",
      " -1 -1 -1 -1]\n"
     ]
    },
    {
     "name": "stderr",
     "output_type": "stream",
     "text": [
      "D:\\anaconda\\envs\\py37\\lib\\site-packages\\sklearn\\semi_supervised\\_label_propagation.py:205: RuntimeWarning: invalid value encountered in true_divide\n",
      "  probabilities /= normalizer\n",
      "D:\\anaconda\\envs\\py37\\lib\\site-packages\\sklearn\\semi_supervised\\_label_propagation.py:205: RuntimeWarning: invalid value encountered in true_divide\n",
      "  probabilities /= normalizer\n",
      "D:\\anaconda\\envs\\py37\\lib\\site-packages\\ipykernel_launcher.py:80: RuntimeWarning: divide by zero encountered in log\n"
     ]
    },
    {
     "name": "stdout",
     "output_type": "stream",
     "text": [
      "0.5020454126451844 6732\n",
      "test slant 0.1633137684963968 [ 0.33815061  0.6144569  -0.29945893  2.26519914 -0.18183398]\n",
      "acc, pcc [0.6437294773609443, 0.6454385554055199, 0.6492453648109301, 0.6421848295655553, 0.6432461520830323, 0.6500874469961583] [0.8621700879765396, 0.8269794721407625, 0.8484848484848485, 0.8181818181818182, 0.8093841642228738, 0.8719452590420332]\n",
      "label_spreading_0.05_unbias\n",
      "206899\n",
      "started random split, test size 0.95\n",
      "[-1 -1 -1 -1 -1 -1 -1  1 -1 -1  0 -1 -1 -1 -1 -1 -1 -1 -1 -1 -1 -1 -1 -1\n",
      " -1  0 -1 -1 -1 -1 -1 -1 -1 -1 -1 -1 -1 -1 -1 -1 -1 -1 -1 -1 -1 -1 -1 -1\n",
      " -1 -1 -1 -1 -1 -1 -1 -1 -1 -1 -1 -1 -1  1 -1 -1 -1 -1 -1 -1 -1 -1 -1 -1\n",
      "  0 -1 -1 -1 -1 -1 -1 -1 -1 -1 -1 -1 -1 -1 -1 -1 -1 -1 -1 -1 -1 -1 -1  0\n",
      " -1 -1 -1 -1]\n"
     ]
    },
    {
     "name": "stderr",
     "output_type": "stream",
     "text": [
      "D:\\anaconda\\envs\\py37\\lib\\site-packages\\sklearn\\semi_supervised\\_label_propagation.py:205: RuntimeWarning: invalid value encountered in true_divide\n",
      "  probabilities /= normalizer\n",
      "D:\\anaconda\\envs\\py37\\lib\\site-packages\\sklearn\\semi_supervised\\_label_propagation.py:205: RuntimeWarning: invalid value encountered in true_divide\n",
      "  probabilities /= normalizer\n",
      "D:\\anaconda\\envs\\py37\\lib\\site-packages\\ipykernel_launcher.py:80: RuntimeWarning: divide by zero encountered in log\n"
     ]
    },
    {
     "name": "stdout",
     "output_type": "stream",
     "text": [
      "0.5149449263564906 6220\n",
      "test slant 0.2702583664811679 [ 1.99951741  1.06214786 -0.21285562  2.63137748  0.19282908]\n",
      "206899\n",
      "started random split, test size 0.95\n",
      "[-1 -1 -1 -1 -1 -1 -1 -1 -1 -1 -1 -1 -1 -1 -1 -1 -1 -1 -1 -1  0 -1 -1 -1\n",
      " -1 -1 -1 -1 -1 -1 -1 -1 -1 -1 -1 -1 -1 -1 -1 -1 -1 -1 -1 -1 -1 -1 -1 -1\n",
      " -1 -1 -1 -1 -1 -1 -1 -1 -1 -1 -1 -1 -1 -1 -1 -1 -1 -1 -1 -1 -1 -1 -1  0\n",
      " -1 -1 -1 -1 -1 -1 -1 -1 -1 -1 -1 -1 -1  0 -1  0 -1 -1 -1 -1 -1 -1 -1 -1\n",
      " -1  0 -1 -1]\n"
     ]
    },
    {
     "name": "stderr",
     "output_type": "stream",
     "text": [
      "D:\\anaconda\\envs\\py37\\lib\\site-packages\\sklearn\\semi_supervised\\_label_propagation.py:205: RuntimeWarning: invalid value encountered in true_divide\n",
      "  probabilities /= normalizer\n",
      "D:\\anaconda\\envs\\py37\\lib\\site-packages\\sklearn\\semi_supervised\\_label_propagation.py:205: RuntimeWarning: invalid value encountered in true_divide\n",
      "  probabilities /= normalizer\n",
      "D:\\anaconda\\envs\\py37\\lib\\site-packages\\ipykernel_launcher.py:80: RuntimeWarning: divide by zero encountered in log\n"
     ]
    },
    {
     "name": "stdout",
     "output_type": "stream",
     "text": [
      "0.5188217038487956 6084\n",
      "test slant 0.2695161866632149 [ 2.43153156  2.05037936 -0.28890103  2.34914096  0.12148039]\n",
      "206899\n",
      "started random split, test size 0.95\n",
      "[-1 -1 -1 -1 -1 -1 -1 -1 -1 -1 -1 -1 -1 -1 -1 -1 -1 -1 -1 -1 -1 -1 -1 -1\n",
      " -1 -1 -1 -1 -1 -1 -1 -1 -1 -1 -1 -1 -1 -1 -1 -1 -1  0 -1 -1 -1 -1 -1 -1\n",
      " -1 -1 -1 -1 -1 -1 -1 -1 -1 -1 -1 -1 -1 -1 -1 -1 -1 -1 -1 -1 -1 -1 -1 -1\n",
      " -1 -1 -1 -1 -1 -1 -1 -1 -1 -1 -1 -1 -1 -1  0 -1 -1 -1 -1 -1 -1 -1 -1 -1\n",
      " -1 -1 -1  1]\n"
     ]
    },
    {
     "name": "stderr",
     "output_type": "stream",
     "text": [
      "D:\\anaconda\\envs\\py37\\lib\\site-packages\\sklearn\\semi_supervised\\_label_propagation.py:205: RuntimeWarning: invalid value encountered in true_divide\n",
      "  probabilities /= normalizer\n",
      "D:\\anaconda\\envs\\py37\\lib\\site-packages\\sklearn\\semi_supervised\\_label_propagation.py:205: RuntimeWarning: invalid value encountered in true_divide\n",
      "  probabilities /= normalizer\n",
      "D:\\anaconda\\envs\\py37\\lib\\site-packages\\ipykernel_launcher.py:80: RuntimeWarning: divide by zero encountered in log\n"
     ]
    },
    {
     "name": "stdout",
     "output_type": "stream",
     "text": [
      "0.5563633588562997 6092\n",
      "test slant 0.41213796589617985 [1.66576393 1.33088475 0.12096407 3.5926885  0.13700909]\n",
      "206899\n",
      "started random split, test size 0.95\n",
      "[-1 -1 -1 -1 -1 -1 -1 -1 -1 -1 -1 -1 -1 -1 -1 -1 -1 -1 -1 -1  0 -1 -1 -1\n",
      " -1 -1 -1 -1 -1 -1 -1 -1 -1 -1 -1 -1 -1 -1 -1 -1 -1 -1 -1  1 -1  0 -1 -1\n",
      " -1 -1 -1 -1 -1 -1 -1 -1 -1 -1 -1 -1  0 -1 -1 -1 -1 -1 -1 -1 -1 -1 -1 -1\n",
      " -1 -1 -1 -1 -1  0 -1  1 -1 -1 -1 -1 -1 -1 -1 -1 -1 -1 -1 -1 -1  1 -1 -1\n",
      " -1 -1 -1 -1]\n"
     ]
    },
    {
     "name": "stderr",
     "output_type": "stream",
     "text": [
      "D:\\anaconda\\envs\\py37\\lib\\site-packages\\sklearn\\semi_supervised\\_label_propagation.py:205: RuntimeWarning: invalid value encountered in true_divide\n",
      "  probabilities /= normalizer\n",
      "D:\\anaconda\\envs\\py37\\lib\\site-packages\\sklearn\\semi_supervised\\_label_propagation.py:205: RuntimeWarning: invalid value encountered in true_divide\n",
      "  probabilities /= normalizer\n",
      "D:\\anaconda\\envs\\py37\\lib\\site-packages\\ipykernel_launcher.py:80: RuntimeWarning: divide by zero encountered in log\n"
     ]
    },
    {
     "name": "stdout",
     "output_type": "stream",
     "text": [
      "0.5475617511637964 6314\n",
      "test slant 0.37581524274514944 [1.00856645 1.55395857 0.33264474 3.1501187  0.0358107 ]\n",
      "206899\n",
      "started random split, test size 0.95\n",
      "[-1 -1 -1 -1 -1 -1 -1 -1 -1 -1 -1 -1 -1 -1 -1 -1 -1 -1  1 -1 -1 -1 -1 -1\n",
      " -1 -1 -1 -1 -1 -1 -1 -1 -1 -1 -1 -1 -1 -1 -1 -1 -1 -1 -1 -1 -1 -1 -1 -1\n",
      " -1 -1 -1 -1  1 -1 -1 -1 -1 -1 -1 -1 -1 -1 -1 -1 -1 -1 -1 -1 -1 -1 -1 -1\n",
      " -1 -1 -1 -1 -1 -1 -1 -1 -1 -1 -1 -1 -1 -1 -1 -1 -1 -1 -1 -1 -1 -1 -1 -1\n",
      " -1 -1 -1 -1]\n"
     ]
    },
    {
     "name": "stderr",
     "output_type": "stream",
     "text": [
      "D:\\anaconda\\envs\\py37\\lib\\site-packages\\sklearn\\semi_supervised\\_label_propagation.py:205: RuntimeWarning: invalid value encountered in true_divide\n",
      "  probabilities /= normalizer\n",
      "D:\\anaconda\\envs\\py37\\lib\\site-packages\\sklearn\\semi_supervised\\_label_propagation.py:205: RuntimeWarning: invalid value encountered in true_divide\n",
      "  probabilities /= normalizer\n",
      "D:\\anaconda\\envs\\py37\\lib\\site-packages\\ipykernel_launcher.py:80: RuntimeWarning: divide by zero encountered in log\n"
     ]
    },
    {
     "name": "stdout",
     "output_type": "stream",
     "text": [
      "0.5448347790694716 6096\n",
      "test slant 0.2898247356495151 [ 2.11729514  1.64520132  0.07581143  1.45027329 -0.02348599]\n",
      "206899\n",
      "started random split, test size 0.95\n",
      "[-1 -1 -1 -1 -1 -1 -1 -1 -1 -1 -1 -1 -1 -1 -1 -1 -1 -1 -1 -1 -1 -1 -1 -1\n",
      " -1 -1 -1 -1 -1 -1 -1 -1 -1 -1 -1 -1 -1  0 -1 -1 -1 -1 -1 -1 -1 -1 -1 -1\n",
      " -1 -1 -1 -1  1 -1 -1 -1 -1 -1 -1  0 -1 -1 -1 -1 -1 -1 -1  0 -1 -1 -1 -1\n",
      " -1 -1 -1 -1 -1 -1 -1 -1 -1 -1 -1 -1 -1 -1 -1 -1 -1 -1 -1 -1 -1 -1 -1 -1\n",
      " -1 -1 -1 -1]\n"
     ]
    },
    {
     "name": "stderr",
     "output_type": "stream",
     "text": [
      "D:\\anaconda\\envs\\py37\\lib\\site-packages\\sklearn\\semi_supervised\\_label_propagation.py:205: RuntimeWarning: invalid value encountered in true_divide\n",
      "  probabilities /= normalizer\n",
      "D:\\anaconda\\envs\\py37\\lib\\site-packages\\sklearn\\semi_supervised\\_label_propagation.py:205: RuntimeWarning: invalid value encountered in true_divide\n",
      "  probabilities /= normalizer\n",
      "D:\\anaconda\\envs\\py37\\lib\\site-packages\\ipykernel_launcher.py:80: RuntimeWarning: divide by zero encountered in log\n"
     ]
    },
    {
     "name": "stdout",
     "output_type": "stream",
     "text": [
      "0.5372898170995396 6234\n",
      "test slant 0.3565820446489065 [ 0.60420479  0.96555447 -0.4180292   2.59803279  0.3204006 ]\n",
      "acc, pcc [0.6568085268754292, 0.6645010302459872, 0.6631426318333291, 0.6611177533006029, 0.6624812393477653, 0.6610821398590725] [0.8825831702544031, 0.8836754643206256, 0.8621700879765396, 0.8572825024437928, 0.8533724340175953, 0.8856304985337243]\n",
      "label_spreading_0.08_unbias\n",
      "206899\n",
      "started random split, test size 0.92\n",
      "[-1 -1 -1 -1 -1 -1 -1 -1 -1 -1 -1 -1 -1 -1 -1 -1 -1  1 -1 -1 -1 -1 -1 -1\n",
      " -1  1 -1 -1 -1 -1 -1 -1 -1 -1 -1 -1  1 -1 -1 -1 -1 -1 -1 -1 -1 -1  0 -1\n",
      " -1 -1 -1 -1 -1 -1 -1 -1 -1 -1  0 -1 -1 -1 -1 -1 -1 -1  1 -1  0 -1 -1 -1\n",
      " -1 -1 -1 -1 -1  0 -1 -1 -1 -1  0 -1 -1 -1 -1 -1 -1 -1  1 -1 -1 -1 -1 -1\n",
      " -1 -1 -1 -1]\n"
     ]
    },
    {
     "name": "stderr",
     "output_type": "stream",
     "text": [
      "D:\\anaconda\\envs\\py37\\lib\\site-packages\\sklearn\\semi_supervised\\_label_propagation.py:205: RuntimeWarning: invalid value encountered in true_divide\n",
      "  probabilities /= normalizer\n",
      "D:\\anaconda\\envs\\py37\\lib\\site-packages\\sklearn\\semi_supervised\\_label_propagation.py:205: RuntimeWarning: invalid value encountered in true_divide\n",
      "  probabilities /= normalizer\n",
      "D:\\anaconda\\envs\\py37\\lib\\site-packages\\ipykernel_launcher.py:80: RuntimeWarning: divide by zero encountered in log\n"
     ]
    },
    {
     "name": "stdout",
     "output_type": "stream",
     "text": [
      "0.5327242734360225 5504\n",
      "test slant 0.2837369122586623 [ 1.98524842  0.42756027 -0.32699332  1.72522259 -0.05254611]\n",
      "206899\n",
      "started random split, test size 0.92\n",
      "[-1 -1 -1 -1 -1  1 -1 -1 -1 -1 -1 -1 -1 -1 -1 -1  1 -1 -1  0 -1 -1 -1 -1\n",
      " -1 -1 -1 -1 -1 -1 -1 -1 -1 -1 -1 -1 -1 -1 -1 -1 -1 -1 -1 -1  1 -1 -1 -1\n",
      " -1 -1 -1 -1  0 -1 -1  1 -1 -1 -1 -1  1 -1 -1 -1 -1 -1  0 -1  1 -1  0 -1\n",
      " -1  1 -1 -1 -1 -1 -1 -1 -1 -1  0 -1 -1 -1 -1 -1 -1 -1 -1 -1  1 -1 -1 -1\n",
      " -1 -1 -1 -1]\n"
     ]
    },
    {
     "name": "stderr",
     "output_type": "stream",
     "text": [
      "D:\\anaconda\\envs\\py37\\lib\\site-packages\\sklearn\\semi_supervised\\_label_propagation.py:205: RuntimeWarning: invalid value encountered in true_divide\n",
      "  probabilities /= normalizer\n",
      "D:\\anaconda\\envs\\py37\\lib\\site-packages\\sklearn\\semi_supervised\\_label_propagation.py:205: RuntimeWarning: invalid value encountered in true_divide\n",
      "  probabilities /= normalizer\n",
      "D:\\anaconda\\envs\\py37\\lib\\site-packages\\ipykernel_launcher.py:80: RuntimeWarning: divide by zero encountered in log\n"
     ]
    },
    {
     "name": "stdout",
     "output_type": "stream",
     "text": [
      "0.5310904238552546 5684\n",
      "test slant 0.29402753529243164 [2.26068517 1.14031693 0.03295911 1.37278213 0.0280143 ]\n",
      "206899\n",
      "started random split, test size 0.92\n",
      "[-1 -1 -1 -1 -1 -1 -1 -1  0 -1 -1 -1 -1 -1 -1 -1 -1 -1 -1 -1 -1 -1 -1 -1\n",
      " -1 -1 -1 -1 -1 -1 -1 -1  0 -1 -1 -1 -1 -1 -1 -1 -1 -1 -1 -1 -1  1 -1 -1\n",
      " -1 -1 -1 -1 -1 -1  1 -1 -1 -1 -1 -1 -1 -1 -1 -1 -1 -1 -1 -1 -1 -1 -1 -1\n",
      " -1 -1 -1 -1  0 -1 -1 -1 -1 -1 -1 -1 -1 -1 -1 -1 -1 -1 -1 -1  0 -1 -1 -1\n",
      " -1 -1 -1  1]\n"
     ]
    },
    {
     "name": "stderr",
     "output_type": "stream",
     "text": [
      "D:\\anaconda\\envs\\py37\\lib\\site-packages\\sklearn\\semi_supervised\\_label_propagation.py:205: RuntimeWarning: invalid value encountered in true_divide\n",
      "  probabilities /= normalizer\n",
      "D:\\anaconda\\envs\\py37\\lib\\site-packages\\sklearn\\semi_supervised\\_label_propagation.py:205: RuntimeWarning: invalid value encountered in true_divide\n",
      "  probabilities /= normalizer\n",
      "D:\\anaconda\\envs\\py37\\lib\\site-packages\\ipykernel_launcher.py:80: RuntimeWarning: divide by zero encountered in log\n"
     ]
    },
    {
     "name": "stdout",
     "output_type": "stream",
     "text": [
      "0.5315212137768718 5455\n",
      "test slant 0.3577311912650989 [ 0.59984751  1.84296877 -0.09340222  2.19694502  0.22868288]\n",
      "206899\n",
      "started random split, test size 0.92\n",
      "[-1 -1 -1 -1 -1 -1 -1 -1 -1 -1 -1 -1 -1 -1 -1 -1 -1  0 -1 -1 -1 -1 -1 -1\n",
      " -1 -1 -1 -1 -1 -1 -1 -1 -1 -1 -1 -1 -1 -1 -1 -1 -1 -1 -1 -1 -1 -1 -1 -1\n",
      " -1 -1 -1 -1 -1 -1 -1 -1 -1 -1  1  0 -1 -1 -1 -1 -1 -1 -1 -1 -1 -1 -1 -1\n",
      " -1 -1 -1 -1  1 -1 -1 -1 -1 -1 -1 -1 -1 -1 -1 -1 -1 -1 -1 -1 -1 -1 -1 -1\n",
      " -1 -1 -1 -1]\n"
     ]
    },
    {
     "name": "stderr",
     "output_type": "stream",
     "text": [
      "D:\\anaconda\\envs\\py37\\lib\\site-packages\\sklearn\\semi_supervised\\_label_propagation.py:205: RuntimeWarning: invalid value encountered in true_divide\n",
      "  probabilities /= normalizer\n",
      "D:\\anaconda\\envs\\py37\\lib\\site-packages\\sklearn\\semi_supervised\\_label_propagation.py:205: RuntimeWarning: invalid value encountered in true_divide\n",
      "  probabilities /= normalizer\n",
      "D:\\anaconda\\envs\\py37\\lib\\site-packages\\ipykernel_launcher.py:80: RuntimeWarning: divide by zero encountered in log\n"
     ]
    },
    {
     "name": "stdout",
     "output_type": "stream",
     "text": [
      "0.5329816966818669 5700\n",
      "test slant 0.32666525066359475 [ 2.08877819  1.4299071  -0.311125    2.04909309  0.13884144]\n",
      "206899\n",
      "started random split, test size 0.92\n",
      "[-1 -1  0 -1 -1 -1 -1 -1 -1 -1 -1 -1 -1 -1 -1 -1 -1 -1  1 -1  0 -1  0 -1\n",
      " -1 -1 -1 -1 -1 -1 -1 -1 -1 -1 -1 -1 -1 -1 -1 -1 -1 -1 -1 -1 -1 -1 -1 -1\n",
      " -1 -1 -1 -1 -1 -1 -1 -1 -1 -1 -1 -1 -1 -1 -1 -1  1 -1 -1 -1 -1 -1 -1  0\n",
      " -1 -1 -1 -1  0 -1 -1 -1 -1 -1 -1 -1 -1 -1  1 -1 -1 -1 -1 -1 -1 -1 -1 -1\n",
      " -1 -1 -1 -1]\n"
     ]
    },
    {
     "name": "stderr",
     "output_type": "stream",
     "text": [
      "D:\\anaconda\\envs\\py37\\lib\\site-packages\\sklearn\\semi_supervised\\_label_propagation.py:205: RuntimeWarning: invalid value encountered in true_divide\n",
      "  probabilities /= normalizer\n",
      "D:\\anaconda\\envs\\py37\\lib\\site-packages\\sklearn\\semi_supervised\\_label_propagation.py:205: RuntimeWarning: invalid value encountered in true_divide\n",
      "  probabilities /= normalizer\n",
      "D:\\anaconda\\envs\\py37\\lib\\site-packages\\ipykernel_launcher.py:80: RuntimeWarning: divide by zero encountered in log\n"
     ]
    },
    {
     "name": "stdout",
     "output_type": "stream",
     "text": [
      "0.5381564292769033 5412\n",
      "test slant 0.4238021245993671 [ 2.40752913  1.89627025 -1.00810877  3.21988136  0.12285753]\n",
      "206899\n",
      "started random split, test size 0.92\n",
      "[-1  1 -1 -1 -1 -1 -1 -1 -1 -1  0 -1 -1 -1 -1 -1 -1 -1 -1 -1 -1 -1 -1 -1\n",
      " -1 -1 -1 -1  1  1 -1 -1 -1 -1 -1  0 -1 -1 -1 -1 -1 -1 -1 -1 -1  0 -1 -1\n",
      " -1 -1 -1 -1 -1 -1 -1 -1 -1 -1  0 -1  0  0 -1 -1 -1 -1 -1 -1 -1 -1  0 -1\n",
      " -1 -1 -1 -1 -1 -1 -1 -1  1 -1 -1 -1 -1 -1 -1 -1 -1 -1 -1 -1 -1 -1 -1 -1\n",
      " -1 -1 -1 -1]\n"
     ]
    },
    {
     "name": "stderr",
     "output_type": "stream",
     "text": [
      "D:\\anaconda\\envs\\py37\\lib\\site-packages\\sklearn\\semi_supervised\\_label_propagation.py:205: RuntimeWarning: invalid value encountered in true_divide\n",
      "  probabilities /= normalizer\n",
      "D:\\anaconda\\envs\\py37\\lib\\site-packages\\sklearn\\semi_supervised\\_label_propagation.py:205: RuntimeWarning: invalid value encountered in true_divide\n",
      "  probabilities /= normalizer\n",
      "D:\\anaconda\\envs\\py37\\lib\\site-packages\\ipykernel_launcher.py:80: RuntimeWarning: divide by zero encountered in log\n"
     ]
    },
    {
     "name": "stdout",
     "output_type": "stream",
     "text": [
      "0.5348729695084792 5661\n",
      "test slant 0.26278080021857586 [ 1.42276468  1.81250841 -0.33623984  2.36840748  0.07094146]\n",
      "acc, pcc [0.6768812911089163, 0.6749322293903798, 0.6783995629058356, 0.6766448820055898, 0.6789827053607077, 0.6782839851219871] [0.8963831867057673, 0.8924731182795699, 0.8835616438356164, 0.8924731182795699, 0.8894324853228963, 0.9042033235581622]\n",
      "label_spreading_0.2_unbias\n",
      "206899\n",
      "started random split, test size 0.8\n",
      "[-1 -1 -1 -1 -1 -1 -1  1 -1 -1  0 -1 -1 -1  0 -1 -1 -1 -1 -1 -1 -1 -1 -1\n",
      " -1 -1 -1 -1 -1 -1 -1 -1 -1 -1 -1 -1 -1 -1 -1 -1  1 -1 -1 -1 -1 -1 -1 -1\n",
      " -1 -1 -1 -1  1 -1 -1 -1 -1 -1 -1 -1 -1  1 -1  1 -1 -1 -1 -1 -1 -1 -1 -1\n",
      " -1 -1 -1  0  1 -1 -1 -1 -1  1  1 -1 -1  0 -1 -1  0 -1 -1 -1  0 -1  1  1\n",
      "  1 -1  1 -1]\n"
     ]
    },
    {
     "name": "stderr",
     "output_type": "stream",
     "text": [
      "D:\\anaconda\\envs\\py37\\lib\\site-packages\\sklearn\\semi_supervised\\_label_propagation.py:205: RuntimeWarning: invalid value encountered in true_divide\n",
      "  probabilities /= normalizer\n",
      "D:\\anaconda\\envs\\py37\\lib\\site-packages\\sklearn\\semi_supervised\\_label_propagation.py:205: RuntimeWarning: invalid value encountered in true_divide\n",
      "  probabilities /= normalizer\n",
      "D:\\anaconda\\envs\\py37\\lib\\site-packages\\ipykernel_launcher.py:80: RuntimeWarning: divide by zero encountered in log\n"
     ]
    },
    {
     "name": "stdout",
     "output_type": "stream",
     "text": [
      "0.5416143064282262 4352\n",
      "test slant 0.34385944445490035 [ 1.05641505  1.31869401 -0.45528077  2.19783268  0.27414887]\n",
      "206899\n",
      "started random split, test size 0.8\n",
      "[ 1 -1 -1 -1 -1 -1 -1  1 -1 -1 -1 -1  1 -1  0 -1 -1  1 -1 -1 -1 -1 -1  0\n",
      " -1 -1 -1 -1 -1  1 -1 -1 -1 -1 -1 -1  0 -1  1 -1 -1 -1 -1 -1 -1 -1  1 -1\n",
      " -1 -1 -1 -1 -1 -1 -1 -1  0 -1 -1 -1 -1 -1 -1  0 -1 -1 -1 -1 -1 -1 -1 -1\n",
      " -1 -1 -1  1 -1 -1 -1 -1 -1  0  0 -1  1 -1 -1  0 -1  1 -1 -1 -1 -1 -1 -1\n",
      " -1 -1 -1 -1]\n"
     ]
    },
    {
     "name": "stderr",
     "output_type": "stream",
     "text": [
      "D:\\anaconda\\envs\\py37\\lib\\site-packages\\sklearn\\semi_supervised\\_label_propagation.py:205: RuntimeWarning: invalid value encountered in true_divide\n",
      "  probabilities /= normalizer\n",
      "D:\\anaconda\\envs\\py37\\lib\\site-packages\\sklearn\\semi_supervised\\_label_propagation.py:205: RuntimeWarning: invalid value encountered in true_divide\n",
      "  probabilities /= normalizer\n",
      "D:\\anaconda\\envs\\py37\\lib\\site-packages\\ipykernel_launcher.py:80: RuntimeWarning: divide by zero encountered in log\n"
     ]
    },
    {
     "name": "stdout",
     "output_type": "stream",
     "text": [
      "0.5470094248429193 4277\n",
      "test slant 0.38236936567447327 [ 2.76083704  2.30956884 -0.13877015  2.26639309  0.18528521]\n",
      "206899\n",
      "started random split, test size 0.8\n",
      "[-1  0 -1 -1  1  0 -1 -1 -1 -1 -1 -1  1 -1  0 -1  1  0 -1  0 -1 -1 -1 -1\n",
      " -1 -1 -1 -1 -1  1 -1  0 -1  1 -1 -1  0 -1  1 -1 -1 -1 -1 -1 -1 -1 -1 -1\n",
      "  1 -1 -1  1 -1 -1 -1 -1 -1 -1 -1  1 -1  1 -1 -1 -1 -1  0  1 -1  0 -1 -1\n",
      " -1  1 -1 -1 -1  0 -1  1 -1 -1  1 -1  1 -1 -1 -1 -1 -1 -1 -1 -1 -1 -1 -1\n",
      " -1 -1 -1 -1]\n"
     ]
    },
    {
     "name": "stderr",
     "output_type": "stream",
     "text": [
      "D:\\anaconda\\envs\\py37\\lib\\site-packages\\sklearn\\semi_supervised\\_label_propagation.py:205: RuntimeWarning: invalid value encountered in true_divide\n",
      "  probabilities /= normalizer\n",
      "D:\\anaconda\\envs\\py37\\lib\\site-packages\\sklearn\\semi_supervised\\_label_propagation.py:205: RuntimeWarning: invalid value encountered in true_divide\n",
      "  probabilities /= normalizer\n",
      "D:\\anaconda\\envs\\py37\\lib\\site-packages\\ipykernel_launcher.py:80: RuntimeWarning: divide by zero encountered in log\n"
     ]
    },
    {
     "name": "stdout",
     "output_type": "stream",
     "text": [
      "0.5467919284678588 4402\n",
      "test slant 0.3119813649960736 [ 1.24676916  1.00591115 -0.54447075  2.2691317   0.19423539]\n",
      "206899\n",
      "started random split, test size 0.8\n",
      "[-1 -1 -1  0  1 -1 -1 -1 -1 -1 -1 -1  0 -1 -1 -1  0 -1 -1 -1  0 -1  0  0\n",
      " -1 -1 -1 -1 -1 -1  0  1 -1 -1  1 -1 -1 -1 -1  1 -1  0 -1 -1 -1 -1 -1 -1\n",
      " -1 -1 -1  1  0 -1 -1  0 -1 -1 -1 -1  0 -1 -1 -1  1 -1 -1 -1 -1 -1 -1 -1\n",
      " -1  1 -1 -1 -1 -1  1  0 -1 -1 -1 -1 -1  1 -1 -1 -1 -1 -1 -1 -1 -1 -1  1\n",
      " -1 -1 -1 -1]\n"
     ]
    },
    {
     "name": "stderr",
     "output_type": "stream",
     "text": [
      "D:\\anaconda\\envs\\py37\\lib\\site-packages\\sklearn\\semi_supervised\\_label_propagation.py:205: RuntimeWarning: invalid value encountered in true_divide\n",
      "  probabilities /= normalizer\n",
      "D:\\anaconda\\envs\\py37\\lib\\site-packages\\sklearn\\semi_supervised\\_label_propagation.py:205: RuntimeWarning: invalid value encountered in true_divide\n",
      "  probabilities /= normalizer\n",
      "D:\\anaconda\\envs\\py37\\lib\\site-packages\\ipykernel_launcher.py:80: RuntimeWarning: divide by zero encountered in log\n"
     ]
    },
    {
     "name": "stdout",
     "output_type": "stream",
     "text": [
      "0.5436382310294828 4424\n",
      "test slant 0.35241148302295877 [ 1.16675708  1.1792779  -0.67162378  2.08350057  0.15490986]\n",
      "206899\n",
      "started random split, test size 0.8\n",
      "[-1 -1 -1 -1 -1 -1 -1 -1 -1 -1 -1 -1 -1 -1 -1 -1 -1  1 -1  0 -1 -1  1  0\n",
      " -1 -1  1 -1  0 -1 -1 -1 -1 -1 -1 -1 -1  0 -1 -1 -1  1 -1 -1 -1 -1  1 -1\n",
      "  1 -1  0  0 -1  1 -1  0 -1 -1 -1 -1  1 -1 -1  0  1 -1 -1 -1 -1 -1 -1  0\n",
      "  0  0 -1  1 -1 -1 -1 -1 -1 -1 -1 -1 -1 -1 -1 -1  1 -1 -1 -1 -1 -1 -1 -1\n",
      " -1 -1  1  1]\n"
     ]
    },
    {
     "name": "stderr",
     "output_type": "stream",
     "text": [
      "D:\\anaconda\\envs\\py37\\lib\\site-packages\\sklearn\\semi_supervised\\_label_propagation.py:205: RuntimeWarning: invalid value encountered in true_divide\n",
      "  probabilities /= normalizer\n",
      "D:\\anaconda\\envs\\py37\\lib\\site-packages\\sklearn\\semi_supervised\\_label_propagation.py:205: RuntimeWarning: invalid value encountered in true_divide\n",
      "  probabilities /= normalizer\n",
      "D:\\anaconda\\envs\\py37\\lib\\site-packages\\ipykernel_launcher.py:80: RuntimeWarning: divide by zero encountered in log\n"
     ]
    },
    {
     "name": "stdout",
     "output_type": "stream",
     "text": [
      "0.5370287578540358 4266\n",
      "test slant 0.32803909171197604 [ 2.50183744  1.69202618 -0.09818803  2.19644651  0.13236176]\n",
      "206899\n",
      "started random split, test size 0.8\n",
      "[-1 -1  1 -1 -1  1 -1 -1  0 -1 -1 -1 -1 -1 -1  0  1 -1 -1  1 -1 -1 -1 -1\n",
      " -1 -1 -1 -1 -1  0 -1 -1 -1 -1  1 -1 -1 -1 -1 -1  1  1 -1 -1  0 -1 -1 -1\n",
      " -1 -1 -1 -1 -1 -1  1 -1 -1  1 -1 -1  1 -1 -1 -1 -1 -1  1  0  1 -1  1 -1\n",
      " -1 -1 -1 -1 -1 -1  1 -1 -1 -1 -1  1 -1 -1 -1 -1 -1 -1  0 -1 -1  0 -1 -1\n",
      "  0 -1 -1  1]\n"
     ]
    },
    {
     "name": "stderr",
     "output_type": "stream",
     "text": [
      "D:\\anaconda\\envs\\py37\\lib\\site-packages\\sklearn\\semi_supervised\\_label_propagation.py:205: RuntimeWarning: invalid value encountered in true_divide\n",
      "  probabilities /= normalizer\n",
      "D:\\anaconda\\envs\\py37\\lib\\site-packages\\sklearn\\semi_supervised\\_label_propagation.py:205: RuntimeWarning: invalid value encountered in true_divide\n",
      "  probabilities /= normalizer\n",
      "D:\\anaconda\\envs\\py37\\lib\\site-packages\\ipykernel_launcher.py:80: RuntimeWarning: divide by zero encountered in log\n"
     ]
    },
    {
     "name": "stdout",
     "output_type": "stream",
     "text": [
      "0.5414028516191397 4457\n",
      "test slant 0.36567923543027914 [ 2.1709241   1.13354519 -0.27710527  2.27189897  0.11377692]\n",
      "acc, pcc [0.7056186563557274, 0.7052863702271629, 0.7039693088448525, 0.7031839052682455, 0.7028576607056549, 0.7023380860318995] [0.9099804305283757, 0.9042033235581622, 0.9236043095004897, 0.9128305582761999, 0.9098922624877571, 0.8961802154750245]\n",
      "label_spreading_0.4_unbias\n",
      "206899\n",
      "started random split, test size 0.6\n",
      "[-1  0 -1 -1 -1  1 -1 -1  0 -1  1 -1 -1 -1  0 -1 -1 -1  1 -1 -1 -1 -1 -1\n",
      " -1 -1  0  1 -1  0 -1 -1 -1 -1  1  1 -1 -1  0  0 -1 -1 -1 -1  1 -1 -1  0\n",
      "  1 -1  0 -1 -1 -1 -1 -1 -1  1  1  0 -1 -1 -1 -1  1  0  1 -1  0  0  0 -1\n",
      " -1 -1 -1 -1 -1 -1  1  1 -1 -1  1 -1 -1 -1  1 -1  1  1  0 -1 -1  0  1 -1\n",
      "  1  1 -1 -1]\n"
     ]
    },
    {
     "name": "stderr",
     "output_type": "stream",
     "text": [
      "D:\\anaconda\\envs\\py37\\lib\\site-packages\\ipykernel_launcher.py:80: RuntimeWarning: divide by zero encountered in log\n"
     ]
    },
    {
     "name": "stdout",
     "output_type": "stream",
     "text": [
      "0.5478814241984856 3183\n",
      "test slant 0.3288262663957086 [ 1.19744794  1.8059326  -0.114461    2.24210406  0.29190659]\n",
      "206899\n",
      "started random split, test size 0.6\n",
      "[-1  1 -1 -1  1 -1  0  1 -1 -1 -1  0 -1 -1 -1 -1  1 -1 -1  1  1 -1  0 -1\n",
      " -1  1 -1  1  0 -1  0 -1 -1 -1 -1 -1 -1  1 -1 -1 -1  0 -1  1 -1 -1 -1  0\n",
      " -1 -1 -1  0  0 -1 -1  0 -1  0 -1 -1 -1 -1 -1  0 -1  0 -1  0  1 -1  1 -1\n",
      "  0 -1  0  1  1 -1  1 -1  0  0 -1 -1  1  1  1 -1  1  1 -1  0 -1  0  1 -1\n",
      "  1  1  0  0]\n"
     ]
    },
    {
     "name": "stderr",
     "output_type": "stream",
     "text": [
      "D:\\anaconda\\envs\\py37\\lib\\site-packages\\sklearn\\semi_supervised\\_label_propagation.py:205: RuntimeWarning: invalid value encountered in true_divide\n",
      "  probabilities /= normalizer\n",
      "D:\\anaconda\\envs\\py37\\lib\\site-packages\\sklearn\\semi_supervised\\_label_propagation.py:205: RuntimeWarning: invalid value encountered in true_divide\n",
      "  probabilities /= normalizer\n",
      "D:\\anaconda\\envs\\py37\\lib\\site-packages\\ipykernel_launcher.py:80: RuntimeWarning: divide by zero encountered in log\n"
     ]
    },
    {
     "name": "stdout",
     "output_type": "stream",
     "text": [
      "0.5439584340260996 3123\n",
      "test slant 0.33184316660660934 [ 2.02053137  1.38132482 -0.29788477  2.34079804  0.33732821]\n",
      "206899\n",
      "started random split, test size 0.6\n",
      "[-1 -1  0 -1 -1  1  1 -1 -1 -1 -1  0  1  1 -1  0 -1  1  0 -1 -1  0 -1 -1\n",
      " -1 -1  0  1 -1 -1 -1 -1 -1 -1  1 -1  1 -1 -1 -1  1 -1  0 -1 -1 -1  0 -1\n",
      " -1 -1 -1 -1 -1 -1 -1  0 -1 -1  1 -1  1 -1  1 -1 -1  1 -1  0 -1  0 -1 -1\n",
      " -1 -1 -1  0 -1 -1  1 -1  0 -1  0  0 -1  0 -1  1 -1  0 -1 -1  0 -1 -1 -1\n",
      "  0 -1 -1 -1]\n"
     ]
    },
    {
     "name": "stderr",
     "output_type": "stream",
     "text": [
      "D:\\anaconda\\envs\\py37\\lib\\site-packages\\ipykernel_launcher.py:80: RuntimeWarning: divide by zero encountered in log\n"
     ]
    },
    {
     "name": "stdout",
     "output_type": "stream",
     "text": [
      "0.5419929112292573 3158\n",
      "test slant 0.3121895634425793 [ 0.87173089  1.85258833 -0.38700945  2.33188695  0.20194878]\n",
      "206899\n",
      "started random split, test size 0.6\n",
      "[-1 -1  0  1  0  0 -1  1  1 -1 -1 -1 -1 -1 -1 -1  0 -1 -1 -1  0 -1  0 -1\n",
      " -1 -1 -1 -1 -1 -1  0 -1  0 -1 -1 -1 -1  1  0 -1 -1  1 -1  0 -1 -1  1 -1\n",
      " -1 -1 -1  0 -1 -1  0  0  1 -1  0  1 -1 -1 -1 -1 -1  1 -1 -1 -1  1  1  0\n",
      "  0 -1 -1 -1  1 -1  0 -1 -1  1 -1 -1  1  1 -1  0 -1 -1 -1 -1  0 -1  1  0\n",
      " -1 -1 -1 -1]\n"
     ]
    },
    {
     "name": "stderr",
     "output_type": "stream",
     "text": [
      "D:\\anaconda\\envs\\py37\\lib\\site-packages\\ipykernel_launcher.py:80: RuntimeWarning: divide by zero encountered in log\n"
     ]
    },
    {
     "name": "stdout",
     "output_type": "stream",
     "text": [
      "0.5459400676655389 3099\n",
      "test slant 0.30958006259755977 [ 1.69158989  0.87771749 -0.23759747  2.17786858  0.37962304]\n",
      "206899\n",
      "started random split, test size 0.6\n",
      "[-1  1  1 -1  0 -1 -1  0 -1  1 -1 -1  1 -1  0 -1  1 -1  1  1 -1 -1 -1  1\n",
      " -1 -1  1  1 -1 -1  0 -1 -1  1  1 -1  1 -1 -1 -1 -1 -1  1  1  1 -1 -1 -1\n",
      " -1 -1  1 -1  1  1 -1 -1  1 -1 -1  1  0 -1  0 -1  0  0 -1 -1 -1 -1 -1  1\n",
      "  1 -1 -1 -1  1 -1 -1  1 -1  0 -1 -1  1 -1 -1  0 -1  0 -1  0 -1  1 -1  1\n",
      " -1  0 -1 -1]\n"
     ]
    },
    {
     "name": "stderr",
     "output_type": "stream",
     "text": [
      "D:\\anaconda\\envs\\py37\\lib\\site-packages\\ipykernel_launcher.py:80: RuntimeWarning: divide by zero encountered in log\n"
     ]
    },
    {
     "name": "stdout",
     "output_type": "stream",
     "text": [
      "0.5538907684871919 3123\n",
      "test slant 0.3312070707588467 [ 2.90398532  1.55643388 -0.24463644  2.05550342  0.31513618]\n",
      "206899\n",
      "started random split, test size 0.6\n",
      "[ 0 -1 -1 -1 -1 -1  1 -1  1 -1 -1 -1 -1 -1 -1  1  1 -1  1 -1 -1 -1 -1  0\n",
      "  0 -1 -1  0 -1 -1  1 -1 -1  1  1 -1 -1 -1 -1 -1  1 -1  0  0  0 -1 -1 -1\n",
      " -1  0 -1 -1 -1  1  0 -1 -1 -1 -1 -1 -1 -1 -1 -1  0 -1 -1  1 -1  1 -1 -1\n",
      " -1 -1  0  1 -1 -1  1  0 -1 -1 -1  0  0  1 -1  1 -1 -1 -1 -1 -1  1 -1 -1\n",
      " -1 -1 -1  0]\n"
     ]
    },
    {
     "name": "stderr",
     "output_type": "stream",
     "text": [
      "D:\\anaconda\\envs\\py37\\lib\\site-packages\\ipykernel_launcher.py:80: RuntimeWarning: divide by zero encountered in log\n"
     ]
    },
    {
     "name": "stdout",
     "output_type": "stream",
     "text": [
      "0.5488964072821009 3222\n",
      "test slant 0.34286165190752516 [ 1.13734     1.90843949 -0.38068192  2.19730754  0.28126964]\n",
      "acc, pcc [0.722555179635895, 0.723642661511197, 0.7240615434187208, 0.7252537457709038, 0.7226679555340745, 0.7225229579507009] [0.9303921568627451, 0.9343780607247796, 0.9262536873156342, 0.9226248775710089, 0.9213372664700098, 0.912573673870334]\n",
      "label_spreading_0.6_unbias\n",
      "206899\n",
      "started random split, test size 0.4\n",
      "[-1 -1  0  1  0  0  0 -1 -1  1  0 -1  0 -1  1  1 -1 -1  1 -1  1  1 -1  0\n",
      " -1  0  1  1 -1 -1  1 -1  1 -1 -1  0 -1  1  1 -1  1 -1 -1  1 -1 -1  1  0\n",
      "  1  0  1  0  0  0 -1  0  0  1 -1 -1  1 -1  1  0 -1 -1 -1  0  1  1 -1 -1\n",
      "  0 -1  1  0 -1  1  0  1 -1  0  0  1  1  0 -1 -1  1 -1 -1  1  1  0 -1  0\n",
      " -1 -1  1 -1]\n"
     ]
    },
    {
     "name": "stderr",
     "output_type": "stream",
     "text": [
      "D:\\anaconda\\envs\\py37\\lib\\site-packages\\ipykernel_launcher.py:80: RuntimeWarning: divide by zero encountered in log\n"
     ]
    },
    {
     "name": "stdout",
     "output_type": "stream",
     "text": [
      "0.5440792653455776 1990\n",
      "test slant 0.28453524204646674 [ 1.42067553  2.13757607 -0.51797233  2.08304652  0.32106499]\n",
      "206899\n",
      "started random split, test size 0.4\n",
      "[-1  1 -1  1  1 -1  1 -1  0  1  0 -1  0 -1  0  1  0  1 -1  1  0  1 -1 -1\n",
      "  1  1 -1  0  0 -1 -1 -1  0  0  1 -1  0 -1  1  1 -1  0 -1  1 -1 -1  1  0\n",
      " -1  1  0 -1 -1 -1  1 -1  1  1  1  1 -1  0 -1  1  0 -1 -1 -1  1 -1 -1 -1\n",
      "  0  1 -1 -1  1  0 -1  1  1 -1  1  1  1  0  0  1  1 -1  0  1  1 -1  1 -1\n",
      "  1  1 -1  1]\n"
     ]
    },
    {
     "name": "stderr",
     "output_type": "stream",
     "text": [
      "D:\\anaconda\\envs\\py37\\lib\\site-packages\\ipykernel_launcher.py:80: RuntimeWarning: divide by zero encountered in log\n"
     ]
    },
    {
     "name": "stdout",
     "output_type": "stream",
     "text": [
      "0.5479337844369261 2061\n",
      "test slant 0.3173828560973619 [ 2.22333876  1.6541148  -0.38061476  2.29962028  0.25286222]\n",
      "206899\n",
      "started random split, test size 0.4\n",
      "[ 0  0 -1  0  1 -1  1  0  1  1  0  1  0  1 -1  0 -1  1 -1  1  1 -1  1 -1\n",
      " -1 -1  1  1  1 -1 -1  1  0  0 -1  1  1 -1 -1 -1 -1  0 -1 -1  1  1 -1 -1\n",
      "  0 -1  0 -1 -1 -1  1  1 -1  1 -1  0  1 -1  0  0  0  0  0  0 -1  0  1  1\n",
      "  0  0 -1  0 -1 -1 -1  1 -1  0  0  1  1 -1  1 -1  1 -1 -1 -1 -1 -1  1 -1\n",
      "  1 -1  1  1]\n"
     ]
    },
    {
     "name": "stderr",
     "output_type": "stream",
     "text": [
      "D:\\anaconda\\envs\\py37\\lib\\site-packages\\ipykernel_launcher.py:80: RuntimeWarning: divide by zero encountered in log\n"
     ]
    },
    {
     "name": "stdout",
     "output_type": "stream",
     "text": [
      "0.54357177380377 2050\n",
      "test slant 0.31669435409334085 [ 1.92441241  1.57591311 -0.29971078  2.60848087  0.32117892]\n",
      "206899\n",
      "started random split, test size 0.4\n",
      "[-1  1  0  1  1 -1 -1 -1 -1  1 -1 -1  0  0  0 -1  1  1  1 -1  0  0  0  1\n",
      "  0 -1 -1  0  1  0  1  0 -1  1 -1 -1  0 -1  0 -1 -1  1  1  1  0 -1  0  0\n",
      " -1  1  1  0 -1  1  1  1 -1 -1  1 -1  1  0  1  0 -1 -1  1  1 -1  0 -1 -1\n",
      "  0  1  0  0  1  1  0 -1 -1 -1  1 -1 -1 -1 -1  0  0  1  0 -1 -1 -1  0  1\n",
      " -1  0 -1 -1]\n"
     ]
    },
    {
     "name": "stderr",
     "output_type": "stream",
     "text": [
      "D:\\anaconda\\envs\\py37\\lib\\site-packages\\ipykernel_launcher.py:80: RuntimeWarning: divide by zero encountered in log\n"
     ]
    },
    {
     "name": "stdout",
     "output_type": "stream",
     "text": [
      "0.5457346544224263 2045\n",
      "test slant 0.3381597038658581 [ 0.11800487  1.08561598 -0.41114484  2.3020439   0.13823008]\n",
      "206899\n",
      "started random split, test size 0.4\n",
      "[ 0  1 -1 -1  1 -1 -1 -1 -1  1 -1  1  1  1 -1 -1 -1  1 -1 -1  0 -1 -1  1\n",
      "  1  1  1  1  0 -1 -1  0  0 -1 -1  0 -1  1  0 -1 -1  1  0  0  1  1  0  0\n",
      "  1 -1 -1  0  0  0 -1  0  0  1 -1 -1 -1 -1  1  1  0  0 -1  1 -1  1 -1 -1\n",
      "  1  1  0  0 -1 -1  1  0 -1  1 -1 -1  1 -1  1  1  0 -1 -1 -1 -1 -1 -1  0\n",
      " -1 -1  0 -1]\n"
     ]
    },
    {
     "name": "stderr",
     "output_type": "stream",
     "text": [
      "D:\\anaconda\\envs\\py37\\lib\\site-packages\\ipykernel_launcher.py:80: RuntimeWarning: divide by zero encountered in log\n"
     ]
    },
    {
     "name": "stdout",
     "output_type": "stream",
     "text": [
      "0.540720154664089 2042\n",
      "test slant 0.2954304553287003 [ 0.19421803  1.40427977 -0.46718459  1.75453754  0.25441411]\n",
      "206899\n",
      "started random split, test size 0.4\n",
      "[ 1 -1  1  1 -1  1 -1  0  1  1 -1  0  1  1 -1 -1  1  0  0 -1  1 -1 -1  1\n",
      "  1  1  1  0 -1 -1 -1  0 -1  0  0 -1 -1  1 -1  1  1 -1  0  0 -1  1  1  0\n",
      " -1  1  1  0  0  1  1 -1  0 -1  1 -1 -1  0  0  0 -1  1 -1  1  0  1  0 -1\n",
      " -1  1 -1  1 -1  0  1 -1 -1  0 -1 -1 -1  1  1  1  0  1 -1 -1  1  1  1  1\n",
      " -1  0 -1  1]\n"
     ]
    },
    {
     "name": "stderr",
     "output_type": "stream",
     "text": [
      "D:\\anaconda\\envs\\py37\\lib\\site-packages\\ipykernel_launcher.py:80: RuntimeWarning: divide by zero encountered in log\n"
     ]
    },
    {
     "name": "stdout",
     "output_type": "stream",
     "text": [
      "0.5501449975833737 2050\n",
      "test slant 0.33488864245016087 [ 0.75492822  1.37151542 -0.65602299  2.54824606  0.345797  ]\n",
      "acc, pcc [0.7331561140647656, 0.7328057032382793, 0.7356452392460126, 0.7292049299178347, 0.7320202996616723, 0.7329144514258096] [0.9203539823008849, 0.9202755905511811, 0.9282907662082515, 0.9231527093596059, 0.9273797841020608, 0.9165029469548134]\n",
      "label_spreading_0.8_unbias\n",
      "206899\n",
      "started random split, test size 0.19999999999999996\n",
      "[-1  0  0  0  0 -1  0 -1 -1  1  1  1  0  0 -1  0  0  1  1  1  1  0 -1  1\n",
      "  1  1  0  0  1 -1  0  1  1  0  1 -1  1  1 -1  1  0  1  1  1  1  0  0 -1\n",
      " -1  1 -1  0  1 -1  1 -1 -1  1  0  0  0  1  0  0  1  1  1 -1  0  1 -1  1\n",
      " -1  1 -1 -1 -1  0  1  1  1  0 -1  1  0  0 -1  1  0  1  1 -1 -1  0  1 -1\n",
      "  0  0  1  0]\n"
     ]
    },
    {
     "name": "stderr",
     "output_type": "stream",
     "text": [
      "D:\\anaconda\\envs\\py37\\lib\\site-packages\\ipykernel_launcher.py:80: RuntimeWarning: divide by zero encountered in log\n"
     ]
    },
    {
     "name": "stdout",
     "output_type": "stream",
     "text": [
      "0.54417593040116 1015\n",
      "test slant 0.2936566238263224 [ 2.56298654  1.23576343 -0.26819538  2.01826013  0.20340437]\n",
      "206899\n",
      "started random split, test size 0.19999999999999996\n",
      "[ 0  0 -1  0  1  0  0  0 -1  0  1  1  0  0  1  0  0  0  0  0  1  0  1 -1\n",
      " -1 -1  1  1 -1  1  1  1 -1  0  0  0  1  1  0  0 -1  0  0  1  0  0  0  1\n",
      "  1  0  1  0 -1  0 -1  1  1 -1  1 -1  1  1  1  0  0  0 -1  0  1  1  1 -1\n",
      " -1  1  1  0  1 -1  1  0  0  1  1 -1  1  1  1  1  1  0 -1 -1  0  1 -1  0\n",
      " -1  0  0  0]\n"
     ]
    },
    {
     "name": "stderr",
     "output_type": "stream",
     "text": [
      "D:\\anaconda\\envs\\py37\\lib\\site-packages\\ipykernel_launcher.py:80: RuntimeWarning: divide by zero encountered in log\n"
     ]
    },
    {
     "name": "stdout",
     "output_type": "stream",
     "text": [
      "0.5474142097631706 993\n",
      "test slant 0.37050733227112603 [ 1.73789033  1.60584032 -0.30087458  2.79244227  0.32658529]\n",
      "206899\n",
      "started random split, test size 0.19999999999999996\n",
      "[ 0  0  1  1  0  0  1 -1 -1 -1  1 -1  0  1  0  1  0  0  0  0 -1 -1  1  0\n",
      "  1  1  1 -1  1  0 -1  1  1  0  1  1  0  0  1 -1 -1  1  0  0  0  0  0  1\n",
      "  1 -1  0 -1  0  1  1  0  0  0  0  0  1  0  1  1  0  1  1  1  1  1  1  0\n",
      "  1  0  0  1 -1  1  1  0 -1 -1  1  1  0 -1  1  1  0  1 -1  0  0  0  1  1\n",
      "  0  1 -1  1]\n"
     ]
    },
    {
     "name": "stderr",
     "output_type": "stream",
     "text": [
      "D:\\anaconda\\envs\\py37\\lib\\site-packages\\ipykernel_launcher.py:80: RuntimeWarning: divide by zero encountered in log\n"
     ]
    },
    {
     "name": "stdout",
     "output_type": "stream",
     "text": [
      "0.5463992266795553 1027\n",
      "test slant 0.335487950287622 [ 0.92113891  2.00289134 -0.23879359  2.13475845  0.29026769]\n",
      "206899\n",
      "started random split, test size 0.19999999999999996\n",
      "[ 0  0  0 -1  1  1 -1  0  1  1  1 -1 -1  0  0  1  1 -1  1  1  0  0  0  1\n",
      " -1  1  0  1  0  1 -1  0  0 -1  1  1  1  1  1  0  0  0  0  0  1  0  1  0\n",
      "  1  0  1  0  1  1  0  0  1  1  0  0  1  1  0  1  1  1  1  1  1  1  1  0\n",
      "  1  0  1  1  0  1  1  0 -1 -1  1  1  0  0  1  0  0  0  0  0 -1  1  0  1\n",
      "  1 -1  1  0]\n"
     ]
    },
    {
     "name": "stderr",
     "output_type": "stream",
     "text": [
      "D:\\anaconda\\envs\\py37\\lib\\site-packages\\ipykernel_launcher.py:80: RuntimeWarning: divide by zero encountered in log\n"
     ]
    },
    {
     "name": "stdout",
     "output_type": "stream",
     "text": [
      "0.5454809086515224 1025\n",
      "test slant 0.32200486940270984 [ 2.07427015  0.65172609 -0.48763792  2.00340276  0.40498422]\n",
      "206899\n",
      "started random split, test size 0.19999999999999996\n",
      "[ 1  1  1  0 -1  1  1  1  0  0  0  0  1 -1  1  1  0 -1 -1  0  0  1  1  1\n",
      " -1  1 -1  0  0 -1  1  0  1 -1  0 -1 -1  1  1  1 -1  1  0  0  0  1  0  0\n",
      " -1 -1 -1  0  1  0  1  1  0  0 -1  1  0  1  1  0  0  1  1  0  1  1  0  1\n",
      " -1  0  0  1 -1  0  1  0  1  1  0  0 -1  1  1  0  1  0  1  1  1  0  1  0\n",
      " -1  1  0  0]\n"
     ]
    },
    {
     "name": "stderr",
     "output_type": "stream",
     "text": [
      "D:\\anaconda\\envs\\py37\\lib\\site-packages\\ipykernel_launcher.py:80: RuntimeWarning: divide by zero encountered in log\n"
     ]
    },
    {
     "name": "stdout",
     "output_type": "stream",
     "text": [
      "0.5460125664572257 990\n",
      "test slant 0.3515923373888161 [ 1.30328201  3.52642252 -0.24905064  2.90691179  0.127439  ]\n",
      "206899\n",
      "started random split, test size 0.19999999999999996\n",
      "[ 0  0  0  1  0  0  1 -1  0  1  1  0  0  1 -1  0  1  1  1  0  1  0  0  1\n",
      "  0  0  1  1  1  1  1 -1  0  1  1  0  1  0  0  0  0  1  1  1  1  0  1  0\n",
      "  0  1  0  0  0 -1  0 -1  1  0 -1  1 -1  1  0  1 -1 -1  1  1  0 -1  0  1\n",
      "  1  1  0  1  1  1  1  1  0  1  1 -1 -1  1  0  0  1  0  0  1  0  0 -1  0\n",
      " -1  0 -1 -1]\n"
     ]
    },
    {
     "name": "stderr",
     "output_type": "stream",
     "text": [
      "D:\\anaconda\\envs\\py37\\lib\\site-packages\\ipykernel_launcher.py:80: RuntimeWarning: divide by zero encountered in log\n"
     ]
    },
    {
     "name": "stdout",
     "output_type": "stream",
     "text": [
      "0.5431367810536492 953\n",
      "test slant 0.35847846421373153 [ 0.43410442  3.44458793 -0.50262268  1.36641475  0.31640247]\n",
      "acc, pcc [0.7423392943450943, 0.7426776220396327, 0.7378927017883036, 0.7396326727887869, 0.7406476558724021, 0.7417351377477042] [0.9240759240759241, 0.903096903096903, 0.9007936507936508, 0.9034825870646767, 0.9072781655034895, 0.8944223107569721]\n"
     ]
    }
   ],
   "source": [
    "rounds = 6\n",
    "topn = 50000000\n",
    "\n",
    "notmasks = [0.01, 0.03, 0.05, 0.08, 0.2, 0.4, 0.6, 0.8]\n",
    "\n",
    "# notmasks = [0.01]\n",
    "# topn = 5000\n",
    "# rounds = 2\n",
    "model_name = 'label_spreading'\n",
    "label_prop_model = LabelSpreading(kernel= 'knn', n_neighbors=10)\n",
    "for biased in [True, False]:\n",
    "  bia = 'bias'\n",
    "  if not biased:\n",
    "    bia = 'unbias'\n",
    "  f = open( r'./results/SKSSL/{}_{}.txt'.format(model_name, bia), 'w')\n",
    "  f.write('\\taccs\\tpccs\\n')\n",
    "  for notmask in notmasks:\n",
    "    version = \"{}_{}_{}\".format(model_name, notmask, bia)\n",
    "    print(version)\n",
    "    \n",
    "    if biased:\n",
    "#       continue\n",
    "      trainid, testid = sample(labels, topics, biased = biased, notmask = notmask)\n",
    "\n",
    "      ys = np.copy(labels)\n",
    "      ys[testid] = -1\n",
    "\n",
    "      Xs = np.copy(sentvec_flt)\n",
    "      Xidx = np.arange(len(Xs))\n",
    "      \n",
    "      np.random.shuffle(Xidx)\n",
    "      Xs = Xs[Xidx]\n",
    "      ys = ys[Xidx]\n",
    "      print(ys[:100])\n",
    "      label_prop_model.fit(Xs[:topn], ys[:topn])\n",
    "      Xt = sentvec_flt[testid]\n",
    "      yt = labels[testid]\n",
    "      At = As[testid]\n",
    "      y_pred = label_prop_model.predict(Xt)\n",
    "      acc = np.mean(y_pred == yt)\n",
    "#       print(acc)\n",
    "      proba_pred = label_prop_model.predict_proba(Xt)\n",
    "      s_pred = np.array([np.log(i[1]*1000)- np.log(i[0]*1000) for i in proba_pred])\n",
    "      print(y_pred.mean(), len(s_pred) - np.isfinite(s_pred).sum(), len(s_pred))\n",
    "\n",
    "      pcc = predict_party_membership(s_pred, yt, At)\n",
    "\n",
    "\n",
    "    \n",
    "      f.write(version)\n",
    "      f.write('\\t'+str(acc))\n",
    "      print(\"acc, pcc\", acc, pcc)\n",
    "      f.write('\\t' + str(pcc))\n",
    "      f.write('\\n')\n",
    "    else:\n",
    "      accs = []\n",
    "      pccs = []\n",
    "      for __ in range(rounds):\n",
    "        trainid, testid = sample(labels, topics, biased = biased, notmask = notmask)\n",
    "        ys = np.copy(labels)\n",
    "        ys[testid] = -1\n",
    "        \n",
    "        Xs = np.copy(sentvec_flt)\n",
    "        Xidx = np.arange(len(Xs))\n",
    "      \n",
    "        np.random.shuffle(Xidx)\n",
    "        Xs = Xs[Xidx]\n",
    "        ys = ys[Xidx]\n",
    "        print(ys[:100])\n",
    "        label_prop_model.fit(Xs[:topn], ys[:topn])\n",
    "        Xt = sentvec_flt[testid]\n",
    "        yt = labels[testid]\n",
    "        At = As[testid]\n",
    "        y_pred = label_prop_model.predict(Xt)\n",
    "        acc = np.mean(y_pred == yt)\n",
    "#         print(acc)\n",
    "        accs.append(acc)\n",
    "        \n",
    "        proba_pred = label_prop_model.predict_proba(Xt)\n",
    "        s_pred = np.array([np.log(i[1]*1000)- np.log(i[0]*1000) for i in proba_pred])\n",
    "        print(y_pred.mean(), len(s_pred) - np.isfinite(s_pred).sum())\n",
    "        pcc = predict_party_membership(s_pred, yt, At)\n",
    "        pccs.append(pcc)\n",
    "      f.write(version)\n",
    "      f.write('\\t' + str(accs))\n",
    "      f.write('\\t' + str(pccs))\n",
    "      print(\"acc, pcc\", accs, pccs)\n",
    "      f.write('\\n')\n",
    "  f.close()"
   ]
  },
  {
   "cell_type": "code",
   "execution_count": null,
   "metadata": {},
   "outputs": [],
   "source": []
  }
 ],
 "metadata": {
  "colab": {
   "collapsed_sections": [],
   "name": "labelspreading.ipynb",
   "provenance": []
  },
  "kernelspec": {
   "display_name": "Python 3",
   "language": "python",
   "name": "python3"
  },
  "language_info": {
   "codemirror_mode": {
    "name": "ipython",
    "version": 3
   },
   "file_extension": ".py",
   "mimetype": "text/x-python",
   "name": "python",
   "nbconvert_exporter": "python",
   "pygments_lexer": "ipython3",
   "version": "3.7.6"
  }
 },
 "nbformat": 4,
 "nbformat_minor": 1
}
