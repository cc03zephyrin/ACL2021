{
 "cells": [
  {
   "cell_type": "code",
   "execution_count": 1,
   "metadata": {
    "id": "CDVWnOKtK3Yy"
   },
   "outputs": [],
   "source": [
    "import numpy as np\n",
    "from sklearn import datasets\n",
    "from sklearn.semi_supervised import LabelSpreading, SelfTrainingClassifier\n",
    "import pandas as pd\n",
    "from sklearn.model_selection import StratifiedShuffleSplit\n",
    "\n",
    "from sklearn.svm import SVC\n",
    "from sklearn.ensemble import RandomForestClassifier\n",
    "\n",
    "# iris = datasets.load_iris()\n",
    "# rng = np.random.RandomState(42)\n",
    "# random_unlabeled_points = rng.rand(len(iris.target)) < 0.3\n",
    "# labels = np.copy(iris.target)\n",
    "# labels[random_unlabeled_points] = -1\n",
    "# label_prop_model.fit(iris.data, labels)"
   ]
  },
  {
   "cell_type": "code",
   "execution_count": 2,
   "metadata": {
    "colab": {
     "base_uri": "https://localhost:8080/"
    },
    "id": "onQoG9M8N94V",
    "outputId": "383857f6-5e21-4763-c5f7-dd0685a0a37c"
   },
   "outputs": [
    {
     "data": {
      "text/plain": [
       "'D:\\\\projects\\\\congress'"
      ]
     },
     "execution_count": 2,
     "metadata": {},
     "output_type": "execute_result"
    }
   ],
   "source": [
    "import os\n",
    "# from google.colab import drive\n",
    "# drive.mount(r'/content/gdrive')\n",
    "# print(os.listdir())\n",
    "# os.chdir(r'./gdrive/MyDrive/congress_SSL')\n",
    "os.chdir(r'D:\\projects\\congress\\\\')\n",
    "os.getcwd()"
   ]
  },
  {
   "cell_type": "code",
   "execution_count": 3,
   "metadata": {
    "id": "_aTt1kOrLVgC"
   },
   "outputs": [],
   "source": [
    "congress = pd.read_csv(r'./processed/processed_reports/crs_2009_20_10_04_trancated.csv',  sep ='\\t', encoding = 'ISO-8859-1', index_col = 0)"
   ]
  },
  {
   "cell_type": "code",
   "execution_count": 4,
   "metadata": {},
   "outputs": [
    {
     "data": {
      "text/html": [
       "<div>\n",
       "<style scoped>\n",
       "    .dataframe tbody tr th:only-of-type {\n",
       "        vertical-align: middle;\n",
       "    }\n",
       "\n",
       "    .dataframe tbody tr th {\n",
       "        vertical-align: top;\n",
       "    }\n",
       "\n",
       "    .dataframe thead th {\n",
       "        text-align: right;\n",
       "    }\n",
       "</style>\n",
       "<table border=\"1\" class=\"dataframe\">\n",
       "  <thead>\n",
       "    <tr style=\"text-align: right;\">\n",
       "      <th></th>\n",
       "      <th>speech_id</th>\n",
       "      <th>true_id</th>\n",
       "      <th>chamber</th>\n",
       "      <th>state</th>\n",
       "      <th>party</th>\n",
       "      <th>congress</th>\n",
       "      <th>daysafter</th>\n",
       "      <th>monthsafter</th>\n",
       "      <th>speech</th>\n",
       "      <th>date</th>\n",
       "      <th>topics_prior</th>\n",
       "    </tr>\n",
       "  </thead>\n",
       "  <tbody>\n",
       "    <tr>\n",
       "      <th>594060</th>\n",
       "      <td>1110000007</td>\n",
       "      <td>L000557</td>\n",
       "      <td>H</td>\n",
       "      <td>CT</td>\n",
       "      <td>D</td>\n",
       "      <td>111</td>\n",
       "      <td>6578</td>\n",
       "      <td>216</td>\n",
       "      <td>our democracy renews itself every 2 years as m...</td>\n",
       "      <td>20090106</td>\n",
       "      <td>22</td>\n",
       "    </tr>\n",
       "    <tr>\n",
       "      <th>594061</th>\n",
       "      <td>1110000009</td>\n",
       "      <td>P000587</td>\n",
       "      <td>H</td>\n",
       "      <td>IN</td>\n",
       "      <td>R</td>\n",
       "      <td>111</td>\n",
       "      <td>6578</td>\n",
       "      <td>216</td>\n",
       "      <td>madam clerk. as chairman of the republican con...</td>\n",
       "      <td>20090106</td>\n",
       "      <td>22</td>\n",
       "    </tr>\n",
       "    <tr>\n",
       "      <th>594062</th>\n",
       "      <td>1110000013</td>\n",
       "      <td>B000589</td>\n",
       "      <td>H</td>\n",
       "      <td>OH</td>\n",
       "      <td>R</td>\n",
       "      <td>111</td>\n",
       "      <td>6578</td>\n",
       "      <td>216</td>\n",
       "      <td>. leader hoyer. fellow members. and a special ...</td>\n",
       "      <td>20090106</td>\n",
       "      <td>18</td>\n",
       "    </tr>\n",
       "    <tr>\n",
       "      <th>594063</th>\n",
       "      <td>1110000014</td>\n",
       "      <td>P000197</td>\n",
       "      <td>H</td>\n",
       "      <td>CA</td>\n",
       "      <td>D</td>\n",
       "      <td>111</td>\n",
       "      <td>6578</td>\n",
       "      <td>216</td>\n",
       "      <td>thank you very much. leader boehner. together....</td>\n",
       "      <td>20090106</td>\n",
       "      <td>22</td>\n",
       "    </tr>\n",
       "    <tr>\n",
       "      <th>594064</th>\n",
       "      <td>1110000016</td>\n",
       "      <td>L000557</td>\n",
       "      <td>H</td>\n",
       "      <td>CT</td>\n",
       "      <td>D</td>\n",
       "      <td>111</td>\n",
       "      <td>6578</td>\n",
       "      <td>216</td>\n",
       "      <td>for\"your nomination this morning. thank you to...</td>\n",
       "      <td>20090106</td>\n",
       "      <td>-1</td>\n",
       "    </tr>\n",
       "  </tbody>\n",
       "</table>\n",
       "</div>"
      ],
      "text/plain": [
       "         speech_id  true_id chamber state party  congress  daysafter  \\\n",
       "594060  1110000007  L000557       H    CT     D       111       6578   \n",
       "594061  1110000009  P000587       H    IN     R       111       6578   \n",
       "594062  1110000013  B000589       H    OH     R       111       6578   \n",
       "594063  1110000014  P000197       H    CA     D       111       6578   \n",
       "594064  1110000016  L000557       H    CT     D       111       6578   \n",
       "\n",
       "        monthsafter                                             speech  \\\n",
       "594060          216  our democracy renews itself every 2 years as m...   \n",
       "594061          216  madam clerk. as chairman of the republican con...   \n",
       "594062          216  . leader hoyer. fellow members. and a special ...   \n",
       "594063          216  thank you very much. leader boehner. together....   \n",
       "594064          216  for\"your nomination this morning. thank you to...   \n",
       "\n",
       "            date  topics_prior  \n",
       "594060  20090106            22  \n",
       "594061  20090106            22  \n",
       "594062  20090106            18  \n",
       "594063  20090106            22  \n",
       "594064  20090106            -1  "
      ]
     },
     "execution_count": 4,
     "metadata": {},
     "output_type": "execute_result"
    }
   ],
   "source": [
    "congress.head()"
   ]
  },
  {
   "cell_type": "code",
   "execution_count": 5,
   "metadata": {
    "id": "-IjSpTpMLbc5"
   },
   "outputs": [],
   "source": [
    "sent_vec = np.load(r'./processed/training_vectors/sentence_vec_2009_20.npy')\n",
    "As_all = np.load(r'./processed/training_vectors/author_dummy_2009_20.npy')"
   ]
  },
  {
   "cell_type": "code",
   "execution_count": 6,
   "metadata": {
    "colab": {
     "base_uri": "https://localhost:8080/"
    },
    "id": "-bNj4FJaz603",
    "outputId": "5fb52c19-3fb1-4ff1-c625-e870abdad0b0"
   },
   "outputs": [
    {
     "data": {
      "text/plain": [
       "((208292, 300), (208292, 11))"
      ]
     },
     "execution_count": 6,
     "metadata": {},
     "output_type": "execute_result"
    }
   ],
   "source": [
    "sent_vec.shape, congress.shape"
   ]
  },
  {
   "cell_type": "code",
   "execution_count": 7,
   "metadata": {
    "id": "IrB8GAbHLok5"
   },
   "outputs": [],
   "source": [
    "dws = np.load(r'./processed/training_vectors/dws_2009_20.npy')\n",
    "congress['dw']= dws\n",
    "\n",
    "\n",
    "true_switchers_ = ['A000361','B000229', 'B001264', 'D000168', 'G000280', 'H000067', 'H000390', 'L000119', 'P000066', 'T000058', 'C000077','F000257', 'G000557', \n",
    "'S000320', 'S000709','J000072']\n",
    "\n",
    "independents = ['S000033', 'B001237', 'K000383']\n",
    "\n",
    "true_switchers =independents + true_switchers_\n",
    "select = ~congress['true_id'].isin(true_switchers)\n",
    "congress_flt_ = congress.loc[select]\n",
    "sentvec_flt = sent_vec[select]\n",
    "dws_flt = dws[select]\n",
    "labels = ((congress_flt_['party'] == 'D')*1).values\n",
    "As_flt =As_all[select]\n"
   ]
  },
  {
   "cell_type": "code",
   "execution_count": 8,
   "metadata": {
    "colab": {
     "base_uri": "https://localhost:8080/"
    },
    "id": "gL_hzD211rre",
    "outputId": "882e85b3-f34a-4f26-87da-434585c32138"
   },
   "outputs": [
    {
     "data": {
      "text/plain": [
       "(array([1, 0, 0, ..., 0, 0, 1]), (206899,))"
      ]
     },
     "execution_count": 8,
     "metadata": {},
     "output_type": "execute_result"
    }
   ],
   "source": [
    "labels, labels.shape"
   ]
  },
  {
   "cell_type": "code",
   "execution_count": 9,
   "metadata": {
    "colab": {
     "base_uri": "https://localhost:8080/"
    },
    "id": "JH8xihF10vD4",
    "outputId": "3e2cccdd-ee26-4406-f85a-23ecefc3938d"
   },
   "outputs": [
    {
     "data": {
      "text/plain": [
       "(206899,)"
      ]
     },
     "execution_count": 9,
     "metadata": {},
     "output_type": "execute_result"
    }
   ],
   "source": [
    "# labels.shape, congress_flt.shape\n",
    "topics = congress_flt_['topics_prior'].values\n",
    "topics.shape"
   ]
  },
  {
   "cell_type": "code",
   "execution_count": 10,
   "metadata": {
    "colab": {
     "base_uri": "https://localhost:8080/"
    },
    "id": "CokGxNTi04P_",
    "outputId": "7c54e9a8-157c-4212-a164-ac3f8fb06931"
   },
   "outputs": [
    {
     "data": {
      "text/plain": [
       "array([-0.769, -0.769, -0.769, ...,  0.916,  0.916,  0.916], dtype=float32)"
      ]
     },
     "execution_count": 10,
     "metadata": {},
     "output_type": "execute_result"
    }
   ],
   "source": [
    "# sort dws\n",
    "sortinx = np.argsort(dws_flt)\n",
    "dws_flt[sortinx]"
   ]
  },
  {
   "cell_type": "code",
   "execution_count": 11,
   "metadata": {
    "id": "OBgad2JQ1KHX"
   },
   "outputs": [],
   "source": [
    "labels = labels[sortinx]\n",
    "sentvec_flt = sentvec_flt[sortinx]\n",
    "topics = topics[sortinx]\n",
    "As = As_flt[sortinx]"
   ]
  },
  {
   "cell_type": "code",
   "execution_count": 12,
   "metadata": {
    "id": "k-ji6tuxRrod"
   },
   "outputs": [],
   "source": [
    "def sample(labels, topics, biased = True, notmask = 0.8):\n",
    "\n",
    "  total = len(labels)\n",
    "  print(total)\n",
    "  if not biased: \n",
    "    print('started random split, test size {}'.format(1-notmask))\n",
    "    sss = StratifiedShuffleSplit(n_splits=5, test_size= 1- notmask)\n",
    "    trainid, testid = next(sss.split(topics, labels))\n",
    "    assert len(trainid) + len(testid) == total, \"length error\"\n",
    "  else:\n",
    "    print('started biased split, test size {}'.format(1-notmask))\n",
    "    topn = int(total * notmask/2.0)\n",
    "    testid = np.arange(total)[topn:-topn]\n",
    "    trainid = np.concatenate([np.arange(total)[:topn], np.arange(total)[-topn:]])\n",
    "  return trainid, testid"
   ]
  },
  {
   "cell_type": "code",
   "execution_count": 1,
   "metadata": {},
   "outputs": [],
   "source": [
    "def predict_party_membership(s_pred, y, As):\n",
    "    # filter out nan\n",
    "    \n",
    "    fin = np.isfinite(s_pred)\n",
    "    s_pred = s_pred[fin]\n",
    "    y = y[fin]\n",
    "    As = As[fin]\n",
    "    nonzero_inx = (np.sum(As.T, axis = -1) !=0)\n",
    "    ave_slants = (np.matmul(As.T, s_pred)/(np.sum(As.T, axis = -1) + 0.000001))[nonzero_inx]\n",
    "    y_ = np.matmul(As.T, y) >0 # this is party label per person, but those with 0 speech be 0\n",
    "    print(\"test slant\", ave_slants.mean(), ave_slants[:5])\n",
    "    y_true = y_[nonzero_inx]\n",
    "    y_pred = ave_slants>0\n",
    "    return np.mean(y_true == y_pred)"
   ]
  },
  {
   "cell_type": "code",
   "execution_count": 21,
   "metadata": {
    "colab": {
     "base_uri": "https://localhost:8080/"
    },
    "id": "fAvW6-q0-kp2",
    "outputId": "015a5543-ad8f-4148-a61b-9407bfcbe85e"
   },
   "outputs": [
    {
     "name": "stdout",
     "output_type": "stream",
     "text": [
      "206899\n",
      "started biased split, test size 0.8\n"
     ]
    }
   ],
   "source": [
    "trainid, testid = sample(labels, topics, biased = True, notmask =0.2)"
   ]
  },
  {
   "cell_type": "code",
   "execution_count": 15,
   "metadata": {
    "id": "s5kwezjL0t1c"
   },
   "outputs": [],
   "source": [
    "del congress\n",
    "del congress_flt_\n"
   ]
  },
  {
   "cell_type": "code",
   "execution_count": 16,
   "metadata": {
    "id": "TS3mQpDH6N2v"
   },
   "outputs": [],
   "source": [
    "del sent_vec\n",
    "del dws"
   ]
  },
  {
   "cell_type": "code",
   "execution_count": 18,
   "metadata": {
    "colab": {
     "base_uri": "https://localhost:8080/"
    },
    "id": "QbMa60SJTfo9",
    "outputId": "1d455db5-3405-4b7d-c240-7a2d7fbc6abf"
   },
   "outputs": [],
   "source": [
    "# rounds = 6\n",
    "# notmasks = [0.01, 0.03, 0.05, 0.08, 0.2, 0.4, 0.6, 0.8]\n",
    "\n",
    "# # notmasks = [0.8]\n",
    "# topn = 500000\n",
    "# model_name = 'label_spreading'\n",
    "# label_prop_model = LabelSpreading(kernel= 'knn', n_neighbors=10)\n",
    "# for biased in [True, False]:\n",
    "#   bia = 'bias'\n",
    "#   if not biased:\n",
    "#     bia = 'unbias'\n",
    "#   f = open( r'./results/SKSSL/{}_{}.txt'.format(model_name, bia), 'w')\n",
    "#   for notmask in notmasks:\n",
    "#     version = \"{}_{}_{}\".format(model_name, notmask, bia)\n",
    "#     print(version)\n",
    "#     if biased:\n",
    "# #       continue\n",
    "#       trainid, testid = sample(labels, topics, biased = biased, notmask = notmask)\n",
    "\n",
    "#       ys = np.copy(labels)\n",
    "#       ys[testid] = -1\n",
    "\n",
    "#       Xs = np.copy(sentvec_flt)\n",
    "#       Xidx = np.arange(len(Xs))\n",
    "      \n",
    "#       np.random.shuffle(Xidx)\n",
    "#       Xs = Xs[Xidx]\n",
    "#       ys = ys[Xidx]\n",
    "#       print(ys[:100])\n",
    "#       label_prop_model.fit(Xs[:topn], ys[:topn])\n",
    "#       Xt = sentvec_flt[testid]\n",
    "#       yt = labels[testid]\n",
    "#       y_pred = label_prop_model.predict(Xt)\n",
    "#       acc = np.mean(y_pred == yt)\n",
    "#       print(acc)\n",
    "#       f.write(version)\n",
    "#       f.write('\\t'+str(acc))\n",
    "#       f.write('\\n')\n",
    "#     else:\n",
    "#       accs = []\n",
    "#       for __ in range(rounds):\n",
    "#         trainid, testid = sample(labels, topics, biased = biased, notmask = notmask)\n",
    "#         ys = np.copy(labels)\n",
    "#         ys[testid] = -1\n",
    "        \n",
    "#         Xs = np.copy(sentvec_flt)\n",
    "#         Xidx = np.arange(len(Xs))\n",
    "      \n",
    "#         np.random.shuffle(Xidx)\n",
    "#         Xs = Xs[Xidx]\n",
    "#         ys = ys[Xidx]\n",
    "#         print(ys[:100])\n",
    "#         label_prop_model.fit(Xs[:topn], ys[:topn])\n",
    "#         Xt = sentvec_flt[testid]\n",
    "#         yt = labels[testid]\n",
    "#         y_pred = label_prop_model.predict(Xt)\n",
    "#         acc = np.mean(y_pred == yt)\n",
    "#         print(acc)\n",
    "#         accs.append(acc)\n",
    "#       f.write(version)\n",
    "#       for ac in accs:\n",
    "#         f.write('\\t'+str(ac))\n",
    "#       f.write('\\n')\n",
    "#   f.close()"
   ]
  },
  {
   "cell_type": "code",
   "execution_count": 20,
   "metadata": {
    "id": "kjsNJMUUTgBW"
   },
   "outputs": [],
   "source": [
    "# self training\n"
   ]
  },
  {
   "cell_type": "code",
   "execution_count": 2,
   "metadata": {
    "scrolled": false
   },
   "outputs": [
    {
     "ename": "NameError",
     "evalue": "name 'RandomForestClassifier' is not defined",
     "output_type": "error",
     "traceback": [
      "\u001b[1;31m---------------------------------------------------------------------------\u001b[0m",
      "\u001b[1;31mNameError\u001b[0m                                 Traceback (most recent call last)",
      "\u001b[1;32m<ipython-input-2-9d8d7efa0463>\u001b[0m in \u001b[0;36m<module>\u001b[1;34m\u001b[0m\n\u001b[0;32m     13\u001b[0m \u001b[1;31m# svc = SVC(probability=True, gamma=\"auto\")\u001b[0m\u001b[1;33m\u001b[0m\u001b[1;33m\u001b[0m\u001b[1;33m\u001b[0m\u001b[0m\n\u001b[0;32m     14\u001b[0m \u001b[0mmodel_name\u001b[0m \u001b[1;33m=\u001b[0m \u001b[1;34m'self_training'\u001b[0m\u001b[1;33m\u001b[0m\u001b[1;33m\u001b[0m\u001b[0m\n\u001b[1;32m---> 15\u001b[1;33m \u001b[0mclf\u001b[0m \u001b[1;33m=\u001b[0m \u001b[0mRandomForestClassifier\u001b[0m\u001b[1;33m(\u001b[0m\u001b[0mmax_depth\u001b[0m\u001b[1;33m=\u001b[0m\u001b[1;36m5\u001b[0m\u001b[1;33m,\u001b[0m \u001b[0mrandom_state\u001b[0m\u001b[1;33m=\u001b[0m\u001b[1;36m0\u001b[0m\u001b[1;33m)\u001b[0m\u001b[1;33m\u001b[0m\u001b[1;33m\u001b[0m\u001b[0m\n\u001b[0m\u001b[0;32m     16\u001b[0m \u001b[0mself_training_model\u001b[0m \u001b[1;33m=\u001b[0m \u001b[0mSelfTrainingClassifier\u001b[0m\u001b[1;33m(\u001b[0m\u001b[0mclf\u001b[0m\u001b[1;33m)\u001b[0m\u001b[1;33m\u001b[0m\u001b[1;33m\u001b[0m\u001b[0m\n\u001b[0;32m     17\u001b[0m \u001b[1;33m\u001b[0m\u001b[0m\n",
      "\u001b[1;31mNameError\u001b[0m: name 'RandomForestClassifier' is not defined"
     ]
    }
   ],
   "source": [
    "rounds = 7\n",
    "notmasks = [0.01, 0.03, 0.05, 0.08,  0.2, 0.4, 0.6, 0.8]\n",
    "\n",
    "# notmasks = [0.8]\n",
    "topn = 500000\n",
    "\n",
    "\n",
    "\n",
    "# notmasks = [0.01]\n",
    "# topn = 5000\n",
    "# rounds = 2\n",
    "\n",
    "# svc = SVC(probability=True, gamma=\"auto\")\n",
    "model_name = 'self_training'\n",
    "clf = RandomForestClassifier(max_depth=5, random_state=0)\n",
    "self_training_model = SelfTrainingClassifier(clf)\n",
    "\n",
    "for biased in [True]:\n",
    "  bia = 'bias'\n",
    "  if not biased:\n",
    "    bia = 'unbias'\n",
    "  f = open( r'./results/SKSSL/{}_{}.txt'.format(model_name, bia), 'w')\n",
    "  f.write('\\taccs\\tpccs\\n')\n",
    "  for notmask in notmasks:\n",
    "    version = \"{}_{}_{}\".format(model_name, notmask, bia)\n",
    "    print(version)\n",
    "    \n",
    "    if biased:\n",
    "#       continue\n",
    "      trainid, testid = sample(labels, topics, biased = biased, notmask = notmask)\n",
    "\n",
    "      ys = np.copy(labels)\n",
    "      ys[testid] = -1\n",
    "\n",
    "      Xs = np.copy(sentvec_flt)\n",
    "      Xidx = np.arange(len(Xs))\n",
    "      \n",
    "      np.random.shuffle(Xidx)\n",
    "      Xs = Xs[Xidx]\n",
    "      ys = ys[Xidx]\n",
    "      print(ys[:100])\n",
    "      self_training_model.fit(Xs[:topn], ys[:topn])\n",
    "      Xt = sentvec_flt[testid]\n",
    "      yt = labels[testid]\n",
    "      At = As[testid]\n",
    "      y_pred = self_training_model.predict(Xt)\n",
    "      acc = np.mean(y_pred == yt)\n",
    "#       print(acc)\n",
    "      proba_pred = self_training_model.predict_proba(Xt)\n",
    "      s_pred = np.array([np.log(i[1]*1000)- np.log(i[0]*1000) for i in proba_pred])\n",
    "      print(y_pred.mean(), len(s_pred) - np.isfinite(s_pred).sum(), len(s_pred))\n",
    "      pcc = predict_party_membership(s_pred, yt, At)\n",
    "\n",
    "\n",
    "    \n",
    "      f.write(version)\n",
    "      f.write('\\t'+str(acc))\n",
    "\n",
    "      f.write('\\t' + str(pcc))\n",
    "      print(\"acc, pcc\", acc, pcc)\n",
    "      f.write('\\n')\n",
    "    else:\n",
    "      accs = []\n",
    "      pccs = []\n",
    "      for __ in range(rounds):\n",
    "        trainid, testid = sample(labels, topics, biased = biased, notmask = notmask)\n",
    "        ys = np.copy(labels)\n",
    "        ys[testid] = -1\n",
    "        \n",
    "        Xs = np.copy(sentvec_flt)\n",
    "        Xidx = np.arange(len(Xs))\n",
    "      \n",
    "        np.random.shuffle(Xidx)\n",
    "        Xs = Xs[Xidx]\n",
    "        ys = ys[Xidx]\n",
    "        print(ys[:100])\n",
    "        self_training_model.fit(Xs[:topn], ys[:topn])\n",
    "        Xt = sentvec_flt[testid]\n",
    "        yt = labels[testid]\n",
    "        At = As[testid]\n",
    "        y_pred = self_training_model.predict(Xt)\n",
    "        acc = np.mean(y_pred == yt)\n",
    "        print(acc)\n",
    "        accs.append(acc)\n",
    "        \n",
    "        proba_pred = self_training_model.predict_proba(Xt)\n",
    "        s_pred = np.array([np.log(i[1]*1000)- np.log(i[0]*1000) for i in proba_pred])\n",
    "        print(y_pred.mean(), len(s_pred) - np.isfinite(s_pred).sum())\n",
    "        pcc = predict_party_membership(s_pred, yt, At)\n",
    "        pccs.append(pcc)\n",
    "      f.write(version)\n",
    "      f.write('\\t' + str(accs))\n",
    "      f.write('\\t' + str(pccs))\n",
    "      print(\"accs, pccs\", accs, pccs)\n",
    "      f.write('\\n')\n",
    "  f.close()"
   ]
  },
  {
   "cell_type": "code",
   "execution_count": null,
   "metadata": {},
   "outputs": [],
   "source": []
  }
 ],
 "metadata": {
  "colab": {
   "collapsed_sections": [],
   "name": "labelspreading.ipynb",
   "provenance": []
  },
  "kernelspec": {
   "display_name": "Python 3",
   "language": "python",
   "name": "python3"
  },
  "language_info": {
   "codemirror_mode": {
    "name": "ipython",
    "version": 3
   },
   "file_extension": ".py",
   "mimetype": "text/x-python",
   "name": "python",
   "nbconvert_exporter": "python",
   "pygments_lexer": "ipython3",
   "version": "3.7.6"
  }
 },
 "nbformat": 4,
 "nbformat_minor": 1
}
